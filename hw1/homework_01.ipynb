{
 "cells": [
  {
   "cell_type": "markdown",
   "metadata": {
    "id": "Q_upCOEI3Upu"
   },
   "source": [
    "# Основы глубинного обучения, майнор ИАД\n",
    "\n",
    "## Домашнее задание 1. Введение в PyTorch. Полносвязные нейронные сети.\n",
    "\n",
    "### Общая информация\n",
    "\n",
    "Дата выдачи: 07.10.2023\n",
    "\n",
    "Мягкий дедлайн: 23:59MSK 20.10.2023\n",
    "\n",
    "Жесткий дедлайн: 23:59MSK 24.10.2023\n",
    "\n",
    "### Оценивание и штрафы\n",
    "Максимально допустимая оценка за работу — 10 баллов. За каждый день просрочки снимается 1 балл. Сдавать задание после жёсткого дедлайна сдачи нельзя.\n",
    "\n",
    "Задание выполняется самостоятельно. «Похожие» решения считаются плагиатом и все задействованные студенты (в том числе те, у кого списали) не могут получить за него больше 0 баллов. Если вы нашли решение какого-то из заданий (или его часть) в открытом источнике, необходимо указать ссылку на этот источник в отдельном блоке в конце вашей работы (скорее всего вы будете не единственным, кто это нашел, поэтому чтобы исключить подозрение в плагиате, необходима ссылка на источник).\n",
    "\n",
    "Неэффективная реализация кода может негативно отразиться на оценке.\n",
    "Также оценка может быть снижена за плохо читаемый код и плохо оформленные графики. Все ответы должны сопровождаться кодом или комментариями о том, как они были получены.\n",
    "\n",
    "Итогова оценка считается как\n",
    "$$\n",
    "min(task_1, task_2)*0.6 + max(task_1, task_2)*0.2 + task_4*0.2\n",
    "$$\n",
    "\n",
    "где $task_1$, $task_2$ и $task_4$ - оценки за первое и второе заданиее соответсвенно.\n",
    "Также, за домашнее задание выставляется 0, если не сделано нулевое или третье задание.\n",
    "### О задании\n",
    "\n",
    "В этом задании вам предстоит предсказывать год выпуска песни (**задача регрессии**) по некоторым звуковым признакам: [данные](https://archive.ics.uci.edu/ml/datasets/yearpredictionmsd). В ячейках ниже находится код для загрузки данных. Обратите внимание, что обучающая и тестовая выборки располагаются в одном файле, поэтому НЕ меняйте ячейку, в которой производится деление данных."
   ]
  },
  {
   "cell_type": "code",
   "outputs": [],
   "source": [
    "import torch\n",
    "from torch import nn, optim\n",
    "from torch.utils.data import DataLoader, TensorDataset\n",
    "import pandas as pd\n",
    "import numpy as np\n",
    "import random\n",
    "from tqdm.auto import tqdm\n",
    "import os\n",
    "\n",
    "device = \"cuda\" if torch.cuda.is_available() else \"cpu\"\n",
    "from tqdm.notebook import tqdm\n",
    "from IPython.display import clear_output\n",
    "import matplotlib.pyplot as plt"
   ],
   "metadata": {
    "collapsed": false,
    "ExecuteTime": {
     "end_time": "2024-10-14T12:28:38.494709Z",
     "start_time": "2024-10-14T12:28:35.324591Z"
    }
   },
   "execution_count": 1
  },
  {
   "cell_type": "code",
   "outputs": [
    {
     "data": {
      "text/plain": "'cuda'"
     },
     "execution_count": 2,
     "metadata": {},
     "output_type": "execute_result"
    }
   ],
   "source": [
    "device"
   ],
   "metadata": {
    "collapsed": false,
    "ExecuteTime": {
     "end_time": "2024-10-14T12:28:38.502030Z",
     "start_time": "2024-10-14T12:28:38.496212Z"
    }
   },
   "execution_count": 2
  },
  {
   "cell_type": "code",
   "execution_count": 3,
   "metadata": {
    "colab": {
     "base_uri": "https://localhost:8080/"
    },
    "id": "7NgSZeU-7vgj",
    "outputId": "4d53550a-d654-4efd-ddc8-e580328bab80",
    "ExecuteTime": {
     "end_time": "2024-10-14T12:28:38.506518Z",
     "start_time": "2024-10-14T12:28:38.503487Z"
    }
   },
   "outputs": [],
   "source": [
    "# !wget -O data.txt.zip https://archive.ics.uci.edu/ml/machine-learning-databases/00203/YearPredictionMSD.txt.zip"
   ]
  },
  {
   "cell_type": "code",
   "execution_count": 4,
   "metadata": {
    "id": "DSVJZzkJ7zZE",
    "outputId": "2c5b9ac3-1194-4c3e-be92-067640e01e3a",
    "scrolled": false,
    "colab": {
     "base_uri": "https://localhost:8080/",
     "height": 249
    },
    "ExecuteTime": {
     "end_time": "2024-10-14T12:28:46.655724Z",
     "start_time": "2024-10-14T12:28:38.508332Z"
    }
   },
   "outputs": [
    {
     "data": {
      "text/plain": "     0         1         2         3         4         5         6         7   \\\n0  2001  49.94357  21.47114  73.07750   8.74861 -17.40628 -13.09905 -25.01202   \n1  2001  48.73215  18.42930  70.32679  12.94636 -10.32437 -24.83777   8.76630   \n2  2001  50.95714  31.85602  55.81851  13.41693  -6.57898 -18.54940  -3.27872   \n3  2001  48.24750  -1.89837  36.29772   2.58776   0.97170 -26.21683   5.05097   \n4  2001  50.97020  42.20998  67.09964   8.46791 -15.85279 -16.81409 -12.48207   \n5  2001  50.54767   0.31568  92.35066  22.38696 -25.51870 -19.04928  20.67345   \n\n         8         9   ...        81         82        83        84        85  \\\n0 -12.23257   7.83089  ...  13.01620  -54.40548  58.99367  15.37344   1.11144   \n1  -0.92019  18.76548  ...   5.66812  -19.68073  33.04964  42.87836  -9.90378   \n2  -2.35035  16.07017  ...   3.03800   26.05866 -50.92779  10.93792  -0.07568   \n3 -10.34124   3.55005  ...  34.57337 -171.70734 -16.96705 -46.67617 -12.51516   \n4  -9.37636  12.63699  ...   9.92661  -55.95724  64.92712 -17.72522  -1.49237   \n5  -5.19943   3.63566  ...   6.59753  -50.69577  26.02574  18.94430  -0.33730   \n\n         86         87        88         89        90  \n0 -23.08793   68.40795  -1.82223  -27.46348   2.26327  \n1 -32.22788   70.49388  12.04941   58.43453  26.92061  \n2  43.20130 -115.00698  -0.05859   39.67068  -0.66345  \n3  82.58061  -72.08993   9.90558  199.62971  18.85382  \n4  -7.50035   51.76631   7.88713   55.66926  28.74903  \n5   6.09352   35.18381   5.00283  -11.02257   0.02263  \n\n[6 rows x 91 columns]",
      "text/html": "<div>\n<style scoped>\n    .dataframe tbody tr th:only-of-type {\n        vertical-align: middle;\n    }\n\n    .dataframe tbody tr th {\n        vertical-align: top;\n    }\n\n    .dataframe thead th {\n        text-align: right;\n    }\n</style>\n<table border=\"1\" class=\"dataframe\">\n  <thead>\n    <tr style=\"text-align: right;\">\n      <th></th>\n      <th>0</th>\n      <th>1</th>\n      <th>2</th>\n      <th>3</th>\n      <th>4</th>\n      <th>5</th>\n      <th>6</th>\n      <th>7</th>\n      <th>8</th>\n      <th>9</th>\n      <th>...</th>\n      <th>81</th>\n      <th>82</th>\n      <th>83</th>\n      <th>84</th>\n      <th>85</th>\n      <th>86</th>\n      <th>87</th>\n      <th>88</th>\n      <th>89</th>\n      <th>90</th>\n    </tr>\n  </thead>\n  <tbody>\n    <tr>\n      <th>0</th>\n      <td>2001</td>\n      <td>49.94357</td>\n      <td>21.47114</td>\n      <td>73.07750</td>\n      <td>8.74861</td>\n      <td>-17.40628</td>\n      <td>-13.09905</td>\n      <td>-25.01202</td>\n      <td>-12.23257</td>\n      <td>7.83089</td>\n      <td>...</td>\n      <td>13.01620</td>\n      <td>-54.40548</td>\n      <td>58.99367</td>\n      <td>15.37344</td>\n      <td>1.11144</td>\n      <td>-23.08793</td>\n      <td>68.40795</td>\n      <td>-1.82223</td>\n      <td>-27.46348</td>\n      <td>2.26327</td>\n    </tr>\n    <tr>\n      <th>1</th>\n      <td>2001</td>\n      <td>48.73215</td>\n      <td>18.42930</td>\n      <td>70.32679</td>\n      <td>12.94636</td>\n      <td>-10.32437</td>\n      <td>-24.83777</td>\n      <td>8.76630</td>\n      <td>-0.92019</td>\n      <td>18.76548</td>\n      <td>...</td>\n      <td>5.66812</td>\n      <td>-19.68073</td>\n      <td>33.04964</td>\n      <td>42.87836</td>\n      <td>-9.90378</td>\n      <td>-32.22788</td>\n      <td>70.49388</td>\n      <td>12.04941</td>\n      <td>58.43453</td>\n      <td>26.92061</td>\n    </tr>\n    <tr>\n      <th>2</th>\n      <td>2001</td>\n      <td>50.95714</td>\n      <td>31.85602</td>\n      <td>55.81851</td>\n      <td>13.41693</td>\n      <td>-6.57898</td>\n      <td>-18.54940</td>\n      <td>-3.27872</td>\n      <td>-2.35035</td>\n      <td>16.07017</td>\n      <td>...</td>\n      <td>3.03800</td>\n      <td>26.05866</td>\n      <td>-50.92779</td>\n      <td>10.93792</td>\n      <td>-0.07568</td>\n      <td>43.20130</td>\n      <td>-115.00698</td>\n      <td>-0.05859</td>\n      <td>39.67068</td>\n      <td>-0.66345</td>\n    </tr>\n    <tr>\n      <th>3</th>\n      <td>2001</td>\n      <td>48.24750</td>\n      <td>-1.89837</td>\n      <td>36.29772</td>\n      <td>2.58776</td>\n      <td>0.97170</td>\n      <td>-26.21683</td>\n      <td>5.05097</td>\n      <td>-10.34124</td>\n      <td>3.55005</td>\n      <td>...</td>\n      <td>34.57337</td>\n      <td>-171.70734</td>\n      <td>-16.96705</td>\n      <td>-46.67617</td>\n      <td>-12.51516</td>\n      <td>82.58061</td>\n      <td>-72.08993</td>\n      <td>9.90558</td>\n      <td>199.62971</td>\n      <td>18.85382</td>\n    </tr>\n    <tr>\n      <th>4</th>\n      <td>2001</td>\n      <td>50.97020</td>\n      <td>42.20998</td>\n      <td>67.09964</td>\n      <td>8.46791</td>\n      <td>-15.85279</td>\n      <td>-16.81409</td>\n      <td>-12.48207</td>\n      <td>-9.37636</td>\n      <td>12.63699</td>\n      <td>...</td>\n      <td>9.92661</td>\n      <td>-55.95724</td>\n      <td>64.92712</td>\n      <td>-17.72522</td>\n      <td>-1.49237</td>\n      <td>-7.50035</td>\n      <td>51.76631</td>\n      <td>7.88713</td>\n      <td>55.66926</td>\n      <td>28.74903</td>\n    </tr>\n    <tr>\n      <th>5</th>\n      <td>2001</td>\n      <td>50.54767</td>\n      <td>0.31568</td>\n      <td>92.35066</td>\n      <td>22.38696</td>\n      <td>-25.51870</td>\n      <td>-19.04928</td>\n      <td>20.67345</td>\n      <td>-5.19943</td>\n      <td>3.63566</td>\n      <td>...</td>\n      <td>6.59753</td>\n      <td>-50.69577</td>\n      <td>26.02574</td>\n      <td>18.94430</td>\n      <td>-0.33730</td>\n      <td>6.09352</td>\n      <td>35.18381</td>\n      <td>5.00283</td>\n      <td>-11.02257</td>\n      <td>0.02263</td>\n    </tr>\n  </tbody>\n</table>\n<p>6 rows × 91 columns</p>\n</div>"
     },
     "execution_count": 4,
     "metadata": {},
     "output_type": "execute_result"
    }
   ],
   "source": [
    "df = pd.read_csv('data.txt.zip', header=None)\n",
    "df.head(6)"
   ]
  },
  {
   "cell_type": "markdown",
   "metadata": {
    "id": "N9a-eJUG35C3"
   },
   "source": [
    "Мы вывели кусок данных, чтобы понять, насколько они пригодны для работы без изменений. Здесь ясно, что сомнительно дальше с такими данными работать, потому что как минимум есть отрицательные значения, которые не отмасштабированы, кроме того еще сразу бросается в глаза совсем разная размерность, где-то видим реально большие числа, а где-то 0.075. Ясно, что будем скейлить."
   ]
  },
  {
   "cell_type": "code",
   "execution_count": 5,
   "metadata": {
    "id": "n4wnRJT1778j",
    "ExecuteTime": {
     "end_time": "2024-10-14T12:28:46.726395Z",
     "start_time": "2024-10-14T12:28:46.657780Z"
    }
   },
   "outputs": [],
   "source": [
    "X = df.iloc[:, 1:].values\n",
    "y = df.iloc[:, 0].values\n",
    "\n",
    "train_size = 463715\n",
    "X_train = X[:train_size, :]\n",
    "y_train = y[:train_size]\n",
    "X_test = X[train_size:, :]\n",
    "y_test = y[train_size:]"
   ]
  },
  {
   "cell_type": "markdown",
   "metadata": {
    "id": "_386JE_o5gOd"
   },
   "source": [
    "## Задание 0. (0 баллов, но при невыполнении максимум за все задание &mdash; 0 баллов)\n",
    "\n",
    "Мы будем использовать RMSE как метрику качества. Для самого первого бейзлайна обучите `Ridge` регрессию из `sklearn`. Кроме того, посчитайте качество при наилучшем константном прогнозе.\n",
    "\n",
    "Для выполнения данного задания (и всех последующих) предобработайте данные.\n",
    "\n",
    "1. Зафиксируйте random_seed везде где только возможно. Вам предоставлена функция для этого, однако вы можете дополнить ее своими дополнениями\n",
    "2. Обучите StandertScaler и предобработайте ваши данные. В следующих заданиях можете использовать другой scaler или вообще отказаться от него\n"
   ]
  },
  {
   "cell_type": "code",
   "execution_count": 6,
   "metadata": {
    "id": "1kV-kCVs8Aju",
    "ExecuteTime": {
     "end_time": "2024-10-14T12:28:47.701434Z",
     "start_time": "2024-10-14T12:28:46.727568Z"
    }
   },
   "outputs": [],
   "source": [
    "from sklearn.preprocessing import StandardScaler\n",
    "\n",
    "# Скалирование\n",
    "scaler = StandardScaler()\n",
    "X_train_scaled = scaler.fit_transform(X_train)\n",
    "X_test_scaled = scaler.transform(X_test)"
   ]
  },
  {
   "cell_type": "code",
   "execution_count": 7,
   "metadata": {
    "id": "lkfkXylb8U-O",
    "ExecuteTime": {
     "end_time": "2024-10-14T12:28:47.706007Z",
     "start_time": "2024-10-14T12:28:47.702774Z"
    }
   },
   "outputs": [],
   "source": [
    "def set_random_seed(seed):\n",
    "    os.environ[\"PYTHONHASHSEED\"] = str(seed)\n",
    "    torch.backends.cudnn.deterministic = True\n",
    "    torch.manual_seed(seed)\n",
    "    torch.cuda.manual_seed(seed)\n",
    "    np.random.seed(seed)\n",
    "    random.seed(seed)"
   ]
  },
  {
   "cell_type": "code",
   "execution_count": 8,
   "metadata": {
    "id": "GKVVatBw8cH7",
    "ExecuteTime": {
     "end_time": "2024-10-14T12:28:47.712789Z",
     "start_time": "2024-10-14T12:28:47.707550Z"
    }
   },
   "outputs": [],
   "source": [
    "set_random_seed(123)"
   ]
  },
  {
   "cell_type": "code",
   "execution_count": 9,
   "metadata": {
    "id": "uv7qthu935C4",
    "ExecuteTime": {
     "end_time": "2024-10-14T12:28:48.057187Z",
     "start_time": "2024-10-14T12:28:47.713998Z"
    }
   },
   "outputs": [
    {
     "name": "stdout",
     "output_type": "stream",
     "text": [
      "train_score=9.552822967970322\n",
      "test_score=9.510160820470436\n"
     ]
    }
   ],
   "source": [
    "from sklearn.linear_model import Ridge\n",
    "from sklearn.metrics import root_mean_squared_error\n",
    "\n",
    "# Ridge model\n",
    "# Не стану подбирать гиперпараметр alpha\n",
    "\n",
    "model = Ridge()\n",
    "rmse_for_model = root_mean_squared_error\n",
    "\n",
    "model.fit(X_train_scaled, y_train)\n",
    "train_score = rmse_for_model(y_train, model.predict(X_train_scaled))\n",
    "test_score = rmse_for_model(y_test, model.predict(X_test_scaled))\n",
    "print(f\"{train_score=}\")\n",
    "print(f\"{test_score=}\")"
   ]
  },
  {
   "cell_type": "markdown",
   "metadata": {
    "id": "HJKGuhFi35C4"
   },
   "source": [
    "Лучшая константа для RMSE это среднее, посчитаем значение метрики при нем"
   ]
  },
  {
   "cell_type": "code",
   "execution_count": 10,
   "metadata": {
    "id": "kOcFuy1P35C4",
    "ExecuteTime": {
     "end_time": "2024-10-14T12:28:48.070032Z",
     "start_time": "2024-10-14T12:28:48.058974Z"
    }
   },
   "outputs": [
    {
     "name": "stdout",
     "output_type": "stream",
     "text": [
      "best_rmse_metric_train=10.946566221164124\n",
      "best_rmse_metric_test=10.863228020678134\n"
     ]
    }
   ],
   "source": [
    "# Average constant model test\n",
    "\n",
    "average = np.mean(y_train)\n",
    "\n",
    "best_rmse_metric_train = rmse_for_model(y_train, np.full_like(y_train, average))\n",
    "best_rmse_metric_test = rmse_for_model(y_test, np.full_like(y_test, average))\n",
    "print(f\"{best_rmse_metric_train=}\")\n",
    "print(f\"{best_rmse_metric_test=}\")"
   ]
  },
  {
   "cell_type": "markdown",
   "metadata": {
    "id": "BDHAnIkS8vNY"
   },
   "source": [
    "## Задание 1. (максимум 10 баллов)\n",
    "\n",
    "Закрепите свои знания о том, как pytorch работает с обратным распространением ошибки, проделав следующие шаги:\n",
    "\n",
    "1. Создайте модель линейной регрессии, которая будет состоять только из одного Linear слоя.\n",
    "2. Напишите цикл обучения вашей линейной регрессии. В нем реализуйте подсчет функции потерь, сделайте шаг градиентного спуска. Запрещено использовать готовые оптимизаторы и loss-функции из библиотеки pytorch. Для подсчета градиента воспользуйтесь методом backward.\n",
    "3. Запустите обучение на 10 эпохах, после каждой проверяйте значение целевой метрики на тестовой выборке.\n",
    "4. Выведите на экран графики метрики и значения функции потерь на тестовой и обучающей выборке.\n",
    "\n",
    "В данном задании нет цели побить какой-то порог по метрике. Ваша задача - убедиться в том, что ваш рукописный цикл обучения работает. Для ускорения вычислений и обучения модели можете брать только срез данных, а не весь датасет."
   ]
  },
  {
   "cell_type": "code",
   "execution_count": 11,
   "metadata": {
    "id": "LxnT6G1J-apf",
    "ExecuteTime": {
     "end_time": "2024-10-14T12:28:49.866401Z",
     "start_time": "2024-10-14T12:28:48.071390Z"
    }
   },
   "outputs": [
    {
     "data": {
      "text/plain": "  0%|          | 0/100 [00:00<?, ?it/s]",
      "application/vnd.jupyter.widget-view+json": {
       "version_major": 2,
       "version_minor": 0,
       "model_id": "b7f02e55c94e4bd3b038f15691800998"
      }
     },
     "metadata": {},
     "output_type": "display_data"
    },
    {
     "name": "stdout",
     "output_type": "stream",
     "text": [
      "epoch 1, train 1998.3157958984375, test 1998.3358154296875\n",
      "epoch 2, train 1798.4808349609375, test 1798.612060546875\n",
      "epoch 3, train 1618.637451171875, test 1618.7406005859375\n",
      "epoch 4, train 1456.779541015625, test 1456.8695068359375\n",
      "epoch 5, train 1311.1082763671875, test 1311.189208984375\n",
      "epoch 6, train 1180.0050048828125, test 1180.0797119140625\n",
      "epoch 7, train 1062.01318359375, test 1062.0826416015625\n",
      "epoch 8, train 955.8214111328125, test 955.8869018554688\n",
      "epoch 9, train 860.2498779296875, test 860.3120727539062\n",
      "epoch 10, train 774.2367553710938, test 774.2962036132812\n",
      "epoch 11, train 696.8263549804688, test 696.8833618164062\n",
      "epoch 12, train 627.1583862304688, test 627.2132568359375\n",
      "epoch 13, train 564.4588012695312, test 564.5118408203125\n",
      "epoch 14, train 508.03094482421875, test 508.08221435546875\n",
      "epoch 15, train 457.247802734375, test 457.2974548339844\n",
      "epoch 16, train 411.5451354980469, test 411.5932922363281\n",
      "epoch 17, train 370.4151916503906, test 370.4618835449219\n",
      "epoch 18, train 333.4008483886719, test 333.4462585449219\n",
      "epoch 19, train 300.0908203125, test 300.13494873046875\n",
      "epoch 20, train 270.11517333984375, test 270.1580810546875\n",
      "epoch 21, train 243.14071655273438, test 243.1824188232422\n",
      "epoch 22, train 218.86770629882812, test 218.90821838378906\n",
      "epoch 23, train 197.02647399902344, test 197.06585693359375\n",
      "epoch 24, train 177.37437438964844, test 177.41261291503906\n",
      "epoch 25, train 159.69293212890625, test 159.7300567626953\n",
      "epoch 26, train 143.78579711914062, test 143.82179260253906\n",
      "epoch 27, train 129.47607421875, test 129.51095581054688\n",
      "epoch 28, train 116.60485076904297, test 116.63860321044922\n",
      "epoch 29, train 105.02910614013672, test 105.06172180175781\n",
      "epoch 30, train 94.62015533447266, test 94.65160369873047\n",
      "epoch 31, train 85.26229858398438, test 85.29255676269531\n",
      "epoch 32, train 76.85147094726562, test 76.88050842285156\n",
      "epoch 33, train 69.29428100585938, test 69.32205963134766\n",
      "epoch 34, train 62.506553649902344, test 62.53302001953125\n",
      "epoch 35, train 56.41282272338867, test 56.43791580200195\n",
      "epoch 36, train 50.94523620605469, test 50.968902587890625\n",
      "epoch 37, train 46.0428352355957, test 46.06499099731445\n",
      "epoch 38, train 41.650794982910156, test 41.671363830566406\n",
      "epoch 39, train 37.720054626464844, test 37.73894119262695\n",
      "epoch 40, train 34.20644760131836, test 34.22355651855469\n",
      "epoch 41, train 31.07042694091797, test 31.085643768310547\n",
      "epoch 42, train 28.276187896728516, test 28.28940200805664\n",
      "epoch 43, train 25.79173469543457, test 25.802827835083008\n",
      "epoch 44, train 23.588001251220703, test 23.596851348876953\n",
      "epoch 45, train 21.638877868652344, test 21.645368576049805\n",
      "epoch 46, train 19.920560836791992, test 19.924583435058594\n",
      "epoch 47, train 18.4112606048584, test 18.4127140045166\n",
      "epoch 48, train 17.09109115600586, test 17.08989906311035\n",
      "epoch 49, train 15.941587448120117, test 15.937692642211914\n",
      "epoch 50, train 14.945548057556152, test 14.93892765045166\n",
      "epoch 51, train 14.087020874023438, test 14.077679634094238\n",
      "epoch 52, train 13.350924491882324, test 13.338905334472656\n",
      "epoch 53, train 12.723286628723145, test 12.708666801452637\n",
      "epoch 54, train 12.19096851348877, test 12.173852920532227\n",
      "epoch 55, train 11.741914749145508, test 11.722437858581543\n",
      "epoch 56, train 11.36493968963623, test 11.343254089355469\n",
      "epoch 57, train 11.049898147583008, test 11.026169776916504\n",
      "epoch 58, train 10.787786483764648, test 10.762188911437988\n",
      "epoch 59, train 10.570467948913574, test 10.543173789978027\n",
      "epoch 60, train 10.390864372253418, test 10.362042427062988\n",
      "epoch 61, train 10.242899894714355, test 10.212711334228516\n",
      "epoch 62, train 10.121221542358398, test 10.089816093444824\n",
      "epoch 63, train 10.02140998840332, test 9.98892593383789\n",
      "epoch 64, train 9.93960952758789, test 9.906172752380371\n",
      "epoch 65, train 9.872690200805664, test 9.838412284851074\n",
      "epoch 66, train 9.817959785461426, test 9.782941818237305\n",
      "epoch 67, train 9.773229598999023, test 9.737561225891113\n",
      "epoch 68, train 9.736687660217285, test 9.700448036193848\n",
      "epoch 69, train 9.70682144165039, test 9.670077323913574\n",
      "epoch 70, train 9.682414054870605, test 9.645227432250977\n",
      "epoch 71, train 9.66244125366211, test 9.624862670898438\n",
      "epoch 72, train 9.646089553833008, test 9.608166694641113\n",
      "epoch 73, train 9.63269329071045, test 9.594467163085938\n",
      "epoch 74, train 9.621694564819336, test 9.583199501037598\n",
      "epoch 75, train 9.612648010253906, test 9.57391357421875\n",
      "epoch 76, train 9.605195045471191, test 9.56624984741211\n",
      "epoch 77, train 9.599034309387207, test 9.559900283813477\n",
      "epoch 78, train 9.593932151794434, test 9.554630279541016\n",
      "epoch 79, train 9.589685440063477, test 9.55023193359375\n",
      "epoch 80, train 9.586146354675293, test 9.546558380126953\n",
      "epoch 81, train 9.58317756652832, test 9.54346752166748\n",
      "epoch 82, train 9.580671310424805, test 9.540851593017578\n",
      "epoch 83, train 9.5785493850708, test 9.538630485534668\n",
      "epoch 84, train 9.576739311218262, test 9.536730766296387\n",
      "epoch 85, train 9.575187683105469, test 9.535096168518066\n",
      "epoch 86, train 9.573845863342285, test 9.533679962158203\n",
      "epoch 87, train 9.572681427001953, test 9.53244686126709\n",
      "epoch 88, train 9.571660041809082, test 9.531362533569336\n",
      "epoch 89, train 9.570757865905762, test 9.530401229858398\n",
      "epoch 90, train 9.569954872131348, test 9.529544830322266\n",
      "epoch 91, train 9.569236755371094, test 9.528776168823242\n",
      "epoch 92, train 9.568585395812988, test 9.528078079223633\n",
      "epoch 93, train 9.567995071411133, test 9.527442932128906\n",
      "epoch 94, train 9.567453384399414, test 9.526860237121582\n",
      "epoch 95, train 9.566953659057617, test 9.526321411132812\n",
      "epoch 96, train 9.56649112701416, test 9.525822639465332\n",
      "epoch 97, train 9.566060066223145, test 9.525354385375977\n",
      "epoch 98, train 9.565656661987305, test 9.524918556213379\n",
      "epoch 99, train 9.565276145935059, test 9.524505615234375\n",
      "epoch 100, train 9.56491756439209, test 9.524116516113281\n"
     ]
    }
   ],
   "source": [
    "learning_rate = 0.05\n",
    "epoch = 100  # возьму 100, а не 10, чтобы качественно обучить и сравнить с прошлыми заданиями\n",
    "\n",
    "# init\n",
    "w = torch.rand(X_train.shape[1], requires_grad=True)  # weight\n",
    "b = torch.rand(1, requires_grad=True)  # bias\n",
    "\n",
    "X_train_tensor = torch.tensor(X_train_scaled, dtype=torch.float32)  # data\n",
    "y_train_tensor = torch.tensor(y_train, dtype=torch.float32)  # target\n",
    "\n",
    "X_test_tensor = torch.tensor(X_test_scaled, dtype=torch.float32)  # data\n",
    "y_test_tensor = torch.tensor(y_test, dtype=torch.float32)  # target\n",
    "\n",
    "losses_train, losses_test = [], []\n",
    "\n",
    "for e in tqdm(range(epoch)):\n",
    "    # pred\n",
    "    y_pred = torch.matmul(X_train_tensor, w) + b\n",
    "    loss = torch.mean((y_pred - y_train_tensor) ** 2)\n",
    "    loss.backward()\n",
    "\n",
    "    # Validation\n",
    "    with torch.no_grad():\n",
    "        losses_train.append(torch.sqrt(loss).item())  # RMSE\n",
    "        y_pred_test = torch.matmul(X_test_tensor, w) + b\n",
    "        losses_test.append(torch.sqrt(torch.mean((y_pred_test - y_test_tensor) ** 2)).item())  # RMSE\n",
    "\n",
    "        # step\n",
    "        w.data -= learning_rate * w.grad\n",
    "        b.data -= learning_rate * b.grad\n",
    "\n",
    "    # zero grad\n",
    "    w.grad.data.zero_()\n",
    "    b.grad.data.zero_()\n",
    "\n",
    "    print(f\"epoch {e + 1}, train {losses_train[-1]}, test {losses_test[-1]}\")\n",
    "# Результаты почти как в sklearn, не хватило только немного регуляризации"
   ]
  },
  {
   "cell_type": "code",
   "outputs": [
    {
     "data": {
      "text/plain": "<Figure size 640x480 with 1 Axes>",
      "image/png": "[encoded data removed]"
     },
     "metadata": {},
     "output_type": "display_data"
    }
   ],
   "source": [
    "# visualization\n",
    "plt.plot(range(1, len(losses_train) + 1), losses_train, label='Training Loss', marker='o', linestyle='-')\n",
    "plt.plot(range(1, len(losses_test) + 1), losses_test, label='Test Loss', color='red', marker='x', linestyle='--')\n",
    "\n",
    "# labels and title\n",
    "plt.xlabel('Epoch')\n",
    "plt.ylabel('Loss')\n",
    "plt.title('Loss to Epoch')\n",
    "\n",
    "plt.legend()\n",
    "plt.ylim(0, 200)\n",
    "\n",
    "# Displaying the plot\n",
    "plt.show()\n",
    "\n",
    "# Модель хорошо обучилась. \n",
    "# Тестовая валидация видимо накладывается на лосс тренировочной выборки из за похожести данных между собой и большого количества данных (я всё проверил много-много раз и вроде так и должны быть. Но я всё ещё не уверен...)"
   ],
   "metadata": {
    "collapsed": false,
    "ExecuteTime": {
     "end_time": "2024-10-14T12:28:50.009206Z",
     "start_time": "2024-10-14T12:28:49.868550Z"
    }
   },
   "execution_count": 12
  },
  {
   "cell_type": "markdown",
   "metadata": {
    "id": "_6ilBKYt6OdD"
   },
   "source": [
    "## Задание 2. (максимум 10 баллов)\n",
    "\n",
    "Реализуйте обучение и тестирование нейронной сети для предоставленного вам набора данных. Соотношение между полученным значением метрики на тестовой выборке и баллами за задание следующее:\n",
    "\n",
    "- $\\text{RMSE} \\le 9.00 $ &mdash; 4 балла\n",
    "- $\\text{RMSE} \\le 8.90 $ &mdash; 6 баллов\n",
    "- $\\text{RMSE} \\le 8.80 $ &mdash; 8 баллов\n",
    "- $\\text{RMSE} \\le 8.75 $ &mdash; 10 баллов\n",
    "\n",
    "Есть несколько правил, которых вам нужно придерживаться:\n",
    "\n",
    "- Весь пайплайн обучения должен быть написан на PyTorch. При этом вы можете пользоваться другими библиотеками (`numpy`, `sklearn` и пр.), но только для обработки данных. То есть как угодно трансформировать данные и считать метрики с помощью этих библиотек можно, а импортировать модели из `sklearn` и выбивать с их помощью требуемое качество &mdash; нельзя. Также нельзя пользоваться библиотеками, для которых сам PyTorch является зависимостью.\n",
    "\n",
    "- Мы никак не ограничиваем ваш выбор архитектуры модели, но скорее всего вам будет достаточно полносвязной нейронной сети.\n",
    "\n",
    "- Для обучения запрещается использовать какие-либо иные данные, кроме обучающей выборки.\n",
    "\n",
    "- Ансамблирование моделей запрещено.\n",
    "\n",
    "### Полезные советы:\n",
    "\n",
    "- Очень вряд ли, что у вас с первого раза получится выбить качество на 10 баллов, поэтому пробуйте разные архитектуры, оптимизаторы и значения гиперпараметров. В идеале при запуске каждого нового эксперимента вы должны менять что-то одно, чтобы точно знать, как этот фактор влияет на качество.\n",
    "\n",
    "- Не забудьте, что для улучшения качества модели вам поможет **нормировка таргета**.\n",
    "\n",
    "- Тот факт, что мы занимаемся глубинным обучением, не означает, что стоит забывать про приемы, использующиеся в классическом машинном обучении. Так что обязательно проводите исследовательский анализ данных, отрисовывайте нужные графики и не забывайте про масштабирование и подбор гиперпараметров.\n",
    "\n",
    "- Вы наверняка столкнетесь с тем, что ваша нейронная сеть будет сильно переобучаться. Для нейросетей существуют специальные методы регуляризации, например, dropout ([статья](https://jmlr.org/papers/volume15/srivastava14a/srivastava14a.pdf)) и weight decay ([блогпост](https://towardsdatascience.com/weight-decay-l2-regularization-90a9e17713cd)). Они, разумеется, реализованы в PyTorch. Попробуйте поэкспериментировать с ними.\n",
    "\n",
    "- Если вы чего-то не знаете, не гнушайтесь гуглить. В интернете очень много полезной информации, туториалов и советов по глубинному обучению в целом и по PyTorch в частности. Но не забывайте, что за скатанный код без ссылки на источник придется ответить по всей строгости!\n",
    "\n",
    "- Если вы сразу реализуете обучение на GPU, то у вас будет больше времени на эксперименты, так как любые вычисления будут работать быстрее. Google Colab предоставляет несколько GPU-часов (обычно около 8-10) в сутки бесплатно.\n",
    "\n",
    "- Чтобы отладить код, можете обучаться на небольшой части данных или даже на одном батче. Если лосс на обучающей выборке не падает, то что-то точно идет не так!\n",
    "\n",
    "- Пользуйтесь утилитами, которые вам предоставляет PyTorch (например, Dataset и Dataloader). Их специально разработали для упрощения разработки пайплайна обучения.\n",
    "\n",
    "- Скорее всего вы захотите отслеживать прогресс обучения. Для создания прогресс-баров есть удобная библиотека `tqdm`.\n",
    "\n",
    "- Быть может, вы захотите, чтобы графики рисовались прямо во время обучения. Можете воспользоваться функцией [clear_output](http://ipython.org/ipython-doc/dev/api/generated/IPython.display.html#IPython.display.clear_output), чтобы удалять старый график и рисовать новый на его месте.\n",
    "\n",
    "**ОБЯЗАТЕЛЬНО** рисуйте графики зависимости лосса/метрики на обучающей и тестовой выборках в зависимости от времени обучения. Если обучение занимает относительно небольшое число эпох, то лучше рисовать зависимость от номера шага обучения, если же эпох больше, то рисуйте зависимость по эпохам. Если проверяющий не увидит такого графика для вашей лучшей модели, то он в праве снизить баллы за задание.\n",
    "\n",
    "**ВАЖНО!** Ваше решение должно быть воспроизводимым. Если это не так, то проверяющий имеет право снизить баллы за задание. Чтобы зафиксировать random seed, воспользуйтесь функцией из предыдущего задания.\n",
    "\n"
   ]
  },
  {
   "cell_type": "markdown",
   "metadata": {
    "id": "TZW0gMe3vT8u"
   },
   "source": [
    "Вы можете придерживаться любой адекватной струкуры кода, но мы советуем воспользоваться сигнатурами функций, которые приведены ниже. Лучше всего, если вы проверите ваши предсказания ассертом: так вы убережете себя от разных косяков, например, что вектор предсказаний состоит из всего одного числа. В любом случае, внимательно следите за тем, для каких тензоров вы считаете метрику RMSE. При случайном или намеренном введении в заблуждение проверяющие очень сильно разозлятся."
   ]
  },
  {
   "cell_type": "code",
   "outputs": [],
   "source": [
    "from sklearn.preprocessing import StandardScaler\n",
    "\n",
    "# Скалирование\n",
    "scaler = StandardScaler()\n",
    "X_train_scaled = scaler.fit_transform(X_train)\n",
    "X_test_scaled = scaler.transform(X_test)\n",
    "\n",
    "scaler_target = StandardScaler()\n",
    "y_train_scaled = scaler_target.fit_transform(\n",
    "    y_train.reshape(-1, 1))  # Скалирую таргет! Без этого всё работает плохо (потом буду инвертировать скалирование)\n",
    "# тестовые данные не будут скалировать, чтобы скалировать уже в самой модели "
   ],
   "metadata": {
    "collapsed": false,
    "ExecuteTime": {
     "end_time": "2024-10-14T12:28:50.363271Z",
     "start_time": "2024-10-14T12:28:50.010642Z"
    }
   },
   "execution_count": 13
  },
  {
   "cell_type": "code",
   "outputs": [],
   "source": [
    "# Create datasets\n",
    "train_dataset_with_target = TensorDataset(\n",
    "    torch.tensor(X_train_scaled, dtype=torch.float32),\n",
    "    torch.tensor(y_train_scaled, dtype=torch.float32)\n",
    ")\n",
    "\n",
    "test_dataset_with_target = TensorDataset(\n",
    "    torch.tensor(X_test_scaled, dtype=torch.float32),\n",
    "    torch.tensor(y_test.reshape(-1, 1), dtype=torch.float32)\n",
    ")\n",
    "\n",
    "# Create dataloaders\n",
    "train_dataloader_target = DataLoader(train_dataset_with_target, batch_size=256, num_workers=2, persistent_workers=True)\n",
    "test_dataloader_target = DataLoader(test_dataset_with_target, batch_size=1024, num_workers=2, persistent_workers=True)"
   ],
   "metadata": {
    "collapsed": false,
    "ExecuteTime": {
     "end_time": "2024-10-14T12:28:50.404676Z",
     "start_time": "2024-10-14T12:28:50.366998Z"
    }
   },
   "execution_count": 14
  },
  {
   "cell_type": "code",
   "outputs": [],
   "source": [
    "class DefaultNet(torch.nn.Module):\n",
    "    '''\n",
    "    Абстрактная модель, от которой я наследую все следующие модели\n",
    "    На самом деле от неё мала смысла, так как я почти ничего из этого не использую\n",
    "    В классификаторе я тоже использовал эту модель, не смотря на поля rmse, \n",
    "    поскольку они и в регрессионной модели не использовались, а менять что-то уже страшно\n",
    "    '''\n",
    "    def __init__(self):\n",
    "        super().__init__()\n",
    "        self.loss_func = torch.nn.MSELoss()\n",
    "        self.targets = torch.Tensor()\n",
    "        self.preds = torch.Tensor()\n",
    "        self.rmse = torch.Tensor()\n",
    "\n",
    "    def _forward(self, x: torch.tensor) -> torch.tensor:\n",
    "        pass\n",
    "\n",
    "    def forward(self, x: torch.tensor, target=None) -> torch.tensor:\n",
    "        output = self._forward(x)\n",
    "\n",
    "        # get accuracy score and save it to self.accuracy\n",
    "        if target is not None:\n",
    "            loss = self.loss_func(output, target)\n",
    "\n",
    "            if target.dim() == 1:\n",
    "                target = target.unsqueeze(1)\n",
    "\n",
    "            self.targets = torch.cat((self.targets, target.cpu()), 0)\n",
    "            self.preds = torch.cat((self.preds, output.cpu()), 0)\n",
    "            self.rmse = torch.sqrt(self.loss_func(self.preds, self.targets))\n",
    "\n",
    "        return loss if target is not None else output\n",
    "\n",
    "    def get_accuracy(self, reset=False):\n",
    "        # return accuracy by all values till now\n",
    "        if reset:\n",
    "            self.targets = torch.Tensor()\n",
    "            self.preds = torch.Tensor()\n",
    "        return self.get_accuracy"
   ],
   "metadata": {
    "collapsed": false,
    "ExecuteTime": {
     "end_time": "2024-10-14T12:28:50.410636Z",
     "start_time": "2024-10-14T12:28:50.405846Z"
    }
   },
   "execution_count": 15
  },
  {
   "cell_type": "code",
   "outputs": [],
   "source": [
    "class Net2(DefaultNet):\n",
    "    def __init__(self):\n",
    "        super().__init__()\n",
    "        self.activation = torch.nn.SiLU()\n",
    "        self.dropout = torch.nn.Dropout(p=0.5)\n",
    "\n",
    "        self.batch_norm0 = torch.nn.BatchNorm1d(90)\n",
    "        self.linear1 = torch.nn.Linear(in_features=90, out_features=512)\n",
    "        self.batch_norm1 = torch.nn.BatchNorm1d(512)\n",
    "        self.linear2 = torch.nn.Linear(in_features=512, out_features=1024)\n",
    "        self.batch_norm2 = torch.nn.BatchNorm1d(1024)\n",
    "        self.linear3 = torch.nn.Linear(in_features=1024, out_features=512)\n",
    "        self.batch_norm3 = torch.nn.BatchNorm1d(512)\n",
    "        self.linear4 = torch.nn.Linear(in_features=512, out_features=256)\n",
    "        self.batch_norm4 = torch.nn.BatchNorm1d(256)\n",
    "        self.linear5 = torch.nn.Linear(in_features=256, out_features=128)\n",
    "        self.batch_norm5 = torch.nn.BatchNorm1d(128)\n",
    "        self.linear6 = torch.nn.Linear(in_features=128, out_features=64)\n",
    "        self.batch_norm6 = torch.nn.BatchNorm1d(64)\n",
    "        self.output = torch.nn.Linear(in_features=64, out_features=1)\n",
    "\n",
    "    def _forward(self, x):\n",
    "        x = self.batch_norm0(x)\n",
    "        x = self.linear1(x)\n",
    "        x = self.batch_norm1(x)\n",
    "        x = self.activation(x)\n",
    "        x = self.dropout(x)\n",
    "\n",
    "        x = self.linear2(x)\n",
    "        x = self.batch_norm2(x)\n",
    "        x = self.activation(x)\n",
    "        x = self.dropout(x)\n",
    "\n",
    "        x = self.linear3(x)\n",
    "        x = self.batch_norm3(x)\n",
    "        x = self.activation(x)\n",
    "        x = self.dropout(x)\n",
    "\n",
    "        x = self.linear4(x)\n",
    "        x = self.batch_norm4(x)\n",
    "        x = self.activation(x)\n",
    "        x = self.dropout(x)\n",
    "\n",
    "        x = self.linear5(x)\n",
    "        x = self.batch_norm5(x)\n",
    "        x = self.activation(x)\n",
    "        x = self.dropout(x)\n",
    "\n",
    "        x = self.linear6(x)\n",
    "        x = self.batch_norm6(x)\n",
    "        x = self.activation(x)\n",
    "        x = self.dropout(x)\n",
    "\n",
    "        return self.output(x)"
   ],
   "metadata": {
    "collapsed": false,
    "ExecuteTime": {
     "end_time": "2024-10-14T12:28:50.417611Z",
     "start_time": "2024-10-14T12:28:50.411984Z"
    }
   },
   "execution_count": 16
  },
  {
   "cell_type": "code",
   "outputs": [],
   "source": [
    "def plot_history(train_history, val_history, title=\"loss\"):\n",
    "    '''\n",
    "    функция для создания графика\n",
    "    '''\n",
    "    plt.figure(figsize=(10, 5))\n",
    "\n",
    "    steps = np.linspace(0, len(train_history) - 1, len(val_history)).astype(int)\n",
    "\n",
    "    plt.plot(train_history, label='Train')\n",
    "    plt.scatter(steps, val_history, marker=\"+\", s=180, c=\"orange\", label=\"Val\", zorder=2)\n",
    "    plt.xlabel(\"Training steps\")\n",
    "    plt.ylabel(title)\n",
    "    plt.legend(loc=\"best\")\n",
    "    plt.title(f\"Training and Validation {title}\")\n",
    "    plt.show()"
   ],
   "metadata": {
    "collapsed": false,
    "ExecuteTime": {
     "end_time": "2024-10-14T12:28:50.424886Z",
     "start_time": "2024-10-14T12:28:50.419727Z"
    }
   },
   "execution_count": 17
  },
  {
   "cell_type": "code",
   "outputs": [],
   "source": [
    "def inversed_rmse(y_pred, target, scaler):\n",
    "    '''\n",
    "    Функция для инвертирования отскалированного таргета\n",
    "    '''\n",
    "    predictions_inv = scaler.inverse_transform(y_pred.cpu().detach().numpy().reshape(-1, 1))\n",
    "    predictions_inv = torch.tensor(predictions_inv, dtype=torch.float32, device=device).squeeze()\n",
    "    mse = torch.nn.functional.mse_loss(predictions_inv, target.squeeze().to(device))\n",
    "    return torch.sqrt(mse).item()\n"
   ],
   "metadata": {
    "collapsed": false,
    "ExecuteTime": {
     "end_time": "2024-10-14T12:28:50.430917Z",
     "start_time": "2024-10-14T12:28:50.426062Z"
    }
   },
   "execution_count": 18
  },
  {
   "cell_type": "code",
   "outputs": [],
   "source": [
    "\n",
    "def train(model, n_epochs, optimizer, criterion, train_loader, test_loader, attempt=\"1\", device=device):\n",
    "    \"\"\"\n",
    "    fit\n",
    "    params:\n",
    "        model - torch.nn.Module to be fitted\n",
    "        optimizer - model optimizer\n",
    "        criterion - loss function from torch.nn\n",
    "        train_loader - torch.utils.data.Dataloader with train set\n",
    "        test_loader - torch.utils.data.Dataloader with test set\n",
    "                      (if you wish to validate during training)\n",
    "    \"\"\"\n",
    "    train_loss_log, val_loss_log = [], [float(\"+inf\")]\n",
    "\n",
    "    for epoch in range(n_epochs):\n",
    "        # тренировка\n",
    "        model.train()\n",
    "        for x, target in tqdm(\n",
    "                train_loader, desc=f\"Training, epoch {epoch}\", leave=False\n",
    "        ):\n",
    "            optimizer.zero_grad()\n",
    "            x, target = x.to(device), target.to(device).squeeze()\n",
    "\n",
    "            y_pred = model(x).to(device).squeeze()\n",
    "            loss = criterion(y_pred, target)\n",
    "            loss.backward()\n",
    "            optimizer.step()\n",
    "            optimizer.zero_grad()\n",
    "        # scheduler.step()\n",
    "\n",
    "        # валидация\n",
    "        model.eval()\n",
    "        with torch.no_grad():\n",
    "\n",
    "            # train с инвертированием\n",
    "            y_pred = model(torch.Tensor(train_dataloader_target.dataset.tensors[0]).to(device))\n",
    "            predictions_inv = scaler_target.inverse_transform(y_pred.cpu().numpy().reshape(-1, 1))\n",
    "            predictions_inv = torch.tensor(predictions_inv, dtype=torch.float32, device=device).squeeze()\n",
    "\n",
    "            target_inv = scaler_target.inverse_transform(\n",
    "                torch.Tensor(train_dataloader_target.dataset.tensors[1]).to(device).squeeze().cpu().numpy().reshape(-1,\n",
    "                                                                                                                    1))\n",
    "            target_inv = torch.tensor(target_inv, dtype=torch.float32, device=device).squeeze()\n",
    "\n",
    "            rmse = torch.sqrt(torch.nn.functional.mse_loss(predictions_inv, target_inv)).item()\n",
    "            train_loss_log.append(rmse)\n",
    "\n",
    "            # val с инвертированием\n",
    "            y_pred = model(torch.Tensor(test_dataloader_target.dataset.tensors[0]).to(device))\n",
    "            rmse = inversed_rmse(y_pred, torch.Tensor(test_dataloader_target.dataset.tensors[1]).to(device),\n",
    "                                 scaler_target)\n",
    "            if rmse < min(val_loss_log):  # save best weights\n",
    "                torch.save(model.state_dict(), \"best_weights\" + attempt)\n",
    "            val_loss_log.append(rmse)\n",
    "\n",
    "        clear_output(wait=True)\n",
    "        plot_history(train_loss_log, val_loss_log, \"loss\")\n",
    "\n",
    "        print(\"Train rmse:\", train_loss_log[-1])\n",
    "        print(\"Val rmse:\", val_loss_log[-1])\n",
    "        print(\"best val rmse:\", min(val_loss_log))\n",
    "\n"
   ],
   "metadata": {
    "collapsed": false,
    "ExecuteTime": {
     "end_time": "2024-10-14T12:28:50.439147Z",
     "start_time": "2024-10-14T12:28:50.432289Z"
    }
   },
   "execution_count": 19
  },
  {
   "cell_type": "code",
   "outputs": [],
   "source": [
    "def test(model, criterion, test_loader) -> torch.Tensor:\n",
    "    \"\"\"\n",
    "    inference for regression and classification\n",
    "    params:\n",
    "        model - torch.nn.Module to be evaluated on test set\n",
    "        criterion - loss function from torch.nn - а зачем?\n",
    "        test_loader - torch.utils.data.Dataloader with test set\n",
    "    ----------\n",
    "    returns:\n",
    "        predicts - torch.tensor with shape (len(test_loader.dataset), ),\n",
    "                   which contains predictions for test objects\n",
    "    \"\"\"\n",
    "    model.eval()\n",
    "    predicts = []\n",
    "\n",
    "    with torch.no_grad():\n",
    "        for inputs, _ in test_loader:\n",
    "            outputs = model(inputs.to(device))\n",
    "            predicts.append(outputs)\n",
    "\n",
    "    predicts = torch.cat(predicts, dim=0)\n",
    "\n",
    "    return predicts"
   ],
   "metadata": {
    "collapsed": false,
    "ExecuteTime": {
     "end_time": "2024-10-14T12:28:50.446208Z",
     "start_time": "2024-10-14T12:28:50.441307Z"
    }
   },
   "execution_count": 20
  },
  {
   "cell_type": "code",
   "outputs": [],
   "source": [
    "EPOCHS = 200\n",
    "LR = 0.001"
   ],
   "metadata": {
    "collapsed": false,
    "ExecuteTime": {
     "end_time": "2024-10-14T12:28:50.451659Z",
     "start_time": "2024-10-14T12:28:50.447406Z"
    }
   },
   "execution_count": 21
  },
  {
   "cell_type": "code",
   "outputs": [],
   "source": [
    "# from torch.optim.lr_scheduler import StepLR\n",
    "set_random_seed(123)\n",
    "model3 = Net2().to(device)\n",
    "optimizer = torch.optim.Adam(model3.parameters(), lr=LR)\n",
    "# scheduler = StepLR(optimizer, step_size=5)\n",
    "criterion = torch.nn.MSELoss()\n"
   ],
   "metadata": {
    "collapsed": false,
    "ExecuteTime": {
     "end_time": "2024-10-14T12:28:52.445084Z",
     "start_time": "2024-10-14T12:28:50.452937Z"
    }
   },
   "execution_count": 22
  },
  {
   "cell_type": "code",
   "outputs": [
    {
     "data": {
      "text/plain": "<Figure size 1000x500 with 1 Axes>",
      "image/png": "[encoded data removed]"
     },
     "metadata": {},
     "output_type": "display_data"
    },
    {
     "name": "stdout",
     "output_type": "stream",
     "text": [
      "Train rmse: 8.294316291809082\n",
      "Val rmse: 8.775754928588867\n",
      "best val rmse: 8.74065113067627\n"
     ]
    }
   ],
   "source": [
    "set_random_seed(123)\n",
    "# на трейне значения выше из-за dropout. На тесте от отключается\n",
    "train(model3, EPOCHS, optimizer, criterion, train_dataloader_target, test_dataloader_target)\n",
    "# 9: 003    8:9634 "
   ],
   "metadata": {
    "collapsed": false
   },
   "execution_count": 23
  },
  {
   "cell_type": "code",
   "outputs": [],
   "source": [
    "assert test(model3, criterion, test_dataloader_target).shape[0] == y_test.shape[0]"
   ],
   "metadata": {
    "collapsed": false,
    "ExecuteTime": {
     "end_time": "2024-10-14T13:01:23.315470Z",
     "start_time": "2024-10-14T13:01:23.056714Z"
    }
   },
   "execution_count": 24
  },
  {
   "cell_type": "code",
   "outputs": [
    {
     "data": {
      "text/plain": "<All keys matched successfully>"
     },
     "execution_count": 25,
     "metadata": {},
     "output_type": "execute_result"
    }
   ],
   "source": [
    "best_model_regressor = Net2().to(device)\n",
    "best_model_regressor.load_state_dict(torch.load(\"best_weights1\", weights_only=True))"
   ],
   "metadata": {
    "collapsed": false,
    "ExecuteTime": {
     "end_time": "2024-10-14T13:01:23.377880Z",
     "start_time": "2024-10-14T13:01:23.317377Z"
    }
   },
   "execution_count": 25
  },
  {
   "cell_type": "code",
   "outputs": [
    {
     "data": {
      "text/plain": "8.74065113067627"
     },
     "execution_count": 26,
     "metadata": {},
     "output_type": "execute_result"
    }
   ],
   "source": [
    "rmse = inversed_rmse(test(best_model_regressor, criterion, test_dataloader_target),\n",
    "                     torch.Tensor(test_dataloader_target.dataset.tensors[1]).to(device), scaler_target)\n",
    "rmse"
   ],
   "metadata": {
    "collapsed": false,
    "ExecuteTime": {
     "end_time": "2024-10-14T13:01:23.606951Z",
     "start_time": "2024-10-14T13:01:23.379114Z"
    }
   },
   "execution_count": 26
  },
  {
   "cell_type": "markdown",
   "metadata": {
    "id": "bine9EES6TIn"
   },
   "source": [
    "## Задание 3. (0 баллов, но при невыполнении максимум за все задание &mdash; 0 баллов)\n",
    "\n",
    "Напишите небольшой отчет о том, как вы добились полученного качества: какие средства использовали и какие эксперименты проводили. Подробно расскажите об архитектурах и значениях гиперпараметров, а также какие метрики на тесте они показывали. Чтобы отчет был зачтен, необходимо привести хотя бы 3 эксперимента."
   ]
  },
  {
   "cell_type": "markdown",
   "source": [
    "Моделей и запусков было конечно больше, но ключевых моделей, изменивших весь ход выполнения домашнего задания, было 9\n",
    "# Первая модель - 9.384\n",
    "Сначала я задался вопросом какой скалер использовать, и в одной статье прочитал, что для relu нужно использовать MinMaxScaler из-за того что его значения лежат в (0,1), который я успешно применил для первых экспериментах, но на них результаты были плохие (я их не сохранил), после чего для следующих моделей я начал использовать StandardScaler.\n",
    "Первая модель имела архитекутру вида:\n",
    "90-128-64-1\n",
    "После каждого слоя был batchnorm, relu и dropout с 50-ти процентной вероятностью\n",
    "Эта модель обучалась с помощью обучения, написанного вручную. Следующие модели обучались уже с помощью pytorch lighting (я не знал, можно ли использовать pytprch lighting, поэтому сначала сделал без него)\n",
    "Модель обучалась с размером шага 0.001. Размер батча также, как и для всех моделей был 256\n",
    "Также в качестве оптимайзера был использован Adam, добавляющий инерцию и масштабирование градиента\n",
    "Шедулер я не стал использовать\n",
    "Сначала эта модель быстро обучилась за 3 шага, но после этого очень медленно обучалась и я останавливал обучение где-то на 10-м шаге с отметкой 29. После этого я несколько дней пытался найти ошибки в коде, думая, что я как-то неправильно считаю loss, но всё оказалось намного проще. В какой-то момент я решил не останавливать эсперимент на 10 эпохах, а попробовать обучить сразу на 200-т, после чего RMSE уменьшилось с 29 на валидации до 9.384 к 200-му шагу, но этого всё равно было много\n",
    "\n",
    "# не в счёт: Вторая модель - 8.89 😭\n",
    "Эту модель я обучил уже использую pytoch lighting. Я решил сделать модель побольше, быстро переходящую к 1080 признак и затем медленно уменьшающуюся по степеням двойки от 1080 до 16. Затем от 16 модель переходила к 1 для регрессии. Итоговая модель имела вид:\n",
    "90-1024-512-256-128-64-32-16-1\n",
    "Эта модель также после каждого слоя имела batchnorm, relu и dropout с 50-ти процентной вероятность\n",
    "Эта модель уже имела больший размер шага - 0.01, но его всё равно не хватало, чтобы обучить модель за 50 эпох, поэтому потребовалось ещё 150 дополнительных эпох, чтобы по итогу получить 8.89, чего едва хватало на 6 баллов.\n",
    "Я понял, что модель ещё больше будет тяжело обучить с моей странной скоростью обучения, поэтому я опять несколько дней пытался найти ошибку в коде, из-за которой модель не хочет нормально обучаться. Перепробовав несколько вариантов скалеров я задался вопросом, нужно ли скалировать таргет. На большинстве сайтов говорилось, что в этом нет необходимости и ничего не поменяется, но на на одном из форумов не самый популярный ответ помог мне разобраться с этим вопросом - https://stats.stackexchange.com/a/391354\n",
    "После этого я нашёл в api скалера метод inverse_transform и смог решить задачу\n",
    "\n",
    "# не в счёт: Третья модель - 8.715 😭\n",
    "Я сделал всё то же самое, что и во второй модели, только при этом отскалировал таргет, на валидация инвертируя его к исходным пропорциям. Это позволило добиться мне RMSE равного 8.715 на оценку 10\n",
    " \n",
    "# не в счёт: Четвёртая модель - 8.69 😭\n",
    "У меня сломался весь javascript в ноутбуке (сломался tqdm) и пришлось перезапустить все ячейки и удать старые попытки решить задачу. После этого я заметил, что модель достигает хорошего результата и затем то переобучается, то снова обучается, поэтому я решил добавить шедулер с уменьшающейся скоростью обучения каждые 10 эпох, начиная с шага 0.001.\n",
    "Также, я добавил чекпойнты для лучших весов модели, которые позволяют сохранить лучшие веса до начала переобучения модели. Но эти чекпойнты не пригодились, так как один шедулер уже улучшил ситуацию\n",
    "\n",
    "Инфу о лайтинге взял из семинаров\n",
    "Информацию о шедулерах взял отсюда:\n",
    " https://lightning.ai/docs/pytorch/stable/common/optimization.html#bring-your-own-custom-learning-rate-schedulers\n",
    "Использовал шедулер \n",
    "https://timm.fast.ai/stepLR \n",
    "Чекпойнты:\n",
    "https://lightning.ai/docs/pytorch/stable/common/checkpointing_intermediate.html\n",
    "\n",
    "Но я всё удалил...\n",
    "\n",
    "# Пятая модель - 8.94 \n",
    "Затем я перечитал задание и понял, что нельзя было использовать pytorch lighting, поэтому начинаю с начала)\n",
    "Просто переписал train с lighting'а, но кажется по пути что-то сломал (ошибка стала такой же, как до скалирования таргета, возможно дело в этом)\n",
    "\n",
    "# шестая модель - 9.11\n",
    "В отчаяньи я решил усложнить модель и сделать жалкий аналог U-net с residual слоями вида 90-256-512-1024-2048-1024+1024-512+512-256+256-1 (где + это skip connections). Но увы, модель не обучилась нормально. Попробую перечитать функцию трейна ещё примерно 1000 раз, может поможет найти ошибку с инвертированием скалирования.\n",
    "\n",
    "# седьмая модель - 8.85\n",
    "Я немного поменял модель (добавил промежуточный полносвязный слой с 1024 на 2048) и увеличил шаг до 0.001 (скорее всего это и помогло, так как я вспомнил, что у модели из лайтинга как раз такой шаг и был, так что я попробую вернуть старую модель и поиграться с шагами)\n",
    "\n",
    "# Восьмая модель - 9.05\n",
    "Я попробовал отобрать первые 10-40 признаков\n",
    "Менял размер модели, размеры шага, параметры шедулера, размеры батча\n",
    "От этого становилось только хуже. \n",
    "\n",
    "# Девятая модель - 8.74\n",
    "Я вернул старую модель, старые признаки, старый размер шага и просто убрал шедулер, который, видимо, не сработал у меня нормально вне lighting'a...\n",
    "Модель имела такие линейные слои:\n",
    "90-512-1024-512-256-128-64-1\n",
    "Также использовалась функция активация selu, batchnorm и dropout\n",
    "Для интереса попробовал ещё заморозить все слои и обучить новый, более сложный, классификатор, но качество стало только чуть хуже (поднялось до 8.76)"
   ],
   "metadata": {
    "collapsed": false
   }
  },
  {
   "cell_type": "markdown",
   "source": [
    "\n",
    "## Задание 4. (10 баллов)\n",
    "\n",
    "А теперь давайте попробуем решить задачу классификации на тех же данных!\n",
    "\n",
    "Протестируйте два варианта:\n",
    "\n",
    "1. Cчитайте каждый год, представленный в таблице, за отдельный класс\n",
    "\n",
    "2. Разбейте года на 10 бинов и решайте задачу классификации для 10 классов\n",
    "\n",
    "Добавьте в test подсчет метрик: accuracy, precision, recall (можете выбрать micro или macro усреднение, как посчитаете нужным).\n",
    "\n",
    "Что можно сказать о полученных моделях? Почему результаты вышли такими? Напишите небольшой анализ того, что было проделано, чем модели классификации отличаются от задачи регрессии и друг друга?"
   ],
   "metadata": {
    "id": "_858sHdQTL9j"
   }
  },
  {
   "cell_type": "code",
   "outputs": [],
   "source": [
    "from sklearn.preprocessing import StandardScaler, LabelEncoder, KBinsDiscretizer\n",
    "\n",
    "# Скалирование\n",
    "scaler = StandardScaler()\n",
    "X_train_scaled = scaler.fit_transform(X_train)\n",
    "X_test_scaled = scaler.transform(X_test)\n",
    "\n",
    "# Для первого варианта закодирую таргет с помощью label encoder'a\n",
    "label_encoder = LabelEncoder()\n",
    "y_train_classification_year = label_encoder.fit_transform(y_train.reshape(-1))\n",
    "y_test_classification_year = label_encoder.transform(y_test.reshape(-1))\n",
    "\n",
    "# Для второго закодирую по бинам\n",
    "bin_encoder = KBinsDiscretizer(n_bins=10, encode='ordinal', strategy='uniform')\n",
    "y_train_classification_bin = bin_encoder.fit_transform(y_train.reshape(-1, 1))\n",
    "y_test_classification_bin = bin_encoder.transform(y_test.reshape(-1, 1))"
   ],
   "metadata": {
    "collapsed": false,
    "ExecuteTime": {
     "end_time": "2024-10-13T20:49:26.574518Z",
     "start_time": "2024-10-13T20:49:25.993700Z"
    }
   },
   "execution_count": 21
  },
  {
   "cell_type": "code",
   "outputs": [
    {
     "data": {
      "text/plain": "89"
     },
     "execution_count": 22,
     "metadata": {},
     "output_type": "execute_result"
    }
   ],
   "source": [
    "len(np.unique(y_train_classification_year))"
   ],
   "metadata": {
    "collapsed": false,
    "ExecuteTime": {
     "end_time": "2024-10-13T20:49:26.590123Z",
     "start_time": "2024-10-13T20:49:26.576394Z"
    }
   },
   "execution_count": 22
  },
  {
   "cell_type": "code",
   "outputs": [
    {
     "data": {
      "text/plain": "array([[8.],\n       [8.],\n       [8.],\n       ...,\n       [9.],\n       [9.],\n       [9.]])"
     },
     "execution_count": 23,
     "metadata": {},
     "output_type": "execute_result"
    }
   ],
   "source": [
    "y_train_classification_bin"
   ],
   "metadata": {
    "collapsed": false,
    "ExecuteTime": {
     "end_time": "2024-10-13T20:49:26.597356Z",
     "start_time": "2024-10-13T20:49:26.591956Z"
    }
   },
   "execution_count": 23
  },
  {
   "cell_type": "code",
   "outputs": [],
   "source": [
    "# year\n",
    "# Create datasets\n",
    "train_dataset_with_year = TensorDataset(\n",
    "    torch.tensor(X_train_scaled, dtype=torch.float32),\n",
    "    torch.tensor(y_train_classification_year.reshape(-1, 1), dtype=torch.long)\n",
    ")\n",
    "\n",
    "test_dataset_with_year = TensorDataset(\n",
    "    torch.tensor(X_test_scaled, dtype=torch.float32),\n",
    "    torch.tensor(y_test_classification_year.reshape(-1, 1), dtype=torch.long)\n",
    ")\n",
    "\n",
    "# Create dataloaders\n",
    "train_dataloader_year = DataLoader(train_dataset_with_year, batch_size=256, num_workers=0)\n",
    "test_dataloader_year = DataLoader(test_dataset_with_year, batch_size=1024, num_workers=0, shuffle=False)\n",
    "\n",
    "# bins\n",
    "# Create datasets\n",
    "train_dataset_with_bin = TensorDataset(\n",
    "    torch.tensor(X_train_scaled, dtype=torch.float32),\n",
    "    torch.tensor(y_train_classification_bin.reshape(-1, 1), dtype=torch.long)\n",
    ")\n",
    "\n",
    "test_dataset_with_bin = TensorDataset(\n",
    "    torch.tensor(X_test_scaled, dtype=torch.float32),\n",
    "    torch.tensor(y_test_classification_bin.reshape(-1, 1), dtype=torch.long)\n",
    ")\n",
    "\n",
    "# Create dataloaders\n",
    "train_dataloader_bin = DataLoader(train_dataset_with_bin, batch_size=256, num_workers=0)\n",
    "test_dataloader_bin = DataLoader(test_dataset_with_bin, batch_size=1024, num_workers=0, shuffle=False)"
   ],
   "metadata": {
    "collapsed": false,
    "ExecuteTime": {
     "end_time": "2024-10-13T21:57:04.916820Z",
     "start_time": "2024-10-13T21:57:04.838205Z"
    }
   },
   "execution_count": 80
  },
  {
   "cell_type": "code",
   "outputs": [],
   "source": [
    "class Net_year(DefaultNet):\n",
    "    def __init__(self):\n",
    "        super().__init__()\n",
    "        self.activation = torch.nn.SiLU()\n",
    "        self.dropout = torch.nn.Dropout(p=0.5)\n",
    "\n",
    "        self.batch_norm0 = torch.nn.BatchNorm1d(90)\n",
    "        self.linear1 = torch.nn.Linear(in_features=90, out_features=512)\n",
    "        self.batch_norm1 = torch.nn.BatchNorm1d(512)\n",
    "        self.linear2 = torch.nn.Linear(in_features=512, out_features=1280)\n",
    "        self.batch_norm2 = torch.nn.BatchNorm1d(1280)\n",
    "        self.linear3 = torch.nn.Linear(in_features=1280, out_features=512)\n",
    "        self.batch_norm3 = torch.nn.BatchNorm1d(512)\n",
    "        self.linear4 = torch.nn.Linear(in_features=512, out_features=256)\n",
    "        self.batch_norm4 = torch.nn.BatchNorm1d(256)\n",
    "        self.linear5 = torch.nn.Linear(in_features=256, out_features=128)\n",
    "        self.batch_norm5 = torch.nn.BatchNorm1d(128)\n",
    "        self.output = torch.nn.Sequential(\n",
    "            torch.nn.Linear(in_features=128, out_features=89),\n",
    "            torch.nn.Softmax(dim=1)\n",
    "        )\n",
    "\n",
    "    def _forward(self, x):\n",
    "        x = self.batch_norm0(x)\n",
    "        x = self.linear1(x)\n",
    "        x = self.batch_norm1(x)\n",
    "        x = self.activation(x)\n",
    "        x = self.dropout(x)\n",
    "\n",
    "        x = self.linear2(x)\n",
    "        x = self.batch_norm2(x)\n",
    "        x = self.activation(x)\n",
    "        x = self.dropout(x)\n",
    "\n",
    "        x = self.linear3(x)\n",
    "        x = self.batch_norm3(x)\n",
    "        x = self.activation(x)\n",
    "        x = self.dropout(x)\n",
    "\n",
    "        x = self.linear4(x)\n",
    "        x = self.batch_norm4(x)\n",
    "        x = self.activation(x)\n",
    "        x = self.dropout(x)\n",
    "\n",
    "        x = self.linear5(x)\n",
    "        x = self.batch_norm5(x)\n",
    "        x = self.activation(x)\n",
    "        x = self.dropout(x)\n",
    "\n",
    "        return self.output(x)"
   ],
   "metadata": {
    "collapsed": false,
    "ExecuteTime": {
     "end_time": "2024-10-13T21:36:00.307770Z",
     "start_time": "2024-10-13T21:36:00.302008Z"
    }
   },
   "execution_count": 74
  },
  {
   "cell_type": "code",
   "outputs": [],
   "source": [
    "class Net_bin(DefaultNet):\n",
    "    def __init__(self):\n",
    "        super().__init__()\n",
    "        self.activation = torch.nn.SiLU()\n",
    "        self.dropout = torch.nn.Dropout(p=0.5)\n",
    "\n",
    "        self.batch_norm0 = torch.nn.BatchNorm1d(90)\n",
    "        self.linear1 = torch.nn.Linear(in_features=90, out_features=512)\n",
    "        self.batch_norm1 = torch.nn.BatchNorm1d(512)\n",
    "        self.linear2 = torch.nn.Linear(in_features=512, out_features=1280)\n",
    "        self.batch_norm2 = torch.nn.BatchNorm1d(1280)\n",
    "        self.linear3 = torch.nn.Linear(in_features=1280, out_features=512)\n",
    "        self.batch_norm3 = torch.nn.BatchNorm1d(512)\n",
    "        self.linear4 = torch.nn.Linear(in_features=512, out_features=256)\n",
    "        self.batch_norm4 = torch.nn.BatchNorm1d(256)\n",
    "        self.linear5 = torch.nn.Linear(in_features=256, out_features=128)\n",
    "        self.batch_norm5 = torch.nn.BatchNorm1d(128)\n",
    "        self.output = torch.nn.Sequential(\n",
    "            torch.nn.Linear(in_features=128, out_features=10),\n",
    "            torch.nn.Softmax(dim=1)\n",
    "        )\n",
    "\n",
    "    def _forward(self, x):\n",
    "        x = self.batch_norm0(x)\n",
    "        x = self.linear1(x)\n",
    "        x = self.batch_norm1(x)\n",
    "        x = self.activation(x)\n",
    "        x = self.dropout(x)\n",
    "\n",
    "        x = self.linear2(x)\n",
    "        x = self.batch_norm2(x)\n",
    "        x = self.activation(x)\n",
    "        x = self.dropout(x)\n",
    "\n",
    "        x = self.linear3(x)\n",
    "        x = self.batch_norm3(x)\n",
    "        x = self.activation(x)\n",
    "        x = self.dropout(x)\n",
    "\n",
    "        x = self.linear4(x)\n",
    "        x = self.batch_norm4(x)\n",
    "        x = self.activation(x)\n",
    "        x = self.dropout(x)\n",
    "\n",
    "        x = self.linear5(x)\n",
    "        x = self.batch_norm5(x)\n",
    "        x = self.activation(x)\n",
    "        x = self.dropout(x)\n",
    "\n",
    "        return self.output(x)"
   ],
   "metadata": {
    "collapsed": false,
    "ExecuteTime": {
     "end_time": "2024-10-13T21:36:00.680667Z",
     "start_time": "2024-10-13T21:36:00.674209Z"
    }
   },
   "execution_count": 75
  },
  {
   "cell_type": "code",
   "outputs": [],
   "source": [
    "from sklearn.metrics import accuracy_score, precision_score, recall_score \n",
    "\n",
    "\n",
    "def train(model, n_epochs, optimizer, criterion, train_loader, test_loader, attempt=\"1\", device=device):\n",
    "    \"\"\"\n",
    "    fit\n",
    "    params:\n",
    "        model - torch.nn.Module to be fitted\n",
    "        optimizer - model optimizer\n",
    "        criterion - loss function from torch.nn\n",
    "        train_loader - torch.utils.data.Dataloader with train set\n",
    "        test_loader - torch.utils.data.Dataloader with test set\n",
    "                      (if you wish to validate during training)\n",
    "    \"\"\"\n",
    "    train_accuracy_log, train_precision_log, train_recall_log, val_accuracy_log, val_precision_log, val_recall_log, = [], [], [], [float(\"-inf\")], [float(\"-inf\")], [float(\"-inf\")]\n",
    "\n",
    "    for epoch in range(n_epochs):\n",
    "        # тренировка\n",
    "        model.train()\n",
    "        for x, target in tqdm(\n",
    "                train_loader, desc=f\"Training, epoch {epoch}\", leave=False\n",
    "        ):\n",
    "            optimizer.zero_grad()\n",
    "            x, target = x.to(device), target.to(device).squeeze()\n",
    "\n",
    "            y_pred = model(x).to(device).squeeze()\n",
    "            loss = criterion(y_pred, target)\n",
    "            loss.backward()\n",
    "            optimizer.step()\n",
    "            optimizer.zero_grad()\n",
    "\n",
    "        # валидация\n",
    "        model.eval()\n",
    "        with torch.no_grad():\n",
    "\n",
    "            # train\n",
    "            y_pred = torch.argmax(model(torch.Tensor(train_loader.dataset.tensors[0]).to(device)), dim=1)\n",
    "            target = train_loader.dataset.tensors[1]\n",
    "\n",
    "            \n",
    "            train_accurracy = accuracy_score(target.cpu().detach().numpy(), y_pred.cpu().detach().numpy())\n",
    "            train_precision = precision_score(target.cpu().detach().numpy(), y_pred.cpu().detach().numpy(), average='weighted', zero_division=0)\n",
    "            train_recall = recall_score(target.cpu().detach().numpy(), y_pred.cpu().detach().numpy(), average='weighted')\n",
    "            \n",
    "            train_accuracy_log.append(train_accurracy)\n",
    "            train_precision_log.append(train_precision)\n",
    "            train_recall_log.append(train_recall)\n",
    "\n",
    "            # val\n",
    "            y_pred = torch.argmax(model(torch.Tensor(test_loader.dataset.tensors[0]).to(device)), dim=1)\n",
    "            target = test_loader.dataset.tensors[1]\n",
    "\n",
    "            \n",
    "            val_accurracy = accuracy_score(target.cpu().detach().numpy(), y_pred.cpu().detach().numpy())\n",
    "            val_precision = precision_score(target.cpu().detach().numpy(), y_pred.cpu().detach().numpy(), average='weighted', zero_division=0)\n",
    "            val_recall = recall_score(target.cpu().detach().numpy(), y_pred.cpu().detach().numpy(), average='weighted')\n",
    "            \n",
    "            if val_accurracy > max(val_accuracy_log):  # save best weights\n",
    "                torch.save(model.state_dict(), \"best_weights\" + attempt)\n",
    "            \n",
    "            val_accuracy_log.append(val_accurracy)\n",
    "            val_precision_log.append(val_precision)\n",
    "            val_recall_log.append(val_recall)\n",
    "\n",
    "        clear_output(wait=True)\n",
    "        plot_history(train_accuracy_log, val_accuracy_log, \"loss\")\n",
    "        \n",
    "        print(\"Train accuracy:\", train_accuracy_log[-1])\n",
    "        print(\"Train precision:\", train_precision_log[-1])\n",
    "        print(\"Train recall:\", train_recall_log[-1])\n",
    "        \n",
    "        print(\"Val accuracy:\", val_accuracy_log[-1])\n",
    "        print(\"Val precision:\", val_precision_log[-1])\n",
    "        print(\"Val recall:\", val_recall_log[-1])\n",
    "        \n",
    "        print(\"Best val accuracy:\", max(val_accuracy_log))\n",
    "        print(\"Best val precision:\", max(val_precision_log))\n",
    "        print(\"Best val recall:\", max(val_recall_log))"
   ],
   "metadata": {
    "collapsed": false,
    "ExecuteTime": {
     "end_time": "2024-10-13T21:33:03.166248Z",
     "start_time": "2024-10-13T21:33:03.159215Z"
    }
   },
   "execution_count": 65
  },
  {
   "cell_type": "markdown",
   "source": [
    "Сделаю также 120 эпох"
   ],
   "metadata": {
    "collapsed": false
   }
  },
  {
   "cell_type": "code",
   "outputs": [],
   "source": [
    "EPOCHS = 120\n",
    "LR = 0.001"
   ],
   "metadata": {
    "collapsed": false,
    "ExecuteTime": {
     "end_time": "2024-10-13T21:08:24.313245Z",
     "start_time": "2024-10-13T21:08:24.310440Z"
    }
   },
   "execution_count": 56
  },
  {
   "cell_type": "code",
   "outputs": [],
   "source": [
    "set_random_seed(123)\n",
    "model_ans = Net_year().to(device)\n",
    "optimizer = torch.optim.Adam(model_ans.parameters(), lr=LR)\n",
    "criterion = torch.nn.CrossEntropyLoss()\n"
   ],
   "metadata": {
    "collapsed": false,
    "ExecuteTime": {
     "end_time": "2024-10-13T21:08:24.647179Z",
     "start_time": "2024-10-13T21:08:24.611445Z"
    }
   },
   "execution_count": 57
  },
  {
   "cell_type": "code",
   "outputs": [
    {
     "data": {
      "text/plain": "<Figure size 1000x500 with 1 Axes>",
      "image/png": "[encoded data removed]"
     },
     "metadata": {},
     "output_type": "display_data"
    },
    {
     "name": "stdout",
     "output_type": "stream",
     "text": [
      "Train accuracy: 0.11256482969065051\n",
      "Train precision: 0.05147590209946477\n",
      "Train recall: 0.11256482969065051\n",
      "Val accuracy: 0.08566724772419136\n",
      "Val precision: 0.03742363209933008\n",
      "Val recall: 0.08566724772419136\n",
      "Best val accuracy: 0.08620956808057331\n",
      "Best val precision: 0.09396430606886848\n",
      "Best val recall: 0.08620956808057331\n"
     ]
    }
   ],
   "source": [
    "# на трейне значения выше из-за dropout. На тесте от отключается\n",
    "set_random_seed(123)\n",
    "train(model_ans, EPOCHS, optimizer, criterion, train_dataloader_year, test_dataloader_year, attempt=\"2\")"
   ],
   "metadata": {
    "collapsed": false
   },
   "execution_count": 58
  },
  {
   "cell_type": "code",
   "outputs": [
    {
     "data": {
      "text/plain": "<All keys matched successfully>"
     },
     "execution_count": 60,
     "metadata": {},
     "output_type": "execute_result"
    }
   ],
   "source": [
    "best_model_classifier_year = Net_year().to(device)\n",
    "best_model_classifier_year.load_state_dict(torch.load(\"best_weights2\", weights_only=True))"
   ],
   "metadata": {
    "collapsed": false,
    "ExecuteTime": {
     "end_time": "2024-10-13T21:31:09.334173Z",
     "start_time": "2024-10-13T21:31:09.039788Z"
    }
   },
   "execution_count": 60
  },
  {
   "cell_type": "code",
   "outputs": [],
   "source": [
    "assert test(best_model_classifier_year, criterion, test_dataloader_year).shape[0] == y_test.shape[0]"
   ],
   "metadata": {
    "collapsed": false,
    "ExecuteTime": {
     "end_time": "2024-10-13T21:33:52.050948Z",
     "start_time": "2024-10-13T21:33:51.286602Z"
    }
   },
   "execution_count": 66
  },
  {
   "cell_type": "code",
   "outputs": [
    {
     "name": "stdout",
     "output_type": "stream",
     "text": [
      "accurracy = 0.08620956808057331\n",
      "precision = 0.03652193631089768\n",
      "recall = 0.08620956808057331\n"
     ]
    }
   ],
   "source": [
    "y_pred = torch.argmax(test(best_model_classifier_year, criterion, test_dataloader_year), dim=1)\n",
    "\n",
    "print(\"accurracy =\",accuracy_score(torch.Tensor(test_dataloader_year.dataset.tensors[1]).cpu().detach().numpy(), y_pred.cpu().detach().numpy()))\n",
    "print(\"precision =\",precision_score(torch.Tensor(test_dataloader_year.dataset.tensors[1]).cpu().detach().numpy(), y_pred.cpu().detach().numpy(), average='weighted', zero_division=0))\n",
    "print(\"recall =\",recall_score(torch.Tensor(test_dataloader_year.dataset.tensors[1]).cpu().detach().numpy(), y_pred.cpu().detach().numpy(), average='weighted'))"
   ],
   "metadata": {
    "collapsed": false,
    "ExecuteTime": {
     "end_time": "2024-10-13T21:33:55.499479Z",
     "start_time": "2024-10-13T21:33:54.635011Z"
    }
   },
   "execution_count": 67
  },
  {
   "cell_type": "code",
   "outputs": [],
   "source": [
    "set_random_seed(123)\n",
    "model_bin = Net_bin().to(device)\n",
    "optimizer = torch.optim.Adam(model_bin.parameters(), lr=LR)\n",
    "criterion = torch.nn.CrossEntropyLoss()"
   ],
   "metadata": {
    "collapsed": false,
    "ExecuteTime": {
     "end_time": "2024-10-13T21:36:05.723903Z",
     "start_time": "2024-10-13T21:36:05.689190Z"
    }
   },
   "execution_count": 76
  },
  {
   "cell_type": "code",
   "outputs": [
    {
     "data": {
      "text/plain": "<Figure size 1000x500 with 1 Axes>",
      "image/png": "[encoded data removed]"
     },
     "metadata": {},
     "output_type": "display_data"
    },
    {
     "name": "stdout",
     "output_type": "stream",
     "text": [
      "Train accuracy: 0.5820557885770354\n",
      "Train precision: 0.511185521892364\n",
      "Train recall: 0.5820557885770354\n",
      "Val accuracy: 0.5608367228355607\n",
      "Val precision: 0.4948944962379535\n",
      "Val recall: 0.5608367228355607\n",
      "Best val accuracy: 0.5625605268254891\n",
      "Best val precision: 0.5103222940888736\n",
      "Best val recall: 0.5625605268254891\n"
     ]
    }
   ],
   "source": [
    "# на трейне значения выше из-за dropout. На тесте от отключается\n",
    "set_random_seed(123)\n",
    "train(model_bin, EPOCHS, optimizer, criterion, train_dataloader_bin, test_dataloader_bin, attempt=\"3\")"
   ],
   "metadata": {
    "collapsed": false
   },
   "execution_count": 79
  },
  {
   "cell_type": "code",
   "outputs": [
    {
     "data": {
      "text/plain": "<All keys matched successfully>"
     },
     "execution_count": 81,
     "metadata": {},
     "output_type": "execute_result"
    }
   ],
   "source": [
    "best_model_classifier_bin = Net_bin().to(device)\n",
    "best_model_classifier_bin.load_state_dict(torch.load(\"best_weights3\", weights_only=True))"
   ],
   "metadata": {
    "collapsed": false,
    "ExecuteTime": {
     "end_time": "2024-10-13T21:57:04.990332Z",
     "start_time": "2024-10-13T21:57:04.917964Z"
    }
   },
   "execution_count": 81
  },
  {
   "cell_type": "code",
   "outputs": [],
   "source": [
    "assert test(best_model_classifier_bin, criterion, test_dataloader_bin).shape[0] == y_test.shape[0]"
   ],
   "metadata": {
    "collapsed": false,
    "ExecuteTime": {
     "end_time": "2024-10-13T21:57:05.788860Z",
     "start_time": "2024-10-13T21:57:05.338485Z"
    }
   },
   "execution_count": 83
  },
  {
   "cell_type": "code",
   "outputs": [
    {
     "name": "stdout",
     "output_type": "stream",
     "text": [
      "accurracy = 0.5625605268254891\n",
      "precision = 0.4905273069819578\n",
      "recall = 0.5625605268254891\n"
     ]
    }
   ],
   "source": [
    "y_pred = torch.argmax(test(best_model_classifier_bin, criterion, test_dataloader_bin), dim=1)\n",
    "\n",
    "print(\"accurracy =\",accuracy_score(torch.Tensor(test_dataloader_bin.dataset.tensors[1]).cpu().detach().numpy(), y_pred.cpu().detach().numpy()))\n",
    "print(\"precision =\",precision_score(torch.Tensor(test_dataloader_bin.dataset.tensors[1]).cpu().detach().numpy(), y_pred.cpu().detach().numpy(), average='weighted', zero_division=0))\n",
    "print(\"recall =\",recall_score(torch.Tensor(test_dataloader_bin.dataset.tensors[1]).cpu().detach().numpy(), y_pred.cpu().detach().numpy(), average='weighted'))"
   ],
   "metadata": {
    "collapsed": false,
    "ExecuteTime": {
     "end_time": "2024-10-13T21:57:05.337382Z",
     "start_time": "2024-10-13T21:57:04.991845Z"
    }
   },
   "execution_count": 82
  },
  {
   "cell_type": "markdown",
   "source": [
    "> Что можно сказать о полученных моделях? Почему результаты вышли такими? Напишите небольшой анализ того, что было проделано, чем модели классификации отличаются от задачи регрессии и друг друга?\n",
    "\n",
    "Полученные модели получились не самые лучшие, скорее всего сами данные слабо отражают информацию о годе выпуска музыки. К тому же классы довольно похожи, особенно для разделения по годам. Для бинов точность тоже получилась не самая лучшая, но точно лучше чем у индивидуальных годов, что может свидетельствовать о разделимости данных по десятилетиям (или просто о том, что классов стало меньше). Проблема явно не в самом количестве классов, так как современные нейронный сети могут с точностью более 95% классифицировать изображения с сотней классов (у cifar100 сейчас 96%), что явно говорит о недостатки самих данных. Кроме того, моя модель тоже не самая лучшая, но разбираться с cnn или трансформерами для табличных данных в первом домашнем задании я думаю будет избыточно (да и не хватит данных для обучения трансформеров). В общем всё плохо: плохие данные, плохая модели, плохая точность....\n",
    "\n",
    "Для изменения задачи с регрессии на классификацию я проделал следующие шаги:\n",
    "1. Убрал скалирование по таргету, но добавил label encoder для кодирования по годам и KBinsDiscretizer для кодирования по бинам\n",
    "2. Заменил выход нейронных сетей на классификатор с большим количеством выходных слоёв (их количество соответствует количеству классов) и добавил SoftMax для того, чтобы вероятности в сумме давали 1. Также я немного поменял количество промежуточных линейных слоёв с 1080 до 1080+256. На самом деле SoftMax можно было не делать, ведь после него я использовал ArgMax, который оставляет только один класс с наибольшим значением, а остальные зануляет. SoftMax же лучше использовать в ситуации Multi-label, а не Multi-class\n",
    "3. В трейне, на этапе валидации, я заменил подсчёт rmse со сложным вычислением инвертированного скалера на стандартные метрики из sklearn (precision, recall, accuracy)\n",
    "4. На этапе запуска обучения я только поменял лосс функцию на CrossEntropy (функция для классификации)"
   ],
   "metadata": {
    "collapsed": false
   }
  }
 ],
 "metadata": {
  "colab": {
   "provenance": []
  },
  "kernelspec": {
   "display_name": "Python 3 (ipykernel)",
   "language": "python",
   "name": "python3"
  },
  "language_info": {
   "codemirror_mode": {
    "name": "ipython",
    "version": 3
   },
   "file_extension": ".py",
   "mimetype": "text/x-python",
   "name": "python",
   "nbconvert_exporter": "python",
   "pygments_lexer": "ipython3",
   "version": "3.9.7"
  }
 },
 "nbformat": 4,
 "nbformat_minor": 0
}
