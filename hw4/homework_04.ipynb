{
 "cells": [
  {
   "cell_type": "markdown",
   "metadata": {
    "id": "N0MMALtdLU6F"
   },
   "source": [
    "<center>\n",
    "<img src=\"https://raw.githubusercontent.com/dvgodoy/PyTorch101_ODSC_Europe2020/master/images/linear_dogs.jpg\" width=\"800\">\n",
    "\n",
    "# Основы глубинного обучения: домашнее задание 4\n",
    "</center>"
   ]
  },
  {
   "cell_type": "markdown",
   "metadata": {
    "id": "Lp2Uf8PGM_zP"
   },
   "source": [
    "**ФИО:** Лузин Владимир Витальевич\n",
    "\n",
    "**Забавный факт о себе:** Написал эту работу на 8.5 баллов + 1.6 бонусных"
   ]
  },
  {
   "cell_type": "markdown",
   "metadata": {
    "id": "W2LjTioKM_zP"
   },
   "source": [
    "## Общая информация\n",
    "\n",
    "__Дата выдачи:__ 26.11.2024\n",
    "\n",
    "__Мягкий дедлайн:__ 23:59MSK 10.12.2024\n",
    "\n",
    "__Жесткий дедлайн:__ 23:59MSK 14.12.2024"
   ]
  },
  {
   "cell_type": "markdown",
   "metadata": {
    "id": "pGGDD519LWaa"
   },
   "source": [
    "## Оценивание и штрафы\n",
    "\n",
    "Каждая из задач имеет определенную «стоимость» (указана в скобках около задачи). Максимально допустимая оценка за работу — 10 баллов + 2 бонусных балла.\n",
    "\n",
    "**Дисклеймер:** Задание выполняется самостоятельно. «Похожие» решения считаются плагиатом и все задействованные студенты (в том числе те, у кого списали) не могут получить за него больше 0 баллов. Если вы нашли решение какого-то из заданий (или его часть) в открытом источнике, необходимо указать ссылку на этот источник (скорее всего вы будете не единственным, кто это нашел, поэтому чтобы исключить подозрение в плагиате, необходима ссылка на источник). Также помните, что простое копирование чужого кода не является самостоятельной работой."
   ]
  },
  {
   "cell_type": "code",
   "execution_count": 5,
   "metadata": {
    "collapsed": false,
    "execution": {
     "iopub.execute_input": "2024-12-13T16:06:36.189676Z",
     "iopub.status.busy": "2024-12-13T16:06:36.188450Z",
     "iopub.status.idle": "2024-12-13T16:06:36.203992Z",
     "shell.execute_reply": "2024-12-13T16:06:36.203214Z",
     "shell.execute_reply.started": "2024-12-13T16:06:36.189628Z"
    },
    "tags": []
   },
   "outputs": [],
   "source": [
    "# !pip3 install wandb\n",
    "# !pip3 install pytorch_lightning"
   ]
  },
  {
   "cell_type": "code",
   "execution_count": 1,
   "metadata": {
    "execution": {
     "iopub.execute_input": "2024-12-14T16:29:00.073955Z",
     "iopub.status.busy": "2024-12-14T16:29:00.072472Z",
     "iopub.status.idle": "2024-12-14T16:29:02.840316Z",
     "shell.execute_reply": "2024-12-14T16:29:02.839031Z",
     "shell.execute_reply.started": "2024-12-14T16:29:00.073903Z"
    },
    "id": "e88B7C_7M_zQ",
    "tags": [],
    "ExecuteTime": {
     "end_time": "2024-12-14T20:49:31.284292Z",
     "start_time": "2024-12-14T20:49:31.268731Z"
    }
   },
   "outputs": [],
   "source": [
    "import pandas as pd\n",
    "import numpy as np\n",
    "\n",
    "import matplotlib.pyplot as plt\n",
    "import seaborn as sns\n",
    "\n",
    "from tqdm.notebook import tqdm"
   ]
  },
  {
   "cell_type": "code",
   "execution_count": 2,
   "metadata": {
    "colab": {
     "base_uri": "https://localhost:8080/"
    },
    "execution": {
     "iopub.execute_input": "2024-12-14T16:29:02.844055Z",
     "iopub.status.busy": "2024-12-14T16:29:02.842468Z",
     "iopub.status.idle": "2024-12-14T16:29:30.870898Z",
     "shell.execute_reply": "2024-12-14T16:29:30.869851Z",
     "shell.execute_reply.started": "2024-12-14T16:29:02.844001Z"
    },
    "id": "nqB7HlFIM_zR",
    "outputId": "7c96af10-5910-4b34-ed0b-72c1df7b5803",
    "tags": [],
    "ExecuteTime": {
     "end_time": "2024-12-14T20:49:35.736089Z",
     "start_time": "2024-12-14T20:49:31.285350Z"
    }
   },
   "outputs": [
    {
     "data": {
      "text/plain": "device(type='cuda', index=0)"
     },
     "execution_count": 2,
     "metadata": {},
     "output_type": "execute_result"
    }
   ],
   "source": [
    "import torch\n",
    "\n",
    "device = torch.device('cuda:0' if torch.cuda.is_available() else 'cpu')\n",
    "device"
   ]
  },
  {
   "cell_type": "markdown",
   "metadata": {
    "id": "GkjGmtWoM_zR"
   },
   "source": [
    "# Описание данных\n",
    "\n",
    "Данные можно [скачать с гугл-диска.](https://drive.google.com/drive/folders/11oCcLplWtp_qm-WuEbfCFP_Mz5K_z3ps?usp=sharing) Если вы делаете задание в колабе, то строчки ниже сами скачают вам данные.\n",
    "\n"
   ]
  },
  {
   "cell_type": "code",
   "outputs": [],
   "source": [
    "from sklearn.model_selection import StratifiedShuffleSplit\n",
    "import numpy as np\n",
    "\n",
    "# Assuming 'dataset' is a list of (image, class_label) tuples\n",
    "labels = [label for _, label in dataset]\n",
    "\n",
    "# Create stratified split\n",
    "split = StratifiedShuffleSplit(n_splits=1, test_size=0.2, random_state=42)\n",
    "train_indices, test_indices = next(split.split(np.zeros(len(labels)), labels))\n",
    "\n",
    "train_dataset = [dataset[i] for i in train_indices]\n",
    "test_dataset = [dataset[i] for i in test_indices]"
   ],
   "metadata": {
    "collapsed": false
   }
  },
  {
   "cell_type": "code",
   "execution_count": 3,
   "metadata": {
    "ExecuteTime": {
     "end_time": "2024-12-13T13:56:19.203245Z",
     "start_time": "2024-12-13T13:56:19.200492Z"
    },
    "colab": {
     "base_uri": "https://localhost:8080/"
    },
    "execution": {
     "iopub.execute_input": "2024-12-14T16:29:30.873775Z",
     "iopub.status.busy": "2024-12-14T16:29:30.872136Z",
     "iopub.status.idle": "2024-12-14T16:29:30.894800Z",
     "shell.execute_reply": "2024-12-14T16:29:30.893725Z",
     "shell.execute_reply.started": "2024-12-14T16:29:30.873699Z"
    },
    "id": "e78uct9mO6ik",
    "outputId": "6ce2c30f-cd22-4c6e-ff37-90d99d5b3c82",
    "tags": []
   },
   "outputs": [],
   "source": [
    "# import gdown\n",
    "# \n",
    "# url = \"https://drive.google.com/drive/folders/11oCcLplWtp_qm-WuEbfCFP_Mz5K_z3ps?usp=sharing\"\n",
    "# gdown.download_folder(url, quiet=True, use_cookies=False)"
   ]
  },
  {
   "cell_type": "markdown",
   "metadata": {
    "id": "fNAzGcglM_zS"
   },
   "source": [
    "В таблице `ria_news.tsv`  лежат данные о новостях, вышедших на сайте РИА-НОВОСТИ с 15 марта 2018 года по 31 декабря 2018 года.\n",
    "\n",
    "- `href` - уникальный идентификатор новости (ссылка на неё)\n",
    "- `date` - дата публикации новости\n",
    "- `time` - время публикации новости\n",
    "- `title` - заголовок новости\n",
    "- `snippet` - краткое описание новости\n",
    "- `text` - текст новости\n",
    "- `category` - категория новости\n",
    "- `keywords` - ключевые слова (подкатегории новости)\n",
    "- `shows` - счётчик с числом просмотров новости на сайте (на момент парсинга)"
   ]
  },
  {
   "cell_type": "code",
   "execution_count": 3,
   "metadata": {
    "colab": {
     "base_uri": "https://localhost:8080/",
     "height": 450
    },
    "execution": {
     "iopub.execute_input": "2024-12-14T16:29:30.898214Z",
     "iopub.status.busy": "2024-12-14T16:29:30.896995Z",
     "iopub.status.idle": "2024-12-14T16:30:30.882875Z",
     "shell.execute_reply": "2024-12-14T16:30:30.881659Z",
     "shell.execute_reply.started": "2024-12-14T16:29:30.898171Z"
    },
    "id": "U0-iSeRLM_zS",
    "outputId": "8eb3197b-d587-4ee9-f824-b19165342a57",
    "tags": [],
    "ExecuteTime": {
     "end_time": "2024-12-14T20:50:07.215600Z",
     "start_time": "2024-12-14T20:49:47.386323Z"
    }
   },
   "outputs": [
    {
     "name": "stdout",
     "output_type": "stream",
     "text": [
      "(201708, 9)\n"
     ]
    },
    {
     "data": {
      "text/plain": "                        href        date                    time  \\\n0  /20181231/1548961410.html  2018-12-31  31 декабря 2018, 23:52   \n1  /20181231/1548961364.html  2018-12-31  31 декабря 2018, 23:19   \n2  /20181231/1548961337.html  2018-12-31  31 декабря 2018, 23:12   \n3  /20181231/1548961304.html  2018-12-31  31 декабря 2018, 23:09   \n4  /20181231/1548961265.html  2018-12-31  31 декабря 2018, 23:07   \n\n                                               title  \\\n0  Нетаньяху не собирается в отставку в случае пр...   \n1  Макрон в новогоднем обращении затронул тему ре...   \n2  Аарон Рэмзи проведет переговоры с пятью топ-кл...   \n3  Гол Азмуна принес сборной Ирана победу над кат...   \n4  Пятая ракетка мира дель Потро пропустит Открыт...   \n\n                                             snippet  \\\n0  Премьер-министр Израиля Биньямин Нетаньяху не ...   \n1  Результат реформ не может быть мгновенным, зая...   \n2  Полузащитник лондонского \"Арсенала\" Аарон Рэмз...   \n3  Футболисты сборной Ирана одержали победу над к...   \n4  Аргентинский теннисист Хуан Мартин дель Потро ...   \n\n                                                text category  \\\n0  МОСКВА, 31 дек - РИА Новости. Премьер-министр ...   В мире   \n1  ПАРИЖ, 31 дек – РИА Новости. Результат реформ ...   В мире   \n2  МОСКВА, 31 дек - РИА Новости. Полузащитник лон...      NaN   \n3  МОСКВА, 31 дек - РИА Новости. Футболисты сборн...      NaN   \n4  МОСКВА, 31 дек - РИА Новости. Аргентинский тен...      NaN   \n\n                                     tags   shows  \n0     Биньямин Нетаньяху, Израиль, В мире   728.0  \n1       Эммануэль Макрон, Франция, В мире  3086.0  \n2                     ФК Арсенал (Лондон)   183.0  \n3  Сердар Азмун, Сборная Ирана по футболу    78.0  \n4                                  Теннис    79.0  ",
      "text/html": "<div>\n<style scoped>\n    .dataframe tbody tr th:only-of-type {\n        vertical-align: middle;\n    }\n\n    .dataframe tbody tr th {\n        vertical-align: top;\n    }\n\n    .dataframe thead th {\n        text-align: right;\n    }\n</style>\n<table border=\"1\" class=\"dataframe\">\n  <thead>\n    <tr style=\"text-align: right;\">\n      <th></th>\n      <th>href</th>\n      <th>date</th>\n      <th>time</th>\n      <th>title</th>\n      <th>snippet</th>\n      <th>text</th>\n      <th>category</th>\n      <th>tags</th>\n      <th>shows</th>\n    </tr>\n  </thead>\n  <tbody>\n    <tr>\n      <th>0</th>\n      <td>/20181231/1548961410.html</td>\n      <td>2018-12-31</td>\n      <td>31 декабря 2018, 23:52</td>\n      <td>Нетаньяху не собирается в отставку в случае пр...</td>\n      <td>Премьер-министр Израиля Биньямин Нетаньяху не ...</td>\n      <td>МОСКВА, 31 дек - РИА Новости. Премьер-министр ...</td>\n      <td>В мире</td>\n      <td>Биньямин Нетаньяху, Израиль, В мире</td>\n      <td>728.0</td>\n    </tr>\n    <tr>\n      <th>1</th>\n      <td>/20181231/1548961364.html</td>\n      <td>2018-12-31</td>\n      <td>31 декабря 2018, 23:19</td>\n      <td>Макрон в новогоднем обращении затронул тему ре...</td>\n      <td>Результат реформ не может быть мгновенным, зая...</td>\n      <td>ПАРИЖ, 31 дек – РИА Новости. Результат реформ ...</td>\n      <td>В мире</td>\n      <td>Эммануэль Макрон, Франция, В мире</td>\n      <td>3086.0</td>\n    </tr>\n    <tr>\n      <th>2</th>\n      <td>/20181231/1548961337.html</td>\n      <td>2018-12-31</td>\n      <td>31 декабря 2018, 23:12</td>\n      <td>Аарон Рэмзи проведет переговоры с пятью топ-кл...</td>\n      <td>Полузащитник лондонского \"Арсенала\" Аарон Рэмз...</td>\n      <td>МОСКВА, 31 дек - РИА Новости. Полузащитник лон...</td>\n      <td>NaN</td>\n      <td>ФК Арсенал (Лондон)</td>\n      <td>183.0</td>\n    </tr>\n    <tr>\n      <th>3</th>\n      <td>/20181231/1548961304.html</td>\n      <td>2018-12-31</td>\n      <td>31 декабря 2018, 23:09</td>\n      <td>Гол Азмуна принес сборной Ирана победу над кат...</td>\n      <td>Футболисты сборной Ирана одержали победу над к...</td>\n      <td>МОСКВА, 31 дек - РИА Новости. Футболисты сборн...</td>\n      <td>NaN</td>\n      <td>Сердар Азмун, Сборная Ирана по футболу</td>\n      <td>78.0</td>\n    </tr>\n    <tr>\n      <th>4</th>\n      <td>/20181231/1548961265.html</td>\n      <td>2018-12-31</td>\n      <td>31 декабря 2018, 23:07</td>\n      <td>Пятая ракетка мира дель Потро пропустит Открыт...</td>\n      <td>Аргентинский теннисист Хуан Мартин дель Потро ...</td>\n      <td>МОСКВА, 31 дек - РИА Новости. Аргентинский тен...</td>\n      <td>NaN</td>\n      <td>Теннис</td>\n      <td>79.0</td>\n    </tr>\n  </tbody>\n</table>\n</div>"
     },
     "execution_count": 3,
     "metadata": {},
     "output_type": "execute_result"
    }
   ],
   "source": [
    "df_ria = pd.read_csv('news_data/ria_news.tsv', sep='\\t')\n",
    "df_ria = df_ria[~df_ria.tags.isnull()]\n",
    "print(df_ria.shape)\n",
    "df_ria.head()"
   ]
  },
  {
   "cell_type": "markdown",
   "metadata": {
    "id": "smOrAVujM_zS"
   },
   "source": [
    "Многие новостные агенства поддерживают странички в социальных сетях. Они постят туда самые сочные сюжеты. В таблице `vk_news.tsv` лежат данные о новостях, которые РИА запостили ВКонтакте в период времени с  `2017-09-29 01:28:55` по `2019-02-01 23:13:17`.\n",
    "\n",
    "- `id` - уникальный идентификатор поста\n",
    "- `href` - ссылка на сайт (если она была указана в посте)\n",
    "- `datetime` - дата и время публикации новости\n",
    "- `title` - заголовок новости\n",
    "- `text` - текст новости в социальной сети\n",
    "- `likes` - число лайков под постом\n",
    "- `comments` - число комментариев под постом"
   ]
  },
  {
   "cell_type": "code",
   "execution_count": 4,
   "metadata": {
    "colab": {
     "base_uri": "https://localhost:8080/",
     "height": 225
    },
    "execution": {
     "iopub.execute_input": "2024-12-14T16:30:30.885581Z",
     "iopub.status.busy": "2024-12-14T16:30:30.884036Z",
     "iopub.status.idle": "2024-12-14T16:30:31.265544Z",
     "shell.execute_reply": "2024-12-14T16:30:31.264161Z",
     "shell.execute_reply.started": "2024-12-14T16:30:30.885509Z"
    },
    "id": "FFZHXKukM_zS",
    "outputId": "7da23095-710b-49c4-fa8c-f73a1294d4c7",
    "tags": [],
    "ExecuteTime": {
     "end_time": "2024-12-14T20:50:07.540994Z",
     "start_time": "2024-12-14T20:50:07.217596Z"
    }
   },
   "outputs": [
    {
     "name": "stdout",
     "output_type": "stream",
     "text": [
      "(19928, 7)\n"
     ]
    },
    {
     "data": {
      "text/plain": "         id                       href             datetime  \\\n0  24006362  /20190201/1550280358.html  2019-02-01 23:13:17   \n1  24006240  /20190201/1550268781.html  2019-02-01 22:38:41   \n2  24006100  /20190201/1550282212.html  2019-02-01 21:58:52   \n3  24005972  /20190202/1550283179.html  2019-02-01 21:27:06   \n4  24005764  /20190201/1550262848.html  2019-02-01 20:55:54   \n\n                                               title  likes  comments snippet  \n0  В ДНР заявили о задержании диверсантов, причас...     15        28     NaN  \n1  Житель Урала \"заминировал\" ТЦ из-за снятия  со...     32        42     NaN  \n2      В Черном море нашли \"потерянный флот Гитлера\"     84        23     NaN  \n3  В США освободили задержанную российскую актрис...     58        35     NaN  \n4  Толкнувший Скабееву депутат Рады заявил о гроз...     45       145     NaN  ",
      "text/html": "<div>\n<style scoped>\n    .dataframe tbody tr th:only-of-type {\n        vertical-align: middle;\n    }\n\n    .dataframe tbody tr th {\n        vertical-align: top;\n    }\n\n    .dataframe thead th {\n        text-align: right;\n    }\n</style>\n<table border=\"1\" class=\"dataframe\">\n  <thead>\n    <tr style=\"text-align: right;\">\n      <th></th>\n      <th>id</th>\n      <th>href</th>\n      <th>datetime</th>\n      <th>title</th>\n      <th>likes</th>\n      <th>comments</th>\n      <th>snippet</th>\n    </tr>\n  </thead>\n  <tbody>\n    <tr>\n      <th>0</th>\n      <td>24006362</td>\n      <td>/20190201/1550280358.html</td>\n      <td>2019-02-01 23:13:17</td>\n      <td>В ДНР заявили о задержании диверсантов, причас...</td>\n      <td>15</td>\n      <td>28</td>\n      <td>NaN</td>\n    </tr>\n    <tr>\n      <th>1</th>\n      <td>24006240</td>\n      <td>/20190201/1550268781.html</td>\n      <td>2019-02-01 22:38:41</td>\n      <td>Житель Урала \"заминировал\" ТЦ из-за снятия  со...</td>\n      <td>32</td>\n      <td>42</td>\n      <td>NaN</td>\n    </tr>\n    <tr>\n      <th>2</th>\n      <td>24006100</td>\n      <td>/20190201/1550282212.html</td>\n      <td>2019-02-01 21:58:52</td>\n      <td>В Черном море нашли \"потерянный флот Гитлера\"</td>\n      <td>84</td>\n      <td>23</td>\n      <td>NaN</td>\n    </tr>\n    <tr>\n      <th>3</th>\n      <td>24005972</td>\n      <td>/20190202/1550283179.html</td>\n      <td>2019-02-01 21:27:06</td>\n      <td>В США освободили задержанную российскую актрис...</td>\n      <td>58</td>\n      <td>35</td>\n      <td>NaN</td>\n    </tr>\n    <tr>\n      <th>4</th>\n      <td>24005764</td>\n      <td>/20190201/1550262848.html</td>\n      <td>2019-02-01 20:55:54</td>\n      <td>Толкнувший Скабееву депутат Рады заявил о гроз...</td>\n      <td>45</td>\n      <td>145</td>\n      <td>NaN</td>\n    </tr>\n  </tbody>\n</table>\n</div>"
     },
     "execution_count": 4,
     "metadata": {},
     "output_type": "execute_result"
    }
   ],
   "source": [
    "df_vk = pd.read_csv('news_data/vk_news.tsv', sep='\\t')\n",
    "df_vk['snippet'] = df_vk['text'\n",
    "]\n",
    "df_vk.drop('text', axis=1, inplace=True)\n",
    "print(df_vk.shape)\n",
    "df_vk.head()"
   ]
  },
  {
   "cell_type": "markdown",
   "metadata": {
    "id": "HFaQtcOVM_zT"
   },
   "source": [
    "В таблице `vk_comments.tsv` лежат комментарии к новостям.\n",
    "\n",
    "- `id` - уникальный идентификатор комментария\n",
    "- `post_id` - идентификатор новости, под которой был оставлен комментарий\n",
    "- `datetime` - дата и время, когда был оставлен комментарий\n",
    "- `text` - текст комментария\n",
    "- `likes` - число лайков под комментарием"
   ]
  },
  {
   "cell_type": "code",
   "execution_count": 5,
   "metadata": {
    "colab": {
     "base_uri": "https://localhost:8080/",
     "height": 262
    },
    "execution": {
     "iopub.execute_input": "2024-12-14T16:30:31.269187Z",
     "iopub.status.busy": "2024-12-14T16:30:31.267333Z",
     "iopub.status.idle": "2024-12-14T16:31:10.615682Z",
     "shell.execute_reply": "2024-12-14T16:31:10.614509Z",
     "shell.execute_reply.started": "2024-12-14T16:30:31.269122Z"
    },
    "id": "HBJvrG6wM_zT",
    "outputId": "c7b02288-fa2d-4e9d-a7bc-803b0404b71f",
    "tags": [],
    "ExecuteTime": {
     "end_time": "2024-12-14T20:50:26.250437Z",
     "start_time": "2024-12-14T20:50:07.541992Z"
    }
   },
   "outputs": [
    {
     "name": "stderr",
     "output_type": "stream",
     "text": [
      "C:\\Users\\Vladimir Luzin\\AppData\\Local\\Temp\\ipykernel_18592\\3904775836.py:1: DtypeWarning: Columns (0) have mixed types. Specify dtype option on import or set low_memory=False.\n",
      "  df_comments = pd.read_csv('news_data/vk_comments.tsv', sep='\\t')\n"
     ]
    },
    {
     "name": "stdout",
     "output_type": "stream",
     "text": [
      "(2612629, 5)\n"
     ]
    },
    {
     "data": {
      "text/plain": "           id     post_id             datetime  \\\n0  24006366.0  24006362.0  2019-02-01 23:14:14   \n1  24006370.0  24006362.0  2019-02-01 23:15:23   \n2  24006371.0  24006362.0  2019-02-01 23:16:21   \n3  24006374.0  24006362.0  2019-02-01 23:16:38   \n4  24006375.0  24006362.0  2019-02-01 23:16:40   \n\n                                                text  likes  \n0                                       ЧВК Вагнера?    5.0  \n1                [id4710641|Евгений], выздоравливай.    3.0  \n2  [id442655034|Андрей], искренне желаю этого все...    4.0  \n3                         Опять про Украину новости?    1.0  \n4                                      Че такое ДНР?    2.0  ",
      "text/html": "<div>\n<style scoped>\n    .dataframe tbody tr th:only-of-type {\n        vertical-align: middle;\n    }\n\n    .dataframe tbody tr th {\n        vertical-align: top;\n    }\n\n    .dataframe thead th {\n        text-align: right;\n    }\n</style>\n<table border=\"1\" class=\"dataframe\">\n  <thead>\n    <tr style=\"text-align: right;\">\n      <th></th>\n      <th>id</th>\n      <th>post_id</th>\n      <th>datetime</th>\n      <th>text</th>\n      <th>likes</th>\n    </tr>\n  </thead>\n  <tbody>\n    <tr>\n      <th>0</th>\n      <td>24006366.0</td>\n      <td>24006362.0</td>\n      <td>2019-02-01 23:14:14</td>\n      <td>ЧВК Вагнера?</td>\n      <td>5.0</td>\n    </tr>\n    <tr>\n      <th>1</th>\n      <td>24006370.0</td>\n      <td>24006362.0</td>\n      <td>2019-02-01 23:15:23</td>\n      <td>[id4710641|Евгений], выздоравливай.</td>\n      <td>3.0</td>\n    </tr>\n    <tr>\n      <th>2</th>\n      <td>24006371.0</td>\n      <td>24006362.0</td>\n      <td>2019-02-01 23:16:21</td>\n      <td>[id442655034|Андрей], искренне желаю этого все...</td>\n      <td>4.0</td>\n    </tr>\n    <tr>\n      <th>3</th>\n      <td>24006374.0</td>\n      <td>24006362.0</td>\n      <td>2019-02-01 23:16:38</td>\n      <td>Опять про Украину новости?</td>\n      <td>1.0</td>\n    </tr>\n    <tr>\n      <th>4</th>\n      <td>24006375.0</td>\n      <td>24006362.0</td>\n      <td>2019-02-01 23:16:40</td>\n      <td>Че такое ДНР?</td>\n      <td>2.0</td>\n    </tr>\n  </tbody>\n</table>\n</div>"
     },
     "execution_count": 5,
     "metadata": {},
     "output_type": "execute_result"
    }
   ],
   "source": [
    "df_comments = pd.read_csv('news_data/vk_comments.tsv', sep='\\t')\n",
    "df_comments = df_comments[~df_comments.text.isnull()]\n",
    "print(df_comments.shape)\n",
    "df_comments.head()"
   ]
  },
  {
   "cell_type": "markdown",
   "metadata": {
    "id": "58hpgVLvM_zT"
   },
   "source": [
    "# А что надо сделать то?\n",
    "\n",
    "В тетрадке вам предстоит сделать следующие шаги:\n",
    "\n",
    "1. Обучить нейросеть предсказывать категорию новости\n",
    "2. Построить предсказания для тех новостей, где мы ничего не знаем о категории\n",
    "3. Использовать уже обученный для сентимент-анализа классификатор из библиотеки `hugging face` чтобы предсказать эмоциональную окраску каждого комментария\n",
    "4. Провести аналитику по новостям, а именно построите топы из самых позитивных и негативных категорий и новостей\n",
    "\n",
    "Для первого шага вам будет дан бэйзлайн. Если вы его прогоните, у вас получится базовая модель, которая даст некоторое качество решения задачи. Вам надо будет выяснить, насколько это качество оказалось хорошим, а затем внести в код некоторые улучшения.\n",
    "\n"
   ]
  },
  {
   "cell_type": "markdown",
   "metadata": {
    "id": "hdb5XYa_M_zT",
    "jp-MarkdownHeadingCollapsed": true,
    "tags": []
   },
   "source": [
    "## Часть 1: категоризация новостей (5 баллов + 1.8 бонусных)\n",
    "\n",
    "Каждой новости в соотвествие поставлены ключевые слова. Будем считать, что эти ключевые слова — тематики новости. Нужно научиться предсказывать тематики по тексту новости. Готовые тематики у нас есть только по новостям с сайта. Они за 2018 год. По новостям из ВКонтакте у нас тематик нет. Мы собираемся их предсказать.\n",
    "\n",
    "Новости, опубликованные ВКонтакте, отличаются от новостей с сайта тем, что у них есть только титул и короткое описание. Странно будет обучать нейросеть на длинных текстах, а потом использовать её на коротких описаниях. Мы не будем так делать. Мы попробуем обучить базовый вариант нейронной сети только на заголовках новостей. Все, кто захочет получить бонусные баллы, смогут попробовать добавить в нейросеть сниппеты (так назыают короткие описания новостей)."
   ]
  },
  {
   "cell_type": "markdown",
   "metadata": {
    "id": "NmGxSLP-M_zT"
   },
   "source": [
    "## 1.1 Подготовка таргета\n",
    "\n",
    "Поработаем с таргетом. Мы будем предсказывать переменную `tags`. Давайте выясним скоько уникальных тегов существует."
   ]
  },
  {
   "cell_type": "code",
   "execution_count": 6,
   "metadata": {
    "colab": {
     "base_uri": "https://localhost:8080/"
    },
    "execution": {
     "iopub.execute_input": "2024-12-14T16:31:10.618366Z",
     "iopub.status.busy": "2024-12-14T16:31:10.617070Z",
     "iopub.status.idle": "2024-12-14T16:31:11.323145Z",
     "shell.execute_reply": "2024-12-14T16:31:11.321955Z",
     "shell.execute_reply.started": "2024-12-14T16:31:10.618308Z"
    },
    "id": "NZDxrSvkM_zT",
    "outputId": "f943777c-de05-437d-9cb0-27c24cb8b2f6",
    "tags": [],
    "ExecuteTime": {
     "end_time": "2024-12-14T20:50:26.772141Z",
     "start_time": "2024-12-14T20:50:26.254460Z"
    }
   },
   "outputs": [
    {
     "name": "stdout",
     "output_type": "stream",
     "text": [
      "13344\n"
     ]
    },
    {
     "data": {
      "text/plain": "[('блог анны завершинской об автоспорте - блоги', 1),\n ('министерство транспорта рб', 1),\n ('министерство здравоохранения грузии', 1),\n ('палех', 1),\n ('юрий посохов (хореограф)', 1),\n ('мария александрова', 1),\n ('том бенсон', 1),\n ('абдул каюм кочай', 1),\n ('нуман куртулмуш', 1),\n ('mipim', 1),\n ('владимир попов', 1),\n ('брюно женезио', 1),\n ('роберт фицо', 1),\n ('сергей пашинский', 1),\n ('валерия гонтарева', 1),\n ('нововоронеж', 1),\n ('императорское православное палестинское общество', 1),\n ('event_poslanie_prezidenta_rf_federalnomu_sobraniju', 1),\n ('фхтр', 1),\n ('игорь честин', 1)]"
     },
     "execution_count": 6,
     "metadata": {},
     "output_type": "execute_result"
    }
   ],
   "source": [
    "from collections import Counter\n",
    "\n",
    "# удалим все лишние пробелы и сделаем lowercase\n",
    "df_ria['tags'] = (\n",
    "    df_ria.tags.\n",
    "    apply(lambda w: ','.join([item.strip() for item in w.lower().split(',')]))\n",
    ")\n",
    "\n",
    "tags = ','.join(list(df_ria.tags.values))\n",
    "tags_cnt = Counter(tags.split(','))\n",
    "\n",
    "print(len(tags_cnt))\n",
    "tags_cnt.most_common()[-20:]"
   ]
  },
  {
   "cell_type": "markdown",
   "metadata": {
    "id": "5Wv68z36M_zT"
   },
   "source": [
    "Всего в выборке есть порядка 13 000 тэгов. Многие встречаются всего по разу. Давайте оставим в выборке только те тэги, которые встречаются более 30 раз.\n",
    "а не 77?"
   ]
  },
  {
   "cell_type": "code",
   "execution_count": 7,
   "metadata": {
    "colab": {
     "base_uri": "https://localhost:8080/"
    },
    "execution": {
     "iopub.execute_input": "2024-12-14T16:31:11.326277Z",
     "iopub.status.busy": "2024-12-14T16:31:11.324940Z",
     "iopub.status.idle": "2024-12-14T16:31:11.360259Z",
     "shell.execute_reply": "2024-12-14T16:31:11.358568Z",
     "shell.execute_reply.started": "2024-12-14T16:31:11.326189Z"
    },
    "id": "eA6H34iKM_zU",
    "outputId": "f5b55784-1052-455a-e961-a0fa85bd3932",
    "tags": [],
    "ExecuteTime": {
     "end_time": "2024-12-14T20:50:26.782772Z",
     "start_time": "2024-12-14T20:50:26.773131Z"
    }
   },
   "outputs": [
    {
     "data": {
      "text/plain": "1583"
     },
     "execution_count": 7,
     "metadata": {},
     "output_type": "execute_result"
    }
   ],
   "source": [
    "target_tags = {tag for tag, cnt in tags_cnt.most_common() if cnt > 30}\n",
    "len(target_tags)"
   ]
  },
  {
   "cell_type": "markdown",
   "metadata": {
    "id": "RLrQSyCDM_zU"
   },
   "source": [
    "Закодируем теги для OHE."
   ]
  },
  {
   "cell_type": "code",
   "execution_count": 8,
   "metadata": {
    "execution": {
     "iopub.execute_input": "2024-12-14T16:31:11.363568Z",
     "iopub.status.busy": "2024-12-14T16:31:11.362055Z",
     "iopub.status.idle": "2024-12-14T16:31:11.387490Z",
     "shell.execute_reply": "2024-12-14T16:31:11.386330Z",
     "shell.execute_reply.started": "2024-12-14T16:31:11.363505Z"
    },
    "id": "J2fKnLmTM_zU",
    "tags": [],
    "ExecuteTime": {
     "end_time": "2024-12-14T20:50:26.788770Z",
     "start_time": "2024-12-14T20:50:26.783771Z"
    }
   },
   "outputs": [],
   "source": [
    "tag2idx = dict(zip(target_tags, range(len(target_tags))))\n",
    "idx2tag = {jtem: item for item, jtem in tag2idx.items()}"
   ]
  },
  {
   "cell_type": "markdown",
   "metadata": {
    "id": "8QDNftQqM_zU"
   },
   "source": [
    "Почистим таргет от лишних тэгов."
   ]
  },
  {
   "cell_type": "code",
   "execution_count": 10,
   "metadata": {
    "ExecuteTime": {
     "end_time": "2024-12-13T13:56:54.102345Z",
     "start_time": "2024-12-13T13:56:52.765246Z"
    },
    "colab": {
     "base_uri": "https://localhost:8080/"
    },
    "execution": {
     "iopub.execute_input": "2024-12-14T16:31:11.392442Z",
     "iopub.status.busy": "2024-12-14T16:31:11.391749Z",
     "iopub.status.idle": "2024-12-14T16:31:12.230115Z",
     "shell.execute_reply": "2024-12-14T16:31:12.228827Z",
     "shell.execute_reply.started": "2024-12-14T16:31:11.392383Z"
    },
    "id": "9pqA60YiM_zU",
    "outputId": "af3ccfd7-ae21-43fd-ac89-926cc4b36867",
    "tags": []
   },
   "outputs": [
    {
     "data": {
      "text/plain": [
       "(201437, 10)"
      ]
     },
     "execution_count": 10,
     "metadata": {},
     "output_type": "execute_result"
    }
   ],
   "source": [
    "df_ria['target_tags'] = (\n",
    "    df_ria.tags.\n",
    "    apply(lambda w: [tag2idx.get(item) for item in w.split(',') if item in target_tags])\n",
    ")\n",
    "\n",
    "df_ria = df_ria[df_ria.target_tags.apply(len) > 0]\n",
    "df_ria.shape"
   ]
  },
  {
   "cell_type": "code",
   "execution_count": 11,
   "metadata": {
    "ExecuteTime": {
     "end_time": "2024-12-13T13:56:54.110060Z",
     "start_time": "2024-12-13T13:56:54.104339Z"
    },
    "colab": {
     "base_uri": "https://localhost:8080/"
    },
    "execution": {
     "iopub.execute_input": "2024-12-14T16:31:12.233341Z",
     "iopub.status.busy": "2024-12-14T16:31:12.231573Z",
     "iopub.status.idle": "2024-12-14T16:31:12.266488Z",
     "shell.execute_reply": "2024-12-14T16:31:12.265153Z",
     "shell.execute_reply.started": "2024-12-14T16:31:12.233270Z"
    },
    "id": "y0KaYfuQM_zU",
    "outputId": "a8ddc5b6-ffeb-4697-feb8-2a4f011e05b2",
    "tags": []
   },
   "outputs": [
    {
     "data": {
      "text/plain": [
       "array([list([1395, 876, 642]), list([1562, 1045, 642]), list([256])],\n",
       "      dtype=object)"
      ]
     },
     "execution_count": 11,
     "metadata": {},
     "output_type": "execute_result"
    }
   ],
   "source": [
    "df_ria.target_tags.values[:3]"
   ]
  },
  {
   "cell_type": "markdown",
   "metadata": {
    "id": "Y-hjLFKRM_zU"
   },
   "source": [
    "## 1.2 Подготовка текстов\n",
    "\n",
    "Теперь займёмся предобработкой текстов. Приведём все слова к нижнему регистру и выбросим мусорные символы. В качестве токенов будем рассматривать отдельные слова.\n",
    "\n",
    "Напомню, что мы пока что решили работать только с названиями статей. Поэтому вся предобработка применяется исключительно к ним. **Спойлер:** предобработку для сниппетов вы сделаете сами в первом же задании."
   ]
  },
  {
   "cell_type": "code",
   "execution_count": 12,
   "metadata": {
    "ExecuteTime": {
     "end_time": "2024-12-13T13:56:55.690023Z",
     "start_time": "2024-12-13T13:56:54.111055Z"
    },
    "colab": {
     "base_uri": "https://localhost:8080/"
    },
    "execution": {
     "iopub.execute_input": "2024-12-14T16:31:12.268931Z",
     "iopub.status.busy": "2024-12-14T16:31:12.267936Z",
     "iopub.status.idle": "2024-12-14T16:31:14.230366Z",
     "shell.execute_reply": "2024-12-14T16:31:14.229249Z",
     "shell.execute_reply.started": "2024-12-14T16:31:12.268880Z"
    },
    "id": "DUEWRZWTQsHy",
    "outputId": "2fe04954-273e-441e-e29d-d689166692a8",
    "tags": []
   },
   "outputs": [
    {
     "name": "stderr",
     "output_type": "stream",
     "text": [
      "[nltk_data] Downloading package punkt to /home/jupyter/nltk_data...\n",
      "[nltk_data]   Package punkt is already up-to-date!\n",
      "[nltk_data] Downloading package punkt_tab to\n",
      "[nltk_data]     /home/jupyter/nltk_data...\n",
      "[nltk_data]   Package punkt_tab is already up-to-date!\n",
      "[nltk_data] Downloading package stopwords to\n",
      "[nltk_data]     /home/jupyter/nltk_data...\n",
      "[nltk_data]   Package stopwords is already up-to-date!\n"
     ]
    },
    {
     "data": {
      "text/plain": [
       "True"
      ]
     },
     "execution_count": 12,
     "metadata": {},
     "output_type": "execute_result"
    }
   ],
   "source": [
    "import nltk\n",
    "\n",
    "nltk.download('punkt')\n",
    "nltk.download('punkt_tab')\n",
    "nltk.download('stopwords')"
   ]
  },
  {
   "cell_type": "code",
   "execution_count": 13,
   "metadata": {
    "ExecuteTime": {
     "end_time": "2024-12-13T13:57:01.929772Z",
     "start_time": "2024-12-13T13:56:55.691019Z"
    },
    "collapsed": false,
    "execution": {
     "iopub.execute_input": "2024-12-14T16:31:14.232895Z",
     "iopub.status.busy": "2024-12-14T16:31:14.231545Z",
     "iopub.status.idle": "2024-12-14T16:31:24.091257Z",
     "shell.execute_reply": "2024-12-14T16:31:24.090212Z",
     "shell.execute_reply.started": "2024-12-14T16:31:14.232840Z"
    },
    "tags": []
   },
   "outputs": [
    {
     "data": {
      "text/plain": [
       "125217"
      ]
     },
     "execution_count": 13,
     "metadata": {},
     "output_type": "execute_result"
    }
   ],
   "source": [
    "from nltk.tokenize import word_tokenize\n",
    "\n",
    "# до удаления стоп слов\n",
    "word_cnt = Counter(word_tokenize(' '.join(df_ria.title.values)))\n",
    "len(word_cnt)"
   ]
  },
  {
   "cell_type": "code",
   "execution_count": 14,
   "metadata": {
    "ExecuteTime": {
     "end_time": "2024-12-13T13:57:08.051254Z",
     "start_time": "2024-12-13T13:57:01.930832Z"
    },
    "colab": {
     "base_uri": "https://localhost:8080/"
    },
    "execution": {
     "iopub.execute_input": "2024-12-14T16:31:24.094446Z",
     "iopub.status.busy": "2024-12-14T16:31:24.092618Z",
     "iopub.status.idle": "2024-12-14T16:31:32.980616Z",
     "shell.execute_reply": "2024-12-14T16:31:32.979572Z",
     "shell.execute_reply.started": "2024-12-14T16:31:24.094406Z"
    },
    "id": "bLHWjtkoM_zU",
    "outputId": "b31d890c-e3bc-4be5-e285-372503938fda",
    "tags": []
   },
   "outputs": [
    {
     "data": {
      "text/plain": [
       "112178"
      ]
     },
     "execution_count": 14,
     "metadata": {},
     "output_type": "execute_result"
    }
   ],
   "source": [
    "import re\n",
    "from nltk.tokenize import word_tokenize\n",
    "\n",
    "\n",
    "def normalise_text(text):\n",
    "    text = text.lower()\n",
    "\n",
    "    # сурово регулярками выкидываем мусорные символы\n",
    "    text = re.sub('[^а-яa-z0-9 ]', '', text)\n",
    "    return text.strip()\n",
    "\n",
    "\n",
    "df_ria['title_clean'] = df_ria.title.apply(normalise_text)\n",
    "\n",
    "word_cnt = Counter(word_tokenize(' '.join(df_ria.title_clean.values)))\n",
    "len(word_cnt)"
   ]
  },
  {
   "cell_type": "code",
   "execution_count": 15,
   "metadata": {
    "ExecuteTime": {
     "end_time": "2024-12-13T13:57:08.085936Z",
     "start_time": "2024-12-13T13:57:08.052275Z"
    },
    "colab": {
     "base_uri": "https://localhost:8080/"
    },
    "execution": {
     "iopub.execute_input": "2024-12-14T16:31:32.984235Z",
     "iopub.status.busy": "2024-12-14T16:31:32.982272Z",
     "iopub.status.idle": "2024-12-14T16:31:33.046786Z",
     "shell.execute_reply": "2024-12-14T16:31:33.045694Z",
     "shell.execute_reply.started": "2024-12-14T16:31:32.984179Z"
    },
    "id": "-OGzgIx-M_zV",
    "outputId": "6da55448-8b6f-4370-d3ae-abcc52db7f0d",
    "tags": []
   },
   "outputs": [
    {
     "data": {
      "text/plain": [
       "[('в', 127323),\n",
       " ('на', 44386),\n",
       " ('с', 26150),\n",
       " ('и', 21771),\n",
       " ('о', 19948),\n",
       " ('по', 17014),\n",
       " ('россии', 13494),\n",
       " ('не', 13483),\n",
       " ('сша', 9942),\n",
       " ('за', 9881)]"
      ]
     },
     "execution_count": 15,
     "metadata": {},
     "output_type": "execute_result"
    }
   ],
   "source": [
    "word_cnt.most_common()[:10]"
   ]
  },
  {
   "cell_type": "markdown",
   "metadata": {
    "id": "ydRq2i-fM_zV"
   },
   "source": [
    "Давайте почистим словарь от стоп-слов и подготовим его к использованию внутри датасета. Мы будем с помощью словаря заменять слова на индексы. Добавим в словарь несколько специальных токенов для неизвестных слов и паддингов."
   ]
  },
  {
   "cell_type": "code",
   "execution_count": 16,
   "metadata": {
    "ExecuteTime": {
     "end_time": "2024-12-13T13:57:08.096238Z",
     "start_time": "2024-12-13T13:57:08.086933Z"
    },
    "colab": {
     "base_uri": "https://localhost:8080/"
    },
    "execution": {
     "iopub.execute_input": "2024-12-14T16:31:33.049568Z",
     "iopub.status.busy": "2024-12-14T16:31:33.048338Z",
     "iopub.status.idle": "2024-12-14T16:31:33.068028Z",
     "shell.execute_reply": "2024-12-14T16:31:33.067044Z",
     "shell.execute_reply.started": "2024-12-14T16:31:33.049493Z"
    },
    "id": "7W5X3hM2M_zV",
    "outputId": "2c1a7490-7ee6-4829-8b60-2b2a118ab172",
    "tags": []
   },
   "outputs": [
    {
     "data": {
      "text/plain": [
       "151"
      ]
     },
     "execution_count": 16,
     "metadata": {},
     "output_type": "execute_result"
    }
   ],
   "source": [
    "from nltk.corpus import stopwords\n",
    "\n",
    "stops_ru = set(stopwords.words('russian'))\n",
    "len(stops_ru)"
   ]
  },
  {
   "cell_type": "code",
   "execution_count": 17,
   "metadata": {
    "ExecuteTime": {
     "end_time": "2024-12-13T13:57:08.194004Z",
     "start_time": "2024-12-13T13:57:08.098197Z"
    },
    "execution": {
     "iopub.execute_input": "2024-12-14T16:31:33.070356Z",
     "iopub.status.busy": "2024-12-14T16:31:33.069088Z",
     "iopub.status.idle": "2024-12-14T16:31:33.188166Z",
     "shell.execute_reply": "2024-12-14T16:31:33.186859Z",
     "shell.execute_reply.started": "2024-12-14T16:31:33.070302Z"
    },
    "id": "0h0Eq-fkM_zV",
    "tags": []
   },
   "outputs": [],
   "source": [
    "vocabulary = {\n",
    "    \"#PAD#\": 0, \"#UNK#\": 1\n",
    "}\n",
    "\n",
    "k = 2\n",
    "for word, _ in word_cnt.most_common():\n",
    "    if word not in stops_ru:\n",
    "        vocabulary[word] = k\n",
    "        k += 1"
   ]
  },
  {
   "cell_type": "code",
   "execution_count": 18,
   "metadata": {
    "ExecuteTime": {
     "end_time": "2024-12-13T13:57:08.199563Z",
     "start_time": "2024-12-13T13:57:08.195517Z"
    },
    "colab": {
     "base_uri": "https://localhost:8080/"
    },
    "execution": {
     "iopub.execute_input": "2024-12-14T16:31:33.191239Z",
     "iopub.status.busy": "2024-12-14T16:31:33.189704Z",
     "iopub.status.idle": "2024-12-14T16:31:33.209468Z",
     "shell.execute_reply": "2024-12-14T16:31:33.208202Z",
     "shell.execute_reply.started": "2024-12-14T16:31:33.191184Z"
    },
    "id": "xL0VgZT6M_zV",
    "outputId": "a124eeb5-4af3-4eca-c47f-346e96359a09",
    "tags": []
   },
   "outputs": [
    {
     "data": {
      "text/plain": [
       "112030"
      ]
     },
     "execution_count": 18,
     "metadata": {},
     "output_type": "execute_result"
    }
   ],
   "source": [
    "len(vocabulary)"
   ]
  },
  {
   "cell_type": "markdown",
   "metadata": {
    "id": "U9NQcllLM_zV"
   },
   "source": [
    "Завернём код для создания словаря в функцию."
   ]
  },
  {
   "cell_type": "code",
   "execution_count": 19,
   "metadata": {
    "ExecuteTime": {
     "end_time": "2024-12-13T13:57:08.205400Z",
     "start_time": "2024-12-13T13:57:08.200561Z"
    },
    "execution": {
     "iopub.execute_input": "2024-12-14T16:31:33.211352Z",
     "iopub.status.busy": "2024-12-14T16:31:33.210597Z",
     "iopub.status.idle": "2024-12-14T16:31:33.226517Z",
     "shell.execute_reply": "2024-12-14T16:31:33.225407Z",
     "shell.execute_reply.started": "2024-12-14T16:31:33.211279Z"
    },
    "id": "VAMLLbXxM_zV",
    "tags": []
   },
   "outputs": [],
   "source": [
    "def create_vocab(text, stops_ru=stops_ru):\n",
    "    word_cnt = Counter(word_tokenize(text))\n",
    "    vocabulary = {\n",
    "        \"#PAD#\": 0, \"#UNK#\": 1\n",
    "    }\n",
    "\n",
    "    k = 2\n",
    "    for word, _ in word_cnt.most_common():\n",
    "        if word not in stops_ru:\n",
    "            vocabulary[word] = k\n",
    "            k += 1\n",
    "    return vocabulary"
   ]
  },
  {
   "cell_type": "markdown",
   "metadata": {
    "id": "lnYJT9BXM_zV"
   },
   "source": [
    "__[0.5 балла] Задание 1:__\n",
    "\n",
    "- Cделайте аналогичную предобработку титулов из таблички `df_vk`. Запишите получившийся результат в столбец `title_clean` по аналогии с таблицей `df_ria`.\n",
    "- Сделайте для обеих таблиц предобработку колонок со сниппетами `snippet` и запишите получившийся результат в столбец `snippet_clean`. Все пропуски заполните токеном `\"#UNKN\"`."
   ]
  },
  {
   "cell_type": "code",
   "execution_count": 20,
   "metadata": {
    "ExecuteTime": {
     "end_time": "2024-12-13T13:57:08.247306Z",
     "start_time": "2024-12-13T13:57:08.206406Z"
    },
    "execution": {
     "iopub.execute_input": "2024-12-14T16:31:33.229991Z",
     "iopub.status.busy": "2024-12-14T16:31:33.228529Z",
     "iopub.status.idle": "2024-12-14T16:31:33.314234Z",
     "shell.execute_reply": "2024-12-14T16:31:33.312869Z",
     "shell.execute_reply.started": "2024-12-14T16:31:33.229925Z"
    },
    "id": "FTlZA9amM_zV",
    "tags": []
   },
   "outputs": [],
   "source": [
    "# vocabulary вроде не надо делать. Удалять стоп слова тоже (в риа не удалены)\n",
    "df_vk['title_clean'] = df_vk.title.apply(normalise_text)"
   ]
  },
  {
   "cell_type": "code",
   "execution_count": 21,
   "metadata": {
    "ExecuteTime": {
     "end_time": "2024-12-13T13:57:14.552650Z",
     "start_time": "2024-12-13T13:57:08.248305Z"
    },
    "collapsed": false,
    "execution": {
     "iopub.execute_input": "2024-12-14T16:31:33.317581Z",
     "iopub.status.busy": "2024-12-14T16:31:33.316031Z",
     "iopub.status.idle": "2024-12-14T16:31:42.478723Z",
     "shell.execute_reply": "2024-12-14T16:31:42.477506Z",
     "shell.execute_reply.started": "2024-12-14T16:31:33.317529Z"
    },
    "tags": []
   },
   "outputs": [],
   "source": [
    "df_vk['snippet_clean'] = df_vk.snippet.apply(lambda x: normalise_text(str(x)) if not pd.isna(x) else \"#UNKN\")\n",
    "\n",
    "df_ria['snippet_clean'] = df_ria.snippet.apply(lambda x: normalise_text(str(x)) if not pd.isna(x) else \"#UNKN\")"
   ]
  },
  {
   "cell_type": "code",
   "execution_count": 22,
   "metadata": {
    "ExecuteTime": {
     "end_time": "2024-12-13T13:57:14.568610Z",
     "start_time": "2024-12-13T13:57:14.557647Z"
    },
    "collapsed": false,
    "execution": {
     "iopub.execute_input": "2024-12-14T16:31:42.480443Z",
     "iopub.status.busy": "2024-12-14T16:31:42.479931Z",
     "iopub.status.idle": "2024-12-14T16:31:42.530838Z",
     "shell.execute_reply": "2024-12-14T16:31:42.529807Z",
     "shell.execute_reply.started": "2024-12-14T16:31:42.480412Z"
    },
    "tags": []
   },
   "outputs": [
    {
     "data": {
      "text/html": [
       "<div>\n",
       "<style scoped>\n",
       "    .dataframe tbody tr th:only-of-type {\n",
       "        vertical-align: middle;\n",
       "    }\n",
       "\n",
       "    .dataframe tbody tr th {\n",
       "        vertical-align: top;\n",
       "    }\n",
       "\n",
       "    .dataframe thead th {\n",
       "        text-align: right;\n",
       "    }\n",
       "</style>\n",
       "<table border=\"1\" class=\"dataframe\">\n",
       "  <thead>\n",
       "    <tr style=\"text-align: right;\">\n",
       "      <th></th>\n",
       "      <th>id</th>\n",
       "      <th>href</th>\n",
       "      <th>datetime</th>\n",
       "      <th>title</th>\n",
       "      <th>likes</th>\n",
       "      <th>comments</th>\n",
       "      <th>snippet</th>\n",
       "      <th>title_clean</th>\n",
       "      <th>snippet_clean</th>\n",
       "    </tr>\n",
       "  </thead>\n",
       "  <tbody>\n",
       "    <tr>\n",
       "      <th>0</th>\n",
       "      <td>24006362</td>\n",
       "      <td>/20190201/1550280358.html</td>\n",
       "      <td>2019-02-01 23:13:17</td>\n",
       "      <td>В ДНР заявили о задержании диверсантов, причас...</td>\n",
       "      <td>15</td>\n",
       "      <td>28</td>\n",
       "      <td>NaN</td>\n",
       "      <td>в днр заявили о задержании диверсантов причаст...</td>\n",
       "      <td>#UNKN</td>\n",
       "    </tr>\n",
       "    <tr>\n",
       "      <th>1</th>\n",
       "      <td>24006240</td>\n",
       "      <td>/20190201/1550268781.html</td>\n",
       "      <td>2019-02-01 22:38:41</td>\n",
       "      <td>Житель Урала \"заминировал\" ТЦ из-за снятия  со...</td>\n",
       "      <td>32</td>\n",
       "      <td>42</td>\n",
       "      <td>NaN</td>\n",
       "      <td>житель урала заминировал тц изза снятия  сотов...</td>\n",
       "      <td>#UNKN</td>\n",
       "    </tr>\n",
       "    <tr>\n",
       "      <th>2</th>\n",
       "      <td>24006100</td>\n",
       "      <td>/20190201/1550282212.html</td>\n",
       "      <td>2019-02-01 21:58:52</td>\n",
       "      <td>В Черном море нашли \"потерянный флот Гитлера\"</td>\n",
       "      <td>84</td>\n",
       "      <td>23</td>\n",
       "      <td>NaN</td>\n",
       "      <td>в черном море нашли потерянный флот гитлера</td>\n",
       "      <td>#UNKN</td>\n",
       "    </tr>\n",
       "    <tr>\n",
       "      <th>3</th>\n",
       "      <td>24005972</td>\n",
       "      <td>/20190202/1550283179.html</td>\n",
       "      <td>2019-02-01 21:27:06</td>\n",
       "      <td>В США освободили задержанную российскую актрис...</td>\n",
       "      <td>58</td>\n",
       "      <td>35</td>\n",
       "      <td>NaN</td>\n",
       "      <td>в сша освободили задержанную российскую актрис...</td>\n",
       "      <td>#UNKN</td>\n",
       "    </tr>\n",
       "    <tr>\n",
       "      <th>4</th>\n",
       "      <td>24005764</td>\n",
       "      <td>/20190201/1550262848.html</td>\n",
       "      <td>2019-02-01 20:55:54</td>\n",
       "      <td>Толкнувший Скабееву депутат Рады заявил о гроз...</td>\n",
       "      <td>45</td>\n",
       "      <td>145</td>\n",
       "      <td>NaN</td>\n",
       "      <td>толкнувший скабееву депутат рады заявил о гроз...</td>\n",
       "      <td>#UNKN</td>\n",
       "    </tr>\n",
       "    <tr>\n",
       "      <th>...</th>\n",
       "      <td>...</td>\n",
       "      <td>...</td>\n",
       "      <td>...</td>\n",
       "      <td>...</td>\n",
       "      <td>...</td>\n",
       "      <td>...</td>\n",
       "      <td>...</td>\n",
       "      <td>...</td>\n",
       "      <td>...</td>\n",
       "    </tr>\n",
       "    <tr>\n",
       "      <th>95</th>\n",
       "      <td>23982696</td>\n",
       "      <td>/20190130/1550151700.html</td>\n",
       "      <td>2019-01-30 21:03:05</td>\n",
       "      <td>Двух астраханских чиновников задержали по подо...</td>\n",
       "      <td>345</td>\n",
       "      <td>226</td>\n",
       "      <td>Задержаны мэр Камызяка и глава администрации К...</td>\n",
       "      <td>двух астраханских чиновников задержали по подо...</td>\n",
       "      <td>задержаны мэр камызяка и глава администрации к...</td>\n",
       "    </tr>\n",
       "    <tr>\n",
       "      <th>96</th>\n",
       "      <td>23982581</td>\n",
       "      <td>/20190130/1550159151.html</td>\n",
       "      <td>2019-01-30 20:48:08</td>\n",
       "      <td>Армения договорилась с Россией о покупке истре...</td>\n",
       "      <td>205</td>\n",
       "      <td>182</td>\n",
       "      <td>NaN</td>\n",
       "      <td>армения договорилась с россией о покупке истре...</td>\n",
       "      <td>#UNKN</td>\n",
       "    </tr>\n",
       "    <tr>\n",
       "      <th>97</th>\n",
       "      <td>23982383</td>\n",
       "      <td>/20190130/1550120608.html</td>\n",
       "      <td>2019-01-30 20:26:03</td>\n",
       "      <td>В Хакасии пьяная пара сожгла внука в печи</td>\n",
       "      <td>123</td>\n",
       "      <td>276</td>\n",
       "      <td>По версии следствия, мать ребенка уехала в сос...</td>\n",
       "      <td>в хакасии пьяная пара сожгла внука в печи</td>\n",
       "      <td>по версии следствия мать ребенка уехала в сосе...</td>\n",
       "    </tr>\n",
       "    <tr>\n",
       "      <th>98</th>\n",
       "      <td>23982166</td>\n",
       "      <td>/20190130/1550159068.html</td>\n",
       "      <td>2019-01-30 19:58:58</td>\n",
       "      <td>Керри заявил, что Трамп позорит страну</td>\n",
       "      <td>111</td>\n",
       "      <td>149</td>\n",
       "      <td>NaN</td>\n",
       "      <td>керри заявил что трамп позорит страну</td>\n",
       "      <td>#UNKN</td>\n",
       "    </tr>\n",
       "    <tr>\n",
       "      <th>99</th>\n",
       "      <td>23981769</td>\n",
       "      <td>/20190130/1550160091.html</td>\n",
       "      <td>2019-01-30 19:14:38</td>\n",
       "      <td>У берегов Крыма засекли несколько самолетов-ра...</td>\n",
       "      <td>122</td>\n",
       "      <td>129</td>\n",
       "      <td>NaN</td>\n",
       "      <td>у берегов крыма засекли несколько самолетовраз...</td>\n",
       "      <td>#UNKN</td>\n",
       "    </tr>\n",
       "  </tbody>\n",
       "</table>\n",
       "<p>100 rows × 9 columns</p>\n",
       "</div>"
      ],
      "text/plain": [
       "          id  ...                                      snippet_clean\n",
       "0   24006362  ...                                              #UNKN\n",
       "1   24006240  ...                                              #UNKN\n",
       "2   24006100  ...                                              #UNKN\n",
       "3   24005972  ...                                              #UNKN\n",
       "4   24005764  ...                                              #UNKN\n",
       "..       ...  ...                                                ...\n",
       "95  23982696  ...  задержаны мэр камызяка и глава администрации к...\n",
       "96  23982581  ...                                              #UNKN\n",
       "97  23982383  ...  по версии следствия мать ребенка уехала в сосе...\n",
       "98  23982166  ...                                              #UNKN\n",
       "99  23981769  ...                                              #UNKN\n",
       "\n",
       "[100 rows x 9 columns]"
      ]
     },
     "execution_count": 22,
     "metadata": {},
     "output_type": "execute_result"
    }
   ],
   "source": [
    "df_vk.head(100)"
   ]
  },
  {
   "cell_type": "code",
   "execution_count": 23,
   "metadata": {
    "ExecuteTime": {
     "end_time": "2024-12-13T13:57:14.588452Z",
     "start_time": "2024-12-13T13:57:14.569608Z"
    },
    "collapsed": false,
    "execution": {
     "iopub.execute_input": "2024-12-14T16:31:42.532957Z",
     "iopub.status.busy": "2024-12-14T16:31:42.532163Z",
     "iopub.status.idle": "2024-12-14T16:31:42.589585Z",
     "shell.execute_reply": "2024-12-14T16:31:42.588276Z",
     "shell.execute_reply.started": "2024-12-14T16:31:42.532906Z"
    },
    "tags": []
   },
   "outputs": [
    {
     "data": {
      "text/html": [
       "<div>\n",
       "<style scoped>\n",
       "    .dataframe tbody tr th:only-of-type {\n",
       "        vertical-align: middle;\n",
       "    }\n",
       "\n",
       "    .dataframe tbody tr th {\n",
       "        vertical-align: top;\n",
       "    }\n",
       "\n",
       "    .dataframe thead th {\n",
       "        text-align: right;\n",
       "    }\n",
       "</style>\n",
       "<table border=\"1\" class=\"dataframe\">\n",
       "  <thead>\n",
       "    <tr style=\"text-align: right;\">\n",
       "      <th></th>\n",
       "      <th>href</th>\n",
       "      <th>date</th>\n",
       "      <th>time</th>\n",
       "      <th>title</th>\n",
       "      <th>snippet</th>\n",
       "      <th>text</th>\n",
       "      <th>category</th>\n",
       "      <th>tags</th>\n",
       "      <th>shows</th>\n",
       "      <th>target_tags</th>\n",
       "      <th>title_clean</th>\n",
       "      <th>snippet_clean</th>\n",
       "    </tr>\n",
       "  </thead>\n",
       "  <tbody>\n",
       "    <tr>\n",
       "      <th>0</th>\n",
       "      <td>/20181231/1548961410.html</td>\n",
       "      <td>2018-12-31</td>\n",
       "      <td>31 декабря 2018, 23:52</td>\n",
       "      <td>Нетаньяху не собирается в отставку в случае пр...</td>\n",
       "      <td>Премьер-министр Израиля Биньямин Нетаньяху не ...</td>\n",
       "      <td>МОСКВА, 31 дек - РИА Новости. Премьер-министр ...</td>\n",
       "      <td>В мире</td>\n",
       "      <td>биньямин нетаньяху,израиль,в мире</td>\n",
       "      <td>728.0</td>\n",
       "      <td>[1395, 876, 642]</td>\n",
       "      <td>нетаньяху не собирается в отставку в случае пр...</td>\n",
       "      <td>премьерминистр израиля биньямин нетаньяху не н...</td>\n",
       "    </tr>\n",
       "    <tr>\n",
       "      <th>1</th>\n",
       "      <td>/20181231/1548961364.html</td>\n",
       "      <td>2018-12-31</td>\n",
       "      <td>31 декабря 2018, 23:19</td>\n",
       "      <td>Макрон в новогоднем обращении затронул тему ре...</td>\n",
       "      <td>Результат реформ не может быть мгновенным, зая...</td>\n",
       "      <td>ПАРИЖ, 31 дек – РИА Новости. Результат реформ ...</td>\n",
       "      <td>В мире</td>\n",
       "      <td>эммануэль макрон,франция,в мире</td>\n",
       "      <td>3086.0</td>\n",
       "      <td>[1562, 1045, 642]</td>\n",
       "      <td>макрон в новогоднем обращении затронул тему ре...</td>\n",
       "      <td>результат реформ не может быть мгновенным заяв...</td>\n",
       "    </tr>\n",
       "    <tr>\n",
       "      <th>4</th>\n",
       "      <td>/20181231/1548961265.html</td>\n",
       "      <td>2018-12-31</td>\n",
       "      <td>31 декабря 2018, 23:07</td>\n",
       "      <td>Пятая ракетка мира дель Потро пропустит Открыт...</td>\n",
       "      <td>Аргентинский теннисист Хуан Мартин дель Потро ...</td>\n",
       "      <td>МОСКВА, 31 дек - РИА Новости. Аргентинский тен...</td>\n",
       "      <td>NaN</td>\n",
       "      <td>теннис</td>\n",
       "      <td>79.0</td>\n",
       "      <td>[256]</td>\n",
       "      <td>пятая ракетка мира дель потро пропустит открыт...</td>\n",
       "      <td>аргентинский теннисист хуан мартин дель потро ...</td>\n",
       "    </tr>\n",
       "    <tr>\n",
       "      <th>5</th>\n",
       "      <td>/20181231/1548961218.html</td>\n",
       "      <td>2018-12-31</td>\n",
       "      <td>31 декабря 2018, 23:06</td>\n",
       "      <td>СМИ: Кевину Спейси не разрешили отсутствовать ...</td>\n",
       "      <td>Суд в американском штате Массачусетс отверг хо...</td>\n",
       "      <td>МОСКВА, 31 дек - РИА Новости. Суд в американск...</td>\n",
       "      <td>В мире</td>\n",
       "      <td>кевин спейси,сша,в мире</td>\n",
       "      <td>2058.0</td>\n",
       "      <td>[335, 642]</td>\n",
       "      <td>сми кевину спейси не разрешили отсутствовать н...</td>\n",
       "      <td>суд в американском штате массачусетс отверг хо...</td>\n",
       "    </tr>\n",
       "    <tr>\n",
       "      <th>6</th>\n",
       "      <td>/20181231/1548961194.html</td>\n",
       "      <td>2018-12-31</td>\n",
       "      <td>31 декабря 2018, 23:06</td>\n",
       "      <td>\"Зимняя классика\" НХЛ в 2020 году пройдет в Да...</td>\n",
       "      <td>\"Зимняя классика\" - матч регулярного чемпионат...</td>\n",
       "      <td>МОСКВА, 31 дек - РИА Новости. \"Зимняя классика...</td>\n",
       "      <td>NaN</td>\n",
       "      <td>нхл,хоккей</td>\n",
       "      <td>89.0</td>\n",
       "      <td>[795, 774]</td>\n",
       "      <td>зимняя классика нхл в 2020 году пройдет в далл...</td>\n",
       "      <td>зимняя классика  матч регулярного чемпионата н...</td>\n",
       "    </tr>\n",
       "    <tr>\n",
       "      <th>7</th>\n",
       "      <td>/20181231/1548961104.html</td>\n",
       "      <td>2018-12-31</td>\n",
       "      <td>31 декабря 2018, 22:50</td>\n",
       "      <td>В Таиланде россиянин получил тяжелую черепную ...</td>\n",
       "      <td>Россиянин Борис Победоносец 1989 года рождения...</td>\n",
       "      <td>БАНГКОК, 31 дек – РИА Новости. Россиянин Борис...</td>\n",
       "      <td>В мире</td>\n",
       "      <td>таиланд,в мире</td>\n",
       "      <td>4427.0</td>\n",
       "      <td>[192, 642]</td>\n",
       "      <td>в таиланде россиянин получил тяжелую черепную ...</td>\n",
       "      <td>россиянин борис победоносец 1989 года рождения...</td>\n",
       "    </tr>\n",
       "    <tr>\n",
       "      <th>8</th>\n",
       "      <td>/20181231/1548961026.html</td>\n",
       "      <td>2018-12-31</td>\n",
       "      <td>31 декабря 2018, 22:33</td>\n",
       "      <td>Медведев поздравил россиян с наступающим Новым...</td>\n",
       "      <td>Глава российского правительства Дмитрий Медвед...</td>\n",
       "      <td>МОСКВА, 31 дек - РИА Новости. Глава российског...</td>\n",
       "      <td>Общество</td>\n",
       "      <td>новый год—2019,дмитрий медведев,россия,общество</td>\n",
       "      <td>2309.0</td>\n",
       "      <td>[1130, 1189, 1057, 609]</td>\n",
       "      <td>медведев поздравил россиян с наступающим новым...</td>\n",
       "      <td>глава российского правительства дмитрий медвед...</td>\n",
       "    </tr>\n",
       "    <tr>\n",
       "      <th>9</th>\n",
       "      <td>/20181231/1548960957.html</td>\n",
       "      <td>2018-12-31</td>\n",
       "      <td>31 декабря 2018, 22:33</td>\n",
       "      <td>Путин призвал россиян в новогоднем обращении к...</td>\n",
       "      <td>Россиянам важно быть сплоченной и единой коман...</td>\n",
       "      <td>МОСКВА, 31 дек — РИА Новости. Россиянам важно ...</td>\n",
       "      <td>NaN</td>\n",
       "      <td>новый год—2019,новый год,владимир путин</td>\n",
       "      <td>6209.0</td>\n",
       "      <td>[1130, 1044, 381]</td>\n",
       "      <td>путин призвал россиян в новогоднем обращении к...</td>\n",
       "      <td>россиянам важно быть сплоченной и единой коман...</td>\n",
       "    </tr>\n",
       "    <tr>\n",
       "      <th>10</th>\n",
       "      <td>/20181231/1548960927.html</td>\n",
       "      <td>2018-12-31</td>\n",
       "      <td>31 декабря 2018, 22:19</td>\n",
       "      <td>В Индонезии в результате оползней погибли не м...</td>\n",
       "      <td>По меньшей мере восемь человек погибли в резул...</td>\n",
       "      <td>МОСКВА, 31 дек - РИА Новости. По меньшей мере ...</td>\n",
       "      <td>В мире</td>\n",
       "      <td>индонезия,в мире</td>\n",
       "      <td>418.0</td>\n",
       "      <td>[253, 642]</td>\n",
       "      <td>в индонезии в результате оползней погибли не м...</td>\n",
       "      <td>по меньшей мере восемь человек погибли в резул...</td>\n",
       "    </tr>\n",
       "    <tr>\n",
       "      <th>11</th>\n",
       "      <td>/20181231/1548960892.html</td>\n",
       "      <td>2018-12-31</td>\n",
       "      <td>31 декабря 2018, 22:10</td>\n",
       "      <td>В аэропорту Амстердама задержали пассажира, уг...</td>\n",
       "      <td>Пассажир, угрожавший взорвать бомбу в амстерда...</td>\n",
       "      <td>МОСКВА, 31 дек - РИА Новости. Пассажир, угрожа...</td>\n",
       "      <td>В мире</td>\n",
       "      <td>амстердам,в мире</td>\n",
       "      <td>1058.0</td>\n",
       "      <td>[1093, 642]</td>\n",
       "      <td>в аэропорту амстердама задержали пассажира угр...</td>\n",
       "      <td>пассажир угрожавший взорвать бомбу в амстердам...</td>\n",
       "    </tr>\n",
       "  </tbody>\n",
       "</table>\n",
       "</div>"
      ],
      "text/plain": [
       "                         href  ...                                      snippet_clean\n",
       "0   /20181231/1548961410.html  ...  премьерминистр израиля биньямин нетаньяху не н...\n",
       "1   /20181231/1548961364.html  ...  результат реформ не может быть мгновенным заяв...\n",
       "4   /20181231/1548961265.html  ...  аргентинский теннисист хуан мартин дель потро ...\n",
       "5   /20181231/1548961218.html  ...  суд в американском штате массачусетс отверг хо...\n",
       "6   /20181231/1548961194.html  ...  зимняя классика  матч регулярного чемпионата н...\n",
       "7   /20181231/1548961104.html  ...  россиянин борис победоносец 1989 года рождения...\n",
       "8   /20181231/1548961026.html  ...  глава российского правительства дмитрий медвед...\n",
       "9   /20181231/1548960957.html  ...  россиянам важно быть сплоченной и единой коман...\n",
       "10  /20181231/1548960927.html  ...  по меньшей мере восемь человек погибли в резул...\n",
       "11  /20181231/1548960892.html  ...  пассажир угрожавший взорвать бомбу в амстердам...\n",
       "\n",
       "[10 rows x 12 columns]"
      ]
     },
     "execution_count": 23,
     "metadata": {},
     "output_type": "execute_result"
    }
   ],
   "source": [
    "df_ria.head(10)"
   ]
  },
  {
   "cell_type": "markdown",
   "metadata": {
    "id": "WrRKg_QHM_zV"
   },
   "source": [
    "## 1.3 Поставка данных"
   ]
  },
  {
   "cell_type": "markdown",
   "metadata": {
    "id": "S2vPPWsEM_zV"
   },
   "source": [
    "Пересечение сайта и ВК по опубликованным новостям довольно маленькое. Мы обучаем модель на данных с сайта. Предсказания мы будем строить на данных из ВК. У этих данных разная природа. В ВК описание статей и заголовки короче. Модель может хорошо показать себя на данных с новостного сайта, но сильно просесть в качестве на данных из ВК.\n",
    "\n",
    "Давайте сохраним пересечение в отдельную табличку, чтобы на нём можно было понять, насколько сильно деградирует модель."
   ]
  },
  {
   "cell_type": "code",
   "execution_count": 24,
   "metadata": {
    "ExecuteTime": {
     "end_time": "2024-12-13T13:57:14.688664Z",
     "start_time": "2024-12-13T13:57:14.589452Z"
    },
    "colab": {
     "base_uri": "https://localhost:8080/"
    },
    "execution": {
     "iopub.execute_input": "2024-12-14T16:31:42.592491Z",
     "iopub.status.busy": "2024-12-14T16:31:42.591345Z",
     "iopub.status.idle": "2024-12-14T16:31:42.865651Z",
     "shell.execute_reply": "2024-12-14T16:31:42.864444Z",
     "shell.execute_reply.started": "2024-12-14T16:31:42.592392Z"
    },
    "id": "8KjCNaTLM_zW",
    "outputId": "a0de14af-5d32-4dff-89f7-3b04a7e35271",
    "tags": []
   },
   "outputs": [
    {
     "name": "stdout",
     "output_type": "stream",
     "text": [
      "Размер отложенной выборки: 1128\n"
     ]
    }
   ],
   "source": [
    "ria_hrefs = set(df_ria.href.values)\n",
    "vk_hrefs = set(df_vk.href.values)\n",
    "test_hrefs = (vk_hrefs & ria_hrefs)\n",
    "\n",
    "print('Размер отложенной выборки:', len(test_hrefs))\n",
    "\n",
    "df = df_ria[~df_ria.href.isin(test_hrefs)]"
   ]
  },
  {
   "cell_type": "markdown",
   "metadata": {
    "id": "FVutzHbPM_zg"
   },
   "source": [
    "По странному совпадению (я правда не знаю почему) пересечение лежит в декабре. Мы будем его использовать как тестовую выборку."
   ]
  },
  {
   "cell_type": "code",
   "execution_count": 25,
   "metadata": {
    "ExecuteTime": {
     "end_time": "2024-12-13T13:57:14.719862Z",
     "start_time": "2024-12-13T13:57:14.689664Z"
    },
    "colab": {
     "base_uri": "https://localhost:8080/"
    },
    "execution": {
     "iopub.execute_input": "2024-12-14T16:31:42.867650Z",
     "iopub.status.busy": "2024-12-14T16:31:42.866815Z",
     "iopub.status.idle": "2024-12-14T16:31:42.945451Z",
     "shell.execute_reply": "2024-12-14T16:31:42.944180Z",
     "shell.execute_reply.started": "2024-12-14T16:31:42.867585Z"
    },
    "id": "1fGs6y6PM_zg",
    "outputId": "5a639a55-e194-4d78-bba0-f6297339f49d",
    "tags": []
   },
   "outputs": [
    {
     "data": {
      "text/plain": [
       "('2018-12-06', '2018-12-31')"
      ]
     },
     "execution_count": 25,
     "metadata": {},
     "output_type": "execute_result"
    }
   ],
   "source": [
    "df_ria[df_ria.href.isin(test_hrefs)].date.min(), df_ria[df_ria.href.isin(test_hrefs)].date.max()"
   ]
  },
  {
   "cell_type": "markdown",
   "metadata": {
    "id": "VJ_7VGvnM_zg"
   },
   "source": [
    "Предположим, что мы делим выборку на обучающую и тестовую случайно. За один и тот же промежуток времени может выйти довольно большое число новостей с одинаковым заголовком. Давайте представим себе, что в тесте и трэйне есть много статей про одно и то же событие. Модель научилась на обучающей выборке хорошо его тегировать. Остальные события модель тегирует намного хуже. Метрики на тестовой выборке высокие. В следующем месяце СМИ перестают освещать это событие, в потоке новостей совершенно другие новости. Качество модели резко проседает.\n",
    "\n",
    "Чтобы не напороться на завышенные метрики, обычно выборку дробят на обучающую и тестовую по времени. Тогда статьи из теста будут имитировать поток новых новостей, освещающих новые события."
   ]
  },
  {
   "cell_type": "code",
   "execution_count": 26,
   "metadata": {
    "ExecuteTime": {
     "end_time": "2024-12-13T13:57:14.744659Z",
     "start_time": "2024-12-13T13:57:14.720856Z"
    },
    "colab": {
     "base_uri": "https://localhost:8080/"
    },
    "execution": {
     "iopub.execute_input": "2024-12-14T16:31:42.948012Z",
     "iopub.status.busy": "2024-12-14T16:31:42.946815Z",
     "iopub.status.idle": "2024-12-14T16:31:42.993098Z",
     "shell.execute_reply": "2024-12-14T16:31:42.991967Z",
     "shell.execute_reply.started": "2024-12-14T16:31:42.947964Z"
    },
    "id": "WscwQXAuM_zg",
    "outputId": "0a83dd25-a157-45e9-b757-f9fdf70a56e2",
    "tags": []
   },
   "outputs": [
    {
     "data": {
      "text/plain": [
       "('2018-03-15', '2018-12-31')"
      ]
     },
     "execution_count": 26,
     "metadata": {},
     "output_type": "execute_result"
    }
   ],
   "source": [
    "df.date.min(), df.date.max()"
   ]
  },
  {
   "cell_type": "markdown",
   "metadata": {
    "id": "bzM_6-ntM_zg"
   },
   "source": [
    "__[0.5 балла] Задание 2:__ Разбейте выборку на обучающую, валидационную и тестовую. В тест возьмите весь декабрь. В валидацию октябрь и ноябрь."
   ]
  },
  {
   "cell_type": "code",
   "execution_count": 27,
   "metadata": {
    "ExecuteTime": {
     "end_time": "2024-12-13T13:57:14.773325Z",
     "start_time": "2024-12-13T13:57:14.745195Z"
    },
    "collapsed": false,
    "execution": {
     "iopub.execute_input": "2024-12-14T16:31:42.996269Z",
     "iopub.status.busy": "2024-12-14T16:31:42.995379Z",
     "iopub.status.idle": "2024-12-14T16:31:43.036721Z",
     "shell.execute_reply": "2024-12-14T16:31:43.035747Z",
     "shell.execute_reply.started": "2024-12-14T16:31:42.996237Z"
    },
    "tags": []
   },
   "outputs": [
    {
     "data": {
      "text/plain": [
       "20176"
      ]
     },
     "execution_count": 27,
     "metadata": {},
     "output_type": "execute_result"
    }
   ],
   "source": [
    "((df.date >= '2018-12-01') & (df.date <= '2018-12-31')).sum()"
   ]
  },
  {
   "cell_type": "code",
   "execution_count": 28,
   "metadata": {
    "ExecuteTime": {
     "end_time": "2024-12-13T13:57:14.952981Z",
     "start_time": "2024-12-13T13:57:14.774323Z"
    },
    "execution": {
     "iopub.execute_input": "2024-12-14T16:31:43.061647Z",
     "iopub.status.busy": "2024-12-14T16:31:43.060628Z",
     "iopub.status.idle": "2024-12-14T16:31:43.217709Z",
     "shell.execute_reply": "2024-12-14T16:31:43.216542Z",
     "shell.execute_reply.started": "2024-12-14T16:31:43.061615Z"
    },
    "id": "Yzr5nNIvM_zg",
    "tags": []
   },
   "outputs": [],
   "source": [
    "# Не буду брать данные из test_hrefs\n",
    "\n",
    "df_test = df[((df.date >= '2018-12-01') & (df.date <= '2018-12-31'))]\n",
    "df_val = df[((df.date >= '2018-10-01') & (df.date <= '2018-11-31'))]\n",
    "df_train = df[(df.date <= '2018-9-31')]"
   ]
  },
  {
   "cell_type": "markdown",
   "metadata": {
    "id": "AlG-87v8M_zh"
   },
   "source": [
    "Сформируем отложенную выборку (пересечение ВКонтакте и РИА)."
   ]
  },
  {
   "cell_type": "markdown",
   "metadata": {
    "id": "laZ8tkFjM_zh"
   },
   "source": [
    "Напишем датасет для поставки данных в нейросеть.\n"
   ]
  },
  {
   "cell_type": "code",
   "execution_count": 29,
   "metadata": {
    "ExecuteTime": {
     "end_time": "2024-12-13T13:57:14.994500Z",
     "start_time": "2024-12-13T13:57:14.954001Z"
    },
    "colab": {
     "base_uri": "https://localhost:8080/",
     "height": 206
    },
    "execution": {
     "iopub.execute_input": "2024-12-14T16:31:43.220080Z",
     "iopub.status.busy": "2024-12-14T16:31:43.219166Z",
     "iopub.status.idle": "2024-12-14T16:31:43.302865Z",
     "shell.execute_reply": "2024-12-14T16:31:43.301674Z",
     "shell.execute_reply.started": "2024-12-14T16:31:43.220028Z"
    },
    "id": "KmBZjIx4M_zh",
    "outputId": "6b4bc36b-9d88-4182-a0b0-9d4c4314a248",
    "tags": []
   },
   "outputs": [
    {
     "data": {
      "text/html": [
       "<div>\n",
       "<style scoped>\n",
       "    .dataframe tbody tr th:only-of-type {\n",
       "        vertical-align: middle;\n",
       "    }\n",
       "\n",
       "    .dataframe tbody tr th {\n",
       "        vertical-align: top;\n",
       "    }\n",
       "\n",
       "    .dataframe thead th {\n",
       "        text-align: right;\n",
       "    }\n",
       "</style>\n",
       "<table border=\"1\" class=\"dataframe\">\n",
       "  <thead>\n",
       "    <tr style=\"text-align: right;\">\n",
       "      <th></th>\n",
       "      <th>href</th>\n",
       "      <th>title_clean</th>\n",
       "      <th>target_tags</th>\n",
       "    </tr>\n",
       "  </thead>\n",
       "  <tbody>\n",
       "    <tr>\n",
       "      <th>0</th>\n",
       "      <td>/20181206/1547493936.html</td>\n",
       "      <td>эксперты определили самые бюджетные экзотическ...</td>\n",
       "      <td>[192, 332]</td>\n",
       "    </tr>\n",
       "    <tr>\n",
       "      <th>1</th>\n",
       "      <td>/20181206/1547516457.html</td>\n",
       "      <td>рада приняла закон расширяющий контролируемую ...</td>\n",
       "      <td>[390, 642]</td>\n",
       "    </tr>\n",
       "    <tr>\n",
       "      <th>2</th>\n",
       "      <td>/20181206/1547520788.html</td>\n",
       "      <td>россия оказалась родиной древнейших титанозавр...</td>\n",
       "      <td>[1169, 288]</td>\n",
       "    </tr>\n",
       "    <tr>\n",
       "      <th>3</th>\n",
       "      <td>/20181206/1547521406.html</td>\n",
       "      <td>школа в красноярске превратилась в хогвартс из...</td>\n",
       "      <td>[609]</td>\n",
       "    </tr>\n",
       "    <tr>\n",
       "      <th>4</th>\n",
       "      <td>/20181206/1547522342.html</td>\n",
       "      <td>рада решила не продлевать договор о дружбе и с...</td>\n",
       "      <td>[778, 642]</td>\n",
       "    </tr>\n",
       "  </tbody>\n",
       "</table>\n",
       "</div>"
      ],
      "text/plain": [
       "                        href  ...  target_tags\n",
       "0  /20181206/1547493936.html  ...   [192, 332]\n",
       "1  /20181206/1547516457.html  ...   [390, 642]\n",
       "2  /20181206/1547520788.html  ...  [1169, 288]\n",
       "3  /20181206/1547521406.html  ...        [609]\n",
       "4  /20181206/1547522342.html  ...   [778, 642]\n",
       "\n",
       "[5 rows x 3 columns]"
      ]
     },
     "execution_count": 29,
     "metadata": {},
     "output_type": "execute_result"
    }
   ],
   "source": [
    "df_oob = df_vk[df_vk.href.isin(test_hrefs)][['href', 'title_clean']]\n",
    "\n",
    "df_ria_oob = df_ria[df_ria.href.isin(test_hrefs)][['href', 'target_tags']]\n",
    "df_oob = df_oob.set_index('href').join(df_ria_oob.set_index('href')).reset_index()\n",
    "df_oob.head()"
   ]
  },
  {
   "cell_type": "code",
   "execution_count": 30,
   "metadata": {
    "ExecuteTime": {
     "end_time": "2024-12-13T13:57:15.003438Z",
     "start_time": "2024-12-13T13:57:14.995046Z"
    },
    "execution": {
     "iopub.execute_input": "2024-12-14T16:31:43.305062Z",
     "iopub.status.busy": "2024-12-14T16:31:43.304058Z",
     "iopub.status.idle": "2024-12-14T16:31:43.332215Z",
     "shell.execute_reply": "2024-12-14T16:31:43.331074Z",
     "shell.execute_reply.started": "2024-12-14T16:31:43.305008Z"
    },
    "id": "0if_RkA_M_zh",
    "tags": []
   },
   "outputs": [],
   "source": [
    "from torch.utils.data import Dataset\n",
    "from torch.utils.data import DataLoader\n",
    "\n",
    "\n",
    "class NewsDataset(Dataset):\n",
    "\n",
    "    def __init__(self, target, title, vocab, vocab_size, max_title_len, max_classes, snippet=None,\n",
    "                 max_snippet_len=None):\n",
    "\n",
    "        self.vocab = {word: idx for word, idx in vocab.items() if idx < vocab_size}\n",
    "        self.max_classes = max_classes\n",
    "        self.y = self.target_ohe(target)\n",
    "        self.X_title = self.create_text(title, max_title_len)\n",
    "        if snippet:\n",
    "            self.X_snippet = self.create_text(snippet, max_snippet_len)\n",
    "        else:\n",
    "            self.X_snippet = None\n",
    "\n",
    "    def target_ohe(self, target):\n",
    "        y = torch.zeros((len(target), self.max_classes))\n",
    "        for i, t in enumerate(target):\n",
    "            y[[i] * len(t), t] = 1.0\n",
    "        return y\n",
    "\n",
    "    def create_text(self, texts, max_len):\n",
    "        result = []\n",
    "        for sent in texts:\n",
    "            # {#PAD: 0, #UNKN: 1}\n",
    "            sent_tokenize = [self.vocab.get(item, 1) for item in word_tokenize(sent)]\n",
    "\n",
    "            # приводим все тексты к max_len\n",
    "            if len(sent_tokenize) >= max_len:\n",
    "                sent_tokenize = sent_tokenize[:max_len]\n",
    "            else:\n",
    "                sent_tokenize += [0] * (max_len - len(sent_tokenize))\n",
    "            result.append(sent_tokenize)\n",
    "        return torch.tensor(result, dtype=torch.int)\n",
    "\n",
    "    def __len__(self):\n",
    "        return len(self.X_title)\n",
    "\n",
    "    def __getitem__(self, idx):\n",
    "        if self.X_snippet:\n",
    "            return (self.X_title[idx, :], self.X_snippet[idx, :], self.y[idx])\n",
    "        return (self.X_title[idx, :], self.y[idx])"
   ]
  },
  {
   "cell_type": "markdown",
   "metadata": {
    "id": "xQMfQ1ZkM_zh"
   },
   "source": [
    "__[0.5 балла] Задание 3:__ Сейчас датасет умеет работать только с полем `title_clean`. Давайте сделаем этот датасет более многофукнциональным и добавим в него возможность добавить в обработку данных сниппет.\n",
    "\n",
    "1. Внутри датасета `snippet` надо обработать точно также как и `title`.\n",
    "2. Если `snippet=None`, датасет должен вернуть два объекта: `X_title, y`. В обратном случае датасет должен вернуть три объекта.\n",
    "\n",
    "**Важно:** Весь код ниже работает сейчас без сниппета. Он не должен развалиться от того, что сниппет в нём нигде не указан."
   ]
  },
  {
   "cell_type": "code",
   "execution_count": 31,
   "metadata": {
    "ExecuteTime": {
     "end_time": "2024-12-13T13:57:15.013047Z",
     "start_time": "2024-12-13T13:57:15.004433Z"
    },
    "execution": {
     "iopub.execute_input": "2024-12-14T16:31:43.334131Z",
     "iopub.status.busy": "2024-12-14T16:31:43.333426Z",
     "iopub.status.idle": "2024-12-14T16:31:43.353328Z",
     "shell.execute_reply": "2024-12-14T16:31:43.352399Z",
     "shell.execute_reply.started": "2024-12-14T16:31:43.334079Z"
    },
    "id": "1ekPnlTlM_zh",
    "tags": []
   },
   "outputs": [],
   "source": [
    "from torch.utils.data import Dataset\n",
    "from torch.utils.data import DataLoader\n",
    "\n",
    "\n",
    "class NewsDataset(Dataset):\n",
    "\n",
    "    def __init__(self, target, title, vocab, vocab_size, max_title_len, max_classes, snippet=None,\n",
    "                 max_snippet_len=None):\n",
    "\n",
    "        self.vocab = {word: idx for word, idx in vocab.items() if idx < vocab_size}\n",
    "        self.max_classes = max_classes\n",
    "        self.y = self.target_ohe(target)\n",
    "        self.X_title = self.create_text(title, max_title_len)\n",
    "        if snippet is not None:\n",
    "            self.X_snippet = self.create_text(snippet, max_snippet_len)\n",
    "        else:\n",
    "            self.X_snippet = None\n",
    "\n",
    "    def target_ohe(self, target):\n",
    "        y = torch.zeros((len(target), self.max_classes))\n",
    "        for i, t in enumerate(target):\n",
    "            y[[i] * len(t), t] = 1.0\n",
    "        return y\n",
    "\n",
    "    def create_text(self, texts, max_len):\n",
    "        result = []\n",
    "        for sent in texts:\n",
    "            # {#PAD: 0, #UNKN: 1}\n",
    "            sent_tokenize = [self.vocab.get(item, 1) for item in word_tokenize(sent)]\n",
    "\n",
    "            # приводим все тексты к max_len\n",
    "            if len(sent_tokenize) >= max_len:\n",
    "                sent_tokenize = sent_tokenize[:max_len]\n",
    "            else:\n",
    "                sent_tokenize += [0] * (max_len - len(sent_tokenize))\n",
    "            result.append(sent_tokenize)\n",
    "        return torch.tensor(result, dtype=torch.int)\n",
    "\n",
    "    def __len__(self):\n",
    "        return len(self.X_title)\n",
    "\n",
    "    def __getitem__(self, idx):\n",
    "        if self.X_snippet is not None:\n",
    "            return (self.X_title[idx, :], self.X_snippet[idx, :], self.y[idx])\n",
    "        return (self.X_title[idx, :], self.y[idx])"
   ]
  },
  {
   "cell_type": "markdown",
   "metadata": {
    "id": "1v_Rgi_DM_zh"
   },
   "source": [
    "\n",
    "Объявим датасеты, оставим в словаре 30 000 самых частотных слов. Будем смотреть на титулы максимальной длины 20."
   ]
  },
  {
   "cell_type": "code",
   "execution_count": 32,
   "metadata": {
    "ExecuteTime": {
     "end_time": "2024-12-13T13:57:48.309850Z",
     "start_time": "2024-12-13T13:57:15.014046Z"
    },
    "execution": {
     "iopub.execute_input": "2024-12-14T16:31:43.356196Z",
     "iopub.status.busy": "2024-12-14T16:31:43.354607Z",
     "iopub.status.idle": "2024-12-14T16:32:30.487812Z",
     "shell.execute_reply": "2024-12-14T16:32:30.486392Z",
     "shell.execute_reply.started": "2024-12-14T16:31:43.356144Z"
    },
    "id": "2zjgEiWWM_zh",
    "tags": []
   },
   "outputs": [],
   "source": [
    "CLASSES_NUM = len(idx2tag)\n",
    "VOCAB_SIZE = 10000\n",
    "MAX_TITLE_LEN = 20\n",
    "\n",
    "# словарь создаем по всей выборке\n",
    "vocabulary = create_vocab(' '.join(df_ria.title_clean.values))\n",
    "\n",
    "# объявляем датасеты\n",
    "train_dataset = NewsDataset(df_train.target_tags.values, df_train.title_clean.values, vocabulary, VOCAB_SIZE,\n",
    "                            MAX_TITLE_LEN, CLASSES_NUM)\n",
    "val_dataset = NewsDataset(df_val.target_tags.values, df_val.title_clean.values, vocabulary, VOCAB_SIZE, MAX_TITLE_LEN,\n",
    "                          CLASSES_NUM)\n",
    "test_dataset = NewsDataset(df_test.target_tags.values, df_test.title_clean.values, vocabulary, VOCAB_SIZE,\n",
    "                           MAX_TITLE_LEN, CLASSES_NUM)"
   ]
  },
  {
   "cell_type": "code",
   "execution_count": 33,
   "metadata": {
    "ExecuteTime": {
     "end_time": "2024-12-13T13:57:48.321772Z",
     "start_time": "2024-12-13T13:57:48.311849Z"
    },
    "execution": {
     "iopub.execute_input": "2024-12-14T16:32:30.490158Z",
     "iopub.status.busy": "2024-12-14T16:32:30.489369Z",
     "iopub.status.idle": "2024-12-14T16:32:30.532901Z",
     "shell.execute_reply": "2024-12-14T16:32:30.531593Z",
     "shell.execute_reply.started": "2024-12-14T16:32:30.490104Z"
    },
    "id": "kNdo56v0M_zh",
    "tags": []
   },
   "outputs": [],
   "source": [
    "train_dataloader = DataLoader(train_dataset, shuffle=True, batch_size=64, num_workers=4)\n",
    "val_dataloader = DataLoader(val_dataset, shuffle=False, batch_size=4096, num_workers=4)"
   ]
  },
  {
   "cell_type": "markdown",
   "metadata": {
    "id": "WvQXMtISM_zh"
   },
   "source": [
    "## 1.4 Архитектуры\n",
    "\n",
    "Соберём базовую архитектуру для обучения."
   ]
  },
  {
   "cell_type": "code",
   "execution_count": 34,
   "metadata": {
    "ExecuteTime": {
     "end_time": "2024-12-13T13:57:48.330425Z",
     "start_time": "2024-12-13T13:57:48.322769Z"
    },
    "execution": {
     "iopub.execute_input": "2024-12-14T16:32:30.535682Z",
     "iopub.status.busy": "2024-12-14T16:32:30.534180Z",
     "iopub.status.idle": "2024-12-14T16:32:30.554219Z",
     "shell.execute_reply": "2024-12-14T16:32:30.553112Z",
     "shell.execute_reply.started": "2024-12-14T16:32:30.535603Z"
    },
    "id": "dN8DAIIkM_zh",
    "tags": []
   },
   "outputs": [],
   "source": [
    "from torch import nn\n",
    "import torch.nn.functional as F\n",
    "\n",
    "\n",
    "class SimpleClassifier(nn.Module):\n",
    "\n",
    "    def __init__(self, vocab_size, embedding_dim, output_dim):\n",
    "        super().__init__()\n",
    "        self.embedding = nn.Embedding(vocab_size, embedding_dim)\n",
    "        self.fc = nn.Linear(embedding_dim, output_dim)\n",
    "\n",
    "    def forward(self, title):\n",
    "        embedded = self.embedding(title)\n",
    "        embedded = embedded.mean(dim=1)\n",
    "        return self.fc(embedded)"
   ]
  },
  {
   "cell_type": "markdown",
   "metadata": {
    "id": "slQEltBQM_zh"
   },
   "source": [
    "Соберём в `pytorch_lightning` модуль для обучения нейронки."
   ]
  },
  {
   "cell_type": "code",
   "execution_count": 35,
   "metadata": {
    "ExecuteTime": {
     "end_time": "2024-12-13T13:57:53.055814Z",
     "start_time": "2024-12-13T13:57:48.339887Z"
    },
    "execution": {
     "iopub.execute_input": "2024-12-14T16:32:30.557401Z",
     "iopub.status.busy": "2024-12-14T16:32:30.555763Z",
     "iopub.status.idle": "2024-12-14T16:32:33.347562Z",
     "shell.execute_reply": "2024-12-14T16:32:33.346341Z",
     "shell.execute_reply.started": "2024-12-14T16:32:30.557363Z"
    },
    "id": "5E6J3of9M_zi",
    "tags": []
   },
   "outputs": [],
   "source": [
    "import pytorch_lightning as pl\n",
    "\n",
    "\n",
    "class TrainLightningModule(pl.LightningModule):\n",
    "    def __init__(self, model, learning_rate, criterion):\n",
    "        super().__init__()\n",
    "        self.model = model\n",
    "        self.criterion = criterion\n",
    "        self.learning_rate = learning_rate\n",
    "\n",
    "    def forward(self, title):\n",
    "        result = self.model(title)\n",
    "        return result\n",
    "\n",
    "    def configure_optimizers(self):\n",
    "        optimizer = torch.optim.Adam(self.parameters(), lr=self.learning_rate)\n",
    "        return optimizer\n",
    "\n",
    "    def training_step(self, train_batch, batch_idx):\n",
    "        title, target = train_batch\n",
    "        logits = self.model(title)\n",
    "        loss = self.criterion(logits, target)\n",
    "        self.log(\n",
    "            \"train_loss\", loss, prog_bar=True, logger=True\n",
    "        )\n",
    "        return loss\n",
    "\n",
    "    def validation_step(self, val_batch, batch_idx):\n",
    "        title, target = val_batch\n",
    "        logits = self.model(title)\n",
    "        loss = self.criterion(logits, target)\n",
    "        self.log(\n",
    "            \"val_loss\", loss, prog_bar=True, logger=True\n",
    "        )\n",
    "        return loss"
   ]
  },
  {
   "cell_type": "markdown",
   "metadata": {
    "id": "6BirneLfM_zi"
   },
   "source": [
    "Обучим модель."
   ]
  },
  {
   "cell_type": "code",
   "execution_count": 36,
   "metadata": {
    "collapsed": false,
    "execution": {
     "iopub.execute_input": "2024-12-14T16:32:33.349432Z",
     "iopub.status.busy": "2024-12-14T16:32:33.348803Z",
     "iopub.status.idle": "2024-12-14T16:32:37.553239Z",
     "shell.execute_reply": "2024-12-14T16:32:37.551962Z",
     "shell.execute_reply.started": "2024-12-14T16:32:33.349400Z"
    },
    "tags": []
   },
   "outputs": [
    {
     "name": "stderr",
     "output_type": "stream",
     "text": [
      "wandb: Using wandb-core as the SDK backend. Please refer to https://wandb.me/wandb-core for more information.\n",
      "wandb: Currently logged in as: vldmrl (vldmrl-org). Use `wandb login --relogin` to force relogin\n"
     ]
    },
    {
     "data": {
      "text/plain": [
       "True"
      ]
     },
     "execution_count": 36,
     "metadata": {},
     "output_type": "execute_result"
    }
   ],
   "source": [
    "import wandb\n",
    "from pytorch_lightning.loggers import WandbLogger\n",
    "\n",
    "wandb.login()"
   ]
  },
  {
   "cell_type": "code",
   "execution_count": 37,
   "metadata": {
    "collapsed": false,
    "execution": {
     "iopub.execute_input": "2024-12-14T16:32:37.555282Z",
     "iopub.status.busy": "2024-12-14T16:32:37.554436Z",
     "iopub.status.idle": "2024-12-14T16:32:37.583130Z",
     "shell.execute_reply": "2024-12-14T16:32:37.581918Z",
     "shell.execute_reply.started": "2024-12-14T16:32:37.555222Z"
    },
    "tags": []
   },
   "outputs": [],
   "source": [
    "wandb_logger = WandbLogger(\n",
    "    log_model='all'\n",
    ")"
   ]
  },
  {
   "cell_type": "code",
   "execution_count": 38,
   "metadata": {
    "collapsed": false,
    "execution": {
     "iopub.execute_input": "2024-12-14T16:32:37.585879Z",
     "iopub.status.busy": "2024-12-14T16:32:37.584606Z",
     "iopub.status.idle": "2024-12-14T16:32:40.065327Z",
     "shell.execute_reply": "2024-12-14T16:32:40.063991Z",
     "shell.execute_reply.started": "2024-12-14T16:32:37.585842Z"
    },
    "tags": []
   },
   "outputs": [
    {
     "name": "stderr",
     "output_type": "stream",
     "text": [
      "wandb: Tracking run with wandb version 0.18.5\n",
      "wandb: Run data is saved locally in /home/jupyter/work/resources/hw2/wandb/run-20241214_163237-987rr4lk\n",
      "wandb: Run `wandb offline` to turn off syncing.\n",
      "wandb: Syncing run baseline\n",
      "wandb: ⭐️ View project at https://wandb.ai/vldmrl-org/iad-hw4\n",
      "wandb: 🚀 View run at https://wandb.ai/vldmrl-org/iad-hw4/runs/987rr4lk\n"
     ]
    }
   ],
   "source": [
    "run1 = wandb.init(project=\"iad-hw4\", name=\"baseline\")"
   ]
  },
  {
   "cell_type": "code",
   "execution_count": 39,
   "metadata": {
    "ExecuteTime": {
     "start_time": "2024-12-13T13:57:53.056813Z"
    },
    "colab": {
     "base_uri": "https://localhost:8080/",
     "height": 349,
     "referenced_widgets": [
      "3ef009aeabae43b48bc913a592d1a019",
      "75b99a050a37493389ff96724a9a3b72",
      "78fe9e3a3d614de9a6f3efacde67d247",
      "2d71626a24cb45f39095e7e3fd621707",
      "4f75594be29e49cc99fe61a6787e7564",
      "9ab912602cc24346a011fdf58feafbde",
      "af211f3be2ce4fb1b6733fa552ed041b",
      "84f32a71a7cd4de6b55a9558717d00ef",
      "5db675de6b8348e9a9823384541bdfff",
      "6fa8591a1a834d8785b1ebe8eff2b10d",
      "acfec13aec454320b585c0b8331e9448",
      "1ae6951f8b984b318210df9d009479d8",
      "d9456651273140f9bd6e587ab852eeec",
      "b174cb3407a04b2989e6049555265446",
      "7bd174d7cd2346be9db9d5a0a170f8cb",
      "3ada921ee7644de997b57ffd2c57044d",
      "17e62da8657f44d9a998f4acbbd29671",
      "be93fd003ef54d7e85bb1fcaa894e467",
      "938d3da0eef54ee997fc0ce7ccf1807b",
      "1c10405770654b90a3635ba4acabb6ef",
      "2da5b84f9384445a8d9db58ef3dafa5e",
      "abcb57f0947f413d9cb83c62c6529562",
      "d8cd82c7af8747148b5b4750e8f1372a",
      "17d8af2b171440cba00f8b2df1a08073",
      "fde8213392c546b58ad8a81aacf4fcb3",
      "09093bb710bd4903abf2e10db6efc0a0",
      "d92ec28e7e6c47c4b2e3669b502b8b9e",
      "201a41be363549eaa0fdc903fb41f83e",
      "60c4aa6c4c8145949cd16ec0670227a1",
      "58fbdeafd7ee40cd9392cd4a62c49b81",
      "286fbf1303dc4f0b9c1bb3cfb34f920e",
      "8fc5cc9d0df74d5081fa3f8c89595daf",
      "0cbe638b1d354bea83ccba54ee3d1f5c",
      "f2b6c28c36e64f66b54834f543cec282",
      "2d98065fccb34cb1b44740aa4510f0e7",
      "2aa0bc933aae46729672d55e60c17616",
      "950950a569914ad1a263f3f295e57852",
      "2f4dcf310c634bdba125e8bf46d3db26",
      "6072601881c341fb8e5329fab05ee52d",
      "13a1fd50c8f24f12a0f28485b6168606",
      "546d1deb5c934916b722fb9ab0ce5e67",
      "86ed101f86384b9b92eb3faccae5bca2",
      "cba28fcac7c349e8ac9794d507768744",
      "7bb5cc7b77654cc0b27a22552941a1ce",
      "b6179f72e8f94772a4e1e2a503bc1d47",
      "9ec11067fc81414d97457b47e93b78a1",
      "6351ca36d8d648afa472093df7e73e45",
      "d1efd4fe9adc4243a81d401784b77530",
      "2cb3f56ff669424da4e9bace352831b8",
      "3dc20b49832e46c6ad70dc754f43555f",
      "100219bd594645c5b60c3da4a44344fe",
      "7a6a637bb7664b4495b2b56b45d88ee4",
      "74bf3b2a873e40ffa139f1afe652ffe8",
      "640ac5a06820498585c48a1b69355d0d",
      "515318593400421487560182023801f1",
      "2a38ec8f52d74e018a4c1876d3a2f874",
      "fd22c38d837a404ab892ddaddf4a8988",
      "a474d8d377674579b3c9f5327fbb1862",
      "0029cbbc48c64effb57bffff5d199e34",
      "e9d2f22400db472283508e8c01f08fbb",
      "46204f92abf1414da360d79b4ca7a924",
      "0a54156fabcd4ef3b73b038b71485a6a",
      "2e02be5bf0be40bf87f1364b1fd587ec",
      "560450b99c8f4636b3a700db3fc21253",
      "0140e6c8951147b6a7e079682e938e7f",
      "534e121744814f4d8880072004513e37",
      "b23fac677f5e4e8884f84fe60585330d",
      "1ae57433e573436b8bbdf6c22630930d",
      "6769dc278aae487db30d78caa97c6dd8",
      "b5b6d56829af44d99b904176b9552101",
      "7dc052c589534aa986569d863596a2a3",
      "5d422f8cbd47402bb8f28b258e5abed0",
      "80d177b53a5f4fe0a733d3b7d36e9b30",
      "71c435b7fa6f4a0fb44a4c8a8b5a73f6",
      "c05c8b6064f94652a1f2ed5c3bb7c2b0",
      "c44756a0ec83400f9f6daf8d1179ad91",
      "a2903f89f4584f16b9f5b412d2730672"
     ]
    },
    "execution": {
     "iopub.execute_input": "2024-12-14T16:32:40.067503Z",
     "iopub.status.busy": "2024-12-14T16:32:40.066747Z",
     "iopub.status.idle": "2024-12-14T16:35:25.658765Z",
     "shell.execute_reply": "2024-12-14T16:35:25.657425Z",
     "shell.execute_reply.started": "2024-12-14T16:32:40.067456Z"
    },
    "id": "5ShTLAStM_zi",
    "is_executing": true,
    "outputId": "c1894412-c82d-4061-971d-4c732c3ae599",
    "tags": []
   },
   "outputs": [
    {
     "name": "stderr",
     "output_type": "stream",
     "text": [
      "GPU available: True (cuda), used: True\n",
      "TPU available: False, using: 0 TPU cores\n",
      "HPU available: False, using: 0 HPUs\n",
      "/home/jupyter/.local/lib/python3.10/site-packages/pytorch_lightning/loggers/wandb.py:396: There is a wandb run already in progress and newly created instances of `WandbLogger` will reuse this run. If this is not desired, call `wandb.finish()` before instantiating `WandbLogger`.\n",
      "LOCAL_RANK: 0 - CUDA_VISIBLE_DEVICES: [0]\n",
      "\n",
      "  | Name      | Type             | Params | Mode \n",
      "-------------------------------------------------------\n",
      "0 | model     | SimpleClassifier | 3.5 M  | train\n",
      "1 | criterion | CrossEntropyLoss | 0      | train\n",
      "-------------------------------------------------------\n",
      "3.5 M     Trainable params\n",
      "0         Non-trainable params\n",
      "3.5 M     Total params\n",
      "13.906    Total estimated model params size (MB)\n",
      "4         Modules in train mode\n",
      "0         Modules in eval mode\n"
     ]
    },
    {
     "name": "stdout",
     "output_type": "stream",
     "text": [
      "Epoch 0: 100%|██████████| 3130/3130 [00:28<00:00, 108.12it/s, v_num=r4lk, train_loss=11.90]\n",
      "Validation: |          | 0/? [00:00<?, ?it/s]\u001B[A\n",
      "Validation:   0%|          | 0/11 [00:00<?, ?it/s]\u001B[A\n",
      "Validation DataLoader 0:   0%|          | 0/11 [00:00<?, ?it/s]\u001B[A\n",
      "Validation DataLoader 0:   9%|▉         | 1/11 [00:00<00:00, 44.67it/s]\u001B[A\n",
      "Validation DataLoader 0:  18%|█▊        | 2/11 [00:00<00:00, 46.65it/s]\u001B[A\n",
      "Validation DataLoader 0:  27%|██▋       | 3/11 [00:00<00:00, 47.06it/s]\u001B[A\n",
      "Validation DataLoader 0:  36%|███▋      | 4/11 [00:00<00:00, 45.37it/s]\u001B[A\n",
      "Validation DataLoader 0:  45%|████▌     | 5/11 [00:00<00:00, 26.73it/s]\u001B[A\n",
      "Validation DataLoader 0:  55%|█████▍    | 6/11 [00:00<00:00, 28.66it/s]\u001B[A\n",
      "Validation DataLoader 0:  64%|██████▎   | 7/11 [00:00<00:00, 30.83it/s]\u001B[A\n",
      "Validation DataLoader 0:  73%|███████▎  | 8/11 [00:00<00:00, 32.67it/s]\u001B[A\n",
      "Validation DataLoader 0:  82%|████████▏ | 9/11 [00:00<00:00, 34.22it/s]\u001B[A\n",
      "Validation DataLoader 0:  91%|█████████ | 10/11 [00:00<00:00, 35.60it/s]\u001B[A\n",
      "Validation DataLoader 0: 100%|██████████| 11/11 [00:00<00:00, 37.36it/s]\u001B[A\n",
      "Epoch 1: 100%|██████████| 3130/3130 [00:28<00:00, 108.86it/s, v_num=r4lk, train_loss=11.10, val_loss=11.20]\n",
      "Validation: |          | 0/? [00:00<?, ?it/s]\u001B[A\n",
      "Validation:   0%|          | 0/11 [00:00<?, ?it/s]\u001B[A\n",
      "Validation DataLoader 0:   0%|          | 0/11 [00:00<?, ?it/s]\u001B[A\n",
      "Validation DataLoader 0:   9%|▉         | 1/11 [00:00<00:00, 45.30it/s]\u001B[A\n",
      "Validation DataLoader 0:  18%|█▊        | 2/11 [00:00<00:00, 39.06it/s]\u001B[A\n",
      "Validation DataLoader 0:  27%|██▋       | 3/11 [00:00<00:00, 40.75it/s]\u001B[A\n",
      "Validation DataLoader 0:  36%|███▋      | 4/11 [00:00<00:00, 39.61it/s]\u001B[A\n",
      "Validation DataLoader 0:  45%|████▌     | 5/11 [00:00<00:00, 24.63it/s]\u001B[A\n",
      "Validation DataLoader 0:  55%|█████▍    | 6/11 [00:00<00:00, 26.31it/s]\u001B[A\n",
      "Validation DataLoader 0:  64%|██████▎   | 7/11 [00:00<00:00, 28.52it/s]\u001B[A\n",
      "Validation DataLoader 0:  73%|███████▎  | 8/11 [00:00<00:00, 30.50it/s]\u001B[A\n",
      "Validation DataLoader 0:  82%|████████▏ | 9/11 [00:00<00:00, 32.01it/s]\u001B[A\n",
      "Validation DataLoader 0:  91%|█████████ | 10/11 [00:00<00:00, 33.40it/s]\u001B[A\n",
      "Validation DataLoader 0: 100%|██████████| 11/11 [00:00<00:00, 35.11it/s]\u001B[A\n",
      "Epoch 2: 100%|██████████| 3130/3130 [00:29<00:00, 107.76it/s, v_num=r4lk, train_loss=8.240, val_loss=9.250]\n",
      "Validation: |          | 0/? [00:00<?, ?it/s]\u001B[A\n",
      "Validation:   0%|          | 0/11 [00:00<?, ?it/s]\u001B[A\n",
      "Validation DataLoader 0:   0%|          | 0/11 [00:00<?, ?it/s]\u001B[A\n",
      "Validation DataLoader 0:   9%|▉         | 1/11 [00:00<00:00, 44.09it/s]\u001B[A\n",
      "Validation DataLoader 0:  18%|█▊        | 2/11 [00:00<00:00, 40.89it/s]\u001B[A\n",
      "Validation DataLoader 0:  27%|██▋       | 3/11 [00:00<00:00, 39.81it/s]\u001B[A\n",
      "Validation DataLoader 0:  36%|███▋      | 4/11 [00:00<00:00, 39.02it/s]\u001B[A\n",
      "Validation DataLoader 0:  45%|████▌     | 5/11 [00:00<00:00, 24.39it/s]\u001B[A\n",
      "Validation DataLoader 0:  55%|█████▍    | 6/11 [00:00<00:00, 26.77it/s]\u001B[A\n",
      "Validation DataLoader 0:  64%|██████▎   | 7/11 [00:00<00:00, 28.93it/s]\u001B[A\n",
      "Validation DataLoader 0:  73%|███████▎  | 8/11 [00:00<00:00, 30.93it/s]\u001B[A\n",
      "Validation DataLoader 0:  82%|████████▏ | 9/11 [00:00<00:00, 32.27it/s]\u001B[A\n",
      "Validation DataLoader 0:  91%|█████████ | 10/11 [00:00<00:00, 33.63it/s]\u001B[A\n",
      "Validation DataLoader 0: 100%|██████████| 11/11 [00:00<00:00, 35.27it/s]\u001B[A\n",
      "Epoch 3: 100%|██████████| 3130/3130 [00:28<00:00, 108.67it/s, v_num=r4lk, train_loss=7.790, val_loss=8.350]\n",
      "Validation: |          | 0/? [00:00<?, ?it/s]\u001B[A\n",
      "Validation:   0%|          | 0/11 [00:00<?, ?it/s]\u001B[A\n",
      "Validation DataLoader 0:   0%|          | 0/11 [00:00<?, ?it/s]\u001B[A\n",
      "Validation DataLoader 0:   9%|▉         | 1/11 [00:00<00:00, 59.91it/s]\u001B[A\n",
      "Validation DataLoader 0:  18%|█▊        | 2/11 [00:00<00:00, 45.73it/s]\u001B[A\n",
      "Validation DataLoader 0:  27%|██▋       | 3/11 [00:00<00:00, 44.02it/s]\u001B[A\n",
      "Validation DataLoader 0:  36%|███▋      | 4/11 [00:00<00:00, 44.81it/s]\u001B[A\n",
      "Validation DataLoader 0:  45%|████▌     | 5/11 [00:00<00:00, 22.95it/s]\u001B[A\n",
      "Validation DataLoader 0:  55%|█████▍    | 6/11 [00:00<00:00, 25.45it/s]\u001B[A\n",
      "Validation DataLoader 0:  64%|██████▎   | 7/11 [00:00<00:00, 27.56it/s]\u001B[A\n",
      "Validation DataLoader 0:  73%|███████▎  | 8/11 [00:00<00:00, 29.59it/s]\u001B[A\n",
      "Validation DataLoader 0:  82%|████████▏ | 9/11 [00:00<00:00, 31.03it/s]\u001B[A\n",
      "Validation DataLoader 0:  91%|█████████ | 10/11 [00:00<00:00, 32.73it/s]\u001B[A\n",
      "Validation DataLoader 0: 100%|██████████| 11/11 [00:00<00:00, 34.49it/s]\u001B[A\n",
      "Epoch 4: 100%|██████████| 3130/3130 [00:28<00:00, 108.51it/s, v_num=r4lk, train_loss=6.690, val_loss=7.860]\n",
      "Validation: |          | 0/? [00:00<?, ?it/s]\u001B[A\n",
      "Validation:   0%|          | 0/11 [00:00<?, ?it/s]\u001B[A\n",
      "Validation DataLoader 0:   0%|          | 0/11 [00:00<?, ?it/s]\u001B[A\n",
      "Validation DataLoader 0:   9%|▉         | 1/11 [00:00<00:00, 56.11it/s]\u001B[A\n",
      "Validation DataLoader 0:  18%|█▊        | 2/11 [00:00<00:00, 53.52it/s]\u001B[A\n",
      "Validation DataLoader 0:  27%|██▋       | 3/11 [00:00<00:00, 52.65it/s]\u001B[A\n",
      "Validation DataLoader 0:  36%|███▋      | 4/11 [00:00<00:00, 49.62it/s]\u001B[A\n",
      "Validation DataLoader 0:  45%|████▌     | 5/11 [00:00<00:00, 25.38it/s]\u001B[A\n",
      "Validation DataLoader 0:  55%|█████▍    | 6/11 [00:00<00:00, 27.95it/s]\u001B[A\n",
      "Validation DataLoader 0:  64%|██████▎   | 7/11 [00:00<00:00, 30.21it/s]\u001B[A\n",
      "Validation DataLoader 0:  73%|███████▎  | 8/11 [00:00<00:00, 32.31it/s]\u001B[A\n",
      "Validation DataLoader 0:  82%|████████▏ | 9/11 [00:00<00:00, 33.61it/s]\u001B[A\n",
      "Validation DataLoader 0:  91%|█████████ | 10/11 [00:00<00:00, 35.19it/s]\u001B[A\n",
      "Validation DataLoader 0: 100%|██████████| 11/11 [00:00<00:00, 37.02it/s]\u001B[A\n",
      "Epoch 4: 100%|██████████| 3130/3130 [00:30<00:00, 104.27it/s, v_num=r4lk, train_loss=6.690, val_loss=7.560]"
     ]
    },
    {
     "name": "stderr",
     "output_type": "stream",
     "text": [
      "`Trainer.fit` stopped: `max_epochs=5` reached.\n"
     ]
    },
    {
     "name": "stdout",
     "output_type": "stream",
     "text": [
      "Epoch 4: 100%|██████████| 3130/3130 [00:31<00:00, 100.02it/s, v_num=r4lk, train_loss=6.690, val_loss=7.560]\n"
     ]
    }
   ],
   "source": [
    "EMBEDDING_DIM = 300\n",
    "EPOCHS = 5\n",
    "LR = 1e-3\n",
    "\n",
    "model_baseline = SimpleClassifier(VOCAB_SIZE, EMBEDDING_DIM, CLASSES_NUM).to(device)\n",
    "criterion = torch.nn.CrossEntropyLoss()\n",
    "\n",
    "train_module = TrainLightningModule(model_baseline, LR, criterion)\n",
    "\n",
    "trainer = pl.Trainer(\n",
    "    logger=wandb_logger,\n",
    "    accelerator=device.type,\n",
    "    max_epochs=EPOCHS)\n",
    "trainer.fit(train_module, train_dataloader, val_dataloader)"
   ]
  },
  {
   "cell_type": "code",
   "execution_count": 40,
   "metadata": {
    "collapsed": false,
    "execution": {
     "iopub.execute_input": "2024-12-14T16:35:25.662221Z",
     "iopub.status.busy": "2024-12-14T16:35:25.660586Z",
     "iopub.status.idle": "2024-12-14T16:35:31.381794Z",
     "shell.execute_reply": "2024-12-14T16:35:31.380293Z",
     "shell.execute_reply.started": "2024-12-14T16:35:25.662165Z"
    },
    "tags": []
   },
   "outputs": [
    {
     "name": "stderr",
     "output_type": "stream",
     "text": [
      "wandb:                                                                                \n",
      "wandb: \n",
      "wandb: Run history:\n",
      "wandb:               epoch ▁▁▁▁▁▃▃▃▃▃▃▃▃▃▃▅▅▅▅▅▅▅▅▅▅▆▆▆▆▆▆▆████████\n",
      "wandb:          train_loss ▇█▆▅▆▅▆▅▄▅▄▄▅▃▃▄▄▄▂▂▃▃▂▂▄▂▂▃▂▂▂▂▂▃▂▂▂▁▂▁\n",
      "wandb: trainer/global_step ▁▁▁▂▂▂▂▂▂▂▂▂▃▃▃▃▄▄▅▅▅▅▅▆▆▆▆▇▇▇▇▇▇▇▇█████\n",
      "wandb:            val_loss █▄▂▂▁\n",
      "wandb: \n",
      "wandb: Run summary:\n",
      "wandb:               epoch 4\n",
      "wandb:          train_loss 6.68641\n",
      "wandb: trainer/global_step 15649\n",
      "wandb:            val_loss 7.55669\n",
      "wandb: \n",
      "wandb: 🚀 View run baseline at: https://wandb.ai/vldmrl-org/iad-hw4/runs/987rr4lk\n",
      "wandb: ⭐️ View project at: https://wandb.ai/vldmrl-org/iad-hw4\n",
      "wandb: Synced 5 W&B file(s), 0 media file(s), 10 artifact file(s) and 0 other file(s)\n",
      "wandb: Find logs at: ./wandb/run-20241214_163237-987rr4lk/logs\n"
     ]
    }
   ],
   "source": [
    "run1.finish()"
   ]
  },
  {
   "cell_type": "markdown",
   "metadata": {
    "id": "Qj9QJ-xEM_zi"
   },
   "source": [
    "__[1 балл] Задание 4:__  Модель выше работает только с титулом.\n",
    "\n",
    "- Залоггируйте её обучение на [WandB](https://wandb.ai/).\n",
    "- Соберите архитектуру, которая будет принимать на вход не только титул, но ещё и сниппет. В этой архитектуре должно происходить следующее:\n",
    "\n",
    "1. Общий слой `nn.Embedding` применяется к сниппету и титулу параллельно.\n",
    "2. Происходит усреднее по текстам.\n",
    "3. Вектора конкатятся в один длины 600\n",
    "4. Линейный слой делает классификацию\n",
    "\n",
    "Обучите эту модель. Сравните траектории обучения на WandB. Прикрепите ссылку на дашборд либо скришот к тетрадке.\n",
    "\n",
    "Даталоадеры придётся объявить заново с учётом сниппетов. Правда ли, что она бьёт на валидационной выборке модель, обученную только на титулах статей?"
   ]
  },
  {
   "cell_type": "code",
   "execution_count": 41,
   "metadata": {
    "execution": {
     "iopub.execute_input": "2024-12-14T16:35:31.385216Z",
     "iopub.status.busy": "2024-12-14T16:35:31.383352Z",
     "iopub.status.idle": "2024-12-14T16:39:10.169008Z",
     "shell.execute_reply": "2024-12-14T16:39:10.167845Z",
     "shell.execute_reply.started": "2024-12-14T16:35:31.385152Z"
    },
    "id": "pOJSMhYMM_zi",
    "is_executing": true,
    "tags": []
   },
   "outputs": [],
   "source": [
    "# Поменяю датасеты\n",
    "\n",
    "CLASSES_NUM = len(idx2tag)\n",
    "VOCAB_SIZE = 10000\n",
    "MAX_TITLE_LEN = 20\n",
    "MAX_SNIPPET_LEN = 100\n",
    "\n",
    "# словарь создаем по всей выборке\n",
    "vocabulary = create_vocab(' '.join(df_ria.title_clean.values))\n",
    "\n",
    "# объявляем датасеты\n",
    "train_dataset_snippet = NewsDataset(df_train.target_tags.values, df_train.title_clean.values, vocabulary, VOCAB_SIZE,\n",
    "                                    MAX_TITLE_LEN, CLASSES_NUM, df_train.snippet_clean.values, MAX_SNIPPET_LEN)\n",
    "val_dataset_snippet = NewsDataset(df_val.target_tags.values, df_val.title_clean.values, vocabulary, VOCAB_SIZE,\n",
    "                                  MAX_TITLE_LEN, CLASSES_NUM, df_val.snippet_clean.values, MAX_SNIPPET_LEN)\n",
    "test_dataset_snippet = NewsDataset(df_test.target_tags.values, df_test.title_clean.values, vocabulary, VOCAB_SIZE,\n",
    "                                   MAX_TITLE_LEN, CLASSES_NUM, df_test.snippet_clean.values, MAX_SNIPPET_LEN)"
   ]
  },
  {
   "cell_type": "code",
   "execution_count": 42,
   "metadata": {
    "collapsed": false,
    "execution": {
     "iopub.execute_input": "2024-12-14T16:39:10.171451Z",
     "iopub.status.busy": "2024-12-14T16:39:10.170365Z",
     "iopub.status.idle": "2024-12-14T16:39:10.185237Z",
     "shell.execute_reply": "2024-12-14T16:39:10.184145Z",
     "shell.execute_reply.started": "2024-12-14T16:39:10.171382Z"
    },
    "tags": []
   },
   "outputs": [],
   "source": [
    "train_dataloader_snippet = DataLoader(train_dataset_snippet, shuffle=True, batch_size=64, num_workers=4)\n",
    "val_dataloader_snippet = DataLoader(val_dataset_snippet, shuffle=False, batch_size=4096, num_workers=4)"
   ]
  },
  {
   "cell_type": "code",
   "execution_count": 43,
   "metadata": {
    "collapsed": false,
    "execution": {
     "iopub.execute_input": "2024-12-14T16:39:10.187493Z",
     "iopub.status.busy": "2024-12-14T16:39:10.186335Z",
     "iopub.status.idle": "2024-12-14T16:39:10.202869Z",
     "shell.execute_reply": "2024-12-14T16:39:10.201759Z",
     "shell.execute_reply.started": "2024-12-14T16:39:10.187415Z"
    },
    "tags": []
   },
   "outputs": [],
   "source": [
    "from torch import nn\n",
    "import torch.nn.functional as F\n",
    "\n",
    "\n",
    "class ConcatClassifier(nn.Module):\n",
    "\n",
    "    def __init__(self, vocab_size, embedding_dim, output_dim):\n",
    "        super().__init__()\n",
    "        self.embedding = nn.Embedding(vocab_size, embedding_dim)\n",
    "        self.fc = nn.Linear(2 * embedding_dim, output_dim)\n",
    "\n",
    "    def forward(self, title, snippet):\n",
    "        embedding_title = self.embedding(title)\n",
    "        embedding_snippet = self.embedding(snippet)\n",
    "\n",
    "        embedded_title = embedding_title.mean(dim=1)\n",
    "        embedded_snippet = embedding_snippet.mean(dim=1)\n",
    "\n",
    "        embedded_concat = torch.cat((embedded_title, embedded_snippet), dim=1)\n",
    "        return self.fc(embedded_concat)"
   ]
  },
  {
   "cell_type": "code",
   "execution_count": 44,
   "metadata": {
    "execution": {
     "iopub.execute_input": "2024-12-14T16:39:10.205458Z",
     "iopub.status.busy": "2024-12-14T16:39:10.204289Z",
     "iopub.status.idle": "2024-12-14T16:39:10.219853Z",
     "shell.execute_reply": "2024-12-14T16:39:10.218749Z",
     "shell.execute_reply.started": "2024-12-14T16:39:10.205382Z"
    },
    "tags": []
   },
   "outputs": [],
   "source": [
    "import pytorch_lightning as pl\n",
    "\n",
    "\n",
    "class TrainLightningModuleConcat(pl.LightningModule):\n",
    "    def __init__(self, model, learning_rate, criterion):\n",
    "        super().__init__()\n",
    "        self.model = model\n",
    "        self.criterion = criterion\n",
    "        self.learning_rate = learning_rate\n",
    "\n",
    "    def forward(self, title, snippet):\n",
    "        result = self.model(title, snippet)\n",
    "        return result\n",
    "\n",
    "    def configure_optimizers(self):\n",
    "        optimizer = torch.optim.Adam(self.parameters(), lr=self.learning_rate)\n",
    "        return optimizer\n",
    "\n",
    "    def training_step(self, train_batch, batch_idx):\n",
    "        title, snippet, target = train_batch\n",
    "        logits = self.model(title, snippet)\n",
    "        loss = self.criterion(logits, target)\n",
    "        self.log(\n",
    "            \"train_loss\", loss, prog_bar=True, logger=True\n",
    "        )\n",
    "        return loss\n",
    "\n",
    "    def validation_step(self, val_batch, batch_idx):\n",
    "        title, snippet, target = val_batch\n",
    "        logits = self.model(title, snippet)\n",
    "        loss = self.criterion(logits, target)\n",
    "        self.log(\n",
    "            \"val_loss\", loss, prog_bar=True, logger=True\n",
    "        )\n",
    "        return loss"
   ]
  },
  {
   "cell_type": "code",
   "execution_count": 47,
   "metadata": {
    "execution": {
     "iopub.execute_input": "2024-12-14T16:40:34.171165Z",
     "iopub.status.busy": "2024-12-14T16:40:34.169790Z",
     "iopub.status.idle": "2024-12-14T16:40:34.225415Z",
     "shell.execute_reply": "2024-12-14T16:40:34.224203Z",
     "shell.execute_reply.started": "2024-12-14T16:40:34.171123Z"
    }
   },
   "outputs": [],
   "source": [
    "wandb_logger = WandbLogger(\n",
    "    log_model='all'\n",
    ")"
   ]
  },
  {
   "cell_type": "code",
   "execution_count": 48,
   "metadata": {
    "collapsed": false,
    "execution": {
     "iopub.execute_input": "2024-12-14T16:40:35.036027Z",
     "iopub.status.busy": "2024-12-14T16:40:35.034551Z",
     "iopub.status.idle": "2024-12-14T16:40:35.081027Z",
     "shell.execute_reply": "2024-12-14T16:40:35.079964Z",
     "shell.execute_reply.started": "2024-12-14T16:40:35.035984Z"
    },
    "tags": []
   },
   "outputs": [],
   "source": [
    "run22 = wandb.init(project=\"iad-hw4\", name=\"baseline_with_concat_snippet\")"
   ]
  },
  {
   "cell_type": "code",
   "execution_count": 49,
   "metadata": {
    "collapsed": false,
    "execution": {
     "iopub.execute_input": "2024-12-14T16:40:36.817120Z",
     "iopub.status.busy": "2024-12-14T16:40:36.815958Z",
     "iopub.status.idle": "2024-12-14T16:43:37.400085Z",
     "shell.execute_reply": "2024-12-14T16:43:37.398742Z",
     "shell.execute_reply.started": "2024-12-14T16:40:36.817078Z"
    },
    "tags": []
   },
   "outputs": [
    {
     "name": "stderr",
     "output_type": "stream",
     "text": [
      "GPU available: True (cuda), used: True\n",
      "TPU available: False, using: 0 TPU cores\n",
      "HPU available: False, using: 0 HPUs\n",
      "/home/jupyter/.local/lib/python3.10/site-packages/pytorch_lightning/loggers/wandb.py:396: There is a wandb run already in progress and newly created instances of `WandbLogger` will reuse this run. If this is not desired, call `wandb.finish()` before instantiating `WandbLogger`.\n",
      "LOCAL_RANK: 0 - CUDA_VISIBLE_DEVICES: [0]\n",
      "\n",
      "  | Name      | Type             | Params | Mode \n",
      "-------------------------------------------------------\n",
      "0 | model     | ConcatClassifier | 4.0 M  | train\n",
      "1 | criterion | CrossEntropyLoss | 0      | train\n",
      "-------------------------------------------------------\n",
      "4.0 M     Trainable params\n",
      "0         Non-trainable params\n",
      "4.0 M     Total params\n",
      "15.806    Total estimated model params size (MB)\n",
      "4         Modules in train mode\n",
      "0         Modules in eval mode\n"
     ]
    },
    {
     "name": "stdout",
     "output_type": "stream",
     "text": [
      "Epoch 0: 100%|██████████| 3130/3130 [00:31<00:00, 97.96it/s, v_num=ivcr, train_loss=11.30]\n",
      "Validation: |          | 0/? [00:00<?, ?it/s]\u001B[A\n",
      "Validation:   0%|          | 0/11 [00:00<?, ?it/s]\u001B[A\n",
      "Validation DataLoader 0:   0%|          | 0/11 [00:00<?, ?it/s]\u001B[A\n",
      "Validation DataLoader 0:   9%|▉         | 1/11 [00:00<00:00, 42.24it/s]\u001B[A\n",
      "Validation DataLoader 0:  18%|█▊        | 2/11 [00:00<00:00, 39.55it/s]\u001B[A\n",
      "Validation DataLoader 0:  27%|██▋       | 3/11 [00:00<00:00, 37.49it/s]\u001B[A\n",
      "Validation DataLoader 0:  36%|███▋      | 4/11 [00:00<00:00, 36.59it/s]\u001B[A\n",
      "Validation DataLoader 0:  45%|████▌     | 5/11 [00:00<00:00, 28.33it/s]\u001B[A\n",
      "Validation DataLoader 0:  55%|█████▍    | 6/11 [00:00<00:00, 28.94it/s]\u001B[A\n",
      "Validation DataLoader 0:  64%|██████▎   | 7/11 [00:00<00:00, 30.23it/s]\u001B[A\n",
      "Validation DataLoader 0:  73%|███████▎  | 8/11 [00:00<00:00, 32.18it/s]\u001B[A\n",
      "Validation DataLoader 0:  82%|████████▏ | 9/11 [00:00<00:00, 33.15it/s]\u001B[A\n",
      "Validation DataLoader 0:  91%|█████████ | 10/11 [00:00<00:00, 34.64it/s]\u001B[A\n",
      "Validation DataLoader 0: 100%|██████████| 11/11 [00:00<00:00, 36.12it/s]\u001B[A\n",
      "Epoch 1: 100%|██████████| 3130/3130 [00:33<00:00, 94.53it/s, v_num=ivcr, train_loss=8.150, val_loss=10.30]\n",
      "Validation: |          | 0/? [00:00<?, ?it/s]\u001B[A\n",
      "Validation:   0%|          | 0/11 [00:00<?, ?it/s]\u001B[A\n",
      "Validation DataLoader 0:   0%|          | 0/11 [00:00<?, ?it/s]\u001B[A\n",
      "Validation DataLoader 0:   9%|▉         | 1/11 [00:00<00:00, 50.28it/s]\u001B[A\n",
      "Validation DataLoader 0:  18%|█▊        | 2/11 [00:00<00:00, 49.71it/s]\u001B[A\n",
      "Validation DataLoader 0:  27%|██▋       | 3/11 [00:00<00:00, 49.54it/s]\u001B[A\n",
      "Validation DataLoader 0:  36%|███▋      | 4/11 [00:00<00:00, 49.88it/s]\u001B[A\n",
      "Validation DataLoader 0:  45%|████▌     | 5/11 [00:00<00:00, 31.84it/s]\u001B[A\n",
      "Validation DataLoader 0:  55%|█████▍    | 6/11 [00:00<00:00, 33.88it/s]\u001B[A\n",
      "Validation DataLoader 0:  64%|██████▎   | 7/11 [00:00<00:00, 35.53it/s]\u001B[A\n",
      "Validation DataLoader 0:  73%|███████▎  | 8/11 [00:00<00:00, 37.41it/s]\u001B[A\n",
      "Validation DataLoader 0:  82%|████████▏ | 9/11 [00:00<00:00, 38.44it/s]\u001B[A\n",
      "Validation DataLoader 0:  91%|█████████ | 10/11 [00:00<00:00, 39.57it/s]\u001B[A\n",
      "Validation DataLoader 0: 100%|██████████| 11/11 [00:00<00:00, 41.21it/s]\u001B[A\n",
      "Epoch 2: 100%|██████████| 3130/3130 [00:33<00:00, 94.79it/s, v_num=ivcr, train_loss=7.550, val_loss=8.370]\n",
      "Validation: |          | 0/? [00:00<?, ?it/s]\u001B[A\n",
      "Validation:   0%|          | 0/11 [00:00<?, ?it/s]\u001B[A\n",
      "Validation DataLoader 0:   0%|          | 0/11 [00:00<?, ?it/s]\u001B[A\n",
      "Validation DataLoader 0:   9%|▉         | 1/11 [00:00<00:00, 43.31it/s]\u001B[A\n",
      "Validation DataLoader 0:  18%|█▊        | 2/11 [00:00<00:00, 17.41it/s]\u001B[A\n",
      "Validation DataLoader 0:  27%|██▋       | 3/11 [00:00<00:00, 20.94it/s]\u001B[A\n",
      "Validation DataLoader 0:  36%|███▋      | 4/11 [00:00<00:00, 23.57it/s]\u001B[A\n",
      "Validation DataLoader 0:  45%|████▌     | 5/11 [00:00<00:00, 23.74it/s]\u001B[A\n",
      "Validation DataLoader 0:  55%|█████▍    | 6/11 [00:00<00:00, 24.99it/s]\u001B[A\n",
      "Validation DataLoader 0:  64%|██████▎   | 7/11 [00:00<00:00, 26.73it/s]\u001B[A\n",
      "Validation DataLoader 0:  73%|███████▎  | 8/11 [00:00<00:00, 28.57it/s]\u001B[A\n",
      "Validation DataLoader 0:  82%|████████▏ | 9/11 [00:00<00:00, 29.94it/s]\u001B[A\n",
      "Validation DataLoader 0:  91%|█████████ | 10/11 [00:00<00:00, 31.22it/s]\u001B[A\n",
      "Validation DataLoader 0: 100%|██████████| 11/11 [00:00<00:00, 32.81it/s]\u001B[A\n",
      "Epoch 3: 100%|██████████| 3130/3130 [00:32<00:00, 94.99it/s, v_num=ivcr, train_loss=7.970, val_loss=7.570]\n",
      "Validation: |          | 0/? [00:00<?, ?it/s]\u001B[A\n",
      "Validation:   0%|          | 0/11 [00:00<?, ?it/s]\u001B[A\n",
      "Validation DataLoader 0:   0%|          | 0/11 [00:00<?, ?it/s]\u001B[A\n",
      "Validation DataLoader 0:   9%|▉         | 1/11 [00:00<00:00, 47.65it/s]\u001B[A\n",
      "Validation DataLoader 0:  18%|█▊        | 2/11 [00:00<00:00, 27.46it/s]\u001B[A\n",
      "Validation DataLoader 0:  27%|██▋       | 3/11 [00:00<00:00, 30.05it/s]\u001B[A\n",
      "Validation DataLoader 0:  36%|███▋      | 4/11 [00:00<00:00, 31.68it/s]\u001B[A\n",
      "Validation DataLoader 0:  45%|████▌     | 5/11 [00:00<00:00, 31.54it/s]\u001B[A\n",
      "Validation DataLoader 0:  55%|█████▍    | 6/11 [00:00<00:00, 28.28it/s]\u001B[A\n",
      "Validation DataLoader 0:  64%|██████▎   | 7/11 [00:00<00:00, 30.45it/s]\u001B[A\n",
      "Validation DataLoader 0:  73%|███████▎  | 8/11 [00:00<00:00, 32.45it/s]\u001B[A\n",
      "Validation DataLoader 0:  82%|████████▏ | 9/11 [00:00<00:00, 33.71it/s]\u001B[A\n",
      "Validation DataLoader 0:  91%|█████████ | 10/11 [00:00<00:00, 34.88it/s]\u001B[A\n",
      "Validation DataLoader 0: 100%|██████████| 11/11 [00:00<00:00, 36.47it/s]\u001B[A\n",
      "Epoch 4: 100%|██████████| 3130/3130 [00:32<00:00, 94.85it/s, v_num=ivcr, train_loss=6.190, val_loss=7.120]\n",
      "Validation: |          | 0/? [00:00<?, ?it/s]\u001B[A\n",
      "Validation:   0%|          | 0/11 [00:00<?, ?it/s]\u001B[A\n",
      "Validation DataLoader 0:   0%|          | 0/11 [00:00<?, ?it/s]\u001B[A\n",
      "Validation DataLoader 0:   9%|▉         | 1/11 [00:00<00:00, 42.67it/s]\u001B[A\n",
      "Validation DataLoader 0:  18%|█▊        | 2/11 [00:00<00:00, 42.87it/s]\u001B[A\n",
      "Validation DataLoader 0:  27%|██▋       | 3/11 [00:00<00:00, 41.39it/s]\u001B[A\n",
      "Validation DataLoader 0:  36%|███▋      | 4/11 [00:00<00:00, 40.88it/s]\u001B[A\n",
      "Validation DataLoader 0:  45%|████▌     | 5/11 [00:00<00:00, 33.58it/s]\u001B[A\n",
      "Validation DataLoader 0:  55%|█████▍    | 6/11 [00:00<00:00, 33.62it/s]\u001B[A\n",
      "Validation DataLoader 0:  64%|██████▎   | 7/11 [00:00<00:00, 35.33it/s]\u001B[A\n",
      "Validation DataLoader 0:  73%|███████▎  | 8/11 [00:00<00:00, 37.03it/s]\u001B[A\n",
      "Validation DataLoader 0:  82%|████████▏ | 9/11 [00:00<00:00, 37.85it/s]\u001B[A\n",
      "Validation DataLoader 0:  91%|█████████ | 10/11 [00:00<00:00, 39.26it/s]\u001B[A\n",
      "Validation DataLoader 0: 100%|██████████| 11/11 [00:00<00:00, 40.89it/s]\u001B[A\n",
      "Epoch 4: 100%|██████████| 3130/3130 [00:34<00:00, 91.00it/s, v_num=ivcr, train_loss=6.190, val_loss=6.830]"
     ]
    },
    {
     "name": "stderr",
     "output_type": "stream",
     "text": [
      "`Trainer.fit` stopped: `max_epochs=5` reached.\n"
     ]
    },
    {
     "name": "stdout",
     "output_type": "stream",
     "text": [
      "Epoch 4: 100%|██████████| 3130/3130 [00:35<00:00, 87.31it/s, v_num=ivcr, train_loss=6.190, val_loss=6.830]\n"
     ]
    }
   ],
   "source": [
    "EMBEDDING_DIM = 300\n",
    "EPOCHS = 5\n",
    "LR = 1e-3\n",
    "\n",
    "model_concat = ConcatClassifier(VOCAB_SIZE, EMBEDDING_DIM, CLASSES_NUM).to(device)\n",
    "criterion = torch.nn.CrossEntropyLoss()\n",
    "\n",
    "train_module = TrainLightningModuleConcat(model_concat, LR, criterion)\n",
    "\n",
    "trainer = pl.Trainer(\n",
    "    logger=wandb_logger,\n",
    "    accelerator=device.type,\n",
    "    max_epochs=EPOCHS\n",
    ")\n",
    "trainer.fit(train_module, train_dataloader_snippet, val_dataloader_snippet)"
   ]
  },
  {
   "cell_type": "code",
   "execution_count": 50,
   "metadata": {
    "collapsed": false,
    "execution": {
     "iopub.execute_input": "2024-12-14T16:43:37.403613Z",
     "iopub.status.busy": "2024-12-14T16:43:37.402569Z",
     "iopub.status.idle": "2024-12-14T16:43:43.122326Z",
     "shell.execute_reply": "2024-12-14T16:43:43.120681Z",
     "shell.execute_reply.started": "2024-12-14T16:43:37.403575Z"
    },
    "tags": []
   },
   "outputs": [
    {
     "name": "stderr",
     "output_type": "stream",
     "text": [
      "wandb:                                                                                \n",
      "wandb: \n",
      "wandb: Run history:\n",
      "wandb:               epoch ▁▁▁▁▁▁▁▁▃▃▃▃▃▃▃▃▃▃▅▅▅▅▅▅▅▆▆▆▆▆▆▆▆███████\n",
      "wandb:          train_loss █▅▅▅▃▃▄▄▄▁▄▄▃▃▃▃▃▃▂▃▃▂▂▂▂▂▃▂▁▂▂▂▂▂▁▂▁▂▂▃\n",
      "wandb: trainer/global_step ▁▁▁▁▁▂▂▂▂▂▃▃▃▃▃▃▄▄▄▄▄▄▄▄▄▅▅▅▅▅▆▆▆▇▇▇▇▇▇█\n",
      "wandb:            val_loss █▄▂▂▁\n",
      "wandb: \n",
      "wandb: Run summary:\n",
      "wandb:               epoch 4\n",
      "wandb:          train_loss 6.19036\n",
      "wandb: trainer/global_step 15649\n",
      "wandb:            val_loss 6.82983\n",
      "wandb: \n",
      "wandb: 🚀 View run baseline_with_concat_snippet at: https://wandb.ai/vldmrl-org/iad-hw4/runs/wr4hivcr\n",
      "wandb: ⭐️ View project at: https://wandb.ai/vldmrl-org/iad-hw4\n",
      "wandb: Synced 5 W&B file(s), 0 media file(s), 10 artifact file(s) and 0 other file(s)\n",
      "wandb: Find logs at: ./wandb/run-20241214_163910-wr4hivcr/logs\n"
     ]
    }
   ],
   "source": [
    "run22.finish()"
   ]
  },
  {
   "cell_type": "code",
   "execution_count": 51,
   "metadata": {
    "collapsed": false,
    "execution": {
     "iopub.execute_input": "2024-12-14T16:43:43.125570Z",
     "iopub.status.busy": "2024-12-14T16:43:43.124259Z",
     "iopub.status.idle": "2024-12-14T16:43:43.141736Z",
     "shell.execute_reply": "2024-12-14T16:43:43.140447Z",
     "shell.execute_reply.started": "2024-12-14T16:43:43.125519Z"
    },
    "tags": []
   },
   "outputs": [],
   "source": [
    "# Ссылка на отчёт\n",
    "# https://wandb.ai/vldmrl-org/iad-hw4/reports/iad-hw4-task-1-4--VmlldzoxMDU4OTU5NQ?accessToken=ebnhkzlhu5zdvgdl12fvyf6ph3hxa54er52t81v4e7r381uqd34j7d8wqc23habq"
   ]
  },
  {
   "cell_type": "markdown",
   "metadata": {
    "id": "qKdBptFbM_zi"
   },
   "source": [
    "## 1.5 Инференс и оценка качества моделей\n",
    "\n",
    "Для каждой новости нам надо предсказывать несколько тэгов. То есть в нашем случае настоящее значение таргета это множество из тэгов $y_i = [tag1, tag2, tag3]$. Прогноз модели также множество из тэгов $\\hat y_i = [tag1, tag4]$.\n",
    "\n",
    "Будем считать метрики качества следующим образом (под $|A|$ имеется в виду мощность множества, то есть число элементов в нём):\n",
    "\n",
    "$$\n",
    "Precision = \\frac{1}{n} \\sum_{i = 1}^n \\frac{|y_i \\cap \\hat{y}_i|}{|\\hat{y}_i|}\n",
    "$$\n",
    "\n",
    "$$\n",
    "Recall = \\frac{1}{n} \\sum_{i = 1}^n \\frac{|y_i \\cap \\hat{y}_i|}{|y_i|}\n",
    "$$\n",
    "\n",
    "Также можно считать аналог Accuracy, но это не самая удачная идея, так как у нас в выборке огромное число нулей и эта метрика при любом разумном пороге для принятия решения будет очень высокой.\n",
    "\n",
    "$$\n",
    "Exact Match = \\frac{1}{n} \\cdot \\frac{1}{k} \\sum_{i = 1}^n \\sum_{k=1}^K [y_{ij} = \\hat{y}_{ij}]\n",
    "$$"
   ]
  },
  {
   "cell_type": "code",
   "execution_count": 52,
   "metadata": {
    "execution": {
     "iopub.execute_input": "2024-12-14T16:43:43.144851Z",
     "iopub.status.busy": "2024-12-14T16:43:43.144277Z",
     "iopub.status.idle": "2024-12-14T16:43:43.170374Z",
     "shell.execute_reply": "2024-12-14T16:43:43.169139Z",
     "shell.execute_reply.started": "2024-12-14T16:43:43.144821Z"
    },
    "id": "tgBsB48FM_zi",
    "tags": []
   },
   "outputs": [],
   "source": [
    "def precision(target, y_pred):\n",
    "    num = ((y_pred == 1) & (target == 1)).sum(dim=1)\n",
    "    denum = (y_pred == 1).sum(dim=1)\n",
    "    return (num / (denum + 1e-5)).mean().item()\n",
    "\n",
    "\n",
    "def recall(target, y_pred):\n",
    "    num = ((y_pred == 1) & (target == 1)).sum(dim=1)\n",
    "    denum = (target == 1).sum(dim=1)\n",
    "    return (num / (denum + 1e-5)).mean().item()\n",
    "\n",
    "\n",
    "def exact_match(target, y_pred):\n",
    "    return (1. * (y_pred == target)).mean().item()"
   ]
  },
  {
   "cell_type": "markdown",
   "metadata": {
    "id": "eD9UeFECM_zi"
   },
   "source": [
    "Построим прогноз на тестовой выборке."
   ]
  },
  {
   "cell_type": "code",
   "execution_count": 53,
   "metadata": {
    "execution": {
     "iopub.execute_input": "2024-12-14T16:43:43.172852Z",
     "iopub.status.busy": "2024-12-14T16:43:43.171767Z",
     "iopub.status.idle": "2024-12-14T16:43:44.120014Z",
     "shell.execute_reply": "2024-12-14T16:43:44.118834Z",
     "shell.execute_reply.started": "2024-12-14T16:43:43.172798Z"
    },
    "id": "JHHDcGUDM_zi",
    "tags": []
   },
   "outputs": [],
   "source": [
    "test_dataloader = DataLoader(test_dataset, shuffle=False, batch_size=test_dataset.__len__())\n",
    "\n",
    "for title, target in test_dataloader:\n",
    "    logit = model_baseline(title)\n",
    "    pred_prob = F.softmax(logit, dim=1)\n",
    "\n",
    "assert pred_prob.shape[0] == test_dataset.__len__()"
   ]
  },
  {
   "cell_type": "markdown",
   "metadata": {
    "id": "mzbiK9llM_zi"
   },
   "source": [
    "Теперь выбирая различное значение порога, мы можем получать разные предсказания. Если взять очень большое значение порога, то метрики сильно просядут, так как во многих документах никакого прогноза не будет построено вообще."
   ]
  },
  {
   "cell_type": "code",
   "execution_count": 54,
   "metadata": {
    "colab": {
     "base_uri": "https://localhost:8080/"
    },
    "execution": {
     "iopub.execute_input": "2024-12-14T16:43:44.122469Z",
     "iopub.status.busy": "2024-12-14T16:43:44.121551Z",
     "iopub.status.idle": "2024-12-14T16:43:44.791178Z",
     "shell.execute_reply": "2024-12-14T16:43:44.789903Z",
     "shell.execute_reply.started": "2024-12-14T16:43:44.122417Z"
    },
    "id": "v2UI7GKqM_zj",
    "outputId": "c0385b7a-87c8-4e0a-914c-9ac9a93ce67a",
    "tags": []
   },
   "outputs": [
    {
     "name": "stdout",
     "output_type": "stream",
     "text": [
      "Exact Match: 0.996111273765564\n",
      "Precision: 0.3458990752696991\n",
      "Recall: 0.877444863319397\n"
     ]
    }
   ],
   "source": [
    "TRESHOLD = 0.01\n",
    "y_pred = 1 * (pred_prob > TRESHOLD)\n",
    "\n",
    "print('Exact Match:', exact_match(target, y_pred))\n",
    "print('Precision:', precision(target, y_pred))\n",
    "print('Recall:', recall(target, y_pred))"
   ]
  },
  {
   "cell_type": "code",
   "execution_count": 55,
   "metadata": {
    "execution": {
     "iopub.execute_input": "2024-12-14T16:43:44.793435Z",
     "iopub.status.busy": "2024-12-14T16:43:44.792591Z",
     "iopub.status.idle": "2024-12-14T16:43:45.456348Z",
     "shell.execute_reply": "2024-12-14T16:43:45.455273Z",
     "shell.execute_reply.started": "2024-12-14T16:43:44.793391Z"
    },
    "tags": []
   },
   "outputs": [
    {
     "name": "stdout",
     "output_type": "stream",
     "text": [
      "Exact Match: 0.0016850766260176897\n",
      "Precision: 0.0016850765096023679\n",
      "Recall: 0.9999951720237732\n"
     ]
    }
   ],
   "source": [
    "TRESHOLD = 0\n",
    "y_pred = 1 * (pred_prob > TRESHOLD)\n",
    "print('Exact Match:', exact_match(target, y_pred))\n",
    "print('Precision:', precision(target, y_pred))\n",
    "print('Recall:', recall(target, y_pred))"
   ]
  },
  {
   "cell_type": "code",
   "execution_count": 56,
   "metadata": {
    "colab": {
     "base_uri": "https://localhost:8080/"
    },
    "execution": {
     "iopub.execute_input": "2024-12-14T16:43:45.459242Z",
     "iopub.status.busy": "2024-12-14T16:43:45.457873Z",
     "iopub.status.idle": "2024-12-14T16:43:46.222616Z",
     "shell.execute_reply": "2024-12-14T16:43:46.221249Z",
     "shell.execute_reply.started": "2024-12-14T16:43:45.459193Z"
    },
    "id": "6v3CTYheM_zj",
    "outputId": "eec95f36-d6c3-444d-dc0d-0b7161d31a9d",
    "tags": []
   },
   "outputs": [
    {
     "name": "stdout",
     "output_type": "stream",
     "text": [
      "Exact Match: 0.9985899925231934\n",
      "Precision: 0.5837936997413635\n",
      "Recall: 0.7456861734390259\n"
     ]
    }
   ],
   "source": [
    "TRESHOLD = 0.05\n",
    "y_pred = 1 * (pred_prob > TRESHOLD)\n",
    "print('Exact Match:', exact_match(target, y_pred))\n",
    "print('Precision:', precision(target, y_pred))\n",
    "print('Recall:', recall(target, y_pred))"
   ]
  },
  {
   "cell_type": "code",
   "execution_count": 57,
   "metadata": {
    "execution": {
     "iopub.execute_input": "2024-12-14T16:43:46.226559Z",
     "iopub.status.busy": "2024-12-14T16:43:46.224314Z",
     "iopub.status.idle": "2024-12-14T16:43:46.868066Z",
     "shell.execute_reply": "2024-12-14T16:43:46.866804Z",
     "shell.execute_reply.started": "2024-12-14T16:43:46.226508Z"
    },
    "tags": []
   },
   "outputs": [
    {
     "name": "stdout",
     "output_type": "stream",
     "text": [
      "Exact Match: 0.9983960390090942\n",
      "Precision: 0.1557280272245407\n",
      "Recall: 0.09014224261045456\n"
     ]
    }
   ],
   "source": [
    "TRESHOLD = 0.5\n",
    "y_pred = 1 * (pred_prob > TRESHOLD)\n",
    "print('Exact Match:', exact_match(target, y_pred))\n",
    "print('Precision:', precision(target, y_pred))\n",
    "print('Recall:', recall(target, y_pred))"
   ]
  },
  {
   "cell_type": "code",
   "execution_count": 58,
   "metadata": {
    "colab": {
     "base_uri": "https://localhost:8080/"
    },
    "execution": {
     "iopub.execute_input": "2024-12-14T16:43:46.873680Z",
     "iopub.status.busy": "2024-12-14T16:43:46.872339Z",
     "iopub.status.idle": "2024-12-14T16:43:47.603780Z",
     "shell.execute_reply": "2024-12-14T16:43:47.602558Z",
     "shell.execute_reply.started": "2024-12-14T16:43:46.873633Z"
    },
    "id": "7mokX9IVM_zj",
    "outputId": "239c1246-ca6d-4579-be5b-5ebebb4fe526",
    "tags": []
   },
   "outputs": [
    {
     "name": "stdout",
     "output_type": "stream",
     "text": [
      "Exact Match: 0.998320460319519\n",
      "Precision: 0.009070091880857944\n",
      "Recall: 0.008888359181582928\n"
     ]
    }
   ],
   "source": [
    "TRESHOLD = 0.9\n",
    "y_pred = 1 * (pred_prob > TRESHOLD)\n",
    "\n",
    "print('Exact Match:', exact_match(target, y_pred))\n",
    "print('Precision:', precision(target, y_pred))\n",
    "print('Recall:', recall(target, y_pred))"
   ]
  },
  {
   "cell_type": "markdown",
   "metadata": {
    "id": "IUWFt7jjM_zj"
   },
   "source": [
    "Дальше мы будем строить довольно много прогнозов. Давайте напишем код для их строительства в виде функции. Обратите внимание, что на модели со снипетом она упадёт. Когда вы доберётесь до строительства прогнозов, функцию придётся немного модернизировать."
   ]
  },
  {
   "cell_type": "code",
   "execution_count": 59,
   "metadata": {
    "execution": {
     "iopub.execute_input": "2024-12-14T16:43:47.606874Z",
     "iopub.status.busy": "2024-12-14T16:43:47.605347Z",
     "iopub.status.idle": "2024-12-14T16:43:47.621304Z",
     "shell.execute_reply": "2024-12-14T16:43:47.620157Z",
     "shell.execute_reply.started": "2024-12-14T16:43:47.606827Z"
    },
    "id": "B3YFX4d2M_zk",
    "tags": []
   },
   "outputs": [],
   "source": [
    "def get_predict(model, dataset):\n",
    "    dataloader = DataLoader(dataset, shuffle=False, batch_size=dataset.__len__())\n",
    "\n",
    "    for title, target in dataloader:\n",
    "        logit = model(title)\n",
    "        pred_prob = F.softmax(logit, dim=1)\n",
    "\n",
    "    assert pred_prob.shape[0] == dataset.__len__()\n",
    "    return pred_prob, target"
   ]
  },
  {
   "cell_type": "markdown",
   "metadata": {
    "id": "g0n493n_M_zk"
   },
   "source": [
    "__[0.5 балла] Задание 5:__ Какая метрика для нас в этой задаче важнее? Точность или полнота? Почему?\n",
    "\n",
    "__ваш ответ:__ Скорее всего важнее будет полнота, поскольку в данной задачи не страшно будет добавить новости лишний тег. От этого максимум возникнет небольшая путаница среди пользователей, которая никак не навредит пользователям. Большой recall же даст статьям больше тегов, по которым их можно находить и, следовательно, получать больше доходов с рекламы. Скорее всего важнее будет полнота, поскольку в данной задачи не страшно будет добавить новости лишний тег. От этого максимум возникнет небольшая путаница среди пользователей, которая никак не навредит пользователям. Большой recall же даст статьям больше тегов, по которым их можно находить и, следовательно, получать больше доходов с рекламы.\n",
    "Но по этой метрике не получится подбирать порог, так как в таком случае будет достаточно просто поставить все возможные метки. Так"
   ]
  },
  {
   "cell_type": "markdown",
   "metadata": {
    "id": "6TFEvxI6M_zk"
   },
   "source": [
    "- Напишите функцию, которая будет подбирать оптимальное значение порога, оптимизирующее выбранную вами метрику.\n",
    "- Подберите значение порога на валидационной выборке.\n",
    "- Сравните модель со сниппетами и без сниппетов, используя выбранную вами метрику при оптимальном значении порога на тестовой выборке.\n",
    "- Какая из них оказалась лучше?"
   ]
  },
  {
   "cell_type": "code",
   "execution_count": 60,
   "metadata": {
    "execution": {
     "iopub.execute_input": "2024-12-14T16:43:47.623775Z",
     "iopub.status.busy": "2024-12-14T16:43:47.622602Z",
     "iopub.status.idle": "2024-12-14T16:43:47.755638Z",
     "shell.execute_reply": "2024-12-14T16:43:47.754182Z",
     "shell.execute_reply.started": "2024-12-14T16:43:47.623741Z"
    },
    "id": "BCq67JmUM_zl",
    "tags": []
   },
   "outputs": [],
   "source": [
    "def f_score(target, y_pred, beta=1):\n",
    "    p = precision(target, y_pred)\n",
    "    r = recall(target, y_pred)\n",
    "    f2 = (1 + beta ** 2) * (p * r) / ((beta ** 2 * p) + r + 1e-10)\n",
    "    return f2"
   ]
  },
  {
   "cell_type": "code",
   "execution_count": 61,
   "metadata": {
    "execution": {
     "iopub.execute_input": "2024-12-14T16:43:47.757918Z",
     "iopub.status.busy": "2024-12-14T16:43:47.757060Z",
     "iopub.status.idle": "2024-12-14T16:43:49.094947Z",
     "shell.execute_reply": "2024-12-14T16:43:49.093752Z",
     "shell.execute_reply.started": "2024-12-14T16:43:47.757886Z"
    },
    "tags": []
   },
   "outputs": [
    {
     "name": "stderr",
     "output_type": "stream",
     "text": [
      "wandb: Tracking run with wandb version 0.18.5\n",
      "wandb: Run data is saved locally in /home/jupyter/work/resources/hw2/wandb/run-20241214_164347-emrnx9xb\n",
      "wandb: Run `wandb offline` to turn off syncing.\n",
      "wandb: Syncing run inference\n",
      "wandb: ⭐️ View project at https://wandb.ai/vldmrl-org/iad-hw4\n",
      "wandb: 🚀 View run at https://wandb.ai/vldmrl-org/iad-hw4/runs/emrnx9xb\n"
     ]
    }
   ],
   "source": [
    "run_inf = wandb.init(project=\"iad-hw4\", name=\"inference\", resume=\"allow\")"
   ]
  },
  {
   "cell_type": "code",
   "execution_count": 62,
   "metadata": {
    "execution": {
     "iopub.execute_input": "2024-12-14T16:43:49.097921Z",
     "iopub.status.busy": "2024-12-14T16:43:49.096358Z",
     "iopub.status.idle": "2024-12-14T16:48:37.847239Z",
     "shell.execute_reply": "2024-12-14T16:48:37.845795Z",
     "shell.execute_reply.started": "2024-12-14T16:43:49.097886Z"
    },
    "tags": []
   },
   "outputs": [
    {
     "name": "stdout",
     "output_type": "stream",
     "text": [
      "best f2: 0.7720337524868681\n",
      "best threshold: 0.030303030303030304\n"
     ]
    }
   ],
   "source": [
    "\n",
    "# Почему-то использует cpu, хотя модель на gpu. Не перенёс данные?\n",
    "thresholds = np.linspace(0, 1, 100)\n",
    "best_f2_score_base = 0\n",
    "best_threshold_base = -1\n",
    "\n",
    "for threshold in thresholds:\n",
    "    pred_prob, target = get_predict(model_baseline, val_dataset)\n",
    "\n",
    "    y_pred = 1 * (pred_prob > threshold)\n",
    "\n",
    "    f2 = f_score(target, y_pred, beta=2)\n",
    "\n",
    "    if f2 > best_f2_score_base:\n",
    "        best_f2_score_base = f2\n",
    "        best_threshold_base = threshold\n",
    "\n",
    "print(\"best f2:\", best_f2_score_base)\n",
    "print(\"best threshold:\", best_threshold_base)"
   ]
  },
  {
   "cell_type": "code",
   "execution_count": 63,
   "metadata": {
    "execution": {
     "iopub.execute_input": "2024-12-14T16:48:37.850606Z",
     "iopub.status.busy": "2024-12-14T16:48:37.848977Z",
     "iopub.status.idle": "2024-12-14T16:48:39.793792Z",
     "shell.execute_reply": "2024-12-14T16:48:39.792610Z",
     "shell.execute_reply.started": "2024-12-14T16:48:37.850541Z"
    },
    "tags": []
   },
   "outputs": [
    {
     "name": "stdout",
     "output_type": "stream",
     "text": [
      "Exact Match: 0.9981899261474609\n",
      "Precision: 0.5158630609512329\n",
      "Recall: 0.7971473336219788\n",
      "f2 score: 0.7187634137645732\n"
     ]
    }
   ],
   "source": [
    "# baseline\n",
    "TRESHOLD = best_threshold_base\n",
    "\n",
    "pred_prob, target = get_predict(model_baseline, test_dataset)\n",
    "y_pred = 1 * (pred_prob > TRESHOLD)\n",
    "print('Exact Match:', exact_match(target, y_pred))\n",
    "print('Precision:', precision(target, y_pred))\n",
    "print('Recall:', recall(target, y_pred))\n",
    "print('f2 score:', f_score(target, y_pred, 2))"
   ]
  },
  {
   "cell_type": "code",
   "execution_count": 64,
   "metadata": {
    "collapsed": false,
    "execution": {
     "iopub.execute_input": "2024-12-14T16:48:39.796437Z",
     "iopub.status.busy": "2024-12-14T16:48:39.795277Z",
     "iopub.status.idle": "2024-12-14T16:48:40.002591Z",
     "shell.execute_reply": "2024-12-14T16:48:40.001334Z",
     "shell.execute_reply.started": "2024-12-14T16:48:39.796390Z"
    },
    "tags": []
   },
   "outputs": [],
   "source": [
    "def get_predict_snippet(model, dataset):\n",
    "    dataloader = DataLoader(dataset, shuffle=False, batch_size=dataset.__len__())\n",
    "\n",
    "    for title, snippet, target in dataloader:\n",
    "        logit = model(title, snippet)\n",
    "        pred_prob = F.softmax(logit, dim=1)\n",
    "\n",
    "    assert pred_prob.shape[0] == dataset.__len__()\n",
    "    return pred_prob, target"
   ]
  },
  {
   "cell_type": "code",
   "execution_count": 65,
   "metadata": {
    "execution": {
     "iopub.execute_input": "2024-12-14T16:48:40.004714Z",
     "iopub.status.busy": "2024-12-14T16:48:40.003857Z",
     "iopub.status.idle": "2024-12-14T16:56:41.812002Z",
     "shell.execute_reply": "2024-12-14T16:56:41.810932Z",
     "shell.execute_reply.started": "2024-12-14T16:48:40.004645Z"
    },
    "tags": []
   },
   "outputs": [
    {
     "name": "stdout",
     "output_type": "stream",
     "text": [
      "best f2: 0.8172553432740732\n",
      "best threshold: 0.030303030303030304\n"
     ]
    }
   ],
   "source": [
    "thresholds = np.linspace(0, 1, 100)\n",
    "best_f2_score_snippet = 0\n",
    "best_threshold_snippet = -1\n",
    "\n",
    "for threshold in thresholds:\n",
    "    pred_prob, target = get_predict_snippet(model_concat, val_dataset_snippet)\n",
    "\n",
    "    y_pred = 1 * (pred_prob > threshold)\n",
    "\n",
    "    f2 = f_score(target, y_pred, beta=2)\n",
    "\n",
    "    if f2 > best_f2_score_snippet:\n",
    "        best_f2_score_snippet = f2\n",
    "        best_threshold_snippet = threshold\n",
    "\n",
    "print(\"best f2:\", best_f2_score_snippet)\n",
    "print(\"best threshold:\", best_threshold_snippet)"
   ]
  },
  {
   "cell_type": "code",
   "execution_count": 66,
   "metadata": {
    "execution": {
     "iopub.execute_input": "2024-12-14T16:56:41.814942Z",
     "iopub.status.busy": "2024-12-14T16:56:41.813338Z",
     "iopub.status.idle": "2024-12-14T16:56:44.893700Z",
     "shell.execute_reply": "2024-12-14T16:56:44.892437Z",
     "shell.execute_reply.started": "2024-12-14T16:56:41.814891Z"
    },
    "tags": []
   },
   "outputs": [
    {
     "name": "stdout",
     "output_type": "stream",
     "text": [
      "Exact Match: 0.9983422160148621\n",
      "Precision: 0.5432437658309937\n",
      "Recall: 0.8528434038162231\n",
      "f2 score: 0.7655810607432414\n"
     ]
    }
   ],
   "source": [
    "# Со сниппетами не поменялся\n",
    "\n",
    "TRESHOLD = best_threshold_snippet\n",
    "\n",
    "pred_prob, target = get_predict_snippet(model_concat, test_dataset_snippet)\n",
    "y_pred = 1 * (pred_prob > TRESHOLD)\n",
    "print('Exact Match:', exact_match(target, y_pred))\n",
    "print('Precision:', precision(target, y_pred))\n",
    "print('Recall:', recall(target, y_pred))\n",
    "print('f2 score:', f_score(target, y_pred, 2))"
   ]
  },
  {
   "cell_type": "code",
   "execution_count": 67,
   "metadata": {
    "collapsed": false,
    "execution": {
     "iopub.execute_input": "2024-12-14T16:56:44.896509Z",
     "iopub.status.busy": "2024-12-14T16:56:44.895333Z",
     "iopub.status.idle": "2024-12-14T16:56:47.895681Z",
     "shell.execute_reply": "2024-12-14T16:56:47.894473Z",
     "shell.execute_reply.started": "2024-12-14T16:56:44.896462Z"
    },
    "tags": []
   },
   "outputs": [
    {
     "name": "stderr",
     "output_type": "stream",
     "text": [
      "wandb:                                                                                \n",
      "wandb: 🚀 View run inference at: https://wandb.ai/vldmrl-org/iad-hw4/runs/emrnx9xb\n",
      "wandb: ⭐️ View project at: https://wandb.ai/vldmrl-org/iad-hw4\n",
      "wandb: Synced 5 W&B file(s), 0 media file(s), 0 artifact file(s) and 0 other file(s)\n",
      "wandb: Find logs at: ./wandb/run-20241214_164347-emrnx9xb/logs\n"
     ]
    }
   ],
   "source": [
    "run_inf.finish()"
   ]
  },
  {
   "cell_type": "markdown",
   "metadata": {
    "id": "o-QRc-UXM_zl"
   },
   "source": [
    "Ответ: Модель со сниппетами оказалась лучше как с точки зрения лосса, так и метрик (f1 увеличилась с с 0.71 до 0.76)\n",
    "\n",
    "model_concat__[0.5 балла] Задание 6:__  Постройте прогнозы для отложенной выборки, которая представляет из себя пересечение сайта РИА-новостей и ВКонтакте. Проседает ли на ней качество модели? Насколько сильно?"
   ]
  },
  {
   "cell_type": "code",
   "execution_count": 68,
   "metadata": {
    "colab": {
     "base_uri": "https://localhost:8080/",
     "height": 206
    },
    "execution": {
     "iopub.execute_input": "2024-12-14T16:56:47.897767Z",
     "iopub.status.busy": "2024-12-14T16:56:47.897109Z",
     "iopub.status.idle": "2024-12-14T16:56:47.925346Z",
     "shell.execute_reply": "2024-12-14T16:56:47.924371Z",
     "shell.execute_reply.started": "2024-12-14T16:56:47.897715Z"
    },
    "id": "3Tc02SgLM_zl",
    "outputId": "5525c33a-b896-47bb-f9d5-9fb9c87f06f7",
    "tags": []
   },
   "outputs": [
    {
     "data": {
      "text/html": [
       "<div>\n",
       "<style scoped>\n",
       "    .dataframe tbody tr th:only-of-type {\n",
       "        vertical-align: middle;\n",
       "    }\n",
       "\n",
       "    .dataframe tbody tr th {\n",
       "        vertical-align: top;\n",
       "    }\n",
       "\n",
       "    .dataframe thead th {\n",
       "        text-align: right;\n",
       "    }\n",
       "</style>\n",
       "<table border=\"1\" class=\"dataframe\">\n",
       "  <thead>\n",
       "    <tr style=\"text-align: right;\">\n",
       "      <th></th>\n",
       "      <th>href</th>\n",
       "      <th>title_clean</th>\n",
       "      <th>target_tags</th>\n",
       "    </tr>\n",
       "  </thead>\n",
       "  <tbody>\n",
       "    <tr>\n",
       "      <th>0</th>\n",
       "      <td>/20181206/1547493936.html</td>\n",
       "      <td>эксперты определили самые бюджетные экзотическ...</td>\n",
       "      <td>[192, 332]</td>\n",
       "    </tr>\n",
       "    <tr>\n",
       "      <th>1</th>\n",
       "      <td>/20181206/1547516457.html</td>\n",
       "      <td>рада приняла закон расширяющий контролируемую ...</td>\n",
       "      <td>[390, 642]</td>\n",
       "    </tr>\n",
       "    <tr>\n",
       "      <th>2</th>\n",
       "      <td>/20181206/1547520788.html</td>\n",
       "      <td>россия оказалась родиной древнейших титанозавр...</td>\n",
       "      <td>[1169, 288]</td>\n",
       "    </tr>\n",
       "    <tr>\n",
       "      <th>3</th>\n",
       "      <td>/20181206/1547521406.html</td>\n",
       "      <td>школа в красноярске превратилась в хогвартс из...</td>\n",
       "      <td>[609]</td>\n",
       "    </tr>\n",
       "    <tr>\n",
       "      <th>4</th>\n",
       "      <td>/20181206/1547522342.html</td>\n",
       "      <td>рада решила не продлевать договор о дружбе и с...</td>\n",
       "      <td>[778, 642]</td>\n",
       "    </tr>\n",
       "  </tbody>\n",
       "</table>\n",
       "</div>"
      ],
      "text/plain": [
       "                        href  ...  target_tags\n",
       "0  /20181206/1547493936.html  ...   [192, 332]\n",
       "1  /20181206/1547516457.html  ...   [390, 642]\n",
       "2  /20181206/1547520788.html  ...  [1169, 288]\n",
       "3  /20181206/1547521406.html  ...        [609]\n",
       "4  /20181206/1547522342.html  ...   [778, 642]\n",
       "\n",
       "[5 rows x 3 columns]"
      ]
     },
     "execution_count": 68,
     "metadata": {},
     "output_type": "execute_result"
    }
   ],
   "source": [
    "df_oob.head()"
   ]
  },
  {
   "cell_type": "code",
   "execution_count": 69,
   "metadata": {
    "execution": {
     "iopub.execute_input": "2024-12-14T16:56:47.927550Z",
     "iopub.status.busy": "2024-12-14T16:56:47.926585Z",
     "iopub.status.idle": "2024-12-14T16:56:48.196186Z",
     "shell.execute_reply": "2024-12-14T16:56:48.194870Z",
     "shell.execute_reply.started": "2024-12-14T16:56:47.927515Z"
    },
    "id": "1Z5AvLtcM_zl",
    "tags": []
   },
   "outputs": [],
   "source": [
    "oob_dataset = NewsDataset(df_oob.target_tags.values, df_oob.title_clean.values, vocabulary, VOCAB_SIZE, MAX_TITLE_LEN,\n",
    "                          CLASSES_NUM)"
   ]
  },
  {
   "cell_type": "code",
   "execution_count": 70,
   "metadata": {
    "collapsed": false,
    "execution": {
     "iopub.execute_input": "2024-12-14T16:56:48.198904Z",
     "iopub.status.busy": "2024-12-14T16:56:48.197682Z",
     "iopub.status.idle": "2024-12-14T16:56:48.453923Z",
     "shell.execute_reply": "2024-12-14T16:56:48.452692Z",
     "shell.execute_reply.started": "2024-12-14T16:56:48.198869Z"
    },
    "tags": []
   },
   "outputs": [
    {
     "name": "stdout",
     "output_type": "stream",
     "text": [
      "Exact Match: 0.9979013800621033\n",
      "Precision: 0.44545894861221313\n",
      "Recall: 0.7395898103713989\n",
      "f2 score: 0.6533147333188314\n"
     ]
    }
   ],
   "source": [
    "pred_prob, target = get_predict(model_baseline, oob_dataset)\n",
    "y_pred = 1 * (pred_prob > TRESHOLD)\n",
    "print('Exact Match:', exact_match(target, y_pred))\n",
    "print('Precision:', precision(target, y_pred))\n",
    "print('Recall:', recall(target, y_pred))\n",
    "print('f2 score:', f_score(target, y_pred, 2))"
   ]
  },
  {
   "cell_type": "markdown",
   "metadata": {},
   "source": [
    "Ответ: Да, качество проседает. Нормально так проседает. С 0.7176257120249016 до 0.6494800412789697. Возможно нужно подобрать новый порог"
   ]
  },
  {
   "cell_type": "markdown",
   "metadata": {
    "id": "EmFzWAHtM_zl"
   },
   "source": [
    "Давайте модернизируем наши архитектуры настолько, насколько это возможно.\n",
    "\n",
    "__[0.9 балла] Бонусное задание 1:__ Попробуйте собрать более большую архитектуру. Например, сразу после слоя эмбеддингов вы можете попробовать добавить свёрточные слои (`Conv1D` свёртки). Поиграйте с оптимизатором и тп.\n",
    "\n",
    "Опишите результаты своих экспериментов ниже. Расскажите, что конкретно вы делали и удалось ли вам улучшить качество модели. Все траектории обучения залоггируйте на WandB.   "
   ]
  },
  {
   "cell_type": "markdown",
   "metadata": {
    "id": "obvk588CM_zl"
   },
   "source": [
    "__Ваш лог экспериментов:__\n",
    "\n",
    "Сразу все: \n",
    "https://wandb.ai/vldmrl-org/iad-hw4/reports/ida-hw4-all--VmlldzoxMDU5OTMxMQ\n",
    "\n",
    "С оптимизаторами играться нет желания, обычно, когда я вместо Adam'a пытался брать более простые оптимизаторы качество падало. Но попробую взять несколько вариантов архитектур (а именно 3, так как в задании не требуется сделать прям много экспериментов)\n",
    "\n",
    "1) 1 слой свёртки\n",
    "1) 2 слоя свёртки\n",
    "2) 2 слоя вёртки с residual connection\n",
    "\n",
    "Обе модели не слишком глубокие, чтобы модель обучилась. Оставлю количество эпох на 5, так как в любом случае для обучение нужно 10+\n",
    "А ещё у меня упало ядро при инференсе последней модели, так что я не хочу ждать по 10 эпох снова..."
   ]
  },
  {
   "cell_type": "code",
   "execution_count": 71,
   "metadata": {
    "execution": {
     "iopub.execute_input": "2024-12-14T16:56:48.456650Z",
     "iopub.status.busy": "2024-12-14T16:56:48.455252Z",
     "iopub.status.idle": "2024-12-14T16:56:48.471531Z",
     "shell.execute_reply": "2024-12-14T16:56:48.470455Z",
     "shell.execute_reply.started": "2024-12-14T16:56:48.456584Z"
    },
    "tags": []
   },
   "outputs": [],
   "source": [
    "# Буду модернизировать способ со сниппетами\n",
    "# Conv 1 слой\n",
    "from torch import nn\n",
    "import torch.nn.functional as F\n",
    "\n",
    "\n",
    "class Conv1Classifier(nn.Module):\n",
    "\n",
    "    def __init__(self, vocab_size, embedding_dim, output_dim):\n",
    "        super().__init__()\n",
    "        self.embedding = nn.Embedding(vocab_size, embedding_dim)\n",
    "        self.conv1 = nn.Conv1d(embedding_dim, 2 * embedding_dim, 3, padding=1)\n",
    "        self.fc = nn.Linear(2 * 2 * embedding_dim, output_dim)\n",
    "\n",
    "    def forward(self, title, snippet):\n",
    "        embedding_title = self.embedding(title).transpose(1, 2)\n",
    "        embedding_snippet = self.embedding(snippet).transpose(1, 2)\n",
    "        \n",
    "        conv1_title = self.conv1(embedding_title)\n",
    "        conv1_snippet = self.conv1(embedding_snippet)\n",
    "\n",
    "        embedded_title = conv1_title.mean(dim=2)\n",
    "        embedded_snippet = conv1_snippet.mean(dim=2)\n",
    "\n",
    "        embedded_concat = torch.cat((embedded_title, embedded_snippet), dim=1)\n",
    "        return self.fc(embedded_concat)"
   ]
  },
  {
   "cell_type": "code",
   "execution_count": 72,
   "metadata": {
    "execution": {
     "iopub.execute_input": "2024-12-14T16:56:48.473445Z",
     "iopub.status.busy": "2024-12-14T16:56:48.472611Z",
     "iopub.status.idle": "2024-12-14T16:56:48.485669Z",
     "shell.execute_reply": "2024-12-14T16:56:48.484638Z",
     "shell.execute_reply.started": "2024-12-14T16:56:48.473400Z"
    },
    "tags": []
   },
   "outputs": [],
   "source": [
    "wandb_logger = WandbLogger(\n",
    "    log_model='all'\n",
    ")"
   ]
  },
  {
   "cell_type": "code",
   "execution_count": 73,
   "metadata": {
    "collapsed": false,
    "execution": {
     "iopub.execute_input": "2024-12-14T16:56:48.487302Z",
     "iopub.status.busy": "2024-12-14T16:56:48.486823Z",
     "iopub.status.idle": "2024-12-14T16:56:49.816715Z",
     "shell.execute_reply": "2024-12-14T16:56:49.815438Z",
     "shell.execute_reply.started": "2024-12-14T16:56:48.487272Z"
    },
    "tags": []
   },
   "outputs": [
    {
     "name": "stderr",
     "output_type": "stream",
     "text": [
      "wandb: Tracking run with wandb version 0.18.5\n",
      "wandb: Run data is saved locally in /home/jupyter/work/resources/hw2/wandb/run-20241214_165648-du6xx5xk\n",
      "wandb: Run `wandb offline` to turn off syncing.\n",
      "wandb: Syncing run Convolution1l_with_snippet\n",
      "wandb: ⭐️ View project at https://wandb.ai/vldmrl-org/iad-hw4\n",
      "wandb: 🚀 View run at https://wandb.ai/vldmrl-org/iad-hw4/runs/du6xx5xk\n"
     ]
    }
   ],
   "source": [
    "run_conv1l = wandb.init(project=\"iad-hw4\", name=\"Convolution1l_with_snippet\",  resume=\"allow\")"
   ]
  },
  {
   "cell_type": "code",
   "execution_count": 74,
   "metadata": {
    "collapsed": false,
    "execution": {
     "iopub.execute_input": "2024-12-14T16:56:49.819339Z",
     "iopub.status.busy": "2024-12-14T16:56:49.818099Z",
     "iopub.status.idle": "2024-12-14T17:00:50.356312Z",
     "shell.execute_reply": "2024-12-14T17:00:50.355118Z",
     "shell.execute_reply.started": "2024-12-14T16:56:49.819305Z"
    },
    "tags": []
   },
   "outputs": [
    {
     "name": "stderr",
     "output_type": "stream",
     "text": [
      "GPU available: True (cuda), used: True\n",
      "TPU available: False, using: 0 TPU cores\n",
      "HPU available: False, using: 0 HPUs\n",
      "/home/jupyter/.local/lib/python3.10/site-packages/pytorch_lightning/loggers/wandb.py:396: There is a wandb run already in progress and newly created instances of `WandbLogger` will reuse this run. If this is not desired, call `wandb.finish()` before instantiating `WandbLogger`.\n",
      "LOCAL_RANK: 0 - CUDA_VISIBLE_DEVICES: [0]\n",
      "\n",
      "  | Name      | Type             | Params | Mode \n",
      "-------------------------------------------------------\n",
      "0 | model     | Conv1Classifier  | 5.4 M  | train\n",
      "1 | criterion | CrossEntropyLoss | 0      | train\n",
      "-------------------------------------------------------\n",
      "5.4 M     Trainable params\n",
      "0         Non-trainable params\n",
      "5.4 M     Total params\n",
      "21.767    Total estimated model params size (MB)\n",
      "5         Modules in train mode\n",
      "0         Modules in eval mode\n"
     ]
    },
    {
     "name": "stdout",
     "output_type": "stream",
     "text": [
      "Epoch 0: 100%|██████████| 3130/3130 [00:42<00:00, 73.30it/s, v_num=x5xk, train_loss=9.180]\n",
      "Validation: |          | 0/? [00:00<?, ?it/s]\u001B[A\n",
      "Validation:   0%|          | 0/11 [00:00<?, ?it/s]\u001B[A\n",
      "Validation DataLoader 0:   0%|          | 0/11 [00:00<?, ?it/s]\u001B[A\n",
      "Validation DataLoader 0:   9%|▉         | 1/11 [00:00<00:00, 39.17it/s]\u001B[A\n",
      "Validation DataLoader 0:  18%|█▊        | 2/11 [00:00<00:00, 24.23it/s]\u001B[A\n",
      "Validation DataLoader 0:  27%|██▋       | 3/11 [00:00<00:00, 21.34it/s]\u001B[A\n",
      "Validation DataLoader 0:  36%|███▋      | 4/11 [00:00<00:00, 19.49it/s]\u001B[A\n",
      "Validation DataLoader 0:  45%|████▌     | 5/11 [00:00<00:00, 19.22it/s]\u001B[A\n",
      "Validation DataLoader 0:  55%|█████▍    | 6/11 [00:00<00:00, 18.86it/s]\u001B[A\n",
      "Validation DataLoader 0:  64%|██████▎   | 7/11 [00:00<00:00, 18.56it/s]\u001B[A\n",
      "Validation DataLoader 0:  73%|███████▎  | 8/11 [00:00<00:00, 18.36it/s]\u001B[A\n",
      "Validation DataLoader 0:  82%|████████▏ | 9/11 [00:00<00:00, 18.23it/s]\u001B[A\n",
      "Validation DataLoader 0:  91%|█████████ | 10/11 [00:00<00:00, 18.14it/s]\u001B[A\n",
      "Validation DataLoader 0: 100%|██████████| 11/11 [00:00<00:00, 17.89it/s]\u001B[A\n",
      "Epoch 1: 100%|██████████| 3130/3130 [00:43<00:00, 71.60it/s, v_num=x5xk, train_loss=7.380, val_loss=9.140]\n",
      "Validation: |          | 0/? [00:00<?, ?it/s]\u001B[A\n",
      "Validation:   0%|          | 0/11 [00:00<?, ?it/s]\u001B[A\n",
      "Validation DataLoader 0:   0%|          | 0/11 [00:00<?, ?it/s]\u001B[A\n",
      "Validation DataLoader 0:   9%|▉         | 1/11 [00:00<00:00, 37.40it/s]\u001B[A\n",
      "Validation DataLoader 0:  18%|█▊        | 2/11 [00:00<00:00, 24.61it/s]\u001B[A\n",
      "Validation DataLoader 0:  27%|██▋       | 3/11 [00:00<00:00, 20.70it/s]\u001B[A\n",
      "Validation DataLoader 0:  36%|███▋      | 4/11 [00:00<00:00, 19.47it/s]\u001B[A\n",
      "Validation DataLoader 0:  45%|████▌     | 5/11 [00:00<00:00, 18.87it/s]\u001B[A\n",
      "Validation DataLoader 0:  55%|█████▍    | 6/11 [00:00<00:00, 18.59it/s]\u001B[A\n",
      "Validation DataLoader 0:  64%|██████▎   | 7/11 [00:00<00:00, 18.38it/s]\u001B[A\n",
      "Validation DataLoader 0:  73%|███████▎  | 8/11 [00:00<00:00, 18.23it/s]\u001B[A\n",
      "Validation DataLoader 0:  82%|████████▏ | 9/11 [00:00<00:00, 18.10it/s]\u001B[A\n",
      "Validation DataLoader 0:  91%|█████████ | 10/11 [00:00<00:00, 18.01it/s]\u001B[A\n",
      "Validation DataLoader 0: 100%|██████████| 11/11 [00:00<00:00, 17.99it/s]\u001B[A\n",
      "Epoch 2: 100%|██████████| 3130/3130 [00:43<00:00, 71.15it/s, v_num=x5xk, train_loss=7.560, val_loss=8.210]\n",
      "Validation: |          | 0/? [00:00<?, ?it/s]\u001B[A\n",
      "Validation:   0%|          | 0/11 [00:00<?, ?it/s]\u001B[A\n",
      "Validation DataLoader 0:   0%|          | 0/11 [00:00<?, ?it/s]\u001B[A\n",
      "Validation DataLoader 0:   9%|▉         | 1/11 [00:00<00:00, 45.30it/s]\u001B[A\n",
      "Validation DataLoader 0:  18%|█▊        | 2/11 [00:00<00:00, 25.65it/s]\u001B[A\n",
      "Validation DataLoader 0:  27%|██▋       | 3/11 [00:00<00:00, 21.36it/s]\u001B[A\n",
      "Validation DataLoader 0:  36%|███▋      | 4/11 [00:00<00:00, 19.82it/s]\u001B[A\n",
      "Validation DataLoader 0:  45%|████▌     | 5/11 [00:00<00:00, 19.39it/s]\u001B[A\n",
      "Validation DataLoader 0:  55%|█████▍    | 6/11 [00:00<00:00, 19.03it/s]\u001B[A\n",
      "Validation DataLoader 0:  64%|██████▎   | 7/11 [00:00<00:00, 18.76it/s]\u001B[A\n",
      "Validation DataLoader 0:  73%|███████▎  | 8/11 [00:00<00:00, 18.56it/s]\u001B[A\n",
      "Validation DataLoader 0:  82%|████████▏ | 9/11 [00:00<00:00, 18.40it/s]\u001B[A\n",
      "Validation DataLoader 0:  91%|█████████ | 10/11 [00:00<00:00, 18.27it/s]\u001B[A\n",
      "Validation DataLoader 0: 100%|██████████| 11/11 [00:00<00:00, 18.25it/s]\u001B[A\n",
      "Epoch 3: 100%|██████████| 3130/3130 [00:43<00:00, 71.19it/s, v_num=x5xk, train_loss=6.630, val_loss=7.650]\n",
      "Validation: |          | 0/? [00:00<?, ?it/s]\u001B[A\n",
      "Validation:   0%|          | 0/11 [00:00<?, ?it/s]\u001B[A\n",
      "Validation DataLoader 0:   0%|          | 0/11 [00:00<?, ?it/s]\u001B[A\n",
      "Validation DataLoader 0:   9%|▉         | 1/11 [00:00<00:00, 50.52it/s]\u001B[A\n",
      "Validation DataLoader 0:  18%|█▊        | 2/11 [00:00<00:00, 25.46it/s]\u001B[A\n",
      "Validation DataLoader 0:  27%|██▋       | 3/11 [00:00<00:00, 21.38it/s]\u001B[A\n",
      "Validation DataLoader 0:  36%|███▋      | 4/11 [00:00<00:00, 19.99it/s]\u001B[A\n",
      "Validation DataLoader 0:  45%|████▌     | 5/11 [00:00<00:00, 19.38it/s]\u001B[A\n",
      "Validation DataLoader 0:  55%|█████▍    | 6/11 [00:00<00:00, 19.01it/s]\u001B[A\n",
      "Validation DataLoader 0:  64%|██████▎   | 7/11 [00:00<00:00, 18.72it/s]\u001B[A\n",
      "Validation DataLoader 0:  73%|███████▎  | 8/11 [00:00<00:00, 18.51it/s]\u001B[A\n",
      "Validation DataLoader 0:  82%|████████▏ | 9/11 [00:00<00:00, 18.37it/s]\u001B[A\n",
      "Validation DataLoader 0:  91%|█████████ | 10/11 [00:00<00:00, 18.22it/s]\u001B[A\n",
      "Validation DataLoader 0: 100%|██████████| 11/11 [00:00<00:00, 18.23it/s]\u001B[A\n",
      "Epoch 4: 100%|██████████| 3130/3130 [00:43<00:00, 71.46it/s, v_num=x5xk, train_loss=7.830, val_loss=7.180]\n",
      "Validation: |          | 0/? [00:00<?, ?it/s]\u001B[A\n",
      "Validation:   0%|          | 0/11 [00:00<?, ?it/s]\u001B[A\n",
      "Validation DataLoader 0:   0%|          | 0/11 [00:00<?, ?it/s]\u001B[A\n",
      "Validation DataLoader 0:   9%|▉         | 1/11 [00:00<00:00, 51.77it/s]\u001B[A\n",
      "Validation DataLoader 0:  18%|█▊        | 2/11 [00:00<00:00, 26.14it/s]\u001B[A\n",
      "Validation DataLoader 0:  27%|██▋       | 3/11 [00:00<00:00, 21.71it/s]\u001B[A\n",
      "Validation DataLoader 0:  36%|███▋      | 4/11 [00:00<00:00, 20.09it/s]\u001B[A\n",
      "Validation DataLoader 0:  45%|████▌     | 5/11 [00:00<00:00, 19.35it/s]\u001B[A\n",
      "Validation DataLoader 0:  55%|█████▍    | 6/11 [00:00<00:00, 18.98it/s]\u001B[A\n",
      "Validation DataLoader 0:  64%|██████▎   | 7/11 [00:00<00:00, 18.72it/s]\u001B[A\n",
      "Validation DataLoader 0:  73%|███████▎  | 8/11 [00:00<00:00, 18.52it/s]\u001B[A\n",
      "Validation DataLoader 0:  82%|████████▏ | 9/11 [00:00<00:00, 18.36it/s]\u001B[A\n",
      "Validation DataLoader 0:  91%|█████████ | 10/11 [00:00<00:00, 18.23it/s]\u001B[A\n",
      "Validation DataLoader 0: 100%|██████████| 11/11 [00:00<00:00, 18.17it/s]\u001B[A\n",
      "Epoch 4: 100%|██████████| 3130/3130 [00:45<00:00, 68.71it/s, v_num=x5xk, train_loss=7.830, val_loss=6.900]"
     ]
    },
    {
     "name": "stderr",
     "output_type": "stream",
     "text": [
      "`Trainer.fit` stopped: `max_epochs=5` reached.\n"
     ]
    },
    {
     "name": "stdout",
     "output_type": "stream",
     "text": [
      "Epoch 4: 100%|██████████| 3130/3130 [00:47<00:00, 66.13it/s, v_num=x5xk, train_loss=7.830, val_loss=6.900]\n"
     ]
    }
   ],
   "source": [
    "EMBEDDING_DIM = 300\n",
    "EPOCHS = 5\n",
    "LR = 1e-3\n",
    "\n",
    "model_1conv = Conv1Classifier(VOCAB_SIZE, EMBEDDING_DIM, CLASSES_NUM).to(device)\n",
    "criterion = torch.nn.CrossEntropyLoss()\n",
    "\n",
    "train_module = TrainLightningModuleConcat(model_1conv, LR, criterion)\n",
    "\n",
    "trainer = pl.Trainer(\n",
    "    logger=wandb_logger,\n",
    "    accelerator=device.type,\n",
    "    max_epochs=EPOCHS\n",
    ")\n",
    "trainer.fit(train_module, train_dataloader_snippet, val_dataloader_snippet)"
   ]
  },
  {
   "cell_type": "code",
   "execution_count": 75,
   "metadata": {
    "collapsed": false,
    "execution": {
     "iopub.execute_input": "2024-12-14T17:00:50.359383Z",
     "iopub.status.busy": "2024-12-14T17:00:50.358233Z",
     "iopub.status.idle": "2024-12-14T17:00:57.835283Z",
     "shell.execute_reply": "2024-12-14T17:00:57.834004Z",
     "shell.execute_reply.started": "2024-12-14T17:00:50.359325Z"
    },
    "tags": []
   },
   "outputs": [
    {
     "name": "stderr",
     "output_type": "stream",
     "text": [
      "wandb:                                                                                \n",
      "wandb: \n",
      "wandb: Run history:\n",
      "wandb:               epoch ▁▁▁▁▁▁▃▃▃▃▃▃▃▃▃▃▃▅▅▅▅▅▅▅▅▆▆▆▆▆▆▆▆███████\n",
      "wandb:          train_loss █▇▇▇▄▄▃▄▅▅▄▂▃▄▃▂▄▂▅▄▃▃▂▃▃▂▃▃▄▃▂▄▂▂▃▁▁▁▃▃\n",
      "wandb: trainer/global_step ▁▁▁▂▂▂▂▂▂▃▃▃▄▄▄▄▄▄▄▄▅▅▅▅▅▅▅▆▆▆▆▆▇▇▇▇▇███\n",
      "wandb:            val_loss █▅▃▂▁\n",
      "wandb: \n",
      "wandb: Run summary:\n",
      "wandb:               epoch 4\n",
      "wandb:          train_loss 7.82926\n",
      "wandb: trainer/global_step 15649\n",
      "wandb:            val_loss 6.90402\n",
      "wandb: \n",
      "wandb: 🚀 View run Convolution1l_with_snippet at: https://wandb.ai/vldmrl-org/iad-hw4/runs/du6xx5xk\n",
      "wandb: ⭐️ View project at: https://wandb.ai/vldmrl-org/iad-hw4\n",
      "wandb: Synced 5 W&B file(s), 0 media file(s), 10 artifact file(s) and 0 other file(s)\n",
      "wandb: Find logs at: ./wandb/run-20241214_165648-du6xx5xk/logs\n"
     ]
    }
   ],
   "source": [
    "run_conv1l.finish()"
   ]
  },
  {
   "cell_type": "code",
   "execution_count": 76,
   "metadata": {
    "collapsed": false,
    "execution": {
     "iopub.execute_input": "2024-12-14T17:00:57.844122Z",
     "iopub.status.busy": "2024-12-14T17:00:57.843269Z",
     "iopub.status.idle": "2024-12-14T17:00:57.880726Z",
     "shell.execute_reply": "2024-12-14T17:00:57.879454Z",
     "shell.execute_reply.started": "2024-12-14T17:00:57.844088Z"
    },
    "tags": []
   },
   "outputs": [],
   "source": [
    "# Буду модернизировать способ со сниппетами\n",
    "# Conv 2 слоя\n",
    "from torch import nn\n",
    "import torch.nn.functional as F\n",
    "\n",
    "\n",
    "class Conv2Classifier(nn.Module):\n",
    "\n",
    "    def __init__(self, vocab_size, embedding_dim, output_dim):\n",
    "        super().__init__()\n",
    "        self.embedding = nn.Embedding(vocab_size, embedding_dim)\n",
    "        self.conv1 = nn.Conv1d(embedding_dim, 2 * embedding_dim, 3, padding=1)\n",
    "        self.conv2 = nn.Conv1d(2 * embedding_dim, 4 * embedding_dim, 3, padding=1)\n",
    "        self.fc = nn.Linear(2 * 4 * embedding_dim, output_dim)\n",
    "\n",
    "    def forward(self, title, snippet):\n",
    "        embedding_title = self.embedding(title).transpose(1, 2)\n",
    "        embedding_snippet = self.embedding(snippet).transpose(1, 2)\n",
    "        \n",
    "        conv1_title = self.conv1(embedding_title)\n",
    "        conv1_snippet = self.conv1(embedding_snippet)\n",
    "        \n",
    "        conv2_title = self.conv2(conv1_title)\n",
    "        conv2_snippet = self.conv2(conv1_snippet)\n",
    "\n",
    "        embedded_title = conv2_title.mean(dim=2)\n",
    "        embedded_snippet = conv2_snippet.mean(dim=2)\n",
    "\n",
    "        embedded_concat = torch.cat((embedded_title, embedded_snippet), dim=1)\n",
    "        return self.fc(embedded_concat)"
   ]
  },
  {
   "cell_type": "code",
   "execution_count": 77,
   "metadata": {
    "execution": {
     "iopub.execute_input": "2024-12-14T17:00:57.883246Z",
     "iopub.status.busy": "2024-12-14T17:00:57.882086Z",
     "iopub.status.idle": "2024-12-14T17:00:58.006298Z",
     "shell.execute_reply": "2024-12-14T17:00:58.004985Z",
     "shell.execute_reply.started": "2024-12-14T17:00:57.883208Z"
    },
    "tags": []
   },
   "outputs": [],
   "source": [
    "wandb_logger = WandbLogger(\n",
    "    log_model='all'\n",
    ")"
   ]
  },
  {
   "cell_type": "code",
   "execution_count": 78,
   "metadata": {
    "collapsed": false,
    "execution": {
     "iopub.execute_input": "2024-12-14T17:00:58.008952Z",
     "iopub.status.busy": "2024-12-14T17:00:58.007671Z",
     "iopub.status.idle": "2024-12-14T17:00:59.131329Z",
     "shell.execute_reply": "2024-12-14T17:00:59.130184Z",
     "shell.execute_reply.started": "2024-12-14T17:00:58.008911Z"
    },
    "tags": []
   },
   "outputs": [
    {
     "name": "stderr",
     "output_type": "stream",
     "text": [
      "wandb: Tracking run with wandb version 0.18.5\n",
      "wandb: Run data is saved locally in /home/jupyter/work/resources/hw2/wandb/run-20241214_170058-yznpi50n\n",
      "wandb: Run `wandb offline` to turn off syncing.\n",
      "wandb: Syncing run Convolution2l_with_snippet\n",
      "wandb: ⭐️ View project at https://wandb.ai/vldmrl-org/iad-hw4\n",
      "wandb: 🚀 View run at https://wandb.ai/vldmrl-org/iad-hw4/runs/yznpi50n\n"
     ]
    }
   ],
   "source": [
    "run4 = wandb.init(project=\"iad-hw4\", name=\"Convolution2l_with_snippet\")"
   ]
  },
  {
   "cell_type": "code",
   "execution_count": 79,
   "metadata": {
    "collapsed": false,
    "execution": {
     "iopub.execute_input": "2024-12-14T17:00:59.134310Z",
     "iopub.status.busy": "2024-12-14T17:00:59.132589Z",
     "iopub.status.idle": "2024-12-14T17:07:23.212435Z",
     "shell.execute_reply": "2024-12-14T17:07:23.210980Z",
     "shell.execute_reply.started": "2024-12-14T17:00:59.134251Z"
    },
    "tags": []
   },
   "outputs": [
    {
     "name": "stderr",
     "output_type": "stream",
     "text": [
      "GPU available: True (cuda), used: True\n",
      "TPU available: False, using: 0 TPU cores\n",
      "HPU available: False, using: 0 HPUs\n",
      "/home/jupyter/.local/lib/python3.10/site-packages/pytorch_lightning/loggers/wandb.py:396: There is a wandb run already in progress and newly created instances of `WandbLogger` will reuse this run. If this is not desired, call `wandb.finish()` before instantiating `WandbLogger`.\n",
      "LOCAL_RANK: 0 - CUDA_VISIBLE_DEVICES: [0]\n",
      "\n",
      "  | Name      | Type             | Params | Mode \n",
      "-------------------------------------------------------\n",
      "0 | model     | Conv2Classifier  | 9.5 M  | train\n",
      "1 | criterion | CrossEntropyLoss | 0      | train\n",
      "-------------------------------------------------------\n",
      "9.5 M     Trainable params\n",
      "0         Non-trainable params\n",
      "9.5 M     Total params\n",
      "38.010    Total estimated model params size (MB)\n",
      "6         Modules in train mode\n",
      "0         Modules in eval mode\n"
     ]
    },
    {
     "name": "stdout",
     "output_type": "stream",
     "text": [
      "Epoch 0: 100%|██████████| 3130/3130 [01:09<00:00, 45.27it/s, v_num=i50n, train_loss=10.70]\n",
      "Validation: |          | 0/? [00:00<?, ?it/s]\u001B[A\n",
      "Validation:   0%|          | 0/11 [00:00<?, ?it/s]\u001B[A\n",
      "Validation DataLoader 0:   0%|          | 0/11 [00:00<?, ?it/s]\u001B[A\n",
      "Validation DataLoader 0:   9%|▉         | 1/11 [00:00<00:00, 35.40it/s]\u001B[A\n",
      "Validation DataLoader 0:  18%|█▊        | 2/11 [00:00<00:00,  9.07it/s]\u001B[A\n",
      "Validation DataLoader 0:  27%|██▋       | 3/11 [00:00<00:01,  7.10it/s]\u001B[A\n",
      "Validation DataLoader 0:  36%|███▋      | 4/11 [00:00<00:01,  6.40it/s]\u001B[A\n",
      "Validation DataLoader 0:  45%|████▌     | 5/11 [00:00<00:00,  6.05it/s]\u001B[A\n",
      "Validation DataLoader 0:  55%|█████▍    | 6/11 [00:01<00:00,  5.83it/s]\u001B[A\n",
      "Validation DataLoader 0:  64%|██████▎   | 7/11 [00:01<00:00,  5.69it/s]\u001B[A\n",
      "Validation DataLoader 0:  73%|███████▎  | 8/11 [00:01<00:00,  5.58it/s]\u001B[A\n",
      "Validation DataLoader 0:  82%|████████▏ | 9/11 [00:01<00:00,  5.50it/s]\u001B[A\n",
      "Validation DataLoader 0:  91%|█████████ | 10/11 [00:01<00:00,  5.44it/s]\u001B[A\n",
      "Validation DataLoader 0: 100%|██████████| 11/11 [00:02<00:00,  5.37it/s]\u001B[A\n",
      "Epoch 1: 100%|██████████| 3130/3130 [01:10<00:00, 44.49it/s, v_num=i50n, train_loss=11.00, val_loss=10.50]\n",
      "Validation: |          | 0/? [00:00<?, ?it/s]\u001B[A\n",
      "Validation:   0%|          | 0/11 [00:00<?, ?it/s]\u001B[A\n",
      "Validation DataLoader 0:   0%|          | 0/11 [00:00<?, ?it/s]\u001B[A\n",
      "Validation DataLoader 0:   9%|▉         | 1/11 [00:00<00:00, 36.38it/s]\u001B[A\n",
      "Validation DataLoader 0:  18%|█▊        | 2/11 [00:00<00:01,  9.00it/s]\u001B[A\n",
      "Validation DataLoader 0:  27%|██▋       | 3/11 [00:00<00:01,  7.07it/s]\u001B[A\n",
      "Validation DataLoader 0:  36%|███▋      | 4/11 [00:00<00:01,  6.39it/s]\u001B[A\n",
      "Validation DataLoader 0:  45%|████▌     | 5/11 [00:00<00:00,  6.04it/s]\u001B[A\n",
      "Validation DataLoader 0:  55%|█████▍    | 6/11 [00:01<00:00,  5.82it/s]\u001B[A\n",
      "Validation DataLoader 0:  64%|██████▎   | 7/11 [00:01<00:00,  5.68it/s]\u001B[A\n",
      "Validation DataLoader 0:  73%|███████▎  | 8/11 [00:01<00:00,  5.58it/s]\u001B[A\n",
      "Validation DataLoader 0:  82%|████████▏ | 9/11 [00:01<00:00,  5.50it/s]\u001B[A\n",
      "Validation DataLoader 0:  91%|█████████ | 10/11 [00:01<00:00,  5.44it/s]\u001B[A\n",
      "Validation DataLoader 0: 100%|██████████| 11/11 [00:02<00:00,  5.39it/s]\u001B[A\n",
      "Epoch 2: 100%|██████████| 3130/3130 [01:10<00:00, 44.58it/s, v_num=i50n, train_loss=9.200, val_loss=9.270]\n",
      "Validation: |          | 0/? [00:00<?, ?it/s]\u001B[A\n",
      "Validation:   0%|          | 0/11 [00:00<?, ?it/s]\u001B[A\n",
      "Validation DataLoader 0:   0%|          | 0/11 [00:00<?, ?it/s]\u001B[A\n",
      "Validation DataLoader 0:   9%|▉         | 1/11 [00:00<00:00, 58.29it/s]\u001B[A\n",
      "Validation DataLoader 0:  18%|█▊        | 2/11 [00:00<00:00,  9.25it/s]\u001B[A\n",
      "Validation DataLoader 0:  27%|██▋       | 3/11 [00:00<00:01,  7.16it/s]\u001B[A\n",
      "Validation DataLoader 0:  36%|███▋      | 4/11 [00:00<00:01,  6.43it/s]\u001B[A\n",
      "Validation DataLoader 0:  45%|████▌     | 5/11 [00:00<00:00,  6.06it/s]\u001B[A\n",
      "Validation DataLoader 0:  55%|█████▍    | 6/11 [00:01<00:00,  5.84it/s]\u001B[A\n",
      "Validation DataLoader 0:  64%|██████▎   | 7/11 [00:01<00:00,  5.69it/s]\u001B[A\n",
      "Validation DataLoader 0:  73%|███████▎  | 8/11 [00:01<00:00,  5.59it/s]\u001B[A\n",
      "Validation DataLoader 0:  82%|████████▏ | 9/11 [00:01<00:00,  5.51it/s]\u001B[A\n",
      "Validation DataLoader 0:  91%|█████████ | 10/11 [00:01<00:00,  5.44it/s]\u001B[A\n",
      "Validation DataLoader 0: 100%|██████████| 11/11 [00:02<00:00,  5.40it/s]\u001B[A\n",
      "Epoch 3: 100%|██████████| 3130/3130 [01:10<00:00, 44.63it/s, v_num=i50n, train_loss=10.10, val_loss=8.700]\n",
      "Validation: |          | 0/? [00:00<?, ?it/s]\u001B[A\n",
      "Validation:   0%|          | 0/11 [00:00<?, ?it/s]\u001B[A\n",
      "Validation DataLoader 0:   0%|          | 0/11 [00:00<?, ?it/s]\u001B[A\n",
      "Validation DataLoader 0:   9%|▉         | 1/11 [00:00<00:00, 47.55it/s]\u001B[A\n",
      "Validation DataLoader 0:  18%|█▊        | 2/11 [00:00<00:00,  9.17it/s]\u001B[A\n",
      "Validation DataLoader 0:  27%|██▋       | 3/11 [00:00<00:01,  7.14it/s]\u001B[A\n",
      "Validation DataLoader 0:  36%|███▋      | 4/11 [00:00<00:01,  6.43it/s]\u001B[A\n",
      "Validation DataLoader 0:  45%|████▌     | 5/11 [00:00<00:00,  6.07it/s]\u001B[A\n",
      "Validation DataLoader 0:  55%|█████▍    | 6/11 [00:01<00:00,  5.84it/s]\u001B[A\n",
      "Validation DataLoader 0:  64%|██████▎   | 7/11 [00:01<00:00,  5.69it/s]\u001B[A\n",
      "Validation DataLoader 0:  73%|███████▎  | 8/11 [00:01<00:00,  5.58it/s]\u001B[A\n",
      "Validation DataLoader 0:  82%|████████▏ | 9/11 [00:01<00:00,  5.50it/s]\u001B[A\n",
      "Validation DataLoader 0:  91%|█████████ | 10/11 [00:01<00:00,  5.44it/s]\u001B[A\n",
      "Validation DataLoader 0: 100%|██████████| 11/11 [00:02<00:00,  5.40it/s]\u001B[A\n",
      "Epoch 4: 100%|██████████| 3130/3130 [01:10<00:00, 44.65it/s, v_num=i50n, train_loss=8.030, val_loss=8.150]\n",
      "Validation: |          | 0/? [00:00<?, ?it/s]\u001B[A\n",
      "Validation:   0%|          | 0/11 [00:00<?, ?it/s]\u001B[A\n",
      "Validation DataLoader 0:   0%|          | 0/11 [00:00<?, ?it/s]\u001B[A\n",
      "Validation DataLoader 0:   9%|▉         | 1/11 [00:00<00:00, 51.32it/s]\u001B[A\n",
      "Validation DataLoader 0:  18%|█▊        | 2/11 [00:00<00:00,  9.18it/s]\u001B[A\n",
      "Validation DataLoader 0:  27%|██▋       | 3/11 [00:00<00:01,  7.15it/s]\u001B[A\n",
      "Validation DataLoader 0:  36%|███▋      | 4/11 [00:00<00:01,  6.43it/s]\u001B[A\n",
      "Validation DataLoader 0:  45%|████▌     | 5/11 [00:00<00:00,  6.07it/s]\u001B[A\n",
      "Validation DataLoader 0:  55%|█████▍    | 6/11 [00:01<00:00,  5.85it/s]\u001B[A\n",
      "Validation DataLoader 0:  64%|██████▎   | 7/11 [00:01<00:00,  5.70it/s]\u001B[A\n",
      "Validation DataLoader 0:  73%|███████▎  | 8/11 [00:01<00:00,  5.60it/s]\u001B[A\n",
      "Validation DataLoader 0:  82%|████████▏ | 9/11 [00:01<00:00,  5.52it/s]\u001B[A\n",
      "Validation DataLoader 0:  91%|█████████ | 10/11 [00:01<00:00,  5.46it/s]\u001B[A\n",
      "Validation DataLoader 0: 100%|██████████| 11/11 [00:02<00:00,  5.41it/s]\u001B[A\n",
      "Epoch 4: 100%|██████████| 3130/3130 [01:13<00:00, 42.66it/s, v_num=i50n, train_loss=8.030, val_loss=7.820]"
     ]
    },
    {
     "name": "stderr",
     "output_type": "stream",
     "text": [
      "`Trainer.fit` stopped: `max_epochs=5` reached.\n"
     ]
    },
    {
     "name": "stdout",
     "output_type": "stream",
     "text": [
      "Epoch 4: 100%|██████████| 3130/3130 [01:16<00:00, 40.89it/s, v_num=i50n, train_loss=8.030, val_loss=7.820]\n"
     ]
    }
   ],
   "source": [
    "EMBEDDING_DIM = 300\n",
    "EPOCHS = 5\n",
    "LR = 1e-3\n",
    "\n",
    "model_2conv = Conv2Classifier(VOCAB_SIZE, EMBEDDING_DIM, CLASSES_NUM).to(device)\n",
    "criterion = torch.nn.CrossEntropyLoss()\n",
    "\n",
    "train_module = TrainLightningModuleConcat(model_2conv, LR, criterion)\n",
    "\n",
    "trainer = pl.Trainer(\n",
    "    logger=wandb_logger,\n",
    "    accelerator=device.type,\n",
    "    max_epochs=EPOCHS\n",
    ")\n",
    "trainer.fit(train_module, train_dataloader_snippet, val_dataloader_snippet)"
   ]
  },
  {
   "cell_type": "code",
   "execution_count": 80,
   "metadata": {
    "collapsed": false,
    "execution": {
     "iopub.execute_input": "2024-12-14T17:07:23.215965Z",
     "iopub.status.busy": "2024-12-14T17:07:23.214404Z",
     "iopub.status.idle": "2024-12-14T17:07:31.869452Z",
     "shell.execute_reply": "2024-12-14T17:07:31.868154Z",
     "shell.execute_reply.started": "2024-12-14T17:07:23.215907Z"
    },
    "tags": []
   },
   "outputs": [
    {
     "name": "stderr",
     "output_type": "stream",
     "text": [
      "wandb:                                                                                \n",
      "wandb: \n",
      "wandb: Run history:\n",
      "wandb:               epoch ▁▁▁▁▁▁▁▁▃▃▃▃▃▃▃▃▃▅▅▅▅▅▅▅▅▅▆▆▆▆▆▆████████\n",
      "wandb:          train_loss █▇█▅▆▇▄▅▅▄▅▇▄▃▄▄▂▃▄▄▄▅▅▆▂▂▃▂▄▄▂▁▄▁▃▃▃▁▂▅\n",
      "wandb: trainer/global_step ▁▁▂▂▂▂▂▂▂▂▃▃▃▃▃▄▄▄▄▄▅▅▅▅▅▅▅▆▆▆▆▆▆▇▇▇▇▇▇█\n",
      "wandb:            val_loss █▅▃▂▁\n",
      "wandb: \n",
      "wandb: Run summary:\n",
      "wandb:               epoch 4\n",
      "wandb:          train_loss 8.03218\n",
      "wandb: trainer/global_step 15649\n",
      "wandb:            val_loss 7.82299\n",
      "wandb: \n",
      "wandb: 🚀 View run Convolution2l_with_snippet at: https://wandb.ai/vldmrl-org/iad-hw4/runs/yznpi50n\n",
      "wandb: ⭐️ View project at: https://wandb.ai/vldmrl-org/iad-hw4\n",
      "wandb: Synced 5 W&B file(s), 0 media file(s), 10 artifact file(s) and 0 other file(s)\n",
      "wandb: Find logs at: ./wandb/run-20241214_170058-yznpi50n/logs\n"
     ]
    }
   ],
   "source": [
    "run4.finish()"
   ]
  },
  {
   "cell_type": "code",
   "execution_count": 81,
   "metadata": {
    "execution": {
     "iopub.execute_input": "2024-12-14T17:07:31.872064Z",
     "iopub.status.busy": "2024-12-14T17:07:31.871224Z",
     "iopub.status.idle": "2024-12-14T17:07:32.122567Z",
     "shell.execute_reply": "2024-12-14T17:07:32.121334Z",
     "shell.execute_reply.started": "2024-12-14T17:07:31.872029Z"
    },
    "tags": []
   },
   "outputs": [],
   "source": [
    "# Буду модернизировать способ со сниппетами\n",
    "from torch import nn\n",
    "import torch.nn.functional as F\n",
    "\n",
    "\n",
    "class ResClassifier(nn.Module):\n",
    "\n",
    "    def __init__(self, vocab_size, embedding_dim, output_dim):\n",
    "        super().__init__()\n",
    "        self.embedding = nn.Embedding(vocab_size, embedding_dim)\n",
    "        self.conv1 = nn.Conv1d(embedding_dim, 2 * embedding_dim, 3, padding=1)\n",
    "        self.conv2 = nn.Conv1d(2 * embedding_dim, embedding_dim, 3, padding=1)\n",
    "        self.fc = nn.Linear(2 * embedding_dim, output_dim)\n",
    "\n",
    "    def forward(self, title, snippet):\n",
    "        embedding_title = self.embedding(title).transpose(1, 2)\n",
    "        embedding_snippet = self.embedding(snippet).transpose(1, 2)\n",
    "        \n",
    "        conv1_title = self.conv1(embedding_title)\n",
    "        conv1_snippet = self.conv1(embedding_snippet)\n",
    "        \n",
    "        conv2_title = self.conv2(conv1_title)\n",
    "        conv2_snippet = self.conv2(conv1_snippet)\n",
    "        \n",
    "        res_title = embedding_title + conv2_title\n",
    "        res_snippet = embedding_snippet + conv2_snippet\n",
    "\n",
    "        embedded_title = res_title.mean(dim=2)\n",
    "        embedded_snippet = res_snippet.mean(dim=2)\n",
    "\n",
    "        embedded_concat = torch.cat((embedded_title, embedded_snippet), dim=1)\n",
    "        return self.fc(embedded_concat)"
   ]
  },
  {
   "cell_type": "code",
   "execution_count": 82,
   "metadata": {
    "execution": {
     "iopub.execute_input": "2024-12-14T17:07:32.125033Z",
     "iopub.status.busy": "2024-12-14T17:07:32.123987Z",
     "iopub.status.idle": "2024-12-14T17:07:32.204279Z",
     "shell.execute_reply": "2024-12-14T17:07:32.202970Z",
     "shell.execute_reply.started": "2024-12-14T17:07:32.124979Z"
    },
    "tags": []
   },
   "outputs": [],
   "source": [
    "wandb_logger = WandbLogger(\n",
    "    log_model='all'\n",
    ")"
   ]
  },
  {
   "cell_type": "code",
   "execution_count": 83,
   "metadata": {
    "collapsed": false,
    "execution": {
     "iopub.execute_input": "2024-12-14T17:07:32.207109Z",
     "iopub.status.busy": "2024-12-14T17:07:32.205533Z",
     "iopub.status.idle": "2024-12-14T17:07:33.346619Z",
     "shell.execute_reply": "2024-12-14T17:07:33.345264Z",
     "shell.execute_reply.started": "2024-12-14T17:07:32.207055Z"
    },
    "tags": []
   },
   "outputs": [
    {
     "name": "stderr",
     "output_type": "stream",
     "text": [
      "wandb: Tracking run with wandb version 0.18.5\n",
      "wandb: Run data is saved locally in /home/jupyter/work/resources/hw2/wandb/run-20241214_170732-4bddb59v\n",
      "wandb: Run `wandb offline` to turn off syncing.\n",
      "wandb: Syncing run Resnet_with_snippet\n",
      "wandb: ⭐️ View project at https://wandb.ai/vldmrl-org/iad-hw4\n",
      "wandb: 🚀 View run at https://wandb.ai/vldmrl-org/iad-hw4/runs/4bddb59v\n"
     ]
    }
   ],
   "source": [
    "run5 = wandb.init(project=\"iad-hw4\", name=\"Resnet_with_snippet\")"
   ]
  },
  {
   "cell_type": "code",
   "execution_count": 84,
   "metadata": {
    "collapsed": false,
    "execution": {
     "iopub.execute_input": "2024-12-14T17:07:33.349853Z",
     "iopub.status.busy": "2024-12-14T17:07:33.348543Z",
     "iopub.status.idle": "2024-12-14T17:12:20.968659Z",
     "shell.execute_reply": "2024-12-14T17:12:20.967265Z",
     "shell.execute_reply.started": "2024-12-14T17:07:33.349807Z"
    },
    "tags": []
   },
   "outputs": [
    {
     "name": "stderr",
     "output_type": "stream",
     "text": [
      "GPU available: True (cuda), used: True\n",
      "TPU available: False, using: 0 TPU cores\n",
      "HPU available: False, using: 0 HPUs\n",
      "/home/jupyter/.local/lib/python3.10/site-packages/pytorch_lightning/loggers/wandb.py:396: There is a wandb run already in progress and newly created instances of `WandbLogger` will reuse this run. If this is not desired, call `wandb.finish()` before instantiating `WandbLogger`.\n",
      "LOCAL_RANK: 0 - CUDA_VISIBLE_DEVICES: [0]\n",
      "\n",
      "  | Name      | Type             | Params | Mode \n",
      "-------------------------------------------------------\n",
      "0 | model     | ResClassifier    | 5.0 M  | train\n",
      "1 | criterion | CrossEntropyLoss | 0      | train\n",
      "-------------------------------------------------------\n",
      "5.0 M     Trainable params\n",
      "0         Non-trainable params\n",
      "5.0 M     Total params\n",
      "20.129    Total estimated model params size (MB)\n",
      "6         Modules in train mode\n",
      "0         Modules in eval mode\n"
     ]
    },
    {
     "name": "stdout",
     "output_type": "stream",
     "text": [
      "Epoch 0: 100%|██████████| 3130/3130 [00:51<00:00, 60.26it/s, v_num=b59v, train_loss=11.70]\n",
      "Validation: |          | 0/? [00:00<?, ?it/s]\u001B[A\n",
      "Validation:   0%|          | 0/11 [00:00<?, ?it/s]\u001B[A\n",
      "Validation DataLoader 0:   0%|          | 0/11 [00:00<?, ?it/s]\u001B[A\n",
      "Validation DataLoader 0:   9%|▉         | 1/11 [00:00<00:00, 50.62it/s]\u001B[A\n",
      "Validation DataLoader 0:  18%|█▊        | 2/11 [00:00<00:00, 16.96it/s]\u001B[A\n",
      "Validation DataLoader 0:  27%|██▋       | 3/11 [00:00<00:00, 13.78it/s]\u001B[A\n",
      "Validation DataLoader 0:  36%|███▋      | 4/11 [00:00<00:00, 12.53it/s]\u001B[A\n",
      "Validation DataLoader 0:  45%|████▌     | 5/11 [00:00<00:00, 11.91it/s]\u001B[A\n",
      "Validation DataLoader 0:  55%|█████▍    | 6/11 [00:00<00:00, 11.51it/s]\u001B[A\n",
      "Validation DataLoader 0:  64%|██████▎   | 7/11 [00:00<00:00, 11.27it/s]\u001B[A\n",
      "Validation DataLoader 0:  73%|███████▎  | 8/11 [00:00<00:00, 11.08it/s]\u001B[A\n",
      "Validation DataLoader 0:  82%|████████▏ | 9/11 [00:00<00:00, 10.92it/s]\u001B[A\n",
      "Validation DataLoader 0:  91%|█████████ | 10/11 [00:00<00:00, 10.81it/s]\u001B[A\n",
      "Validation DataLoader 0: 100%|██████████| 11/11 [00:01<00:00, 10.65it/s]\u001B[A\n",
      "Epoch 1: 100%|██████████| 3130/3130 [00:53<00:00, 58.81it/s, v_num=b59v, train_loss=7.380, val_loss=9.460]\n",
      "Validation: |          | 0/? [00:00<?, ?it/s]\u001B[A\n",
      "Validation:   0%|          | 0/11 [00:00<?, ?it/s]\u001B[A\n",
      "Validation DataLoader 0:   0%|          | 0/11 [00:00<?, ?it/s]\u001B[A\n",
      "Validation DataLoader 0:   9%|▉         | 1/11 [00:00<00:00, 47.39it/s]\u001B[A\n",
      "Validation DataLoader 0:  18%|█▊        | 2/11 [00:00<00:00, 17.07it/s]\u001B[A\n",
      "Validation DataLoader 0:  27%|██▋       | 3/11 [00:00<00:00, 13.77it/s]\u001B[A\n",
      "Validation DataLoader 0:  36%|███▋      | 4/11 [00:00<00:00, 12.56it/s]\u001B[A\n",
      "Validation DataLoader 0:  45%|████▌     | 5/11 [00:00<00:00, 11.93it/s]\u001B[A\n",
      "Validation DataLoader 0:  55%|█████▍    | 6/11 [00:00<00:00, 11.54it/s]\u001B[A\n",
      "Validation DataLoader 0:  64%|██████▎   | 7/11 [00:00<00:00, 11.29it/s]\u001B[A\n",
      "Validation DataLoader 0:  73%|███████▎  | 8/11 [00:00<00:00, 11.11it/s]\u001B[A\n",
      "Validation DataLoader 0:  82%|████████▏ | 9/11 [00:00<00:00, 10.96it/s]\u001B[A\n",
      "Validation DataLoader 0:  91%|█████████ | 10/11 [00:00<00:00, 10.84it/s]\u001B[A\n",
      "Validation DataLoader 0: 100%|██████████| 11/11 [00:01<00:00, 10.77it/s]\u001B[A\n",
      "Epoch 2: 100%|██████████| 3130/3130 [00:53<00:00, 58.44it/s, v_num=b59v, train_loss=8.500, val_loss=8.810]\n",
      "Validation: |          | 0/? [00:00<?, ?it/s]\u001B[A\n",
      "Validation:   0%|          | 0/11 [00:00<?, ?it/s]\u001B[A\n",
      "Validation DataLoader 0:   0%|          | 0/11 [00:00<?, ?it/s]\u001B[A\n",
      "Validation DataLoader 0:   9%|▉         | 1/11 [00:00<00:00, 51.50it/s]\u001B[A\n",
      "Validation DataLoader 0:  18%|█▊        | 2/11 [00:00<00:00, 17.18it/s]\u001B[A\n",
      "Validation DataLoader 0:  27%|██▋       | 3/11 [00:00<00:00, 13.79it/s]\u001B[A\n",
      "Validation DataLoader 0:  36%|███▋      | 4/11 [00:00<00:00, 12.58it/s]\u001B[A\n",
      "Validation DataLoader 0:  45%|████▌     | 5/11 [00:00<00:00, 11.93it/s]\u001B[A\n",
      "Validation DataLoader 0:  55%|█████▍    | 6/11 [00:00<00:00, 11.56it/s]\u001B[A\n",
      "Validation DataLoader 0:  64%|██████▎   | 7/11 [00:00<00:00, 11.30it/s]\u001B[A\n",
      "Validation DataLoader 0:  73%|███████▎  | 8/11 [00:00<00:00, 11.12it/s]\u001B[A\n",
      "Validation DataLoader 0:  82%|████████▏ | 9/11 [00:00<00:00, 10.95it/s]\u001B[A\n",
      "Validation DataLoader 0:  91%|█████████ | 10/11 [00:00<00:00, 10.84it/s]\u001B[A\n",
      "Validation DataLoader 0: 100%|██████████| 11/11 [00:01<00:00, 10.77it/s]\u001B[A\n",
      "Epoch 3: 100%|██████████| 3130/3130 [00:53<00:00, 58.45it/s, v_num=b59v, train_loss=6.990, val_loss=8.200]\n",
      "Validation: |          | 0/? [00:00<?, ?it/s]\u001B[A\n",
      "Validation:   0%|          | 0/11 [00:00<?, ?it/s]\u001B[A\n",
      "Validation DataLoader 0:   0%|          | 0/11 [00:00<?, ?it/s]\u001B[A\n",
      "Validation DataLoader 0:   9%|▉         | 1/11 [00:00<00:00, 46.46it/s]\u001B[A\n",
      "Validation DataLoader 0:  18%|█▊        | 2/11 [00:00<00:00, 17.11it/s]\u001B[A\n",
      "Validation DataLoader 0:  27%|██▋       | 3/11 [00:00<00:00, 13.76it/s]\u001B[A\n",
      "Validation DataLoader 0:  36%|███▋      | 4/11 [00:00<00:00, 12.54it/s]\u001B[A\n",
      "Validation DataLoader 0:  45%|████▌     | 5/11 [00:00<00:00, 11.89it/s]\u001B[A\n",
      "Validation DataLoader 0:  55%|█████▍    | 6/11 [00:00<00:00, 11.51it/s]\u001B[A\n",
      "Validation DataLoader 0:  64%|██████▎   | 7/11 [00:00<00:00, 11.25it/s]\u001B[A\n",
      "Validation DataLoader 0:  73%|███████▎  | 8/11 [00:00<00:00, 11.06it/s]\u001B[A\n",
      "Validation DataLoader 0:  82%|████████▏ | 9/11 [00:00<00:00, 10.92it/s]\u001B[A\n",
      "Validation DataLoader 0:  91%|█████████ | 10/11 [00:00<00:00, 10.80it/s]\u001B[A\n",
      "Validation DataLoader 0: 100%|██████████| 11/11 [00:01<00:00, 10.73it/s]\u001B[A\n",
      "Epoch 4: 100%|██████████| 3130/3130 [00:53<00:00, 58.45it/s, v_num=b59v, train_loss=8.900, val_loss=7.740]\n",
      "Validation: |          | 0/? [00:00<?, ?it/s]\u001B[A\n",
      "Validation:   0%|          | 0/11 [00:00<?, ?it/s]\u001B[A\n",
      "Validation DataLoader 0:   0%|          | 0/11 [00:00<?, ?it/s]\u001B[A\n",
      "Validation DataLoader 0:   9%|▉         | 1/11 [00:00<00:00, 37.13it/s]\u001B[A\n",
      "Validation DataLoader 0:  18%|█▊        | 2/11 [00:00<00:00, 16.71it/s]\u001B[A\n",
      "Validation DataLoader 0:  27%|██▋       | 3/11 [00:00<00:00, 13.61it/s]\u001B[A\n",
      "Validation DataLoader 0:  36%|███▋      | 4/11 [00:00<00:00, 12.44it/s]\u001B[A\n",
      "Validation DataLoader 0:  45%|████▌     | 5/11 [00:00<00:00, 11.82it/s]\u001B[A\n",
      "Validation DataLoader 0:  55%|█████▍    | 6/11 [00:00<00:00, 11.48it/s]\u001B[A\n",
      "Validation DataLoader 0:  64%|██████▎   | 7/11 [00:00<00:00, 11.22it/s]\u001B[A\n",
      "Validation DataLoader 0:  73%|███████▎  | 8/11 [00:00<00:00, 11.04it/s]\u001B[A\n",
      "Validation DataLoader 0:  82%|████████▏ | 9/11 [00:00<00:00, 10.89it/s]\u001B[A\n",
      "Validation DataLoader 0:  91%|█████████ | 10/11 [00:00<00:00, 10.78it/s]\u001B[A\n",
      "Validation DataLoader 0: 100%|██████████| 11/11 [00:01<00:00, 10.72it/s]\u001B[A\n",
      "Epoch 4: 100%|██████████| 3130/3130 [00:55<00:00, 56.19it/s, v_num=b59v, train_loss=8.900, val_loss=7.500]"
     ]
    },
    {
     "name": "stderr",
     "output_type": "stream",
     "text": [
      "`Trainer.fit` stopped: `max_epochs=5` reached.\n"
     ]
    },
    {
     "name": "stdout",
     "output_type": "stream",
     "text": [
      "Epoch 4: 100%|██████████| 3130/3130 [00:57<00:00, 54.48it/s, v_num=b59v, train_loss=8.900, val_loss=7.500]\n"
     ]
    }
   ],
   "source": [
    "EMBEDDING_DIM = 300\n",
    "EPOCHS = 5 # Сделаю 5 эпох, так как слишком долго. Да и 10 эпох всё равно не хватит.\n",
    "LR = 1e-3\n",
    "\n",
    "model_res = ResClassifier(VOCAB_SIZE, EMBEDDING_DIM, CLASSES_NUM).to(device)\n",
    "criterion = torch.nn.CrossEntropyLoss()\n",
    "\n",
    "train_module = TrainLightningModuleConcat(model_res, LR, criterion)\n",
    "\n",
    "trainer = pl.Trainer(\n",
    "    logger=wandb_logger,\n",
    "    accelerator=device.type,\n",
    "    max_epochs=EPOCHS\n",
    ")\n",
    "trainer.fit(train_module, train_dataloader_snippet, val_dataloader_snippet)"
   ]
  },
  {
   "cell_type": "code",
   "execution_count": 85,
   "metadata": {
    "collapsed": false,
    "execution": {
     "iopub.execute_input": "2024-12-14T17:12:20.972004Z",
     "iopub.status.busy": "2024-12-14T17:12:20.970571Z",
     "iopub.status.idle": "2024-12-14T17:12:27.551602Z",
     "shell.execute_reply": "2024-12-14T17:12:27.550303Z",
     "shell.execute_reply.started": "2024-12-14T17:12:20.971941Z"
    },
    "tags": []
   },
   "outputs": [
    {
     "name": "stderr",
     "output_type": "stream",
     "text": [
      "wandb:                                                                                \n",
      "wandb: \n",
      "wandb: Run history:\n",
      "wandb:               epoch ▁▁▁▁▁▁▁▁▁▁▃▃▃▃▃▅▅▅▅▅▅▆▆▆▆▆▆▆▆▆▆▆████████\n",
      "wandb:          train_loss █▅▄▄▄▄▃▃▃▁▂▁▃▂▁▁▂▃▁▁▂▂▃▂▂▂▁▂▃▂▂▂▂▁▁▂▂▂▂▁\n",
      "wandb: trainer/global_step ▁▁▁▂▂▂▂▂▂▃▃▃▃▃▄▄▄▄▄▄▅▅▅▅▆▆▆▆▆▆▆▆▇▇▇▇▇███\n",
      "wandb:            val_loss █▆▃▂▁\n",
      "wandb: \n",
      "wandb: Run summary:\n",
      "wandb:               epoch 4\n",
      "wandb:          train_loss 8.90318\n",
      "wandb: trainer/global_step 15649\n",
      "wandb:            val_loss 7.50139\n",
      "wandb: \n",
      "wandb: 🚀 View run Resnet_with_snippet at: https://wandb.ai/vldmrl-org/iad-hw4/runs/4bddb59v\n",
      "wandb: ⭐️ View project at: https://wandb.ai/vldmrl-org/iad-hw4\n",
      "wandb: Synced 5 W&B file(s), 0 media file(s), 10 artifact file(s) and 0 other file(s)\n",
      "wandb: Find logs at: ./wandb/run-20241214_170732-4bddb59v/logs\n"
     ]
    }
   ],
   "source": [
    "run5.finish()"
   ]
  },
  {
   "cell_type": "markdown",
   "metadata": {
    "id": "7kMKmn72M_zl"
   },
   "source": [
    "__[0.9 балла] Бонусное задание 2:__ Скачайте с сайта [Rusvectores](https://rusvectores.org/ru/models/) любые новостные word2vec эмбединги. Возьмите из модели эмбеддинги для всех слов, которые встречаются в вашем словаре и добавьте их в модель первым слоем. Заморозьте этот слой и не обновляйте в нём веса. Если у вас в словаре есть слово, но его нет среди предобученных эмбеддингов, замените его на токен `#UNKN`."
   ]
  },
  {
   "cell_type": "markdown",
   "metadata": {
    "id": "k9ldlZ5gM_zl"
   },
   "source": [
    "__Ваш лог экспериментов:__\n",
    "\n",
    "Сразу все эксперименты:\n",
    "https://wandb.ai/vldmrl-org/iad-hw4/reports/ida-hw4-all--VmlldzoxMDU5OTMxMQ\n",
    "-\n",
    "-"
   ]
  },
  {
   "cell_type": "code",
   "execution_count": 86,
   "metadata": {
    "collapsed": false,
    "execution": {
     "iopub.execute_input": "2024-12-14T17:12:27.554138Z",
     "iopub.status.busy": "2024-12-14T17:12:27.552994Z",
     "iopub.status.idle": "2024-12-14T17:12:32.850458Z",
     "shell.execute_reply": "2024-12-14T17:12:32.849236Z",
     "shell.execute_reply.started": "2024-12-14T17:12:27.554072Z"
    },
    "tags": []
   },
   "outputs": [],
   "source": [
    "# Возьму news_upos_skipgram_300_5_2019, так как он имеет лучшее качество и смог скачаться\n",
    "# И первую обученную модель со свёрткой\n",
    "\n",
    "# Буду использовать gensim для загрузки эмбеддингов\n",
    "import gensim\n",
    "\n",
    "pretrained_embedding = gensim.models.KeyedVectors.load_word2vec_format(\"model.bin\", binary=True)"
   ]
  },
  {
   "cell_type": "code",
   "execution_count": 87,
   "metadata": {
    "collapsed": false,
    "execution": {
     "iopub.execute_input": "2024-12-14T17:12:32.853445Z",
     "iopub.status.busy": "2024-12-14T17:12:32.851945Z",
     "iopub.status.idle": "2024-12-14T17:12:41.411584Z",
     "shell.execute_reply": "2024-12-14T17:12:41.410320Z",
     "shell.execute_reply.started": "2024-12-14T17:12:32.853357Z"
    },
    "tags": []
   },
   "outputs": [],
   "source": [
    "# Создам новый словарь из пересечения слов эмбеддинга и заголовка\n",
    "\n",
    "vocabulary_current = set(create_vocab(' '.join(df_ria.title_clean.values)))\n",
    "vocabulary_embedding = vocabulary_current.intersection(set(pretrained_embedding.key_to_index.keys()))\n",
    "vocabulary_full = [\"#UNKN\"] + sorted(vocabulary_embedding)\n",
    "\n"
   ]
  },
  {
   "cell_type": "code",
   "execution_count": 88,
   "metadata": {
    "execution": {
     "iopub.execute_input": "2024-12-14T17:12:41.413683Z",
     "iopub.status.busy": "2024-12-14T17:12:41.412980Z",
     "iopub.status.idle": "2024-12-14T17:12:41.424885Z",
     "shell.execute_reply": "2024-12-14T17:12:41.423831Z",
     "shell.execute_reply.started": "2024-12-14T17:12:41.413651Z"
    },
    "tags": []
   },
   "outputs": [],
   "source": [
    "wandb_logger = WandbLogger(\n",
    "    log_model='all'\n",
    ")"
   ]
  },
  {
   "cell_type": "code",
   "execution_count": 89,
   "metadata": {
    "execution": {
     "iopub.execute_input": "2024-12-14T17:12:41.427209Z",
     "iopub.status.busy": "2024-12-14T17:12:41.426055Z",
     "iopub.status.idle": "2024-12-14T17:12:42.525312Z",
     "shell.execute_reply": "2024-12-14T17:12:42.524286Z",
     "shell.execute_reply.started": "2024-12-14T17:12:41.427164Z"
    },
    "tags": []
   },
   "outputs": [
    {
     "name": "stderr",
     "output_type": "stream",
     "text": [
      "wandb: Tracking run with wandb version 0.18.5\n",
      "wandb: Run data is saved locally in /home/jupyter/work/resources/hw2/wandb/run-20241214_171241-c1hvcdzb\n",
      "wandb: Run `wandb offline` to turn off syncing.\n",
      "wandb: Syncing run Pretrained_embedding_with_snippet\n",
      "wandb: ⭐️ View project at https://wandb.ai/vldmrl-org/iad-hw4\n",
      "wandb: 🚀 View run at https://wandb.ai/vldmrl-org/iad-hw4/runs/c1hvcdzb\n"
     ]
    }
   ],
   "source": [
    "run6 = wandb.init(project=\"iad-hw4\", name=\"Pretrained_embedding_with_snippet\")"
   ]
  },
  {
   "cell_type": "code",
   "execution_count": 90,
   "metadata": {
    "collapsed": false,
    "execution": {
     "iopub.execute_input": "2024-12-14T17:12:42.527732Z",
     "iopub.status.busy": "2024-12-14T17:12:42.526770Z",
     "iopub.status.idle": "2024-12-14T17:12:42.538915Z",
     "shell.execute_reply": "2024-12-14T17:12:42.537676Z",
     "shell.execute_reply.started": "2024-12-14T17:12:42.527697Z"
    },
    "tags": []
   },
   "outputs": [],
   "source": [
    "# Создание эмбеддингов со словами словаря \n",
    "\n",
    "#  word2idx = {word: idx for idx, word in enumerate(vocabulary_full)}\n",
    "#  \n",
    "#  embedding_matrix = torch.zeros((len(vocabulary_full), EMBEDDING_DIM))\n",
    "#  \n",
    "#  embedding_matrix[word2idx[\"#UNKN\"]] = torch.randn(EMBEDDING_DIM)\n",
    "#  \n",
    "#  # Заполнение матрицы предобученными эмбеддингами\n",
    "#  for word in vocabulary_embedding:\n",
    "#      embedding_matrix[word2idx[word]] = torch.tensor(pretrained_embedding[word])"
   ]
  },
  {
   "cell_type": "code",
   "execution_count": 91,
   "metadata": {
    "collapsed": false,
    "execution": {
     "iopub.execute_input": "2024-12-14T17:12:42.541065Z",
     "iopub.status.busy": "2024-12-14T17:12:42.540195Z",
     "iopub.status.idle": "2024-12-14T17:16:15.730323Z",
     "shell.execute_reply": "2024-12-14T17:16:15.729003Z",
     "shell.execute_reply.started": "2024-12-14T17:12:42.541002Z"
    },
    "tags": []
   },
   "outputs": [],
   "source": [
    "# Поменяю датасеты\n",
    "\n",
    "CLASSES_NUM = len(idx2tag)\n",
    "VOCAB_SIZE = 10000\n",
    "MAX_TITLE_LEN = 20\n",
    "MAX_SNIPPET_LEN = 100\n",
    "\n",
    "\n",
    "# объявляем датасеты\n",
    "train_dataset_embedding= NewsDataset(df_train.target_tags.values, df_train.title_clean.values, vocabulary, VOCAB_SIZE,\n",
    "                                    MAX_TITLE_LEN, CLASSES_NUM, df_train.snippet_clean.values, MAX_SNIPPET_LEN)\n",
    "val_dataset_embedding = NewsDataset(df_val.target_tags.values, df_val.title_clean.values, vocabulary, VOCAB_SIZE,\n",
    "                                  MAX_TITLE_LEN, CLASSES_NUM, df_val.snippet_clean.values, MAX_SNIPPET_LEN)\n",
    "test_dataset_embedding = NewsDataset(df_test.target_tags.values, df_test.title_clean.values, vocabulary, VOCAB_SIZE,\n",
    "                                   MAX_TITLE_LEN, CLASSES_NUM, df_test.snippet_clean.values, MAX_SNIPPET_LEN)"
   ]
  },
  {
   "cell_type": "code",
   "execution_count": 92,
   "metadata": {
    "collapsed": false,
    "execution": {
     "iopub.execute_input": "2024-12-14T17:16:15.733152Z",
     "iopub.status.busy": "2024-12-14T17:16:15.731942Z",
     "iopub.status.idle": "2024-12-14T17:16:15.851817Z",
     "shell.execute_reply": "2024-12-14T17:16:15.850646Z",
     "shell.execute_reply.started": "2024-12-14T17:16:15.733102Z"
    },
    "tags": []
   },
   "outputs": [],
   "source": [
    "train_dataloader_snippet = DataLoader(train_dataset_embedding, shuffle=True, batch_size=64, num_workers=4)\n",
    "val_dataloader_snippet = DataLoader(val_dataset_embedding, shuffle=False, batch_size=4096, num_workers=4)"
   ]
  },
  {
   "cell_type": "code",
   "execution_count": 93,
   "metadata": {
    "execution": {
     "iopub.execute_input": "2024-12-14T17:16:15.854440Z",
     "iopub.status.busy": "2024-12-14T17:16:15.853066Z",
     "iopub.status.idle": "2024-12-14T17:16:15.910087Z",
     "shell.execute_reply": "2024-12-14T17:16:15.908965Z",
     "shell.execute_reply.started": "2024-12-14T17:16:15.854386Z"
    },
    "id": "XoIlDPe0M_zl",
    "tags": []
   },
   "outputs": [],
   "source": [
    "from torch import nn\n",
    "import torch.nn.functional as F\n",
    "\n",
    "\n",
    "\n",
    "class ResVecClassifier(nn.Module):\n",
    "\n",
    "    def __init__(self, vocab_size, embedding_dim, output_dim):\n",
    "        super().__init__()\n",
    "        self.embedding = nn.Embedding.from_pretrained(torch.FloatTensor(pretrained_embedding.vectors), freeze=True)\n",
    "        self.conv1 = nn.Conv1d(embedding_dim, 2 * embedding_dim, 3, padding=1)\n",
    "        self.fc = nn.Linear(4 * embedding_dim, output_dim)\n",
    "\n",
    "    def forward(self, title, snippet):\n",
    "        embedding_title = self.embedding(title).transpose(1, 2)\n",
    "        embedding_snippet = self.embedding(snippet).transpose(1, 2)\n",
    "        \n",
    "        conv1_title = self.conv1(embedding_title)\n",
    "        conv1_snippet = self.conv1(embedding_snippet)\n",
    "\n",
    "        embedded_title = conv1_title.mean(dim=2)\n",
    "        embedded_snippet = conv1_snippet.mean(dim=2)\n",
    "\n",
    "        embedded_concat = torch.cat((embedded_title, embedded_snippet), dim=1)\n",
    "        return self.fc(embedded_concat)\n",
    "\n"
   ]
  },
  {
   "cell_type": "code",
   "execution_count": 94,
   "metadata": {
    "collapsed": false,
    "execution": {
     "iopub.execute_input": "2024-12-14T17:16:15.912017Z",
     "iopub.status.busy": "2024-12-14T17:16:15.911413Z",
     "iopub.status.idle": "2024-12-14T17:20:23.361435Z",
     "shell.execute_reply": "2024-12-14T17:20:23.360209Z",
     "shell.execute_reply.started": "2024-12-14T17:16:15.911975Z"
    },
    "tags": []
   },
   "outputs": [
    {
     "name": "stderr",
     "output_type": "stream",
     "text": [
      "GPU available: True (cuda), used: True\n",
      "TPU available: False, using: 0 TPU cores\n",
      "HPU available: False, using: 0 HPUs\n",
      "/home/jupyter/.local/lib/python3.10/site-packages/pytorch_lightning/loggers/wandb.py:396: There is a wandb run already in progress and newly created instances of `WandbLogger` will reuse this run. If this is not desired, call `wandb.finish()` before instantiating `WandbLogger`.\n",
      "LOCAL_RANK: 0 - CUDA_VISIBLE_DEVICES: [0]\n",
      "\n",
      "  | Name      | Type             | Params | Mode \n",
      "-------------------------------------------------------\n",
      "0 | model     | ResVecClassifier | 77.2 M | train\n",
      "1 | criterion | CrossEntropyLoss | 0      | train\n",
      "-------------------------------------------------------\n",
      "2.4 M     Trainable params\n",
      "74.8 M    Non-trainable params\n",
      "77.2 M    Total params\n",
      "308.949   Total estimated model params size (MB)\n",
      "5         Modules in train mode\n",
      "0         Modules in eval mode\n"
     ]
    },
    {
     "name": "stdout",
     "output_type": "stream",
     "text": [
      "Epoch 0: 100%|██████████| 3130/3130 [00:32<00:00, 95.02it/s, v_num=cdzb, train_loss=10.90]\n",
      "Validation: |          | 0/? [00:00<?, ?it/s]\u001B[A\n",
      "Validation:   0%|          | 0/11 [00:00<?, ?it/s]\u001B[A\n",
      "Validation DataLoader 0:   0%|          | 0/11 [00:00<?, ?it/s]\u001B[A\n",
      "Validation DataLoader 0:   9%|▉         | 1/11 [00:00<00:00, 35.79it/s]\u001B[A\n",
      "Validation DataLoader 0:  18%|█▊        | 2/11 [00:00<00:00, 23.75it/s]\u001B[A\n",
      "Validation DataLoader 0:  27%|██▋       | 3/11 [00:00<00:00, 20.08it/s]\u001B[A\n",
      "Validation DataLoader 0:  36%|███▋      | 4/11 [00:00<00:00, 18.76it/s]\u001B[A\n",
      "Validation DataLoader 0:  45%|████▌     | 5/11 [00:00<00:00, 18.41it/s]\u001B[A\n",
      "Validation DataLoader 0:  55%|█████▍    | 6/11 [00:00<00:00, 18.13it/s]\u001B[A\n",
      "Validation DataLoader 0:  64%|██████▎   | 7/11 [00:00<00:00, 17.99it/s]\u001B[A\n",
      "Validation DataLoader 0:  73%|███████▎  | 8/11 [00:00<00:00, 17.91it/s]\u001B[A\n",
      "Validation DataLoader 0:  82%|████████▏ | 9/11 [00:00<00:00, 17.82it/s]\u001B[A\n",
      "Validation DataLoader 0:  91%|█████████ | 10/11 [00:00<00:00, 17.77it/s]\u001B[A\n",
      "Validation DataLoader 0: 100%|██████████| 11/11 [00:00<00:00, 17.79it/s]\u001B[A\n",
      "Epoch 1: 100%|██████████| 3130/3130 [00:35<00:00, 88.45it/s, v_num=cdzb, train_loss=8.660, val_loss=11.60]\n",
      "Validation: |          | 0/? [00:00<?, ?it/s]\u001B[A\n",
      "Validation:   0%|          | 0/11 [00:00<?, ?it/s]\u001B[A\n",
      "Validation DataLoader 0:   0%|          | 0/11 [00:00<?, ?it/s]\u001B[A\n",
      "Validation DataLoader 0:   9%|▉         | 1/11 [00:00<00:00, 44.22it/s]\u001B[A\n",
      "Validation DataLoader 0:  18%|█▊        | 2/11 [00:00<00:00, 24.17it/s]\u001B[A\n",
      "Validation DataLoader 0:  27%|██▋       | 3/11 [00:00<00:00, 20.65it/s]\u001B[A\n",
      "Validation DataLoader 0:  36%|███▋      | 4/11 [00:00<00:00, 19.13it/s]\u001B[A\n",
      "Validation DataLoader 0:  45%|████▌     | 5/11 [00:00<00:00, 18.38it/s]\u001B[A\n",
      "Validation DataLoader 0:  55%|█████▍    | 6/11 [00:00<00:00, 18.15it/s]\u001B[A\n",
      "Validation DataLoader 0:  64%|██████▎   | 7/11 [00:00<00:00, 17.94it/s]\u001B[A\n",
      "Validation DataLoader 0:  73%|███████▎  | 8/11 [00:00<00:00, 17.84it/s]\u001B[A\n",
      "Validation DataLoader 0:  82%|████████▏ | 9/11 [00:00<00:00, 17.77it/s]\u001B[A\n",
      "Validation DataLoader 0:  91%|█████████ | 10/11 [00:00<00:00, 17.71it/s]\u001B[A\n",
      "Validation DataLoader 0: 100%|██████████| 11/11 [00:00<00:00, 17.74it/s]\u001B[A\n",
      "Epoch 2: 100%|██████████| 3130/3130 [00:35<00:00, 88.86it/s, v_num=cdzb, train_loss=9.550, val_loss=10.40]\n",
      "Validation: |          | 0/? [00:00<?, ?it/s]\u001B[A\n",
      "Validation:   0%|          | 0/11 [00:00<?, ?it/s]\u001B[A\n",
      "Validation DataLoader 0:   0%|          | 0/11 [00:00<?, ?it/s]\u001B[A\n",
      "Validation DataLoader 0:   9%|▉         | 1/11 [00:00<00:00, 62.00it/s]\u001B[A\n",
      "Validation DataLoader 0:  18%|█▊        | 2/11 [00:00<00:00, 26.33it/s]\u001B[A\n",
      "Validation DataLoader 0:  27%|██▋       | 3/11 [00:00<00:00, 20.85it/s]\u001B[A\n",
      "Validation DataLoader 0:  36%|███▋      | 4/11 [00:00<00:00, 19.96it/s]\u001B[A\n",
      "Validation DataLoader 0:  45%|████▌     | 5/11 [00:00<00:00, 19.31it/s]\u001B[A\n",
      "Validation DataLoader 0:  55%|█████▍    | 6/11 [00:00<00:00, 18.90it/s]\u001B[A\n",
      "Validation DataLoader 0:  64%|██████▎   | 7/11 [00:00<00:00, 18.60it/s]\u001B[A\n",
      "Validation DataLoader 0:  73%|███████▎  | 8/11 [00:00<00:00, 18.44it/s]\u001B[A\n",
      "Validation DataLoader 0:  82%|████████▏ | 9/11 [00:00<00:00, 18.27it/s]\u001B[A\n",
      "Validation DataLoader 0:  91%|█████████ | 10/11 [00:00<00:00, 18.13it/s]\u001B[A\n",
      "Validation DataLoader 0: 100%|██████████| 11/11 [00:00<00:00, 18.12it/s]\u001B[A\n",
      "Epoch 3: 100%|██████████| 3130/3130 [00:35<00:00, 88.63it/s, v_num=cdzb, train_loss=8.340, val_loss=9.920]\n",
      "Validation: |          | 0/? [00:00<?, ?it/s]\u001B[A\n",
      "Validation:   0%|          | 0/11 [00:00<?, ?it/s]\u001B[A\n",
      "Validation DataLoader 0:   0%|          | 0/11 [00:00<?, ?it/s]\u001B[A\n",
      "Validation DataLoader 0:   9%|▉         | 1/11 [00:00<00:00, 49.95it/s]\u001B[A\n",
      "Validation DataLoader 0:  18%|█▊        | 2/11 [00:00<00:00, 25.45it/s]\u001B[A\n",
      "Validation DataLoader 0:  27%|██▋       | 3/11 [00:00<00:00, 21.17it/s]\u001B[A\n",
      "Validation DataLoader 0:  36%|███▋      | 4/11 [00:00<00:00, 19.59it/s]\u001B[A\n",
      "Validation DataLoader 0:  45%|████▌     | 5/11 [00:00<00:00, 18.95it/s]\u001B[A\n",
      "Validation DataLoader 0:  55%|█████▍    | 6/11 [00:00<00:00, 18.60it/s]\u001B[A\n",
      "Validation DataLoader 0:  64%|██████▎   | 7/11 [00:00<00:00, 18.36it/s]\u001B[A\n",
      "Validation DataLoader 0:  73%|███████▎  | 8/11 [00:00<00:00, 18.22it/s]\u001B[A\n",
      "Validation DataLoader 0:  82%|████████▏ | 9/11 [00:00<00:00, 18.09it/s]\u001B[A\n",
      "Validation DataLoader 0:  91%|█████████ | 10/11 [00:00<00:00, 18.01it/s]\u001B[A\n",
      "Validation DataLoader 0: 100%|██████████| 11/11 [00:00<00:00, 17.99it/s]\u001B[A\n",
      "Epoch 4: 100%|██████████| 3130/3130 [00:35<00:00, 87.41it/s, v_num=cdzb, train_loss=8.590, val_loss=9.500]\n",
      "Validation: |          | 0/? [00:00<?, ?it/s]\u001B[A\n",
      "Validation:   0%|          | 0/11 [00:00<?, ?it/s]\u001B[A\n",
      "Validation DataLoader 0:   0%|          | 0/11 [00:00<?, ?it/s]\u001B[A\n",
      "Validation DataLoader 0:   9%|▉         | 1/11 [00:00<00:00, 50.74it/s]\u001B[A\n",
      "Validation DataLoader 0:  18%|█▊        | 2/11 [00:00<00:00, 25.41it/s]\u001B[A\n",
      "Validation DataLoader 0:  27%|██▋       | 3/11 [00:00<00:00, 21.10it/s]\u001B[A\n",
      "Validation DataLoader 0:  36%|███▋      | 4/11 [00:00<00:00, 19.93it/s]\u001B[A\n",
      "Validation DataLoader 0:  45%|████▌     | 5/11 [00:00<00:00, 19.23it/s]\u001B[A\n",
      "Validation DataLoader 0:  55%|█████▍    | 6/11 [00:00<00:00, 18.78it/s]\u001B[A\n",
      "Validation DataLoader 0:  64%|██████▎   | 7/11 [00:00<00:00, 18.49it/s]\u001B[A\n",
      "Validation DataLoader 0:  73%|███████▎  | 8/11 [00:00<00:00, 18.30it/s]\u001B[A\n",
      "Validation DataLoader 0:  82%|████████▏ | 9/11 [00:00<00:00, 18.18it/s]\u001B[A\n",
      "Validation DataLoader 0:  91%|█████████ | 10/11 [00:00<00:00, 18.08it/s]\u001B[A\n",
      "Validation DataLoader 0: 100%|██████████| 11/11 [00:00<00:00, 18.05it/s]\u001B[A\n",
      "Epoch 4: 100%|██████████| 3130/3130 [00:37<00:00, 82.94it/s, v_num=cdzb, train_loss=8.590, val_loss=9.370]"
     ]
    },
    {
     "name": "stderr",
     "output_type": "stream",
     "text": [
      "`Trainer.fit` stopped: `max_epochs=5` reached.\n"
     ]
    },
    {
     "name": "stdout",
     "output_type": "stream",
     "text": [
      "Epoch 4: 100%|██████████| 3130/3130 [00:49<00:00, 63.02it/s, v_num=cdzb, train_loss=8.590, val_loss=9.370]\n"
     ]
    }
   ],
   "source": [
    "EMBEDDING_DIM = 300\n",
    "EPOCHS = 5\n",
    "LR = 1e-3\n",
    "\n",
    "model_res_pretrained = ResVecClassifier(VOCAB_SIZE, EMBEDDING_DIM, CLASSES_NUM).to(device)\n",
    "criterion = torch.nn.CrossEntropyLoss()\n",
    "\n",
    "train_module = TrainLightningModuleConcat(model_res_pretrained, LR, criterion)\n",
    "\n",
    "trainer = pl.Trainer(\n",
    "    logger=wandb_logger,\n",
    "    accelerator=device.type,\n",
    "    max_epochs=EPOCHS\n",
    ")\n",
    "trainer.fit(train_module, train_dataloader_snippet, val_dataloader_snippet)"
   ]
  },
  {
   "cell_type": "code",
   "execution_count": 95,
   "metadata": {
    "collapsed": false,
    "execution": {
     "iopub.execute_input": "2024-12-14T17:20:23.363843Z",
     "iopub.status.busy": "2024-12-14T17:20:23.363160Z",
     "iopub.status.idle": "2024-12-14T17:20:44.446444Z",
     "shell.execute_reply": "2024-12-14T17:20:44.444952Z",
     "shell.execute_reply.started": "2024-12-14T17:20:23.363799Z"
    },
    "tags": []
   },
   "outputs": [
    {
     "name": "stderr",
     "output_type": "stream",
     "text": [
      "wandb:                                                                                \n",
      "wandb: \n",
      "wandb: Run history:\n",
      "wandb:               epoch ▁▁▁▁▁▃▃▃▃▃▃▃▃▃▃▃▃▅▅▅▅▅▅▅▆▆▆▆▆▆▆▆▆▆▆█████\n",
      "wandb:          train_loss █▅▅▃▅▄▅▄▂▃▂▁▂▃▃▂▂▂▄▁▁▁▄▂▂▃▂▂▃▁▂▃▂▁▃▂▃▃▂▁\n",
      "wandb: trainer/global_step ▁▁▁▁▁▂▃▃▃▃▃▃▄▄▄▄▄▄▄▄▅▅▅▅▅▅▅▆▆▆▆▆▇▇▇▇▇▇██\n",
      "wandb:            val_loss █▄▃▁▁\n",
      "wandb: \n",
      "wandb: Run summary:\n",
      "wandb:               epoch 4\n",
      "wandb:          train_loss 8.5873\n",
      "wandb: trainer/global_step 15649\n",
      "wandb:            val_loss 9.37033\n",
      "wandb: \n",
      "wandb: 🚀 View run Pretrained_embedding_with_snippet at: https://wandb.ai/vldmrl-org/iad-hw4/runs/c1hvcdzb\n",
      "wandb: ⭐️ View project at: https://wandb.ai/vldmrl-org/iad-hw4\n",
      "wandb: Synced 5 W&B file(s), 0 media file(s), 10 artifact file(s) and 0 other file(s)\n",
      "wandb: Find logs at: ./wandb/run-20241214_171241-c1hvcdzb/logs\n"
     ]
    }
   ],
   "source": [
    "run6.finish()"
   ]
  },
  {
   "cell_type": "code",
   "execution_count": 96,
   "metadata": {
    "execution": {
     "iopub.execute_input": "2024-12-14T17:20:44.448688Z",
     "iopub.status.busy": "2024-12-14T17:20:44.448074Z",
     "iopub.status.idle": "2024-12-14T17:20:44.461484Z",
     "shell.execute_reply": "2024-12-14T17:20:44.460437Z",
     "shell.execute_reply.started": "2024-12-14T17:20:44.448656Z"
    }
   },
   "outputs": [],
   "source": [
    "# Вывод: замороженные предобученный эмбеддинг обучается либо очень долго, либо очень плохо. Причиной этому может быть уникальность словаря нашего датасета или размер эмбеддинга"
   ]
  },
  {
   "cell_type": "markdown",
   "metadata": {
    "id": "w8ziz2ATM_zl"
   },
   "source": [
    "__[1.5 балла] Задание 7:__ Зафайнтьюньте трансформер для решения задачи с помощью библиотеки `hugging face`. Выбор предобученной модели кратко обоснуйте."
   ]
  },
  {
   "cell_type": "markdown",
   "metadata": {
    "id": "GoVv-AS4M_zl"
   },
   "source": [
    "__Ваш лог экспериментов:__\n",
    "\n",
    "-\n",
    "-\n",
    "-"
   ]
  },
  {
   "cell_type": "code",
   "execution_count": 97,
   "metadata": {
    "execution": {
     "iopub.execute_input": "2024-12-14T17:20:44.464344Z",
     "iopub.status.busy": "2024-12-14T17:20:44.463062Z",
     "iopub.status.idle": "2024-12-14T17:20:44.535100Z",
     "shell.execute_reply": "2024-12-14T17:20:44.532219Z",
     "shell.execute_reply.started": "2024-12-14T17:20:44.464295Z"
    },
    "id": "Dg02xRLrM_zl"
   },
   "outputs": [
    {
     "ename": "ModuleNotFoundError",
     "evalue": "No module named 'transformers'",
     "output_type": "error",
     "traceback": [
      "\u001B[0;31m---------------------------------------------------------------------------\u001B[0m",
      "\u001B[0;31mModuleNotFoundError\u001B[0m                       Traceback (most recent call last)",
      "\u001B[0;32m/tmp/ipykernel_4558/1800332320.py\u001B[0m in \u001B[0;36m<cell line: 4>\u001B[0;34m()\u001B[0m\n\u001B[1;32m      2\u001B[0m \u001B[0;31m# На семинаре его обучали с помощью лайтнинга. Попробую повторить процесс\u001B[0m\u001B[0;34m\u001B[0m\u001B[0;34m\u001B[0m\u001B[0m\n\u001B[1;32m      3\u001B[0m \u001B[0;34m\u001B[0m\u001B[0m\n\u001B[0;32m----> 4\u001B[0;31m \u001B[0;32mimport\u001B[0m \u001B[0mtransformers\u001B[0m\u001B[0;34m\u001B[0m\u001B[0;34m\u001B[0m\u001B[0m\n\u001B[0m\u001B[1;32m      5\u001B[0m \u001B[0;32mfrom\u001B[0m \u001B[0mpytorch_lightning\u001B[0m\u001B[0;34m.\u001B[0m\u001B[0mcallbacks\u001B[0m \u001B[0;32mimport\u001B[0m \u001B[0mCallback\u001B[0m\u001B[0;34m,\u001B[0m \u001B[0mModelCheckpoint\u001B[0m\u001B[0;34m\u001B[0m\u001B[0;34m\u001B[0m\u001B[0m\n\u001B[1;32m      6\u001B[0m \u001B[0;32mfrom\u001B[0m \u001B[0mpytorch_lightning\u001B[0m\u001B[0;34m.\u001B[0m\u001B[0mloggers\u001B[0m \u001B[0;32mimport\u001B[0m \u001B[0mWandbLogger\u001B[0m\u001B[0;34m\u001B[0m\u001B[0;34m\u001B[0m\u001B[0m\n",
      "\u001B[0;31mModuleNotFoundError\u001B[0m: No module named 'transformers'"
     ]
    }
   ],
   "source": [
    "# Буду файнтюнить ruT5-base, как на семинаре, поскольку эта маленький трансформер предназначенный для русскомго языка\n",
    "# На семинаре его обучали с помощью лайтнинга. Попробую повторить процесс\n",
    "\n",
    "import transformers\n",
    "from pytorch_lightning.callbacks import Callback, ModelCheckpoint\n",
    "from pytorch_lightning.loggers import WandbLogger\n",
    "from torch.utils.data import DataLoader, Dataset, random_split\n",
    "from transformers import T5ForConditionalGeneration, T5Tokenizer"
   ]
  },
  {
   "cell_type": "code",
   "execution_count": null,
   "metadata": {
    "collapsed": false
   },
   "outputs": [],
   "source": [
    "model_finetuned = None # TODO"
   ]
  },
  {
   "cell_type": "markdown",
   "metadata": {
    "id": "vt8mcUllUmM8"
   },
   "source": [
    "Сравните все обученные модели между собой на тестовой выборке."
   ]
  },
  {
   "cell_type": "code",
   "execution_count": 98,
   "metadata": {
    "execution": {
     "iopub.execute_input": "2024-12-14T17:25:22.060975Z",
     "iopub.status.busy": "2024-12-14T17:25:22.059853Z",
     "iopub.status.idle": "2024-12-14T17:25:22.086323Z",
     "shell.execute_reply": "2024-12-14T17:25:22.085228Z",
     "shell.execute_reply.started": "2024-12-14T17:25:22.060927Z"
    },
    "tags": []
   },
   "outputs": [],
   "source": [
    "wandb_logger = WandbLogger(\n",
    "    log_model='all'\n",
    ")"
   ]
  },
  {
   "cell_type": "code",
   "execution_count": 99,
   "metadata": {
    "collapsed": false,
    "execution": {
     "iopub.execute_input": "2024-12-14T17:25:22.836091Z",
     "iopub.status.busy": "2024-12-14T17:25:22.834762Z",
     "iopub.status.idle": "2024-12-14T17:25:24.153536Z",
     "shell.execute_reply": "2024-12-14T17:25:24.152234Z",
     "shell.execute_reply.started": "2024-12-14T17:25:22.836038Z"
    },
    "tags": []
   },
   "outputs": [
    {
     "name": "stderr",
     "output_type": "stream",
     "text": [
      "wandb: Tracking run with wandb version 0.18.5\n",
      "wandb: Run data is saved locally in /home/jupyter/work/resources/hw2/wandb/run-20241214_172522-j6zic8g1\n",
      "wandb: Run `wandb offline` to turn off syncing.\n",
      "wandb: Syncing run inference2\n",
      "wandb: ⭐️ View project at https://wandb.ai/vldmrl-org/iad-hw4\n",
      "wandb: 🚀 View run at https://wandb.ai/vldmrl-org/iad-hw4/runs/j6zic8g1\n"
     ]
    }
   ],
   "source": [
    "run_inference = wandb.init(project=\"iad-hw4\", name=\"inference2\", resume=\"allow\")"
   ]
  },
  {
   "cell_type": "code",
   "execution_count": 100,
   "metadata": {
    "collapsed": false,
    "execution": {
     "iopub.execute_input": "2024-12-14T17:25:24.156485Z",
     "iopub.status.busy": "2024-12-14T17:25:24.155771Z",
     "iopub.status.idle": "2024-12-14T17:25:26.025935Z",
     "shell.execute_reply": "2024-12-14T17:25:26.024744Z",
     "shell.execute_reply.started": "2024-12-14T17:25:24.156452Z"
    },
    "tags": []
   },
   "outputs": [
    {
     "name": "stdout",
     "output_type": "stream",
     "text": [
      "Exact Match: 0.9981899261474609\n",
      "Precision: 0.5158630609512329\n",
      "Recall: 0.7971473336219788\n",
      "f2 score: 0.7187634137645732\n"
     ]
    }
   ],
   "source": [
    "# baseline\n",
    "TRESHOLD = best_threshold_base\n",
    "\n",
    "pred_prob, target = get_predict(model_baseline, test_dataset)\n",
    "y_pred = 1 * (pred_prob > TRESHOLD)\n",
    "print('Exact Match:', exact_match(target, y_pred))\n",
    "print('Precision:', precision(target, y_pred))\n",
    "print('Recall:', recall(target, y_pred))\n",
    "print('f2 score:', f_score(target, y_pred, 2))"
   ]
  },
  {
   "cell_type": "code",
   "execution_count": 103,
   "metadata": {
    "execution": {
     "iopub.execute_input": "2024-12-14T17:28:45.158951Z",
     "iopub.status.busy": "2024-12-14T17:28:45.157505Z",
     "iopub.status.idle": "2024-12-14T17:31:09.774177Z",
     "shell.execute_reply": "2024-12-14T17:31:09.772823Z",
     "shell.execute_reply.started": "2024-12-14T17:28:45.158900Z"
    },
    "tags": []
   },
   "outputs": [
    {
     "name": "stdout",
     "output_type": "stream",
     "text": [
      "model concat\n",
      "Exact Match: 0.9983422160148621\n",
      "Precision: 0.5432437658309937\n",
      "Recall: 0.8528434038162231\n",
      "f2 score: 0.7655810607432414\n",
      "model 1conv\n",
      "Exact Match: 0.9983150362968445\n",
      "Precision: 0.5520628094673157\n",
      "Recall: 0.8599421977996826\n",
      "f2 score: 0.7736508724682344\n",
      "model 2conv\n",
      "Exact Match: 0.9980069398880005\n",
      "Precision: 0.4958565831184387\n",
      "Recall: 0.8007535338401794\n",
      "f2 score: 0.7130626077715021\n",
      "model res\n",
      "Exact Match: 0.9980902075767517\n",
      "Precision: 0.5096525549888611\n",
      "Recall: 0.8239336609840393\n",
      "f2 score: 0.7334732896904187\n",
      "model res_pretrained\n",
      "Exact Match: 0.9969848990440369\n",
      "Precision: 0.3356613516807556\n",
      "Recall: 0.6686286330223083\n",
      "f2 score: 0.5579368755487518\n"
     ]
    }
   ],
   "source": [
    "# без файнтюна\n",
    "# TRESHOLD (для сниппетов) из прошлых заданий буду использовать для всех моделей \n",
    "TRESHOLD = best_threshold_snippet\n",
    "\n",
    "models = {\n",
    "    'model concat': model_concat,\n",
    "    'model 1conv': model_1conv,\n",
    "    'model 2conv': model_2conv,\n",
    "    'model res': model_res,\n",
    "    'model res_pretrained': model_res_pretrained,\n",
    "    #'model fine-tuned transformer': model_finetuned\n",
    "}\n",
    "for model_name, model in models.items():\n",
    "    print(model_name)\n",
    "    pred_prob, target = get_predict_snippet(model, test_dataset_snippet)\n",
    "    y_pred = 1 * (pred_prob > TRESHOLD)\n",
    "    print('Exact Match:', exact_match(target, y_pred))\n",
    "    print('Precision:', precision(target, y_pred))\n",
    "    print('Recall:', recall(target, y_pred))\n",
    "    print('f2 score:', f_score(target, y_pred, 2))\n",
    "    \n",
    "# И тут у меня упали все модели...\n",
    "# Может успею всё обучить ещё раз\n",
    "\n",
    "# Со второго раза всё заработало (возможно я сам дропнул ядро)"
   ]
  },
  {
   "cell_type": "code",
   "execution_count": null,
   "metadata": {
    "collapsed": false,
    "execution": {
     "iopub.status.busy": "2024-12-14T17:28:41.748515Z",
     "iopub.status.idle": "2024-12-14T17:28:41.749018Z",
     "shell.execute_reply": "2024-12-14T17:28:41.748809Z",
     "shell.execute_reply.started": "2024-12-14T17:28:41.748786Z"
    }
   },
   "outputs": [],
   "source": [
    "# Зафайнтюненая модель\n",
    "# TODO"
   ]
  },
  {
   "cell_type": "markdown",
   "metadata": {
    "id": "SoCALHfJM_zm"
   },
   "source": [
    "## Часть 2: предсказание категорий (0.5 балла)\n",
    "\n",
    "**[0.5 балла] Задание 8:** Возьмите датасет `df_vk` и для всех новостей из него предскажите категории с помощью лучшей, получившейся у вас модели."
   ]
  },
  {
   "cell_type": "code",
   "execution_count": 104,
   "metadata": {
    "execution": {
     "iopub.execute_input": "2024-12-14T17:31:22.177485Z",
     "iopub.status.busy": "2024-12-14T17:31:22.176525Z",
     "iopub.status.idle": "2024-12-14T17:31:22.198066Z",
     "shell.execute_reply": "2024-12-14T17:31:22.196871Z",
     "shell.execute_reply.started": "2024-12-14T17:31:22.177451Z"
    },
    "id": "99fmOzZUM_zm",
    "tags": []
   },
   "outputs": [],
   "source": [
    "# Буду предсказывать категории по model 1conv, как самой удачной по метрике f2\n",
    "df_vk['target_tags'] = [[0]] * df_vk.shape[0]"
   ]
  },
  {
   "cell_type": "code",
   "execution_count": 107,
   "metadata": {
    "execution": {
     "iopub.execute_input": "2024-12-14T17:33:31.664077Z",
     "iopub.status.busy": "2024-12-14T17:33:31.662603Z",
     "iopub.status.idle": "2024-12-14T17:33:31.770979Z",
     "shell.execute_reply": "2024-12-14T17:33:31.769531Z",
     "shell.execute_reply.started": "2024-12-14T17:33:31.663997Z"
    },
    "tags": []
   },
   "outputs": [
    {
     "data": {
      "text/html": [
       "<div>\n",
       "<style scoped>\n",
       "    .dataframe tbody tr th:only-of-type {\n",
       "        vertical-align: middle;\n",
       "    }\n",
       "\n",
       "    .dataframe tbody tr th {\n",
       "        vertical-align: top;\n",
       "    }\n",
       "\n",
       "    .dataframe thead th {\n",
       "        text-align: right;\n",
       "    }\n",
       "</style>\n",
       "<table border=\"1\" class=\"dataframe\">\n",
       "  <thead>\n",
       "    <tr style=\"text-align: right;\">\n",
       "      <th></th>\n",
       "      <th>id</th>\n",
       "      <th>href</th>\n",
       "      <th>datetime</th>\n",
       "      <th>title</th>\n",
       "      <th>likes</th>\n",
       "      <th>comments</th>\n",
       "      <th>snippet</th>\n",
       "      <th>title_clean</th>\n",
       "      <th>snippet_clean</th>\n",
       "      <th>target_tags</th>\n",
       "    </tr>\n",
       "  </thead>\n",
       "  <tbody>\n",
       "    <tr>\n",
       "      <th>0</th>\n",
       "      <td>24006362</td>\n",
       "      <td>/20190201/1550280358.html</td>\n",
       "      <td>2019-02-01 23:13:17</td>\n",
       "      <td>В ДНР заявили о задержании диверсантов, причас...</td>\n",
       "      <td>15</td>\n",
       "      <td>28</td>\n",
       "      <td>NaN</td>\n",
       "      <td>в днр заявили о задержании диверсантов причаст...</td>\n",
       "      <td>#UNKN</td>\n",
       "      <td>[0]</td>\n",
       "    </tr>\n",
       "    <tr>\n",
       "      <th>1</th>\n",
       "      <td>24006240</td>\n",
       "      <td>/20190201/1550268781.html</td>\n",
       "      <td>2019-02-01 22:38:41</td>\n",
       "      <td>Житель Урала \"заминировал\" ТЦ из-за снятия  со...</td>\n",
       "      <td>32</td>\n",
       "      <td>42</td>\n",
       "      <td>NaN</td>\n",
       "      <td>житель урала заминировал тц изза снятия  сотов...</td>\n",
       "      <td>#UNKN</td>\n",
       "      <td>[0]</td>\n",
       "    </tr>\n",
       "    <tr>\n",
       "      <th>2</th>\n",
       "      <td>24006100</td>\n",
       "      <td>/20190201/1550282212.html</td>\n",
       "      <td>2019-02-01 21:58:52</td>\n",
       "      <td>В Черном море нашли \"потерянный флот Гитлера\"</td>\n",
       "      <td>84</td>\n",
       "      <td>23</td>\n",
       "      <td>NaN</td>\n",
       "      <td>в черном море нашли потерянный флот гитлера</td>\n",
       "      <td>#UNKN</td>\n",
       "      <td>[0]</td>\n",
       "    </tr>\n",
       "    <tr>\n",
       "      <th>3</th>\n",
       "      <td>24005972</td>\n",
       "      <td>/20190202/1550283179.html</td>\n",
       "      <td>2019-02-01 21:27:06</td>\n",
       "      <td>В США освободили задержанную российскую актрис...</td>\n",
       "      <td>58</td>\n",
       "      <td>35</td>\n",
       "      <td>NaN</td>\n",
       "      <td>в сша освободили задержанную российскую актрис...</td>\n",
       "      <td>#UNKN</td>\n",
       "      <td>[0]</td>\n",
       "    </tr>\n",
       "    <tr>\n",
       "      <th>4</th>\n",
       "      <td>24005764</td>\n",
       "      <td>/20190201/1550262848.html</td>\n",
       "      <td>2019-02-01 20:55:54</td>\n",
       "      <td>Толкнувший Скабееву депутат Рады заявил о гроз...</td>\n",
       "      <td>45</td>\n",
       "      <td>145</td>\n",
       "      <td>NaN</td>\n",
       "      <td>толкнувший скабееву депутат рады заявил о гроз...</td>\n",
       "      <td>#UNKN</td>\n",
       "      <td>[0]</td>\n",
       "    </tr>\n",
       "    <tr>\n",
       "      <th>5</th>\n",
       "      <td>24005669</td>\n",
       "      <td>/20190201/1550256715.html</td>\n",
       "      <td>2019-02-01 20:43:42</td>\n",
       "      <td>Жительница Белгорода перевела мошенникам 43 ми...</td>\n",
       "      <td>79</td>\n",
       "      <td>155</td>\n",
       "      <td>NaN</td>\n",
       "      <td>жительница белгорода перевела мошенникам 43 ми...</td>\n",
       "      <td>#UNKN</td>\n",
       "      <td>[0]</td>\n",
       "    </tr>\n",
       "    <tr>\n",
       "      <th>6</th>\n",
       "      <td>24005531</td>\n",
       "      <td>/20190201/1550266666.html</td>\n",
       "      <td>2019-02-01 20:20:22</td>\n",
       "      <td>В Подмосковье врачи спасли руку пациента, пере...</td>\n",
       "      <td>155</td>\n",
       "      <td>47</td>\n",
       "      <td>NaN</td>\n",
       "      <td>в подмосковье врачи спасли руку пациента перес...</td>\n",
       "      <td>#UNKN</td>\n",
       "      <td>[0]</td>\n",
       "    </tr>\n",
       "    <tr>\n",
       "      <th>7</th>\n",
       "      <td>24005400</td>\n",
       "      <td>/20190201/1550280682.html</td>\n",
       "      <td>2019-02-01 19:53:43</td>\n",
       "      <td>Трамп хочет заключить новый договор на смену Д...</td>\n",
       "      <td>45</td>\n",
       "      <td>72</td>\n",
       "      <td>NaN</td>\n",
       "      <td>трамп хочет заключить новый договор на смену д...</td>\n",
       "      <td>#UNKN</td>\n",
       "      <td>[0]</td>\n",
       "    </tr>\n",
       "    <tr>\n",
       "      <th>8</th>\n",
       "      <td>24005074</td>\n",
       "      <td>/20190201/1550257362.html</td>\n",
       "      <td>2019-02-01 19:02:05</td>\n",
       "      <td>Лукашенко поручил убрать из школьных программ ...</td>\n",
       "      <td>144</td>\n",
       "      <td>151</td>\n",
       "      <td>NaN</td>\n",
       "      <td>лукашенко поручил убрать из школьных программ ...</td>\n",
       "      <td>#UNKN</td>\n",
       "      <td>[0]</td>\n",
       "    </tr>\n",
       "    <tr>\n",
       "      <th>9</th>\n",
       "      <td>24004899</td>\n",
       "      <td>https://rsport.ria.ru/20190201/1550277848.html</td>\n",
       "      <td>2019-02-01 18:35:07</td>\n",
       "      <td>Сборная России вышла в финал чемпионата мира п...</td>\n",
       "      <td>407</td>\n",
       "      <td>55</td>\n",
       "      <td>NaN</td>\n",
       "      <td>сборная россии вышла в финал чемпионата мира п...</td>\n",
       "      <td>#UNKN</td>\n",
       "      <td>[0]</td>\n",
       "    </tr>\n",
       "    <tr>\n",
       "      <th>10</th>\n",
       "      <td>24004566</td>\n",
       "      <td>/20190201/1550278641.html</td>\n",
       "      <td>2019-02-01 17:55:40</td>\n",
       "      <td>В США задержали актрису Ирину Усок по подозрен...</td>\n",
       "      <td>38</td>\n",
       "      <td>88</td>\n",
       "      <td>NaN</td>\n",
       "      <td>в сша задержали актрису ирину усок по подозрен...</td>\n",
       "      <td>#UNKN</td>\n",
       "      <td>[0]</td>\n",
       "    </tr>\n",
       "    <tr>\n",
       "      <th>11</th>\n",
       "      <td>24004512</td>\n",
       "      <td>https://rsport.ria.ru/20190201/1550269606.html</td>\n",
       "      <td>2019-02-01 17:49:02</td>\n",
       "      <td>Иван Ухов будет лишен олимпийского золота из-з...</td>\n",
       "      <td>36</td>\n",
       "      <td>68</td>\n",
       "      <td>NaN</td>\n",
       "      <td>иван ухов будет лишен олимпийского золота изза...</td>\n",
       "      <td>#UNKN</td>\n",
       "      <td>[0]</td>\n",
       "    </tr>\n",
       "    <tr>\n",
       "      <th>12</th>\n",
       "      <td>24004064</td>\n",
       "      <td>/20190201/1550276606.html</td>\n",
       "      <td>2019-02-01 17:07:12</td>\n",
       "      <td>В Кабо-Верде задержали 11 российских моряков</td>\n",
       "      <td>89</td>\n",
       "      <td>144</td>\n",
       "      <td>NaN</td>\n",
       "      <td>в кабоверде задержали 11 российских моряков</td>\n",
       "      <td>#UNKN</td>\n",
       "      <td>[0]</td>\n",
       "    </tr>\n",
       "    <tr>\n",
       "      <th>13</th>\n",
       "      <td>24003830</td>\n",
       "      <td>/20190201/1550274258.html</td>\n",
       "      <td>2019-02-01 16:43:19</td>\n",
       "      <td>Шесть студентов МГУ задержали по подозрению в ...</td>\n",
       "      <td>143</td>\n",
       "      <td>70</td>\n",
       "      <td>NaN</td>\n",
       "      <td>шесть студентов мгу задержали по подозрению в ...</td>\n",
       "      <td>#UNKN</td>\n",
       "      <td>[0]</td>\n",
       "    </tr>\n",
       "    <tr>\n",
       "      <th>14</th>\n",
       "      <td>24003306</td>\n",
       "      <td>/20190201/1550266886.html</td>\n",
       "      <td>2019-02-01 15:44:06</td>\n",
       "      <td>Ученые из Санкт-Петербурга создали \"нано-килле...</td>\n",
       "      <td>270</td>\n",
       "      <td>127</td>\n",
       "      <td>NaN</td>\n",
       "      <td>ученые из санктпетербурга создали нанокиллеров...</td>\n",
       "      <td>#UNKN</td>\n",
       "      <td>[0]</td>\n",
       "    </tr>\n",
       "    <tr>\n",
       "      <th>15</th>\n",
       "      <td>24002870</td>\n",
       "      <td>/20190201/1550259302.html</td>\n",
       "      <td>2019-02-01 15:07:51</td>\n",
       "      <td>\"Хаббл\" открыл древнейшую галактику Вселенной ...</td>\n",
       "      <td>167</td>\n",
       "      <td>145</td>\n",
       "      <td>NaN</td>\n",
       "      <td>хаббл открыл древнейшую галактику вселенной ря...</td>\n",
       "      <td>#UNKN</td>\n",
       "      <td>[0]</td>\n",
       "    </tr>\n",
       "    <tr>\n",
       "      <th>16</th>\n",
       "      <td>24002305</td>\n",
       "      <td>/20190201/1550262673.html</td>\n",
       "      <td>2019-02-01 14:21:24</td>\n",
       "      <td>Главврач тутаевской ЦРБ ответил пациентам, наз...</td>\n",
       "      <td>184</td>\n",
       "      <td>256</td>\n",
       "      <td>Ранее в соцсетях появились кадры, на которых з...</td>\n",
       "      <td>главврач тутаевской црб ответил пациентам назв...</td>\n",
       "      <td>ранее в соцсетях появились кадры на которых за...</td>\n",
       "      <td>[0]</td>\n",
       "    </tr>\n",
       "    <tr>\n",
       "      <th>17</th>\n",
       "      <td>24002009</td>\n",
       "      <td>/20190201/1550259935.html</td>\n",
       "      <td>2019-02-01 14:02:47</td>\n",
       "      <td>Назван богатейший человек в истории</td>\n",
       "      <td>84</td>\n",
       "      <td>103</td>\n",
       "      <td>NaN</td>\n",
       "      <td>назван богатейший человек в истории</td>\n",
       "      <td>#UNKN</td>\n",
       "      <td>[0]</td>\n",
       "    </tr>\n",
       "    <tr>\n",
       "      <th>18</th>\n",
       "      <td>24001760</td>\n",
       "      <td>/20190201/1550264316.html</td>\n",
       "      <td>2019-02-01 13:45:03</td>\n",
       "      <td>США 2 февраля приостановят выполнение ДРСМД</td>\n",
       "      <td>64</td>\n",
       "      <td>200</td>\n",
       "      <td>NaN</td>\n",
       "      <td>сша 2 февраля приостановят выполнение дрсмд</td>\n",
       "      <td>#UNKN</td>\n",
       "      <td>[0]</td>\n",
       "    </tr>\n",
       "    <tr>\n",
       "      <th>19</th>\n",
       "      <td>24001412</td>\n",
       "      <td>/20190201/1550261507.html</td>\n",
       "      <td>2019-02-01 13:20:27</td>\n",
       "      <td>Сурки из самарского зоопарка предсказали ранню...</td>\n",
       "      <td>253</td>\n",
       "      <td>83</td>\n",
       "      <td>NaN</td>\n",
       "      <td>сурки из самарского зоопарка предсказали ранню...</td>\n",
       "      <td>#UNKN</td>\n",
       "      <td>[0]</td>\n",
       "    </tr>\n",
       "  </tbody>\n",
       "</table>\n",
       "</div>"
      ],
      "text/plain": [
       "          id  ... target_tags\n",
       "0   24006362  ...         [0]\n",
       "1   24006240  ...         [0]\n",
       "2   24006100  ...         [0]\n",
       "3   24005972  ...         [0]\n",
       "4   24005764  ...         [0]\n",
       "5   24005669  ...         [0]\n",
       "6   24005531  ...         [0]\n",
       "7   24005400  ...         [0]\n",
       "8   24005074  ...         [0]\n",
       "9   24004899  ...         [0]\n",
       "10  24004566  ...         [0]\n",
       "11  24004512  ...         [0]\n",
       "12  24004064  ...         [0]\n",
       "13  24003830  ...         [0]\n",
       "14  24003306  ...         [0]\n",
       "15  24002870  ...         [0]\n",
       "16  24002305  ...         [0]\n",
       "17  24002009  ...         [0]\n",
       "18  24001760  ...         [0]\n",
       "19  24001412  ...         [0]\n",
       "\n",
       "[20 rows x 10 columns]"
      ]
     },
     "execution_count": 107,
     "metadata": {},
     "output_type": "execute_result"
    }
   ],
   "source": [
    "df_vk.head(20)"
   ]
  },
  {
   "cell_type": "code",
   "execution_count": 118,
   "metadata": {
    "execution": {
     "iopub.execute_input": "2024-12-14T17:51:26.512605Z",
     "iopub.status.busy": "2024-12-14T17:51:26.511286Z",
     "iopub.status.idle": "2024-12-14T17:51:26.530185Z",
     "shell.execute_reply": "2024-12-14T17:51:26.529016Z",
     "shell.execute_reply.started": "2024-12-14T17:51:26.512556Z"
    },
    "tags": []
   },
   "outputs": [],
   "source": [
    "def create_text(texts, max_len, vocab):\n",
    "        result = []\n",
    "        for sent in texts:\n",
    "            # {#PAD: 0, #UNKN: 1}\n",
    "            sent_tokenize = [vocab.get(item, 1) for item in word_tokenize(sent)]\n",
    "\n",
    "            # приводим все тексты к max_len\n",
    "            if len(sent_tokenize) >= max_len:\n",
    "                sent_tokenize = sent_tokenize[:max_len]\n",
    "            else:\n",
    "                sent_tokenize += [0] * (max_len - len(sent_tokenize))\n",
    "            result.append(sent_tokenize)\n",
    "        return torch.tensor(result, dtype=torch.int)"
   ]
  },
  {
   "cell_type": "code",
   "execution_count": null,
   "metadata": {},
   "outputs": [],
   "source": []
  },
  {
   "cell_type": "code",
   "execution_count": 132,
   "metadata": {
    "execution": {
     "iopub.execute_input": "2024-12-14T18:14:27.974745Z",
     "iopub.status.busy": "2024-12-14T18:14:27.972895Z",
     "iopub.status.idle": "2024-12-14T18:14:33.754705Z",
     "shell.execute_reply": "2024-12-14T18:14:33.753650Z",
     "shell.execute_reply.started": "2024-12-14T18:14:27.974625Z"
    },
    "tags": []
   },
   "outputs": [],
   "source": [
    "vk_dataset = NewsDataset(df_vk.target_tags.values, df_vk.title_clean.values, vocabulary, VOCAB_SIZE,\n",
    "                                    MAX_TITLE_LEN, CLASSES_NUM, df_vk.snippet_clean.values, MAX_SNIPPET_LEN)"
   ]
  },
  {
   "cell_type": "code",
   "execution_count": 140,
   "metadata": {
    "execution": {
     "iopub.execute_input": "2024-12-14T18:18:21.798075Z",
     "iopub.status.busy": "2024-12-14T18:18:21.796838Z",
     "iopub.status.idle": "2024-12-14T18:18:38.989126Z",
     "shell.execute_reply": "2024-12-14T18:18:38.987780Z",
     "shell.execute_reply.started": "2024-12-14T18:18:21.798042Z"
    },
    "tags": []
   },
   "outputs": [],
   "source": [
    "pred_prob, target = get_predict_snippet(model_1conv, vk_dataset)\n",
    "y_pred = 1 * (pred_prob > TRESHOLD)"
   ]
  },
  {
   "cell_type": "code",
   "execution_count": 141,
   "metadata": {
    "execution": {
     "iopub.execute_input": "2024-12-14T18:18:51.919057Z",
     "iopub.status.busy": "2024-12-14T18:18:51.918110Z",
     "iopub.status.idle": "2024-12-14T18:18:51.942289Z",
     "shell.execute_reply": "2024-12-14T18:18:51.941129Z",
     "shell.execute_reply.started": "2024-12-14T18:18:51.919010Z"
    },
    "tags": []
   },
   "outputs": [
    {
     "data": {
      "text/plain": [
       "tensor([[0, 0, 0,  ..., 0, 0, 0],\n",
       "        [0, 0, 0,  ..., 0, 0, 0],\n",
       "        [0, 0, 0,  ..., 0, 0, 0],\n",
       "        ...,\n",
       "        [0, 0, 0,  ..., 0, 0, 0],\n",
       "        [0, 0, 0,  ..., 0, 0, 0],\n",
       "        [0, 0, 0,  ..., 0, 0, 0]])"
      ]
     },
     "execution_count": 141,
     "metadata": {},
     "output_type": "execute_result"
    }
   ],
   "source": [
    "y_pred"
   ]
  },
  {
   "cell_type": "code",
   "execution_count": 151,
   "metadata": {
    "execution": {
     "iopub.execute_input": "2024-12-14T18:23:55.094263Z",
     "iopub.status.busy": "2024-12-14T18:23:55.092898Z",
     "iopub.status.idle": "2024-12-14T18:23:55.116149Z",
     "shell.execute_reply": "2024-12-14T18:23:55.114944Z",
     "shell.execute_reply.started": "2024-12-14T18:23:55.094197Z"
    },
    "tags": []
   },
   "outputs": [
    {
     "data": {
      "text/plain": [
       "tensor([0, 0, 0,  ..., 0, 0, 0])"
      ]
     },
     "execution_count": 151,
     "metadata": {},
     "output_type": "execute_result"
    }
   ],
   "source": [
    "y_pred[0]"
   ]
  },
  {
   "cell_type": "code",
   "execution_count": 181,
   "metadata": {
    "execution": {
     "iopub.execute_input": "2024-12-14T18:34:33.392157Z",
     "iopub.status.busy": "2024-12-14T18:34:33.390924Z",
     "iopub.status.idle": "2024-12-14T18:34:34.332955Z",
     "shell.execute_reply": "2024-12-14T18:34:34.331694Z",
     "shell.execute_reply.started": "2024-12-14T18:34:33.392105Z"
    },
    "tags": []
   },
   "outputs": [],
   "source": [
    "df_vk[\"target_tags\"] = y_pred.tolist()"
   ]
  },
  {
   "cell_type": "code",
   "execution_count": 186,
   "metadata": {
    "execution": {
     "iopub.execute_input": "2024-12-14T18:35:00.870517Z",
     "iopub.status.busy": "2024-12-14T18:35:00.869295Z",
     "iopub.status.idle": "2024-12-14T18:35:00.969953Z",
     "shell.execute_reply": "2024-12-14T18:35:00.968467Z",
     "shell.execute_reply.started": "2024-12-14T18:35:00.870467Z"
    },
    "tags": []
   },
   "outputs": [
    {
     "data": {
      "text/html": [
       "<div>\n",
       "<style scoped>\n",
       "    .dataframe tbody tr th:only-of-type {\n",
       "        vertical-align: middle;\n",
       "    }\n",
       "\n",
       "    .dataframe tbody tr th {\n",
       "        vertical-align: top;\n",
       "    }\n",
       "\n",
       "    .dataframe thead th {\n",
       "        text-align: right;\n",
       "    }\n",
       "</style>\n",
       "<table border=\"1\" class=\"dataframe\">\n",
       "  <thead>\n",
       "    <tr style=\"text-align: right;\">\n",
       "      <th></th>\n",
       "      <th>id</th>\n",
       "      <th>href</th>\n",
       "      <th>datetime</th>\n",
       "      <th>title</th>\n",
       "      <th>likes</th>\n",
       "      <th>comments</th>\n",
       "      <th>snippet</th>\n",
       "      <th>title_clean</th>\n",
       "      <th>snippet_clean</th>\n",
       "      <th>target_tags</th>\n",
       "    </tr>\n",
       "  </thead>\n",
       "  <tbody>\n",
       "    <tr>\n",
       "      <th>0</th>\n",
       "      <td>24006362</td>\n",
       "      <td>/20190201/1550280358.html</td>\n",
       "      <td>2019-02-01 23:13:17</td>\n",
       "      <td>В ДНР заявили о задержании диверсантов, причас...</td>\n",
       "      <td>15</td>\n",
       "      <td>28</td>\n",
       "      <td>NaN</td>\n",
       "      <td>в днр заявили о задержании диверсантов причаст...</td>\n",
       "      <td>#UNKN</td>\n",
       "      <td>[0, 0, 0, 0, 0, 0, 0, 0, 0, 0, 0, 0, 0, 0, 0, ...</td>\n",
       "    </tr>\n",
       "    <tr>\n",
       "      <th>1</th>\n",
       "      <td>24006240</td>\n",
       "      <td>/20190201/1550268781.html</td>\n",
       "      <td>2019-02-01 22:38:41</td>\n",
       "      <td>Житель Урала \"заминировал\" ТЦ из-за снятия  со...</td>\n",
       "      <td>32</td>\n",
       "      <td>42</td>\n",
       "      <td>NaN</td>\n",
       "      <td>житель урала заминировал тц изза снятия  сотов...</td>\n",
       "      <td>#UNKN</td>\n",
       "      <td>[0, 0, 0, 0, 0, 0, 0, 0, 0, 0, 0, 0, 0, 0, 0, ...</td>\n",
       "    </tr>\n",
       "    <tr>\n",
       "      <th>2</th>\n",
       "      <td>24006100</td>\n",
       "      <td>/20190201/1550282212.html</td>\n",
       "      <td>2019-02-01 21:58:52</td>\n",
       "      <td>В Черном море нашли \"потерянный флот Гитлера\"</td>\n",
       "      <td>84</td>\n",
       "      <td>23</td>\n",
       "      <td>NaN</td>\n",
       "      <td>в черном море нашли потерянный флот гитлера</td>\n",
       "      <td>#UNKN</td>\n",
       "      <td>[0, 0, 0, 0, 0, 0, 0, 0, 0, 0, 0, 0, 0, 0, 0, ...</td>\n",
       "    </tr>\n",
       "    <tr>\n",
       "      <th>3</th>\n",
       "      <td>24005972</td>\n",
       "      <td>/20190202/1550283179.html</td>\n",
       "      <td>2019-02-01 21:27:06</td>\n",
       "      <td>В США освободили задержанную российскую актрис...</td>\n",
       "      <td>58</td>\n",
       "      <td>35</td>\n",
       "      <td>NaN</td>\n",
       "      <td>в сша освободили задержанную российскую актрис...</td>\n",
       "      <td>#UNKN</td>\n",
       "      <td>[0, 0, 0, 0, 0, 0, 0, 0, 0, 0, 0, 0, 0, 0, 0, ...</td>\n",
       "    </tr>\n",
       "    <tr>\n",
       "      <th>4</th>\n",
       "      <td>24005764</td>\n",
       "      <td>/20190201/1550262848.html</td>\n",
       "      <td>2019-02-01 20:55:54</td>\n",
       "      <td>Толкнувший Скабееву депутат Рады заявил о гроз...</td>\n",
       "      <td>45</td>\n",
       "      <td>145</td>\n",
       "      <td>NaN</td>\n",
       "      <td>толкнувший скабееву депутат рады заявил о гроз...</td>\n",
       "      <td>#UNKN</td>\n",
       "      <td>[0, 0, 0, 0, 0, 0, 0, 0, 0, 0, 0, 0, 0, 0, 0, ...</td>\n",
       "    </tr>\n",
       "    <tr>\n",
       "      <th>...</th>\n",
       "      <td>...</td>\n",
       "      <td>...</td>\n",
       "      <td>...</td>\n",
       "      <td>...</td>\n",
       "      <td>...</td>\n",
       "      <td>...</td>\n",
       "      <td>...</td>\n",
       "      <td>...</td>\n",
       "      <td>...</td>\n",
       "      <td>...</td>\n",
       "    </tr>\n",
       "    <tr>\n",
       "      <th>19923</th>\n",
       "      <td>17976905</td>\n",
       "      <td>/politics/20170929/1505812885.html</td>\n",
       "      <td>2017-09-29 03:51:03</td>\n",
       "      <td>Политологи назвали губернаторов, которым грози...</td>\n",
       "      <td>141</td>\n",
       "      <td>114</td>\n",
       "      <td>NaN</td>\n",
       "      <td>политологи назвали губернаторов которым грозит...</td>\n",
       "      <td>#UNKN</td>\n",
       "      <td>[0, 0, 0, 0, 0, 0, 0, 0, 0, 0, 0, 0, 0, 0, 0, ...</td>\n",
       "    </tr>\n",
       "    <tr>\n",
       "      <th>19924</th>\n",
       "      <td>17976766</td>\n",
       "      <td>/politics/20170929/1505809314.html</td>\n",
       "      <td>2017-09-29 03:20:41</td>\n",
       "      <td>Захарова рассказала, какую книгу подписывал Ла...</td>\n",
       "      <td>140</td>\n",
       "      <td>50</td>\n",
       "      <td>NaN</td>\n",
       "      <td>захарова рассказала какую книгу подписывал лав...</td>\n",
       "      <td>#UNKN</td>\n",
       "      <td>[0, 0, 0, 0, 0, 0, 0, 0, 0, 0, 0, 0, 0, 0, 0, ...</td>\n",
       "    </tr>\n",
       "    <tr>\n",
       "      <th>19925</th>\n",
       "      <td>17976601</td>\n",
       "      <td>/science/20170928/1505787196.html</td>\n",
       "      <td>2017-09-29 02:55:49</td>\n",
       "      <td>Современные люди появились более 300 тысяч лет...</td>\n",
       "      <td>202</td>\n",
       "      <td>69</td>\n",
       "      <td>NaN</td>\n",
       "      <td>современные люди появились более 300 тысяч лет...</td>\n",
       "      <td>#UNKN</td>\n",
       "      <td>[0, 0, 0, 0, 0, 0, 0, 0, 0, 0, 0, 0, 0, 0, 0, ...</td>\n",
       "    </tr>\n",
       "    <tr>\n",
       "      <th>19926</th>\n",
       "      <td>17976198</td>\n",
       "      <td>/world/20170929/1505810992.html</td>\n",
       "      <td>2017-09-29 02:00:09</td>\n",
       "      <td>В США ребенок устроил стрельбу</td>\n",
       "      <td>138</td>\n",
       "      <td>51</td>\n",
       "      <td>NaN</td>\n",
       "      <td>в сша ребенок устроил стрельбу</td>\n",
       "      <td>#UNKN</td>\n",
       "      <td>[0, 0, 0, 0, 0, 0, 0, 0, 0, 0, 0, 0, 0, 0, 0, ...</td>\n",
       "    </tr>\n",
       "    <tr>\n",
       "      <th>19927</th>\n",
       "      <td>17976037</td>\n",
       "      <td>/defense_safety/20170929/1505808562.html</td>\n",
       "      <td>2017-09-29 01:28:55</td>\n",
       "      <td>В России впервые сократили число призывников н...</td>\n",
       "      <td>329</td>\n",
       "      <td>241</td>\n",
       "      <td>NaN</td>\n",
       "      <td>в россии впервые сократили число призывников н...</td>\n",
       "      <td>#UNKN</td>\n",
       "      <td>[0, 0, 0, 0, 0, 0, 0, 0, 0, 0, 0, 0, 0, 0, 0, ...</td>\n",
       "    </tr>\n",
       "  </tbody>\n",
       "</table>\n",
       "<p>19928 rows × 10 columns</p>\n",
       "</div>"
      ],
      "text/plain": [
       "             id  ...                                        target_tags\n",
       "0      24006362  ...  [0, 0, 0, 0, 0, 0, 0, 0, 0, 0, 0, 0, 0, 0, 0, ...\n",
       "1      24006240  ...  [0, 0, 0, 0, 0, 0, 0, 0, 0, 0, 0, 0, 0, 0, 0, ...\n",
       "2      24006100  ...  [0, 0, 0, 0, 0, 0, 0, 0, 0, 0, 0, 0, 0, 0, 0, ...\n",
       "3      24005972  ...  [0, 0, 0, 0, 0, 0, 0, 0, 0, 0, 0, 0, 0, 0, 0, ...\n",
       "4      24005764  ...  [0, 0, 0, 0, 0, 0, 0, 0, 0, 0, 0, 0, 0, 0, 0, ...\n",
       "...         ...  ...                                                ...\n",
       "19923  17976905  ...  [0, 0, 0, 0, 0, 0, 0, 0, 0, 0, 0, 0, 0, 0, 0, ...\n",
       "19924  17976766  ...  [0, 0, 0, 0, 0, 0, 0, 0, 0, 0, 0, 0, 0, 0, 0, ...\n",
       "19925  17976601  ...  [0, 0, 0, 0, 0, 0, 0, 0, 0, 0, 0, 0, 0, 0, 0, ...\n",
       "19926  17976198  ...  [0, 0, 0, 0, 0, 0, 0, 0, 0, 0, 0, 0, 0, 0, 0, ...\n",
       "19927  17976037  ...  [0, 0, 0, 0, 0, 0, 0, 0, 0, 0, 0, 0, 0, 0, 0, ...\n",
       "\n",
       "[19928 rows x 10 columns]"
      ]
     },
     "execution_count": 186,
     "metadata": {},
     "output_type": "execute_result"
    }
   ],
   "source": [
    "df_vk"
   ]
  },
  {
   "cell_type": "markdown",
   "metadata": {
    "id": "qpw07S0UM_zm"
   },
   "source": [
    "На всякий случай сохраните табличку с получившимися у вас предсказаниями. Мало ли, вы не доделаете последнее задание, а потом захотите вернуться к нему. Не прогонять же обучение нейросети и инференс по второму кругу..."
   ]
  },
  {
   "cell_type": "code",
   "execution_count": null,
   "metadata": {
    "execution": {
     "iopub.execute_input": "2024-12-14T18:53:40.187840Z",
     "iopub.status.busy": "2024-12-14T18:53:40.186570Z"
    },
    "tags": []
   },
   "outputs": [],
   "source": [
    "df_vk.target_tags.sum(axis=)"
   ]
  },
  {
   "cell_type": "code",
   "execution_count": 187,
   "metadata": {
    "execution": {
     "iopub.execute_input": "2024-12-14T18:35:17.691254Z",
     "iopub.status.busy": "2024-12-14T18:35:17.689641Z",
     "iopub.status.idle": "2024-12-14T18:35:21.807358Z",
     "shell.execute_reply": "2024-12-14T18:35:21.806045Z",
     "shell.execute_reply.started": "2024-12-14T18:35:17.691180Z"
    },
    "id": "alIF9U2tM_zm",
    "tags": []
   },
   "outputs": [],
   "source": [
    "# Ваш код с сохранением данных\n",
    "\n",
    "df_vk.to_csv(\"df_vk\")"
   ]
  },
  {
   "cell_type": "markdown",
   "metadata": {
    "id": "H_jo72yzM_zm"
   },
   "source": [
    "## Часть 3: сентимент-классификатор (1.5 балла)"
   ]
  },
  {
   "cell_type": "markdown",
   "metadata": {
    "id": "uI33vB5bM_zm"
   },
   "source": [
    "В этой части тетрадки нам предстоит прогнать все комментарии из ВК через сентимент-классификатор. Мы будем делать это с помощью библиотеки HuggingFace. В ней есть удобная [функциональность pipline,](https://huggingface.co/docs/transformers/pipeline_tutorial) чтобы прогонять на своих данных уже обученные модели. 🤗🤗🤗"
   ]
  },
  {
   "cell_type": "code",
   "execution_count": 198,
   "metadata": {
    "execution": {
     "iopub.execute_input": "2024-12-14T18:41:37.072270Z",
     "iopub.status.busy": "2024-12-14T18:41:37.070173Z",
     "iopub.status.idle": "2024-12-14T18:41:37.108161Z",
     "shell.execute_reply": "2024-12-14T18:41:37.107052Z",
     "shell.execute_reply.started": "2024-12-14T18:41:37.072232Z"
    },
    "id": "4VEwMUYxM_zm",
    "outputId": "09157c72-c06e-426b-b1a4-bd6794f849d3",
    "tags": []
   },
   "outputs": [
    {
     "data": {
      "text/html": [
       "<div>\n",
       "<style scoped>\n",
       "    .dataframe tbody tr th:only-of-type {\n",
       "        vertical-align: middle;\n",
       "    }\n",
       "\n",
       "    .dataframe tbody tr th {\n",
       "        vertical-align: top;\n",
       "    }\n",
       "\n",
       "    .dataframe thead th {\n",
       "        text-align: right;\n",
       "    }\n",
       "</style>\n",
       "<table border=\"1\" class=\"dataframe\">\n",
       "  <thead>\n",
       "    <tr style=\"text-align: right;\">\n",
       "      <th></th>\n",
       "      <th>id</th>\n",
       "      <th>post_id</th>\n",
       "      <th>datetime</th>\n",
       "      <th>text</th>\n",
       "      <th>likes</th>\n",
       "    </tr>\n",
       "  </thead>\n",
       "  <tbody>\n",
       "    <tr>\n",
       "      <th>0</th>\n",
       "      <td>24006366.0</td>\n",
       "      <td>24006362.0</td>\n",
       "      <td>2019-02-01 23:14:14</td>\n",
       "      <td>ЧВК Вагнера?</td>\n",
       "      <td>5.0</td>\n",
       "    </tr>\n",
       "    <tr>\n",
       "      <th>1</th>\n",
       "      <td>24006370.0</td>\n",
       "      <td>24006362.0</td>\n",
       "      <td>2019-02-01 23:15:23</td>\n",
       "      <td>[id4710641|Евгений], выздоравливай.</td>\n",
       "      <td>3.0</td>\n",
       "    </tr>\n",
       "    <tr>\n",
       "      <th>2</th>\n",
       "      <td>24006371.0</td>\n",
       "      <td>24006362.0</td>\n",
       "      <td>2019-02-01 23:16:21</td>\n",
       "      <td>[id442655034|Андрей], искренне желаю этого все...</td>\n",
       "      <td>4.0</td>\n",
       "    </tr>\n",
       "    <tr>\n",
       "      <th>3</th>\n",
       "      <td>24006374.0</td>\n",
       "      <td>24006362.0</td>\n",
       "      <td>2019-02-01 23:16:38</td>\n",
       "      <td>Опять про Украину новости?</td>\n",
       "      <td>1.0</td>\n",
       "    </tr>\n",
       "    <tr>\n",
       "      <th>4</th>\n",
       "      <td>24006375.0</td>\n",
       "      <td>24006362.0</td>\n",
       "      <td>2019-02-01 23:16:40</td>\n",
       "      <td>Че такое ДНР?</td>\n",
       "      <td>2.0</td>\n",
       "    </tr>\n",
       "  </tbody>\n",
       "</table>\n",
       "</div>"
      ],
      "text/plain": [
       "           id  ...  likes\n",
       "0  24006366.0  ...    5.0\n",
       "1  24006370.0  ...    3.0\n",
       "2  24006371.0  ...    4.0\n",
       "3  24006374.0  ...    1.0\n",
       "4  24006375.0  ...    2.0\n",
       "\n",
       "[5 rows x 5 columns]"
      ]
     },
     "execution_count": 198,
     "metadata": {},
     "output_type": "execute_result"
    }
   ],
   "source": [
    "df_comments.head()"
   ]
  },
  {
   "cell_type": "markdown",
   "metadata": {
    "id": "3gVL29D3M_zm"
   },
   "source": [
    "**[1.5 балла] Задание 9:** Для классификации комментариев на позитивные, негативные и нейтральные будем использовать [модель, о которой можно почитать по ссылке](https://huggingface.co/seara/rubert-tiny2-russian-sentiment)\n",
    "\n",
    "Ответьте на следующие вопросы:\n",
    "\n",
    "1. Как зовут автора модели?\n",
    "2. Как выглядит архитектура модели? Насколько модель большая?\n",
    "3. На каких данных обучена модель? Адекватно ли использовать её для классификации комментариев ВК?"
   ]
  },
  {
   "cell_type": "markdown",
   "metadata": {
    "id": "hedd3_EAM_zm"
   },
   "source": [
    "Установим библиотеку. 🤗🤗🤗"
   ]
  },
  {
   "cell_type": "code",
   "execution_count": 204,
   "metadata": {
    "execution": {
     "iopub.execute_input": "2024-12-14T18:44:32.236845Z",
     "iopub.status.busy": "2024-12-14T18:44:32.235990Z",
     "iopub.status.idle": "2024-12-14T18:44:40.912034Z",
     "shell.execute_reply": "2024-12-14T18:44:40.910550Z",
     "shell.execute_reply.started": "2024-12-14T18:44:32.236793Z"
    },
    "id": "-ZCfZ0ZfM_zm",
    "tags": []
   },
   "outputs": [
    {
     "name": "stdout",
     "output_type": "stream",
     "text": [
      "Defaulting to user installation because normal site-packages is not writeable\n",
      "Requirement already satisfied: torch in /usr/local/lib/python3.10/dist-packages (2.0.1+cu118)\n",
      "Requirement already satisfied: torchvision in /usr/local/lib/python3.10/dist-packages (0.15.2+cu118)\n",
      "Requirement already satisfied: filelock in /usr/local/lib/python3.10/dist-packages (from torch) (3.12.2)\n",
      "Requirement already satisfied: typing-extensions in /home/jupyter/.local/lib/python3.10/site-packages (from torch) (4.12.2)\n",
      "Requirement already satisfied: sympy in /home/jupyter/.local/lib/python3.10/site-packages (from torch) (1.13.1)\n",
      "Requirement already satisfied: networkx in /usr/local/lib/python3.10/dist-packages (from torch) (3.1)\n",
      "Requirement already satisfied: jinja2 in /usr/local/lib/python3.10/dist-packages (from torch) (3.1.2)\n",
      "Requirement already satisfied: triton==2.0.0 in /home/jupyter/.local/lib/python3.10/site-packages (from torch) (2.0.0)\n",
      "Requirement already satisfied: cmake in /usr/local/lib/python3.10/dist-packages (from triton==2.0.0->torch) (3.25.2)\n",
      "Requirement already satisfied: lit in /usr/local/lib/python3.10/dist-packages (from triton==2.0.0->torch) (16.0.6)\n",
      "Requirement already satisfied: numpy in /usr/local/lib/python3.10/dist-packages (from torchvision) (1.22.4)\n",
      "Requirement already satisfied: requests in /usr/local/lib/python3.10/dist-packages (from torchvision) (2.27.1)\n",
      "Requirement already satisfied: pillow!=8.3.*,>=5.3.0 in /usr/local/lib/python3.10/dist-packages (from torchvision) (9.4.0)\n",
      "Requirement already satisfied: MarkupSafe>=2.0 in /usr/local/lib/python3.10/dist-packages (from jinja2->torch) (2.1.3)\n",
      "Requirement already satisfied: urllib3<1.27,>=1.21.1 in /usr/local/lib/python3.10/dist-packages (from requests->torchvision) (1.26.16)\n",
      "Requirement already satisfied: certifi>=2017.4.17 in /usr/local/lib/python3.10/dist-packages (from requests->torchvision) (2023.7.22)\n",
      "Requirement already satisfied: charset-normalizer~=2.0.0 in /usr/local/lib/python3.10/dist-packages (from requests->torchvision) (2.0.12)\n",
      "Requirement already satisfied: idna<4,>=2.5 in /usr/local/lib/python3.10/dist-packages (from requests->torchvision) (3.4)\n",
      "Requirement already satisfied: mpmath<1.4,>=1.1.0 in /usr/local/lib/python3.10/dist-packages (from sympy->torch) (1.3.0)\n",
      "\n",
      "\u001B[1m[\u001B[0m\u001B[34;49mnotice\u001B[0m\u001B[1;39;49m]\u001B[0m\u001B[39;49m A new release of pip is available: \u001B[0m\u001B[31;49m23.0.1\u001B[0m\u001B[39;49m -> \u001B[0m\u001B[32;49m24.3.1\u001B[0m\n",
      "\u001B[1m[\u001B[0m\u001B[34;49mnotice\u001B[0m\u001B[1;39;49m]\u001B[0m\u001B[39;49m To update, run: \u001B[0m\u001B[32;49mpython3 -m pip install --upgrade pip\u001B[0m\n",
      "Defaulting to user installation because normal site-packages is not writeable\n",
      "Requirement already satisfied: transformers in /home/jupyter/.local/lib/python3.10/site-packages (4.47.0)\n",
      "Requirement already satisfied: filelock in /usr/local/lib/python3.10/dist-packages (from transformers) (3.12.2)\n",
      "Requirement already satisfied: huggingface-hub<1.0,>=0.24.0 in /home/jupyter/.local/lib/python3.10/site-packages (from transformers) (0.26.2)\n",
      "Requirement already satisfied: numpy>=1.17 in /usr/local/lib/python3.10/dist-packages (from transformers) (1.22.4)\n",
      "Requirement already satisfied: packaging>=20.0 in /usr/local/lib/python3.10/dist-packages (from transformers) (23.1)\n",
      "Requirement already satisfied: pyyaml>=5.1 in /usr/local/lib/python3.10/dist-packages (from transformers) (6.0.1)\n",
      "Requirement already satisfied: regex!=2019.12.17 in /usr/local/lib/python3.10/dist-packages (from transformers) (2022.10.31)\n",
      "Requirement already satisfied: requests in /usr/local/lib/python3.10/dist-packages (from transformers) (2.27.1)\n",
      "Requirement already satisfied: tokenizers<0.22,>=0.21 in /home/jupyter/.local/lib/python3.10/site-packages (from transformers) (0.21.0)\n",
      "Requirement already satisfied: safetensors>=0.4.1 in /home/jupyter/.local/lib/python3.10/site-packages (from transformers) (0.4.5)\n",
      "Requirement already satisfied: tqdm>=4.27 in /usr/local/lib/python3.10/dist-packages (from transformers) (4.65.0)\n",
      "Requirement already satisfied: fsspec>=2023.5.0 in /usr/local/lib/python3.10/dist-packages (from huggingface-hub<1.0,>=0.24.0->transformers) (2023.6.0)\n",
      "Requirement already satisfied: typing-extensions>=3.7.4.3 in /home/jupyter/.local/lib/python3.10/site-packages (from huggingface-hub<1.0,>=0.24.0->transformers) (4.12.2)\n",
      "Requirement already satisfied: urllib3<1.27,>=1.21.1 in /usr/local/lib/python3.10/dist-packages (from requests->transformers) (1.26.16)\n",
      "Requirement already satisfied: certifi>=2017.4.17 in /usr/local/lib/python3.10/dist-packages (from requests->transformers) (2023.7.22)\n",
      "Requirement already satisfied: charset-normalizer~=2.0.0 in /usr/local/lib/python3.10/dist-packages (from requests->transformers) (2.0.12)\n",
      "Requirement already satisfied: idna<4,>=2.5 in /usr/local/lib/python3.10/dist-packages (from requests->transformers) (3.4)\n",
      "\n",
      "\u001B[1m[\u001B[0m\u001B[34;49mnotice\u001B[0m\u001B[1;39;49m]\u001B[0m\u001B[39;49m A new release of pip is available: \u001B[0m\u001B[31;49m23.0.1\u001B[0m\u001B[39;49m -> \u001B[0m\u001B[32;49m24.3.1\u001B[0m\n",
      "\u001B[1m[\u001B[0m\u001B[34;49mnotice\u001B[0m\u001B[1;39;49m]\u001B[0m\u001B[39;49m To update, run: \u001B[0m\u001B[32;49mpython3 -m pip install --upgrade pip\u001B[0m\n"
     ]
    }
   ],
   "source": [
    "%pip install torch torchvision\n",
    "%pip install transformers"
   ]
  },
  {
   "cell_type": "markdown",
   "metadata": {},
   "source": [
    "**Варнинг:** в этом задании не обязательно ждать, пока код проскорит весь датасет - это долго. Напишите код, проверьте, что он корректно работает - проскорьте пару десятков строк датасета и принтаните их. Дальше вы можете взять уже проскоренный датасет. Возможно, кто-то проскорит все раньше остальных и захочет поделиться результатом. Вот его разрешается взять, как готовый результат выполнения задания. Главное - покажите, что ваш код тоже работает."
   ]
  },
  {
   "cell_type": "markdown",
   "metadata": {
    "id": "4cDtjMFaM_zm"
   },
   "source": [
    "Разберитесь как можно прогнать модель на корпусе комментариев и сделайте это. Да, с помощью pipeline можно запустить довольно сложные модели, обученные другими людьми в пару строчек. При объявлении модели не забудьте положить её на нужный `device` 🤗🤗🤗"
   ]
  },
  {
   "cell_type": "code",
   "outputs": [],
   "source": [
    "from transformers import pipeline, AutoTokenizer\n",
    "\n",
    "device = torch.device('cuda:0' if torch.cuda.is_available() else 'cpu')\n",
    "tokenizer = AutoTokenizer.from_pretrained(\"seara/rubert-tiny2-russian-sentiment\")\n",
    "model = pipeline(\"sentiment-analysis\", model=\"seara/rubert-tiny2-russian-sentiment\", device=device)"
   ],
   "metadata": {
    "collapsed": false,
    "ExecuteTime": {
     "end_time": "2024-12-14T19:03:20.220076Z",
     "start_time": "2024-12-14T19:03:03.486Z"
    }
   },
   "execution_count": 6
  },
  {
   "cell_type": "markdown",
   "metadata": {
    "id": "5XmrUVvhM_zm"
   },
   "source": [
    "Цикл для сентимент-анализа комментариев может работать довольно долго. Я крайне рекомендую вам переодически сохранять к себе на компьютер промежуточные результаты. Итоговый результат я рекомендую записать отдельным столбиком в таблицу с комментариями, а затем сохранить полученные результаты. 🤗🤗🤗"
   ]
  },
  {
   "cell_type": "code",
   "outputs": [],
   "source": [
    "# Возьму 1000 значений, иначе слишком долго\n",
    "# 1000 значений за 6 секунд\n",
    "# весь датасет 2612 * 4 = 15672сек = 10448 = 174 минуты. До дедлайна 140 минут\n",
    "# Вывод: беру проскоренный датасет, который скинули в чате)\n",
    "\n",
    "# https://stackoverflow.com/questions/64320883/the-size-of-tensor-a-707-must-match-the-size-of-tensor-b-512-at-non-singleto\n",
    "df_comments_head = df_comments.head(1000).copy()\n",
    "\n",
    "def extract_sentiment_info(text):\n",
    "    tokens = tokenizer(text, padding=True, truncation=True, max_length=512, add_special_tokens = True)\n",
    "    truncated_text = tokenizer.decode(tokens['input_ids'], skip_special_tokens=True)\n",
    "    result = model(truncated_text)\n",
    "    return pd.Series([result[0]['label'], result[0]['score']])\n",
    "\n",
    "df_comments_head[['sentiment_verdict', 'sentiment_score']] = df_comments_head['text'].apply(extract_sentiment_info)"
   ],
   "metadata": {
    "collapsed": false,
    "ExecuteTime": {
     "end_time": "2024-12-14T19:04:58.490144Z",
     "start_time": "2024-12-14T19:04:54.528059Z"
    }
   },
   "execution_count": 12
  },
  {
   "cell_type": "code",
   "outputs": [
    {
     "data": {
      "text/plain": "              id     post_id             datetime  \\\n0     24006366.0  24006362.0  2019-02-01 23:14:14   \n1     24006370.0  24006362.0  2019-02-01 23:15:23   \n2     24006371.0  24006362.0  2019-02-01 23:16:21   \n3     24006374.0  24006362.0  2019-02-01 23:16:38   \n4     24006375.0  24006362.0  2019-02-01 23:16:40   \n...          ...         ...                  ...   \n1027  24004396.0  24004064.0  2019-02-01 17:36:30   \n1029  24004413.0  24004064.0  2019-02-01 17:38:17   \n1030  24004417.0  24004064.0  2019-02-01 17:38:47   \n1031  24004420.0  24004064.0  2019-02-01 17:39:04   \n1032  24004424.0  24004064.0  2019-02-01 17:39:17   \n\n                                                   text  likes  \\\n0                                          ЧВК Вагнера?    5.0   \n1                   [id4710641|Евгений], выздоравливай.    3.0   \n2     [id442655034|Андрей], искренне желаю этого все...    4.0   \n3                            Опять про Украину новости?    1.0   \n4                                         Че такое ДНР?    2.0   \n...                                                 ...    ...   \n1027  Россиян поймали за наркоту, а местная фауна уж...    7.0   \n1029  [id470184591|Андрей], как доказательств нет?) ...   11.0   \n1030  [id17449942|Дмитрий], надо было труп за борт и...    2.0   \n1031  [id495155274|Алексей], я так же подумал) нафиг...    0.0   \n1032  [id470184591|Андрей], она не ослабла. она прос...    1.0   \n\n     sentiment_verdict  sentiment_score  \n0              neutral         0.912246  \n1              neutral         0.909071  \n2             positive         0.669113  \n3              neutral         0.925939  \n4              neutral         0.866223  \n...                ...              ...  \n1027          negative         0.531011  \n1029           neutral         0.559303  \n1030           neutral         0.631467  \n1031           neutral         0.705607  \n1032          negative         0.914063  \n\n[1000 rows x 7 columns]",
      "text/html": "<div>\n<style scoped>\n    .dataframe tbody tr th:only-of-type {\n        vertical-align: middle;\n    }\n\n    .dataframe tbody tr th {\n        vertical-align: top;\n    }\n\n    .dataframe thead th {\n        text-align: right;\n    }\n</style>\n<table border=\"1\" class=\"dataframe\">\n  <thead>\n    <tr style=\"text-align: right;\">\n      <th></th>\n      <th>id</th>\n      <th>post_id</th>\n      <th>datetime</th>\n      <th>text</th>\n      <th>likes</th>\n      <th>sentiment_verdict</th>\n      <th>sentiment_score</th>\n    </tr>\n  </thead>\n  <tbody>\n    <tr>\n      <th>0</th>\n      <td>24006366.0</td>\n      <td>24006362.0</td>\n      <td>2019-02-01 23:14:14</td>\n      <td>ЧВК Вагнера?</td>\n      <td>5.0</td>\n      <td>neutral</td>\n      <td>0.912246</td>\n    </tr>\n    <tr>\n      <th>1</th>\n      <td>24006370.0</td>\n      <td>24006362.0</td>\n      <td>2019-02-01 23:15:23</td>\n      <td>[id4710641|Евгений], выздоравливай.</td>\n      <td>3.0</td>\n      <td>neutral</td>\n      <td>0.909071</td>\n    </tr>\n    <tr>\n      <th>2</th>\n      <td>24006371.0</td>\n      <td>24006362.0</td>\n      <td>2019-02-01 23:16:21</td>\n      <td>[id442655034|Андрей], искренне желаю этого все...</td>\n      <td>4.0</td>\n      <td>positive</td>\n      <td>0.669113</td>\n    </tr>\n    <tr>\n      <th>3</th>\n      <td>24006374.0</td>\n      <td>24006362.0</td>\n      <td>2019-02-01 23:16:38</td>\n      <td>Опять про Украину новости?</td>\n      <td>1.0</td>\n      <td>neutral</td>\n      <td>0.925939</td>\n    </tr>\n    <tr>\n      <th>4</th>\n      <td>24006375.0</td>\n      <td>24006362.0</td>\n      <td>2019-02-01 23:16:40</td>\n      <td>Че такое ДНР?</td>\n      <td>2.0</td>\n      <td>neutral</td>\n      <td>0.866223</td>\n    </tr>\n    <tr>\n      <th>...</th>\n      <td>...</td>\n      <td>...</td>\n      <td>...</td>\n      <td>...</td>\n      <td>...</td>\n      <td>...</td>\n      <td>...</td>\n    </tr>\n    <tr>\n      <th>1027</th>\n      <td>24004396.0</td>\n      <td>24004064.0</td>\n      <td>2019-02-01 17:36:30</td>\n      <td>Россиян поймали за наркоту, а местная фауна уж...</td>\n      <td>7.0</td>\n      <td>negative</td>\n      <td>0.531011</td>\n    </tr>\n    <tr>\n      <th>1029</th>\n      <td>24004413.0</td>\n      <td>24004064.0</td>\n      <td>2019-02-01 17:38:17</td>\n      <td>[id470184591|Андрей], как доказательств нет?) ...</td>\n      <td>11.0</td>\n      <td>neutral</td>\n      <td>0.559303</td>\n    </tr>\n    <tr>\n      <th>1030</th>\n      <td>24004417.0</td>\n      <td>24004064.0</td>\n      <td>2019-02-01 17:38:47</td>\n      <td>[id17449942|Дмитрий], надо было труп за борт и...</td>\n      <td>2.0</td>\n      <td>neutral</td>\n      <td>0.631467</td>\n    </tr>\n    <tr>\n      <th>1031</th>\n      <td>24004420.0</td>\n      <td>24004064.0</td>\n      <td>2019-02-01 17:39:04</td>\n      <td>[id495155274|Алексей], я так же подумал) нафиг...</td>\n      <td>0.0</td>\n      <td>neutral</td>\n      <td>0.705607</td>\n    </tr>\n    <tr>\n      <th>1032</th>\n      <td>24004424.0</td>\n      <td>24004064.0</td>\n      <td>2019-02-01 17:39:17</td>\n      <td>[id470184591|Андрей], она не ослабла. она прос...</td>\n      <td>1.0</td>\n      <td>negative</td>\n      <td>0.914063</td>\n    </tr>\n  </tbody>\n</table>\n<p>1000 rows × 7 columns</p>\n</div>"
     },
     "execution_count": 13,
     "metadata": {},
     "output_type": "execute_result"
    }
   ],
   "source": [
    "df_comments_head"
   ],
   "metadata": {
    "collapsed": false,
    "ExecuteTime": {
     "end_time": "2024-12-14T19:05:02.555634Z",
     "start_time": "2024-12-14T19:05:02.544924Z"
    }
   },
   "execution_count": 13
  },
  {
   "cell_type": "code",
   "outputs": [],
   "source": [
    "# <МОЙ код для сохранения данных>\n",
    "df_comments_head.to_csv(\"df_comments_sentiment_head\")"
   ],
   "metadata": {
    "collapsed": false,
    "ExecuteTime": {
     "end_time": "2024-12-14T19:05:36.530036Z",
     "start_time": "2024-12-14T19:05:36.495562Z"
    }
   },
   "execution_count": 14
  },
  {
   "cell_type": "markdown",
   "metadata": {
    "id": "smRVE1hVM_zn"
   },
   "source": [
    "## Часть 4: аналитика (3 балла + 0.2 бонусных)\n",
    "\n",
    "Мы с вами огромные молодцы. Мы обучили модель для категоризации новостей, построили с её помощью прогнозы. Мы проскорили комментарии на их сентимент-окрас. Теперь давайте проанализируем новости. Описывайте полученные результаты таким образом, чтобы не получить уголовку на 5 лет за дискредитацию чего-нибудь или оскорбление чувств кого-нибудь 💜"
   ]
  },
  {
   "cell_type": "markdown",
   "metadata": {
    "id": "7z-jdjgeM_zn"
   },
   "source": [
    "__[0.6 балла] Задание 10:__ Какая доля комментариев позитивная? Какая доля комментариев негативная? Выведите 10 самых позитивных комментариев.\n",
    "\n",
    "Выведите 10 самых негативных комментариев, поугарайте с них. Удалите их вывод из тетрадки. Никто не должен их видеть, это должно остаться только между нами. Поззитивные не удаляйте. Они пусть останутся."
   ]
  },
  {
   "cell_type": "code",
   "outputs": [],
   "source": [
    "# https://github.com/aeksin/datasets/releases/download/new12/df_comments.csv' взял отсюда (скачал отдельно, а не через pandas. Локально так было быстрее)\n",
    "\n",
    "df_comments_scrolled = pd.read_csv(\"df_comments.csv\")"
   ],
   "metadata": {
    "collapsed": false,
    "ExecuteTime": {
     "end_time": "2024-12-14T20:50:44.328064Z",
     "start_time": "2024-12-14T20:50:26.789770Z"
    }
   },
   "execution_count": 9
  },
  {
   "cell_type": "code",
   "outputs": [
    {
     "data": {
      "text/plain": "sentiment_verdict\nneutral     1826749\nnegative     597766\npositive     188114\nName: count, dtype: int64"
     },
     "execution_count": 10,
     "metadata": {},
     "output_type": "execute_result"
    }
   ],
   "source": [
    "df_comments_scrolled[\"sentiment_verdict\"].value_counts()\n",
    "# Как и ожидалось, люди больше пишут негатив, а позитивные люди не оставляют комментариев. Хотя бы нейтральных больше"
   ],
   "metadata": {
    "collapsed": false,
    "ExecuteTime": {
     "end_time": "2024-12-14T20:50:44.658329Z",
     "start_time": "2024-12-14T20:50:44.362514Z"
    }
   },
   "execution_count": 10
  },
  {
   "cell_type": "code",
   "execution_count": 11,
   "metadata": {
    "id": "EqOwlAusM_zn",
    "ExecuteTime": {
     "end_time": "2024-12-14T20:50:44.884166Z",
     "start_time": "2024-12-14T20:50:44.659329Z"
    }
   },
   "outputs": [
    {
     "name": "stdout",
     "output_type": "stream",
     "text": [
      "Отлично, молодец!Поздравляю!✨💫🌟💥\n",
      "Отлично! Просто отлично! Молодцы! Поздравляю от души! Горжусь!\n",
      "отлично,молодцы!!!👍 респект\n",
      "Отлично! \n",
      "Поздравляем!!!\n",
      "Отлично,я рад.\n",
      "Отлично,молодцы\n",
      "Отлично,люблю ездить в Эмираты\n",
      "Отлично! Здоровья всем желаю!\n",
      "Я очень счастлива! Поздравляю!\n",
      "Отлично, просто отлично!\n"
     ]
    }
   ],
   "source": [
    "# Не совсем понял каким образом выбирается вердикт и скор.\n",
    "# Видимо имеется в виду уверенность в настроении. Так что буду брать с наибольшим скором для каждого вердикта (по 5)\n",
    "\n",
    "pos_10 = df_comments_scrolled[df_comments_scrolled[\"sentiment_verdict\"] == \"positive\"].nlargest(10, 'sentiment_score')[\"text\"]\n",
    "\n",
    "for p in pos_10:\n",
    "    print(p)\n",
    "    \n",
    "# Восклицательные знаки добавляют очень много уверенности\n",
    "# А слова вроде молодец, отлично и любовь заряжены позитивом"
   ]
  },
  {
   "cell_type": "code",
   "outputs": [
    {
     "name": "stdout",
     "output_type": "stream",
     "text": [
      "хххх, давно такого не было. мы, и не в финале. отстой. не зря в том году в украину не пустили!!!!!!!!!\n",
      "[id137758514|Nar], не говорите вы.....Кошмар какой -то !!! Столько алкоголя!!!! Ужас\n",
      "ХВАТИТ РАЗВРАЩАТЬ ДЕТЕЙ!! ГРЯЗНЫЕ уродливые извращенцы! Сажать и отправлять в психушку надо тех, которые открыли ЭТОТ ЛАРЕЦ ПАНДОРЫ в нашей стране!!!!!!!!!!!!!!!!\n",
      "[id455660765|Сергей], На воротник я твою еб*ную псину зарежу!!!!\n",
      " Убивать еб*нных собак, собаки это еб*нное говно как и ты!!! тупой собакоёб!!!!\n",
      "[id501151654|Герман], ойййй. ...вы одним местом там  уже точно!! Пошёл ты на @@@,малолетка тупой!!Вы все в Европе на русском языке  разговариваете! Простые граждане  Европы не понимают  вашего  стремления !! Вы на хрен никому не нужны!!!!!!\n",
      "[id418559355|Иван], ну не удивило! Когда ответить нечего,отвечают хамством! Вот и поплыло дерьмо! Да вы после этого НЕ МУЖИК!!\n",
      "ЭТО НЕ ПОВОД ДЛЯ НАСИЛИЯ!!!! Просто уроды!!!\n",
      "Хватит выпускать говно!!!!!!!!!!!!!!!!!!!!!!!!\n",
      "[id10668408|Toivo], евреи из за денег, меркантильных интересов, рыночных отношений , до сих пор не признали геноцид ассирийцев , греков, армян и многих народов! Израиль -конченное продажное государство! Вы верите в их набожность? А нихрена! Ради денег и выгоды они не признали боль другого народа! Тем самым дали повод разговоров- а зачем говорить о холокосте , если евреи не признают геноциды других стран! Это же лицемерие ! Конченное государство Израиль и ее правительство! Дай бОг что бы это не доразумение, исчезло!\n",
      "Сколько же тут халявщиков, хохлов и др безработного отребья!!!!!!!\n"
     ]
    }
   ],
   "source": [
    "negative_10 = df_comments_scrolled[df_comments_scrolled[\"sentiment_verdict\"] == \"negative\"].nlargest(10, 'sentiment_score')[\"text\"]\n",
    "\n",
    "for n in negative_10:\n",
    "    print(n)\n",
    "# хе-хе ГООООЛ"
   ],
   "metadata": {
    "collapsed": false,
    "ExecuteTime": {
     "end_time": "2024-12-14T20:50:45.147836Z",
     "start_time": "2024-12-14T20:50:44.885201Z"
    }
   },
   "execution_count": 12
  },
  {
   "cell_type": "markdown",
   "metadata": {
    "id": "SGfBQto1M_zn"
   },
   "source": [
    "__[0.6 балла] Задание 11:__ Для каждой новости из датасета посчитайте количество негативных и позитивных комментариев под ней. Сохраните эти количества в виде новых колонок."
   ]
  },
  {
   "cell_type": "code",
   "outputs": [
    {
     "data": {
      "text/plain": "                 id     post_id             datetime  \\\n0        24006366.0  24006362.0  2019-02-01 23:14:14   \n1        24006370.0  24006362.0  2019-02-01 23:15:23   \n2        24006371.0  24006362.0  2019-02-01 23:16:21   \n3        24006374.0  24006362.0  2019-02-01 23:16:38   \n4        24006375.0  24006362.0  2019-02-01 23:16:40   \n...             ...         ...                  ...   \n2612624  17991829.0  17976037.0  2017-09-30 10:27:11   \n2612625  17992004.0  17976037.0  2017-09-30 10:49:21   \n2612626  17992058.0  17976037.0  2017-09-30 10:56:29   \n2612627  17992487.0  17976037.0  2017-09-30 11:56:03   \n2612628  17996306.0  17976037.0  2017-09-30 19:16:37   \n\n                                                      text  likes  \\\n0                                             ЧВК Вагнера?    5.0   \n1                      [id4710641|Евгений], выздоравливай.    3.0   \n2        [id442655034|Андрей], искренне желаю этого все...    4.0   \n3                               Опять про Украину новости?    1.0   \n4                                            Че такое ДНР?    2.0   \n...                                                    ...    ...   \n2612624  Сергей, я про простых американцев, которые слу...    0.0   \n2612625  [id415883695|Евгений], у них довольствие и они...    0.0   \n2612626  [id142882974|Сергей], ну Кадафи и Хусейныча он...    0.0   \n2612627  [id142882974|Сергей], для этого существует физ...    0.0   \n2612628                                   Деньги кончились    0.0   \n\n        sentiment_verdict  sentiment_score  \n0                 neutral         0.912246  \n1                 neutral         0.879370  \n2                positive         0.676261  \n3                 neutral         0.925939  \n4                 neutral         0.866223  \n...                   ...              ...  \n2612624           neutral         0.649754  \n2612625          negative         0.697936  \n2612626          negative         0.623313  \n2612627           neutral         0.873600  \n2612628          negative         0.712290  \n\n[2612629 rows x 7 columns]",
      "text/html": "<div>\n<style scoped>\n    .dataframe tbody tr th:only-of-type {\n        vertical-align: middle;\n    }\n\n    .dataframe tbody tr th {\n        vertical-align: top;\n    }\n\n    .dataframe thead th {\n        text-align: right;\n    }\n</style>\n<table border=\"1\" class=\"dataframe\">\n  <thead>\n    <tr style=\"text-align: right;\">\n      <th></th>\n      <th>id</th>\n      <th>post_id</th>\n      <th>datetime</th>\n      <th>text</th>\n      <th>likes</th>\n      <th>sentiment_verdict</th>\n      <th>sentiment_score</th>\n    </tr>\n  </thead>\n  <tbody>\n    <tr>\n      <th>0</th>\n      <td>24006366.0</td>\n      <td>24006362.0</td>\n      <td>2019-02-01 23:14:14</td>\n      <td>ЧВК Вагнера?</td>\n      <td>5.0</td>\n      <td>neutral</td>\n      <td>0.912246</td>\n    </tr>\n    <tr>\n      <th>1</th>\n      <td>24006370.0</td>\n      <td>24006362.0</td>\n      <td>2019-02-01 23:15:23</td>\n      <td>[id4710641|Евгений], выздоравливай.</td>\n      <td>3.0</td>\n      <td>neutral</td>\n      <td>0.879370</td>\n    </tr>\n    <tr>\n      <th>2</th>\n      <td>24006371.0</td>\n      <td>24006362.0</td>\n      <td>2019-02-01 23:16:21</td>\n      <td>[id442655034|Андрей], искренне желаю этого все...</td>\n      <td>4.0</td>\n      <td>positive</td>\n      <td>0.676261</td>\n    </tr>\n    <tr>\n      <th>3</th>\n      <td>24006374.0</td>\n      <td>24006362.0</td>\n      <td>2019-02-01 23:16:38</td>\n      <td>Опять про Украину новости?</td>\n      <td>1.0</td>\n      <td>neutral</td>\n      <td>0.925939</td>\n    </tr>\n    <tr>\n      <th>4</th>\n      <td>24006375.0</td>\n      <td>24006362.0</td>\n      <td>2019-02-01 23:16:40</td>\n      <td>Че такое ДНР?</td>\n      <td>2.0</td>\n      <td>neutral</td>\n      <td>0.866223</td>\n    </tr>\n    <tr>\n      <th>...</th>\n      <td>...</td>\n      <td>...</td>\n      <td>...</td>\n      <td>...</td>\n      <td>...</td>\n      <td>...</td>\n      <td>...</td>\n    </tr>\n    <tr>\n      <th>2612624</th>\n      <td>17991829.0</td>\n      <td>17976037.0</td>\n      <td>2017-09-30 10:27:11</td>\n      <td>Сергей, я про простых американцев, которые слу...</td>\n      <td>0.0</td>\n      <td>neutral</td>\n      <td>0.649754</td>\n    </tr>\n    <tr>\n      <th>2612625</th>\n      <td>17992004.0</td>\n      <td>17976037.0</td>\n      <td>2017-09-30 10:49:21</td>\n      <td>[id415883695|Евгений], у них довольствие и они...</td>\n      <td>0.0</td>\n      <td>negative</td>\n      <td>0.697936</td>\n    </tr>\n    <tr>\n      <th>2612626</th>\n      <td>17992058.0</td>\n      <td>17976037.0</td>\n      <td>2017-09-30 10:56:29</td>\n      <td>[id142882974|Сергей], ну Кадафи и Хусейныча он...</td>\n      <td>0.0</td>\n      <td>negative</td>\n      <td>0.623313</td>\n    </tr>\n    <tr>\n      <th>2612627</th>\n      <td>17992487.0</td>\n      <td>17976037.0</td>\n      <td>2017-09-30 11:56:03</td>\n      <td>[id142882974|Сергей], для этого существует физ...</td>\n      <td>0.0</td>\n      <td>neutral</td>\n      <td>0.873600</td>\n    </tr>\n    <tr>\n      <th>2612628</th>\n      <td>17996306.0</td>\n      <td>17976037.0</td>\n      <td>2017-09-30 19:16:37</td>\n      <td>Деньги кончились</td>\n      <td>0.0</td>\n      <td>negative</td>\n      <td>0.712290</td>\n    </tr>\n  </tbody>\n</table>\n<p>2612629 rows × 7 columns</p>\n</div>"
     },
     "execution_count": 13,
     "metadata": {},
     "output_type": "execute_result"
    }
   ],
   "source": [
    "df_comments_scrolled"
   ],
   "metadata": {
    "collapsed": false,
    "ExecuteTime": {
     "end_time": "2024-12-14T20:50:45.173138Z",
     "start_time": "2024-12-14T20:50:45.149028Z"
    }
   },
   "execution_count": 13
  },
  {
   "cell_type": "code",
   "execution_count": 14,
   "metadata": {
    "id": "WNySt0w7M_zn",
    "ExecuteTime": {
     "end_time": "2024-12-14T20:50:47.537693Z",
     "start_time": "2024-12-14T20:50:45.174140Z"
    }
   },
   "outputs": [],
   "source": [
    "# Загружу df_vk, который я заполнил до этого\n",
    "\n",
    "df_vk_predicted = pd.read_csv(\"df_vk.csv\")"
   ]
  },
  {
   "cell_type": "code",
   "outputs": [
    {
     "data": {
      "text/plain": "       Unnamed: 0        id                                      href  \\\n0               0  24006362                 /20190201/1550280358.html   \n1               1  24006240                 /20190201/1550268781.html   \n2               2  24006100                 /20190201/1550282212.html   \n3               3  24005972                 /20190202/1550283179.html   \n4               4  24005764                 /20190201/1550262848.html   \n...           ...       ...                                       ...   \n19923       19923  17976905        /politics/20170929/1505812885.html   \n19924       19924  17976766        /politics/20170929/1505809314.html   \n19925       19925  17976601         /science/20170928/1505787196.html   \n19926       19926  17976198           /world/20170929/1505810992.html   \n19927       19927  17976037  /defense_safety/20170929/1505808562.html   \n\n                  datetime                                              title  \\\n0      2019-02-01 23:13:17  В ДНР заявили о задержании диверсантов, причас...   \n1      2019-02-01 22:38:41  Житель Урала \"заминировал\" ТЦ из-за снятия  со...   \n2      2019-02-01 21:58:52      В Черном море нашли \"потерянный флот Гитлера\"   \n3      2019-02-01 21:27:06  В США освободили задержанную российскую актрис...   \n4      2019-02-01 20:55:54  Толкнувший Скабееву депутат Рады заявил о гроз...   \n...                    ...                                                ...   \n19923  2017-09-29 03:51:03  Политологи назвали губернаторов, которым грози...   \n19924  2017-09-29 03:20:41  Захарова рассказала, какую книгу подписывал Ла...   \n19925  2017-09-29 02:55:49  Современные люди появились более 300 тысяч лет...   \n19926  2017-09-29 02:00:09                     В США ребенок устроил стрельбу   \n19927  2017-09-29 01:28:55  В России впервые сократили число призывников н...   \n\n       likes  comments snippet  \\\n0         15        28     NaN   \n1         32        42     NaN   \n2         84        23     NaN   \n3         58        35     NaN   \n4         45       145     NaN   \n...      ...       ...     ...   \n19923    141       114     NaN   \n19924    140        50     NaN   \n19925    202        69     NaN   \n19926    138        51     NaN   \n19927    329       241     NaN   \n\n                                             title_clean snippet_clean  \\\n0      в днр заявили о задержании диверсантов причаст...         #UNKN   \n1      житель урала заминировал тц изза снятия  сотов...         #UNKN   \n2            в черном море нашли потерянный флот гитлера         #UNKN   \n3      в сша освободили задержанную российскую актрис...         #UNKN   \n4      толкнувший скабееву депутат рады заявил о гроз...         #UNKN   \n...                                                  ...           ...   \n19923  политологи назвали губернаторов которым грозит...         #UNKN   \n19924  захарова рассказала какую книгу подписывал лав...         #UNKN   \n19925  современные люди появились более 300 тысяч лет...         #UNKN   \n19926                     в сша ребенок устроил стрельбу         #UNKN   \n19927  в россии впервые сократили число призывников н...         #UNKN   \n\n                                             target_tags  \n0      [0, 0, 0, 0, 0, 0, 0, 0, 0, 0, 0, 0, 0, 0, 0, ...  \n1      [0, 0, 0, 0, 0, 0, 0, 0, 0, 0, 0, 0, 0, 0, 0, ...  \n2      [0, 0, 0, 0, 0, 0, 0, 0, 0, 0, 0, 0, 0, 0, 0, ...  \n3      [0, 0, 0, 0, 0, 0, 0, 0, 0, 0, 0, 0, 0, 0, 0, ...  \n4      [0, 0, 0, 0, 0, 0, 0, 0, 0, 0, 0, 0, 0, 0, 0, ...  \n...                                                  ...  \n19923  [0, 0, 0, 0, 0, 0, 0, 0, 0, 0, 0, 0, 0, 0, 0, ...  \n19924  [0, 0, 0, 0, 0, 0, 0, 0, 0, 0, 0, 0, 0, 0, 0, ...  \n19925  [0, 0, 0, 0, 0, 0, 0, 0, 0, 0, 0, 0, 0, 0, 0, ...  \n19926  [0, 0, 0, 0, 0, 0, 0, 0, 0, 0, 0, 0, 0, 0, 0, ...  \n19927  [0, 0, 0, 0, 0, 0, 0, 0, 0, 0, 0, 0, 0, 0, 0, ...  \n\n[19928 rows x 11 columns]",
      "text/html": "<div>\n<style scoped>\n    .dataframe tbody tr th:only-of-type {\n        vertical-align: middle;\n    }\n\n    .dataframe tbody tr th {\n        vertical-align: top;\n    }\n\n    .dataframe thead th {\n        text-align: right;\n    }\n</style>\n<table border=\"1\" class=\"dataframe\">\n  <thead>\n    <tr style=\"text-align: right;\">\n      <th></th>\n      <th>Unnamed: 0</th>\n      <th>id</th>\n      <th>href</th>\n      <th>datetime</th>\n      <th>title</th>\n      <th>likes</th>\n      <th>comments</th>\n      <th>snippet</th>\n      <th>title_clean</th>\n      <th>snippet_clean</th>\n      <th>target_tags</th>\n    </tr>\n  </thead>\n  <tbody>\n    <tr>\n      <th>0</th>\n      <td>0</td>\n      <td>24006362</td>\n      <td>/20190201/1550280358.html</td>\n      <td>2019-02-01 23:13:17</td>\n      <td>В ДНР заявили о задержании диверсантов, причас...</td>\n      <td>15</td>\n      <td>28</td>\n      <td>NaN</td>\n      <td>в днр заявили о задержании диверсантов причаст...</td>\n      <td>#UNKN</td>\n      <td>[0, 0, 0, 0, 0, 0, 0, 0, 0, 0, 0, 0, 0, 0, 0, ...</td>\n    </tr>\n    <tr>\n      <th>1</th>\n      <td>1</td>\n      <td>24006240</td>\n      <td>/20190201/1550268781.html</td>\n      <td>2019-02-01 22:38:41</td>\n      <td>Житель Урала \"заминировал\" ТЦ из-за снятия  со...</td>\n      <td>32</td>\n      <td>42</td>\n      <td>NaN</td>\n      <td>житель урала заминировал тц изза снятия  сотов...</td>\n      <td>#UNKN</td>\n      <td>[0, 0, 0, 0, 0, 0, 0, 0, 0, 0, 0, 0, 0, 0, 0, ...</td>\n    </tr>\n    <tr>\n      <th>2</th>\n      <td>2</td>\n      <td>24006100</td>\n      <td>/20190201/1550282212.html</td>\n      <td>2019-02-01 21:58:52</td>\n      <td>В Черном море нашли \"потерянный флот Гитлера\"</td>\n      <td>84</td>\n      <td>23</td>\n      <td>NaN</td>\n      <td>в черном море нашли потерянный флот гитлера</td>\n      <td>#UNKN</td>\n      <td>[0, 0, 0, 0, 0, 0, 0, 0, 0, 0, 0, 0, 0, 0, 0, ...</td>\n    </tr>\n    <tr>\n      <th>3</th>\n      <td>3</td>\n      <td>24005972</td>\n      <td>/20190202/1550283179.html</td>\n      <td>2019-02-01 21:27:06</td>\n      <td>В США освободили задержанную российскую актрис...</td>\n      <td>58</td>\n      <td>35</td>\n      <td>NaN</td>\n      <td>в сша освободили задержанную российскую актрис...</td>\n      <td>#UNKN</td>\n      <td>[0, 0, 0, 0, 0, 0, 0, 0, 0, 0, 0, 0, 0, 0, 0, ...</td>\n    </tr>\n    <tr>\n      <th>4</th>\n      <td>4</td>\n      <td>24005764</td>\n      <td>/20190201/1550262848.html</td>\n      <td>2019-02-01 20:55:54</td>\n      <td>Толкнувший Скабееву депутат Рады заявил о гроз...</td>\n      <td>45</td>\n      <td>145</td>\n      <td>NaN</td>\n      <td>толкнувший скабееву депутат рады заявил о гроз...</td>\n      <td>#UNKN</td>\n      <td>[0, 0, 0, 0, 0, 0, 0, 0, 0, 0, 0, 0, 0, 0, 0, ...</td>\n    </tr>\n    <tr>\n      <th>...</th>\n      <td>...</td>\n      <td>...</td>\n      <td>...</td>\n      <td>...</td>\n      <td>...</td>\n      <td>...</td>\n      <td>...</td>\n      <td>...</td>\n      <td>...</td>\n      <td>...</td>\n      <td>...</td>\n    </tr>\n    <tr>\n      <th>19923</th>\n      <td>19923</td>\n      <td>17976905</td>\n      <td>/politics/20170929/1505812885.html</td>\n      <td>2017-09-29 03:51:03</td>\n      <td>Политологи назвали губернаторов, которым грози...</td>\n      <td>141</td>\n      <td>114</td>\n      <td>NaN</td>\n      <td>политологи назвали губернаторов которым грозит...</td>\n      <td>#UNKN</td>\n      <td>[0, 0, 0, 0, 0, 0, 0, 0, 0, 0, 0, 0, 0, 0, 0, ...</td>\n    </tr>\n    <tr>\n      <th>19924</th>\n      <td>19924</td>\n      <td>17976766</td>\n      <td>/politics/20170929/1505809314.html</td>\n      <td>2017-09-29 03:20:41</td>\n      <td>Захарова рассказала, какую книгу подписывал Ла...</td>\n      <td>140</td>\n      <td>50</td>\n      <td>NaN</td>\n      <td>захарова рассказала какую книгу подписывал лав...</td>\n      <td>#UNKN</td>\n      <td>[0, 0, 0, 0, 0, 0, 0, 0, 0, 0, 0, 0, 0, 0, 0, ...</td>\n    </tr>\n    <tr>\n      <th>19925</th>\n      <td>19925</td>\n      <td>17976601</td>\n      <td>/science/20170928/1505787196.html</td>\n      <td>2017-09-29 02:55:49</td>\n      <td>Современные люди появились более 300 тысяч лет...</td>\n      <td>202</td>\n      <td>69</td>\n      <td>NaN</td>\n      <td>современные люди появились более 300 тысяч лет...</td>\n      <td>#UNKN</td>\n      <td>[0, 0, 0, 0, 0, 0, 0, 0, 0, 0, 0, 0, 0, 0, 0, ...</td>\n    </tr>\n    <tr>\n      <th>19926</th>\n      <td>19926</td>\n      <td>17976198</td>\n      <td>/world/20170929/1505810992.html</td>\n      <td>2017-09-29 02:00:09</td>\n      <td>В США ребенок устроил стрельбу</td>\n      <td>138</td>\n      <td>51</td>\n      <td>NaN</td>\n      <td>в сша ребенок устроил стрельбу</td>\n      <td>#UNKN</td>\n      <td>[0, 0, 0, 0, 0, 0, 0, 0, 0, 0, 0, 0, 0, 0, 0, ...</td>\n    </tr>\n    <tr>\n      <th>19927</th>\n      <td>19927</td>\n      <td>17976037</td>\n      <td>/defense_safety/20170929/1505808562.html</td>\n      <td>2017-09-29 01:28:55</td>\n      <td>В России впервые сократили число призывников н...</td>\n      <td>329</td>\n      <td>241</td>\n      <td>NaN</td>\n      <td>в россии впервые сократили число призывников н...</td>\n      <td>#UNKN</td>\n      <td>[0, 0, 0, 0, 0, 0, 0, 0, 0, 0, 0, 0, 0, 0, 0, ...</td>\n    </tr>\n  </tbody>\n</table>\n<p>19928 rows × 11 columns</p>\n</div>"
     },
     "execution_count": 15,
     "metadata": {},
     "output_type": "execute_result"
    }
   ],
   "source": [
    "df_vk_predicted"
   ],
   "metadata": {
    "collapsed": false,
    "ExecuteTime": {
     "end_time": "2024-12-14T20:50:47.559221Z",
     "start_time": "2024-12-14T20:50:47.538681Z"
    }
   },
   "execution_count": 15
  },
  {
   "cell_type": "code",
   "outputs": [],
   "source": [
    "df_comments_scrolled['id'] = df_comments_scrolled['id'].astype('int64')"
   ],
   "metadata": {
    "collapsed": false,
    "ExecuteTime": {
     "end_time": "2024-12-14T20:50:47.581856Z",
     "start_time": "2024-12-14T20:50:47.560222Z"
    }
   },
   "execution_count": 16
  },
  {
   "cell_type": "code",
   "outputs": [],
   "source": [
    "articles_with_comments = df_comments_scrolled.set_index('post_id').join(df_vk_predicted.set_index('id'), how=\"right\",lsuffix='_comment', rsuffix='_vk')"
   ],
   "metadata": {
    "collapsed": false,
    "ExecuteTime": {
     "end_time": "2024-12-14T20:50:49.918384Z",
     "start_time": "2024-12-14T20:50:47.583854Z"
    }
   },
   "execution_count": 17
  },
  {
   "cell_type": "code",
   "outputs": [
    {
     "data": {
      "text/plain": "                    id     datetime_comment  \\\npost_id                                       \n24006362.0  24006366.0  2019-02-01 23:14:14   \n24006362.0  24006370.0  2019-02-01 23:15:23   \n24006362.0  24006371.0  2019-02-01 23:16:21   \n24006362.0  24006374.0  2019-02-01 23:16:38   \n24006362.0  24006375.0  2019-02-01 23:16:40   \n...                ...                  ...   \n17976037.0  17991829.0  2017-09-30 10:27:11   \n17976037.0  17992004.0  2017-09-30 10:49:21   \n17976037.0  17992058.0  2017-09-30 10:56:29   \n17976037.0  17992487.0  2017-09-30 11:56:03   \n17976037.0  17996306.0  2017-09-30 19:16:37   \n\n                                                         text  likes_comment  \\\npost_id                                                                        \n24006362.0                                       ЧВК Вагнера?            5.0   \n24006362.0                [id4710641|Евгений], выздоравливай.            3.0   \n24006362.0  [id442655034|Андрей], искренне желаю этого все...            4.0   \n24006362.0                         Опять про Украину новости?            1.0   \n24006362.0                                      Че такое ДНР?            2.0   \n...                                                       ...            ...   \n17976037.0  Сергей, я про простых американцев, которые слу...            0.0   \n17976037.0  [id415883695|Евгений], у них довольствие и они...            0.0   \n17976037.0  [id142882974|Сергей], ну Кадафи и Хусейныча он...            0.0   \n17976037.0  [id142882974|Сергей], для этого существует физ...            0.0   \n17976037.0                                   Деньги кончились            0.0   \n\n           sentiment_verdict  sentiment_score  Unnamed: 0  \\\npost_id                                                     \n24006362.0           neutral         0.912246           0   \n24006362.0           neutral         0.879370           0   \n24006362.0          positive         0.676261           0   \n24006362.0           neutral         0.925939           0   \n24006362.0           neutral         0.866223           0   \n...                      ...              ...         ...   \n17976037.0           neutral         0.649754       19927   \n17976037.0          negative         0.697936       19927   \n17976037.0          negative         0.623313       19927   \n17976037.0           neutral         0.873600       19927   \n17976037.0          negative         0.712290       19927   \n\n                                                href          datetime_vk  \\\npost_id                                                                     \n24006362.0                 /20190201/1550280358.html  2019-02-01 23:13:17   \n24006362.0                 /20190201/1550280358.html  2019-02-01 23:13:17   \n24006362.0                 /20190201/1550280358.html  2019-02-01 23:13:17   \n24006362.0                 /20190201/1550280358.html  2019-02-01 23:13:17   \n24006362.0                 /20190201/1550280358.html  2019-02-01 23:13:17   \n...                                              ...                  ...   \n17976037.0  /defense_safety/20170929/1505808562.html  2017-09-29 01:28:55   \n17976037.0  /defense_safety/20170929/1505808562.html  2017-09-29 01:28:55   \n17976037.0  /defense_safety/20170929/1505808562.html  2017-09-29 01:28:55   \n17976037.0  /defense_safety/20170929/1505808562.html  2017-09-29 01:28:55   \n17976037.0  /defense_safety/20170929/1505808562.html  2017-09-29 01:28:55   \n\n                                                        title  likes_vk  \\\npost_id                                                                   \n24006362.0  В ДНР заявили о задержании диверсантов, причас...        15   \n24006362.0  В ДНР заявили о задержании диверсантов, причас...        15   \n24006362.0  В ДНР заявили о задержании диверсантов, причас...        15   \n24006362.0  В ДНР заявили о задержании диверсантов, причас...        15   \n24006362.0  В ДНР заявили о задержании диверсантов, причас...        15   \n...                                                       ...       ...   \n17976037.0  В России впервые сократили число призывников н...       329   \n17976037.0  В России впервые сократили число призывников н...       329   \n17976037.0  В России впервые сократили число призывников н...       329   \n17976037.0  В России впервые сократили число призывников н...       329   \n17976037.0  В России впервые сократили число призывников н...       329   \n\n            comments snippet  \\\npost_id                        \n24006362.0        28     NaN   \n24006362.0        28     NaN   \n24006362.0        28     NaN   \n24006362.0        28     NaN   \n24006362.0        28     NaN   \n...              ...     ...   \n17976037.0       241     NaN   \n17976037.0       241     NaN   \n17976037.0       241     NaN   \n17976037.0       241     NaN   \n17976037.0       241     NaN   \n\n                                                  title_clean snippet_clean  \\\npost_id                                                                       \n24006362.0  в днр заявили о задержании диверсантов причаст...         #UNKN   \n24006362.0  в днр заявили о задержании диверсантов причаст...         #UNKN   \n24006362.0  в днр заявили о задержании диверсантов причаст...         #UNKN   \n24006362.0  в днр заявили о задержании диверсантов причаст...         #UNKN   \n24006362.0  в днр заявили о задержании диверсантов причаст...         #UNKN   \n...                                                       ...           ...   \n17976037.0  в россии впервые сократили число призывников н...         #UNKN   \n17976037.0  в россии впервые сократили число призывников н...         #UNKN   \n17976037.0  в россии впервые сократили число призывников н...         #UNKN   \n17976037.0  в россии впервые сократили число призывников н...         #UNKN   \n17976037.0  в россии впервые сократили число призывников н...         #UNKN   \n\n                                                  target_tags  \npost_id                                                        \n24006362.0  [0, 0, 0, 0, 0, 0, 0, 0, 0, 0, 0, 0, 0, 0, 0, ...  \n24006362.0  [0, 0, 0, 0, 0, 0, 0, 0, 0, 0, 0, 0, 0, 0, 0, ...  \n24006362.0  [0, 0, 0, 0, 0, 0, 0, 0, 0, 0, 0, 0, 0, 0, 0, ...  \n24006362.0  [0, 0, 0, 0, 0, 0, 0, 0, 0, 0, 0, 0, 0, 0, 0, ...  \n24006362.0  [0, 0, 0, 0, 0, 0, 0, 0, 0, 0, 0, 0, 0, 0, 0, ...  \n...                                                       ...  \n17976037.0  [0, 0, 0, 0, 0, 0, 0, 0, 0, 0, 0, 0, 0, 0, 0, ...  \n17976037.0  [0, 0, 0, 0, 0, 0, 0, 0, 0, 0, 0, 0, 0, 0, 0, ...  \n17976037.0  [0, 0, 0, 0, 0, 0, 0, 0, 0, 0, 0, 0, 0, 0, 0, ...  \n17976037.0  [0, 0, 0, 0, 0, 0, 0, 0, 0, 0, 0, 0, 0, 0, 0, ...  \n17976037.0  [0, 0, 0, 0, 0, 0, 0, 0, 0, 0, 0, 0, 0, 0, 0, ...  \n\n[2612630 rows x 16 columns]",
      "text/html": "<div>\n<style scoped>\n    .dataframe tbody tr th:only-of-type {\n        vertical-align: middle;\n    }\n\n    .dataframe tbody tr th {\n        vertical-align: top;\n    }\n\n    .dataframe thead th {\n        text-align: right;\n    }\n</style>\n<table border=\"1\" class=\"dataframe\">\n  <thead>\n    <tr style=\"text-align: right;\">\n      <th></th>\n      <th>id</th>\n      <th>datetime_comment</th>\n      <th>text</th>\n      <th>likes_comment</th>\n      <th>sentiment_verdict</th>\n      <th>sentiment_score</th>\n      <th>Unnamed: 0</th>\n      <th>href</th>\n      <th>datetime_vk</th>\n      <th>title</th>\n      <th>likes_vk</th>\n      <th>comments</th>\n      <th>snippet</th>\n      <th>title_clean</th>\n      <th>snippet_clean</th>\n      <th>target_tags</th>\n    </tr>\n    <tr>\n      <th>post_id</th>\n      <th></th>\n      <th></th>\n      <th></th>\n      <th></th>\n      <th></th>\n      <th></th>\n      <th></th>\n      <th></th>\n      <th></th>\n      <th></th>\n      <th></th>\n      <th></th>\n      <th></th>\n      <th></th>\n      <th></th>\n      <th></th>\n    </tr>\n  </thead>\n  <tbody>\n    <tr>\n      <th>24006362.0</th>\n      <td>24006366.0</td>\n      <td>2019-02-01 23:14:14</td>\n      <td>ЧВК Вагнера?</td>\n      <td>5.0</td>\n      <td>neutral</td>\n      <td>0.912246</td>\n      <td>0</td>\n      <td>/20190201/1550280358.html</td>\n      <td>2019-02-01 23:13:17</td>\n      <td>В ДНР заявили о задержании диверсантов, причас...</td>\n      <td>15</td>\n      <td>28</td>\n      <td>NaN</td>\n      <td>в днр заявили о задержании диверсантов причаст...</td>\n      <td>#UNKN</td>\n      <td>[0, 0, 0, 0, 0, 0, 0, 0, 0, 0, 0, 0, 0, 0, 0, ...</td>\n    </tr>\n    <tr>\n      <th>24006362.0</th>\n      <td>24006370.0</td>\n      <td>2019-02-01 23:15:23</td>\n      <td>[id4710641|Евгений], выздоравливай.</td>\n      <td>3.0</td>\n      <td>neutral</td>\n      <td>0.879370</td>\n      <td>0</td>\n      <td>/20190201/1550280358.html</td>\n      <td>2019-02-01 23:13:17</td>\n      <td>В ДНР заявили о задержании диверсантов, причас...</td>\n      <td>15</td>\n      <td>28</td>\n      <td>NaN</td>\n      <td>в днр заявили о задержании диверсантов причаст...</td>\n      <td>#UNKN</td>\n      <td>[0, 0, 0, 0, 0, 0, 0, 0, 0, 0, 0, 0, 0, 0, 0, ...</td>\n    </tr>\n    <tr>\n      <th>24006362.0</th>\n      <td>24006371.0</td>\n      <td>2019-02-01 23:16:21</td>\n      <td>[id442655034|Андрей], искренне желаю этого все...</td>\n      <td>4.0</td>\n      <td>positive</td>\n      <td>0.676261</td>\n      <td>0</td>\n      <td>/20190201/1550280358.html</td>\n      <td>2019-02-01 23:13:17</td>\n      <td>В ДНР заявили о задержании диверсантов, причас...</td>\n      <td>15</td>\n      <td>28</td>\n      <td>NaN</td>\n      <td>в днр заявили о задержании диверсантов причаст...</td>\n      <td>#UNKN</td>\n      <td>[0, 0, 0, 0, 0, 0, 0, 0, 0, 0, 0, 0, 0, 0, 0, ...</td>\n    </tr>\n    <tr>\n      <th>24006362.0</th>\n      <td>24006374.0</td>\n      <td>2019-02-01 23:16:38</td>\n      <td>Опять про Украину новости?</td>\n      <td>1.0</td>\n      <td>neutral</td>\n      <td>0.925939</td>\n      <td>0</td>\n      <td>/20190201/1550280358.html</td>\n      <td>2019-02-01 23:13:17</td>\n      <td>В ДНР заявили о задержании диверсантов, причас...</td>\n      <td>15</td>\n      <td>28</td>\n      <td>NaN</td>\n      <td>в днр заявили о задержании диверсантов причаст...</td>\n      <td>#UNKN</td>\n      <td>[0, 0, 0, 0, 0, 0, 0, 0, 0, 0, 0, 0, 0, 0, 0, ...</td>\n    </tr>\n    <tr>\n      <th>24006362.0</th>\n      <td>24006375.0</td>\n      <td>2019-02-01 23:16:40</td>\n      <td>Че такое ДНР?</td>\n      <td>2.0</td>\n      <td>neutral</td>\n      <td>0.866223</td>\n      <td>0</td>\n      <td>/20190201/1550280358.html</td>\n      <td>2019-02-01 23:13:17</td>\n      <td>В ДНР заявили о задержании диверсантов, причас...</td>\n      <td>15</td>\n      <td>28</td>\n      <td>NaN</td>\n      <td>в днр заявили о задержании диверсантов причаст...</td>\n      <td>#UNKN</td>\n      <td>[0, 0, 0, 0, 0, 0, 0, 0, 0, 0, 0, 0, 0, 0, 0, ...</td>\n    </tr>\n    <tr>\n      <th>...</th>\n      <td>...</td>\n      <td>...</td>\n      <td>...</td>\n      <td>...</td>\n      <td>...</td>\n      <td>...</td>\n      <td>...</td>\n      <td>...</td>\n      <td>...</td>\n      <td>...</td>\n      <td>...</td>\n      <td>...</td>\n      <td>...</td>\n      <td>...</td>\n      <td>...</td>\n      <td>...</td>\n    </tr>\n    <tr>\n      <th>17976037.0</th>\n      <td>17991829.0</td>\n      <td>2017-09-30 10:27:11</td>\n      <td>Сергей, я про простых американцев, которые слу...</td>\n      <td>0.0</td>\n      <td>neutral</td>\n      <td>0.649754</td>\n      <td>19927</td>\n      <td>/defense_safety/20170929/1505808562.html</td>\n      <td>2017-09-29 01:28:55</td>\n      <td>В России впервые сократили число призывников н...</td>\n      <td>329</td>\n      <td>241</td>\n      <td>NaN</td>\n      <td>в россии впервые сократили число призывников н...</td>\n      <td>#UNKN</td>\n      <td>[0, 0, 0, 0, 0, 0, 0, 0, 0, 0, 0, 0, 0, 0, 0, ...</td>\n    </tr>\n    <tr>\n      <th>17976037.0</th>\n      <td>17992004.0</td>\n      <td>2017-09-30 10:49:21</td>\n      <td>[id415883695|Евгений], у них довольствие и они...</td>\n      <td>0.0</td>\n      <td>negative</td>\n      <td>0.697936</td>\n      <td>19927</td>\n      <td>/defense_safety/20170929/1505808562.html</td>\n      <td>2017-09-29 01:28:55</td>\n      <td>В России впервые сократили число призывников н...</td>\n      <td>329</td>\n      <td>241</td>\n      <td>NaN</td>\n      <td>в россии впервые сократили число призывников н...</td>\n      <td>#UNKN</td>\n      <td>[0, 0, 0, 0, 0, 0, 0, 0, 0, 0, 0, 0, 0, 0, 0, ...</td>\n    </tr>\n    <tr>\n      <th>17976037.0</th>\n      <td>17992058.0</td>\n      <td>2017-09-30 10:56:29</td>\n      <td>[id142882974|Сергей], ну Кадафи и Хусейныча он...</td>\n      <td>0.0</td>\n      <td>negative</td>\n      <td>0.623313</td>\n      <td>19927</td>\n      <td>/defense_safety/20170929/1505808562.html</td>\n      <td>2017-09-29 01:28:55</td>\n      <td>В России впервые сократили число призывников н...</td>\n      <td>329</td>\n      <td>241</td>\n      <td>NaN</td>\n      <td>в россии впервые сократили число призывников н...</td>\n      <td>#UNKN</td>\n      <td>[0, 0, 0, 0, 0, 0, 0, 0, 0, 0, 0, 0, 0, 0, 0, ...</td>\n    </tr>\n    <tr>\n      <th>17976037.0</th>\n      <td>17992487.0</td>\n      <td>2017-09-30 11:56:03</td>\n      <td>[id142882974|Сергей], для этого существует физ...</td>\n      <td>0.0</td>\n      <td>neutral</td>\n      <td>0.873600</td>\n      <td>19927</td>\n      <td>/defense_safety/20170929/1505808562.html</td>\n      <td>2017-09-29 01:28:55</td>\n      <td>В России впервые сократили число призывников н...</td>\n      <td>329</td>\n      <td>241</td>\n      <td>NaN</td>\n      <td>в россии впервые сократили число призывников н...</td>\n      <td>#UNKN</td>\n      <td>[0, 0, 0, 0, 0, 0, 0, 0, 0, 0, 0, 0, 0, 0, 0, ...</td>\n    </tr>\n    <tr>\n      <th>17976037.0</th>\n      <td>17996306.0</td>\n      <td>2017-09-30 19:16:37</td>\n      <td>Деньги кончились</td>\n      <td>0.0</td>\n      <td>negative</td>\n      <td>0.712290</td>\n      <td>19927</td>\n      <td>/defense_safety/20170929/1505808562.html</td>\n      <td>2017-09-29 01:28:55</td>\n      <td>В России впервые сократили число призывников н...</td>\n      <td>329</td>\n      <td>241</td>\n      <td>NaN</td>\n      <td>в россии впервые сократили число призывников н...</td>\n      <td>#UNKN</td>\n      <td>[0, 0, 0, 0, 0, 0, 0, 0, 0, 0, 0, 0, 0, 0, 0, ...</td>\n    </tr>\n  </tbody>\n</table>\n<p>2612630 rows × 16 columns</p>\n</div>"
     },
     "execution_count": 18,
     "metadata": {},
     "output_type": "execute_result"
    }
   ],
   "source": [
    "articles_with_comments"
   ],
   "metadata": {
    "collapsed": false,
    "ExecuteTime": {
     "end_time": "2024-12-14T20:50:49.942787Z",
     "start_time": "2024-12-14T20:50:49.920393Z"
    }
   },
   "execution_count": 18
  },
  {
   "cell_type": "code",
   "outputs": [],
   "source": [
    "post_id_to_sent = articles_with_comments[[\"sentiment_verdict\"]].groupby(\"post_id\")['sentiment_verdict'].value_counts().unstack(fill_value=0).reset_index()"
   ],
   "metadata": {
    "collapsed": false,
    "ExecuteTime": {
     "end_time": "2024-12-14T20:50:50.375973Z",
     "start_time": "2024-12-14T20:50:49.943785Z"
    }
   },
   "execution_count": 19
  },
  {
   "cell_type": "code",
   "outputs": [
    {
     "data": {
      "text/plain": "sentiment_verdict     post_id  negative  neutral  positive\n0                  17976037.0        57      169        12\n1                  17976198.0        10       40         1\n2                  17976601.0        11       56         0\n3                  17976766.0        11       29         8\n4                  17976905.0        31       77         4\n...                       ...       ...      ...       ...\n19922              24005764.0        37       93        10\n19923              24005972.0        10       28         2\n19924              24006100.0         4       15         3\n19925              24006240.0        11       28         3\n19926              24006362.0        10       35         2\n\n[19927 rows x 4 columns]",
      "text/html": "<div>\n<style scoped>\n    .dataframe tbody tr th:only-of-type {\n        vertical-align: middle;\n    }\n\n    .dataframe tbody tr th {\n        vertical-align: top;\n    }\n\n    .dataframe thead th {\n        text-align: right;\n    }\n</style>\n<table border=\"1\" class=\"dataframe\">\n  <thead>\n    <tr style=\"text-align: right;\">\n      <th>sentiment_verdict</th>\n      <th>post_id</th>\n      <th>negative</th>\n      <th>neutral</th>\n      <th>positive</th>\n    </tr>\n  </thead>\n  <tbody>\n    <tr>\n      <th>0</th>\n      <td>17976037.0</td>\n      <td>57</td>\n      <td>169</td>\n      <td>12</td>\n    </tr>\n    <tr>\n      <th>1</th>\n      <td>17976198.0</td>\n      <td>10</td>\n      <td>40</td>\n      <td>1</td>\n    </tr>\n    <tr>\n      <th>2</th>\n      <td>17976601.0</td>\n      <td>11</td>\n      <td>56</td>\n      <td>0</td>\n    </tr>\n    <tr>\n      <th>3</th>\n      <td>17976766.0</td>\n      <td>11</td>\n      <td>29</td>\n      <td>8</td>\n    </tr>\n    <tr>\n      <th>4</th>\n      <td>17976905.0</td>\n      <td>31</td>\n      <td>77</td>\n      <td>4</td>\n    </tr>\n    <tr>\n      <th>...</th>\n      <td>...</td>\n      <td>...</td>\n      <td>...</td>\n      <td>...</td>\n    </tr>\n    <tr>\n      <th>19922</th>\n      <td>24005764.0</td>\n      <td>37</td>\n      <td>93</td>\n      <td>10</td>\n    </tr>\n    <tr>\n      <th>19923</th>\n      <td>24005972.0</td>\n      <td>10</td>\n      <td>28</td>\n      <td>2</td>\n    </tr>\n    <tr>\n      <th>19924</th>\n      <td>24006100.0</td>\n      <td>4</td>\n      <td>15</td>\n      <td>3</td>\n    </tr>\n    <tr>\n      <th>19925</th>\n      <td>24006240.0</td>\n      <td>11</td>\n      <td>28</td>\n      <td>3</td>\n    </tr>\n    <tr>\n      <th>19926</th>\n      <td>24006362.0</td>\n      <td>10</td>\n      <td>35</td>\n      <td>2</td>\n    </tr>\n  </tbody>\n</table>\n<p>19927 rows × 4 columns</p>\n</div>"
     },
     "execution_count": 20,
     "metadata": {},
     "output_type": "execute_result"
    }
   ],
   "source": [
    "post_id_to_sent"
   ],
   "metadata": {
    "collapsed": false,
    "ExecuteTime": {
     "end_time": "2024-12-14T20:50:50.394977Z",
     "start_time": "2024-12-14T20:50:50.378097Z"
    }
   },
   "execution_count": 20
  },
  {
   "cell_type": "code",
   "outputs": [],
   "source": [
    "df_vk_predicted = df_vk_predicted.merge(post_id_to_sent[['post_id', 'negative', 'neutral', 'positive']],\n",
    "                                        left_on='id', right_on='post_id', how='left').drop(columns=[\"post_id\"])"
   ],
   "metadata": {
    "collapsed": false,
    "ExecuteTime": {
     "end_time": "2024-12-14T20:50:50.519182Z",
     "start_time": "2024-12-14T20:50:50.496035Z"
    }
   },
   "execution_count": 21
  },
  {
   "cell_type": "code",
   "outputs": [],
   "source": [
    "df_vk_predicted.drop(columns=[\"Unnamed: 0\"], inplace=True)"
   ],
   "metadata": {
    "collapsed": false,
    "ExecuteTime": {
     "end_time": "2024-12-14T20:50:50.528773Z",
     "start_time": "2024-12-14T20:50:50.520176Z"
    }
   },
   "execution_count": 22
  },
  {
   "cell_type": "code",
   "outputs": [
    {
     "data": {
      "text/plain": "             id                                      href  \\\n0      24006362                 /20190201/1550280358.html   \n1      24006240                 /20190201/1550268781.html   \n2      24006100                 /20190201/1550282212.html   \n3      24005972                 /20190202/1550283179.html   \n4      24005764                 /20190201/1550262848.html   \n...         ...                                       ...   \n19923  17976905        /politics/20170929/1505812885.html   \n19924  17976766        /politics/20170929/1505809314.html   \n19925  17976601         /science/20170928/1505787196.html   \n19926  17976198           /world/20170929/1505810992.html   \n19927  17976037  /defense_safety/20170929/1505808562.html   \n\n                  datetime                                              title  \\\n0      2019-02-01 23:13:17  В ДНР заявили о задержании диверсантов, причас...   \n1      2019-02-01 22:38:41  Житель Урала \"заминировал\" ТЦ из-за снятия  со...   \n2      2019-02-01 21:58:52      В Черном море нашли \"потерянный флот Гитлера\"   \n3      2019-02-01 21:27:06  В США освободили задержанную российскую актрис...   \n4      2019-02-01 20:55:54  Толкнувший Скабееву депутат Рады заявил о гроз...   \n...                    ...                                                ...   \n19923  2017-09-29 03:51:03  Политологи назвали губернаторов, которым грози...   \n19924  2017-09-29 03:20:41  Захарова рассказала, какую книгу подписывал Ла...   \n19925  2017-09-29 02:55:49  Современные люди появились более 300 тысяч лет...   \n19926  2017-09-29 02:00:09                     В США ребенок устроил стрельбу   \n19927  2017-09-29 01:28:55  В России впервые сократили число призывников н...   \n\n       likes  comments snippet  \\\n0         15        28     NaN   \n1         32        42     NaN   \n2         84        23     NaN   \n3         58        35     NaN   \n4         45       145     NaN   \n...      ...       ...     ...   \n19923    141       114     NaN   \n19924    140        50     NaN   \n19925    202        69     NaN   \n19926    138        51     NaN   \n19927    329       241     NaN   \n\n                                             title_clean snippet_clean  \\\n0      в днр заявили о задержании диверсантов причаст...         #UNKN   \n1      житель урала заминировал тц изза снятия  сотов...         #UNKN   \n2            в черном море нашли потерянный флот гитлера         #UNKN   \n3      в сша освободили задержанную российскую актрис...         #UNKN   \n4      толкнувший скабееву депутат рады заявил о гроз...         #UNKN   \n...                                                  ...           ...   \n19923  политологи назвали губернаторов которым грозит...         #UNKN   \n19924  захарова рассказала какую книгу подписывал лав...         #UNKN   \n19925  современные люди появились более 300 тысяч лет...         #UNKN   \n19926                     в сша ребенок устроил стрельбу         #UNKN   \n19927  в россии впервые сократили число призывников н...         #UNKN   \n\n                                             target_tags  negative  neutral  \\\n0      [0, 0, 0, 0, 0, 0, 0, 0, 0, 0, 0, 0, 0, 0, 0, ...      10.0     35.0   \n1      [0, 0, 0, 0, 0, 0, 0, 0, 0, 0, 0, 0, 0, 0, 0, ...      11.0     28.0   \n2      [0, 0, 0, 0, 0, 0, 0, 0, 0, 0, 0, 0, 0, 0, 0, ...       4.0     15.0   \n3      [0, 0, 0, 0, 0, 0, 0, 0, 0, 0, 0, 0, 0, 0, 0, ...      10.0     28.0   \n4      [0, 0, 0, 0, 0, 0, 0, 0, 0, 0, 0, 0, 0, 0, 0, ...      37.0     93.0   \n...                                                  ...       ...      ...   \n19923  [0, 0, 0, 0, 0, 0, 0, 0, 0, 0, 0, 0, 0, 0, 0, ...      31.0     77.0   \n19924  [0, 0, 0, 0, 0, 0, 0, 0, 0, 0, 0, 0, 0, 0, 0, ...      11.0     29.0   \n19925  [0, 0, 0, 0, 0, 0, 0, 0, 0, 0, 0, 0, 0, 0, 0, ...      11.0     56.0   \n19926  [0, 0, 0, 0, 0, 0, 0, 0, 0, 0, 0, 0, 0, 0, 0, ...      10.0     40.0   \n19927  [0, 0, 0, 0, 0, 0, 0, 0, 0, 0, 0, 0, 0, 0, 0, ...      57.0    169.0   \n\n       positive  \n0           2.0  \n1           3.0  \n2           3.0  \n3           2.0  \n4          10.0  \n...         ...  \n19923       4.0  \n19924       8.0  \n19925       0.0  \n19926       1.0  \n19927      12.0  \n\n[19928 rows x 13 columns]",
      "text/html": "<div>\n<style scoped>\n    .dataframe tbody tr th:only-of-type {\n        vertical-align: middle;\n    }\n\n    .dataframe tbody tr th {\n        vertical-align: top;\n    }\n\n    .dataframe thead th {\n        text-align: right;\n    }\n</style>\n<table border=\"1\" class=\"dataframe\">\n  <thead>\n    <tr style=\"text-align: right;\">\n      <th></th>\n      <th>id</th>\n      <th>href</th>\n      <th>datetime</th>\n      <th>title</th>\n      <th>likes</th>\n      <th>comments</th>\n      <th>snippet</th>\n      <th>title_clean</th>\n      <th>snippet_clean</th>\n      <th>target_tags</th>\n      <th>negative</th>\n      <th>neutral</th>\n      <th>positive</th>\n    </tr>\n  </thead>\n  <tbody>\n    <tr>\n      <th>0</th>\n      <td>24006362</td>\n      <td>/20190201/1550280358.html</td>\n      <td>2019-02-01 23:13:17</td>\n      <td>В ДНР заявили о задержании диверсантов, причас...</td>\n      <td>15</td>\n      <td>28</td>\n      <td>NaN</td>\n      <td>в днр заявили о задержании диверсантов причаст...</td>\n      <td>#UNKN</td>\n      <td>[0, 0, 0, 0, 0, 0, 0, 0, 0, 0, 0, 0, 0, 0, 0, ...</td>\n      <td>10.0</td>\n      <td>35.0</td>\n      <td>2.0</td>\n    </tr>\n    <tr>\n      <th>1</th>\n      <td>24006240</td>\n      <td>/20190201/1550268781.html</td>\n      <td>2019-02-01 22:38:41</td>\n      <td>Житель Урала \"заминировал\" ТЦ из-за снятия  со...</td>\n      <td>32</td>\n      <td>42</td>\n      <td>NaN</td>\n      <td>житель урала заминировал тц изза снятия  сотов...</td>\n      <td>#UNKN</td>\n      <td>[0, 0, 0, 0, 0, 0, 0, 0, 0, 0, 0, 0, 0, 0, 0, ...</td>\n      <td>11.0</td>\n      <td>28.0</td>\n      <td>3.0</td>\n    </tr>\n    <tr>\n      <th>2</th>\n      <td>24006100</td>\n      <td>/20190201/1550282212.html</td>\n      <td>2019-02-01 21:58:52</td>\n      <td>В Черном море нашли \"потерянный флот Гитлера\"</td>\n      <td>84</td>\n      <td>23</td>\n      <td>NaN</td>\n      <td>в черном море нашли потерянный флот гитлера</td>\n      <td>#UNKN</td>\n      <td>[0, 0, 0, 0, 0, 0, 0, 0, 0, 0, 0, 0, 0, 0, 0, ...</td>\n      <td>4.0</td>\n      <td>15.0</td>\n      <td>3.0</td>\n    </tr>\n    <tr>\n      <th>3</th>\n      <td>24005972</td>\n      <td>/20190202/1550283179.html</td>\n      <td>2019-02-01 21:27:06</td>\n      <td>В США освободили задержанную российскую актрис...</td>\n      <td>58</td>\n      <td>35</td>\n      <td>NaN</td>\n      <td>в сша освободили задержанную российскую актрис...</td>\n      <td>#UNKN</td>\n      <td>[0, 0, 0, 0, 0, 0, 0, 0, 0, 0, 0, 0, 0, 0, 0, ...</td>\n      <td>10.0</td>\n      <td>28.0</td>\n      <td>2.0</td>\n    </tr>\n    <tr>\n      <th>4</th>\n      <td>24005764</td>\n      <td>/20190201/1550262848.html</td>\n      <td>2019-02-01 20:55:54</td>\n      <td>Толкнувший Скабееву депутат Рады заявил о гроз...</td>\n      <td>45</td>\n      <td>145</td>\n      <td>NaN</td>\n      <td>толкнувший скабееву депутат рады заявил о гроз...</td>\n      <td>#UNKN</td>\n      <td>[0, 0, 0, 0, 0, 0, 0, 0, 0, 0, 0, 0, 0, 0, 0, ...</td>\n      <td>37.0</td>\n      <td>93.0</td>\n      <td>10.0</td>\n    </tr>\n    <tr>\n      <th>...</th>\n      <td>...</td>\n      <td>...</td>\n      <td>...</td>\n      <td>...</td>\n      <td>...</td>\n      <td>...</td>\n      <td>...</td>\n      <td>...</td>\n      <td>...</td>\n      <td>...</td>\n      <td>...</td>\n      <td>...</td>\n      <td>...</td>\n    </tr>\n    <tr>\n      <th>19923</th>\n      <td>17976905</td>\n      <td>/politics/20170929/1505812885.html</td>\n      <td>2017-09-29 03:51:03</td>\n      <td>Политологи назвали губернаторов, которым грози...</td>\n      <td>141</td>\n      <td>114</td>\n      <td>NaN</td>\n      <td>политологи назвали губернаторов которым грозит...</td>\n      <td>#UNKN</td>\n      <td>[0, 0, 0, 0, 0, 0, 0, 0, 0, 0, 0, 0, 0, 0, 0, ...</td>\n      <td>31.0</td>\n      <td>77.0</td>\n      <td>4.0</td>\n    </tr>\n    <tr>\n      <th>19924</th>\n      <td>17976766</td>\n      <td>/politics/20170929/1505809314.html</td>\n      <td>2017-09-29 03:20:41</td>\n      <td>Захарова рассказала, какую книгу подписывал Ла...</td>\n      <td>140</td>\n      <td>50</td>\n      <td>NaN</td>\n      <td>захарова рассказала какую книгу подписывал лав...</td>\n      <td>#UNKN</td>\n      <td>[0, 0, 0, 0, 0, 0, 0, 0, 0, 0, 0, 0, 0, 0, 0, ...</td>\n      <td>11.0</td>\n      <td>29.0</td>\n      <td>8.0</td>\n    </tr>\n    <tr>\n      <th>19925</th>\n      <td>17976601</td>\n      <td>/science/20170928/1505787196.html</td>\n      <td>2017-09-29 02:55:49</td>\n      <td>Современные люди появились более 300 тысяч лет...</td>\n      <td>202</td>\n      <td>69</td>\n      <td>NaN</td>\n      <td>современные люди появились более 300 тысяч лет...</td>\n      <td>#UNKN</td>\n      <td>[0, 0, 0, 0, 0, 0, 0, 0, 0, 0, 0, 0, 0, 0, 0, ...</td>\n      <td>11.0</td>\n      <td>56.0</td>\n      <td>0.0</td>\n    </tr>\n    <tr>\n      <th>19926</th>\n      <td>17976198</td>\n      <td>/world/20170929/1505810992.html</td>\n      <td>2017-09-29 02:00:09</td>\n      <td>В США ребенок устроил стрельбу</td>\n      <td>138</td>\n      <td>51</td>\n      <td>NaN</td>\n      <td>в сша ребенок устроил стрельбу</td>\n      <td>#UNKN</td>\n      <td>[0, 0, 0, 0, 0, 0, 0, 0, 0, 0, 0, 0, 0, 0, 0, ...</td>\n      <td>10.0</td>\n      <td>40.0</td>\n      <td>1.0</td>\n    </tr>\n    <tr>\n      <th>19927</th>\n      <td>17976037</td>\n      <td>/defense_safety/20170929/1505808562.html</td>\n      <td>2017-09-29 01:28:55</td>\n      <td>В России впервые сократили число призывников н...</td>\n      <td>329</td>\n      <td>241</td>\n      <td>NaN</td>\n      <td>в россии впервые сократили число призывников н...</td>\n      <td>#UNKN</td>\n      <td>[0, 0, 0, 0, 0, 0, 0, 0, 0, 0, 0, 0, 0, 0, 0, ...</td>\n      <td>57.0</td>\n      <td>169.0</td>\n      <td>12.0</td>\n    </tr>\n  </tbody>\n</table>\n<p>19928 rows × 13 columns</p>\n</div>"
     },
     "execution_count": 23,
     "metadata": {},
     "output_type": "execute_result"
    }
   ],
   "source": [
    "df_vk_predicted"
   ],
   "metadata": {
    "collapsed": false,
    "ExecuteTime": {
     "end_time": "2024-12-14T20:50:50.547824Z",
     "start_time": "2024-12-14T20:50:50.529770Z"
    }
   },
   "execution_count": 23
  },
  {
   "cell_type": "markdown",
   "metadata": {
    "id": "jBOzB5yBM_zn"
   },
   "source": [
    "__[0.6 балла] Задание 12:__ Правда ли, что новости с большим количеством лайков получают больше негативных комментариев? А позитивных? Правда ли, что чем больше лайков, тем под новостью больше комментариев?\n",
    "\n",
    "Постройте визуализацию, которая могла бы это проиллюстрировать."
   ]
  },
  {
   "cell_type": "code",
   "execution_count": 24,
   "metadata": {
    "id": "UjI74lt5M_zn",
    "ExecuteTime": {
     "end_time": "2024-12-14T20:50:51.074142Z",
     "start_time": "2024-12-14T20:50:50.548821Z"
    }
   },
   "outputs": [
    {
     "data": {
      "text/plain": "<Axes: >"
     },
     "execution_count": 24,
     "metadata": {},
     "output_type": "execute_result"
    },
    {
     "data": {
      "text/plain": "<Figure size 640x480 with 2 Axes>",
      "image/png": "[encoded data removed]"
     },
     "metadata": {},
     "output_type": "display_data"
    }
   ],
   "source": [
    "import seaborn as sns\n",
    "import matplotlib.pyplot as plt\n",
    "\n",
    "# Это можно проиллюстрировать с помощью корреляции и тепловой карты\n",
    "correlation= df_vk_predicted[[\"likes\", \"comments\", \"positive\",  \"negative\"]].corr(method=\"pearson\")\n",
    "\n",
    "sns.heatmap(correlation, annot=True, cmap=\"coolwarm\")\n",
    "# Нет, неправда, новость с большим количеством лайков получает много позитивных комментариев\n",
    "# Нет неправда, количество комментариев не связано с количеством лайков (то есть комментарии люди чаще пишут, когда недовольны и не хотят ставить лайк)"
   ]
  },
  {
   "cell_type": "markdown",
   "metadata": {
    "id": "3wN5AFrAM_zn"
   },
   "source": [
    "__[0.6 балла] Задание 13:__  Давайте построим по сентимент-окрасу комментариев топ позитивных новостей.\n",
    "\n",
    "- Если под новостью оставлено 100 комментариев, из которых 80 позитивные, мы можем быть уверены в том, что новость была хорошо воспринята людьми.\n",
    "- Если под новостью всего один комментарий и он оказался позитивным, то у нас 100% позитивных комментариев, но это вовсе не означает, что новость была воспринята хорошо.\n",
    "\n",
    "Получается, что сортировать по доле позитивных комментариев нельзя. Давайте поступим умнее. Доля позитивных комментариев под постом -- это случайная величина. Её довольно часто моделируют с помощью бета-распределения. Если это случайная величина, мы можем построить для неё предиктивный интервал. Пусть $u$ - число позитивных комментариев, а $d$ - нейтральных и негативных.  Пусть\n",
    "\n",
    "$$\n",
    "a = 1 + u \\qquad b = 1 + d.\n",
    "$$\n",
    "\n",
    "Тогда нижняя граница $95\\%$ предиктивного интервала для доли будет вычисляться по такой формуле:\n",
    "\n",
    "$$\n",
    "\\frac{a}{a + b} - 1.65 \\cdot \\sqrt{\\frac{a \\cdot b}{(a + b)^2 \\cdot (a + b + 1)}}\n",
    "$$\n",
    "\n",
    "Если под новостью был всего один комментарий, у такой случайной величины будет высокая дисперсия. Это означаeт, что штука, которую мы вычитаем из доли, окажется высокой. Левая граница интервала окажется маленькой и мы не поднимем комментарий в нашем топе наверх. Фактически мы делаем сортировку по квантилю уровня $0.05$ вместо среднего.\n",
    "\n",
    "От вас требуется вбить эту формулу, сделать сортировку и вывести на экран топ позитивных новостей. Подробнее про то, откуда берётся эта формула можно почитать [в этой книге.](https://disk.yandex.ru/i/Ctd08bTwC9eI3g) Ищите 4 главу, страницу 140."
   ]
  },
  {
   "cell_type": "code",
   "execution_count": 25,
   "metadata": {
    "id": "ToygzCZwM_zn",
    "ExecuteTime": {
     "end_time": "2024-12-14T20:50:51.088887Z",
     "start_time": "2024-12-14T20:50:51.075142Z"
    }
   },
   "outputs": [
    {
     "data": {
      "text/plain": "             id                                      href  \\\n0      24006362                 /20190201/1550280358.html   \n1      24006240                 /20190201/1550268781.html   \n2      24006100                 /20190201/1550282212.html   \n3      24005972                 /20190202/1550283179.html   \n4      24005764                 /20190201/1550262848.html   \n...         ...                                       ...   \n19923  17976905        /politics/20170929/1505812885.html   \n19924  17976766        /politics/20170929/1505809314.html   \n19925  17976601         /science/20170928/1505787196.html   \n19926  17976198           /world/20170929/1505810992.html   \n19927  17976037  /defense_safety/20170929/1505808562.html   \n\n                  datetime                                              title  \\\n0      2019-02-01 23:13:17  В ДНР заявили о задержании диверсантов, причас...   \n1      2019-02-01 22:38:41  Житель Урала \"заминировал\" ТЦ из-за снятия  со...   \n2      2019-02-01 21:58:52      В Черном море нашли \"потерянный флот Гитлера\"   \n3      2019-02-01 21:27:06  В США освободили задержанную российскую актрис...   \n4      2019-02-01 20:55:54  Толкнувший Скабееву депутат Рады заявил о гроз...   \n...                    ...                                                ...   \n19923  2017-09-29 03:51:03  Политологи назвали губернаторов, которым грози...   \n19924  2017-09-29 03:20:41  Захарова рассказала, какую книгу подписывал Ла...   \n19925  2017-09-29 02:55:49  Современные люди появились более 300 тысяч лет...   \n19926  2017-09-29 02:00:09                     В США ребенок устроил стрельбу   \n19927  2017-09-29 01:28:55  В России впервые сократили число призывников н...   \n\n       likes  comments snippet  \\\n0         15        28     NaN   \n1         32        42     NaN   \n2         84        23     NaN   \n3         58        35     NaN   \n4         45       145     NaN   \n...      ...       ...     ...   \n19923    141       114     NaN   \n19924    140        50     NaN   \n19925    202        69     NaN   \n19926    138        51     NaN   \n19927    329       241     NaN   \n\n                                             title_clean snippet_clean  \\\n0      в днр заявили о задержании диверсантов причаст...         #UNKN   \n1      житель урала заминировал тц изза снятия  сотов...         #UNKN   \n2            в черном море нашли потерянный флот гитлера         #UNKN   \n3      в сша освободили задержанную российскую актрис...         #UNKN   \n4      толкнувший скабееву депутат рады заявил о гроз...         #UNKN   \n...                                                  ...           ...   \n19923  политологи назвали губернаторов которым грозит...         #UNKN   \n19924  захарова рассказала какую книгу подписывал лав...         #UNKN   \n19925  современные люди появились более 300 тысяч лет...         #UNKN   \n19926                     в сша ребенок устроил стрельбу         #UNKN   \n19927  в россии впервые сократили число призывников н...         #UNKN   \n\n                                             target_tags  negative  neutral  \\\n0      [0, 0, 0, 0, 0, 0, 0, 0, 0, 0, 0, 0, 0, 0, 0, ...      10.0     35.0   \n1      [0, 0, 0, 0, 0, 0, 0, 0, 0, 0, 0, 0, 0, 0, 0, ...      11.0     28.0   \n2      [0, 0, 0, 0, 0, 0, 0, 0, 0, 0, 0, 0, 0, 0, 0, ...       4.0     15.0   \n3      [0, 0, 0, 0, 0, 0, 0, 0, 0, 0, 0, 0, 0, 0, 0, ...      10.0     28.0   \n4      [0, 0, 0, 0, 0, 0, 0, 0, 0, 0, 0, 0, 0, 0, 0, ...      37.0     93.0   \n...                                                  ...       ...      ...   \n19923  [0, 0, 0, 0, 0, 0, 0, 0, 0, 0, 0, 0, 0, 0, 0, ...      31.0     77.0   \n19924  [0, 0, 0, 0, 0, 0, 0, 0, 0, 0, 0, 0, 0, 0, 0, ...      11.0     29.0   \n19925  [0, 0, 0, 0, 0, 0, 0, 0, 0, 0, 0, 0, 0, 0, 0, ...      11.0     56.0   \n19926  [0, 0, 0, 0, 0, 0, 0, 0, 0, 0, 0, 0, 0, 0, 0, ...      10.0     40.0   \n19927  [0, 0, 0, 0, 0, 0, 0, 0, 0, 0, 0, 0, 0, 0, 0, ...      57.0    169.0   \n\n       positive  \n0           2.0  \n1           3.0  \n2           3.0  \n3           2.0  \n4          10.0  \n...         ...  \n19923       4.0  \n19924       8.0  \n19925       0.0  \n19926       1.0  \n19927      12.0  \n\n[19928 rows x 13 columns]",
      "text/html": "<div>\n<style scoped>\n    .dataframe tbody tr th:only-of-type {\n        vertical-align: middle;\n    }\n\n    .dataframe tbody tr th {\n        vertical-align: top;\n    }\n\n    .dataframe thead th {\n        text-align: right;\n    }\n</style>\n<table border=\"1\" class=\"dataframe\">\n  <thead>\n    <tr style=\"text-align: right;\">\n      <th></th>\n      <th>id</th>\n      <th>href</th>\n      <th>datetime</th>\n      <th>title</th>\n      <th>likes</th>\n      <th>comments</th>\n      <th>snippet</th>\n      <th>title_clean</th>\n      <th>snippet_clean</th>\n      <th>target_tags</th>\n      <th>negative</th>\n      <th>neutral</th>\n      <th>positive</th>\n    </tr>\n  </thead>\n  <tbody>\n    <tr>\n      <th>0</th>\n      <td>24006362</td>\n      <td>/20190201/1550280358.html</td>\n      <td>2019-02-01 23:13:17</td>\n      <td>В ДНР заявили о задержании диверсантов, причас...</td>\n      <td>15</td>\n      <td>28</td>\n      <td>NaN</td>\n      <td>в днр заявили о задержании диверсантов причаст...</td>\n      <td>#UNKN</td>\n      <td>[0, 0, 0, 0, 0, 0, 0, 0, 0, 0, 0, 0, 0, 0, 0, ...</td>\n      <td>10.0</td>\n      <td>35.0</td>\n      <td>2.0</td>\n    </tr>\n    <tr>\n      <th>1</th>\n      <td>24006240</td>\n      <td>/20190201/1550268781.html</td>\n      <td>2019-02-01 22:38:41</td>\n      <td>Житель Урала \"заминировал\" ТЦ из-за снятия  со...</td>\n      <td>32</td>\n      <td>42</td>\n      <td>NaN</td>\n      <td>житель урала заминировал тц изза снятия  сотов...</td>\n      <td>#UNKN</td>\n      <td>[0, 0, 0, 0, 0, 0, 0, 0, 0, 0, 0, 0, 0, 0, 0, ...</td>\n      <td>11.0</td>\n      <td>28.0</td>\n      <td>3.0</td>\n    </tr>\n    <tr>\n      <th>2</th>\n      <td>24006100</td>\n      <td>/20190201/1550282212.html</td>\n      <td>2019-02-01 21:58:52</td>\n      <td>В Черном море нашли \"потерянный флот Гитлера\"</td>\n      <td>84</td>\n      <td>23</td>\n      <td>NaN</td>\n      <td>в черном море нашли потерянный флот гитлера</td>\n      <td>#UNKN</td>\n      <td>[0, 0, 0, 0, 0, 0, 0, 0, 0, 0, 0, 0, 0, 0, 0, ...</td>\n      <td>4.0</td>\n      <td>15.0</td>\n      <td>3.0</td>\n    </tr>\n    <tr>\n      <th>3</th>\n      <td>24005972</td>\n      <td>/20190202/1550283179.html</td>\n      <td>2019-02-01 21:27:06</td>\n      <td>В США освободили задержанную российскую актрис...</td>\n      <td>58</td>\n      <td>35</td>\n      <td>NaN</td>\n      <td>в сша освободили задержанную российскую актрис...</td>\n      <td>#UNKN</td>\n      <td>[0, 0, 0, 0, 0, 0, 0, 0, 0, 0, 0, 0, 0, 0, 0, ...</td>\n      <td>10.0</td>\n      <td>28.0</td>\n      <td>2.0</td>\n    </tr>\n    <tr>\n      <th>4</th>\n      <td>24005764</td>\n      <td>/20190201/1550262848.html</td>\n      <td>2019-02-01 20:55:54</td>\n      <td>Толкнувший Скабееву депутат Рады заявил о гроз...</td>\n      <td>45</td>\n      <td>145</td>\n      <td>NaN</td>\n      <td>толкнувший скабееву депутат рады заявил о гроз...</td>\n      <td>#UNKN</td>\n      <td>[0, 0, 0, 0, 0, 0, 0, 0, 0, 0, 0, 0, 0, 0, 0, ...</td>\n      <td>37.0</td>\n      <td>93.0</td>\n      <td>10.0</td>\n    </tr>\n    <tr>\n      <th>...</th>\n      <td>...</td>\n      <td>...</td>\n      <td>...</td>\n      <td>...</td>\n      <td>...</td>\n      <td>...</td>\n      <td>...</td>\n      <td>...</td>\n      <td>...</td>\n      <td>...</td>\n      <td>...</td>\n      <td>...</td>\n      <td>...</td>\n    </tr>\n    <tr>\n      <th>19923</th>\n      <td>17976905</td>\n      <td>/politics/20170929/1505812885.html</td>\n      <td>2017-09-29 03:51:03</td>\n      <td>Политологи назвали губернаторов, которым грози...</td>\n      <td>141</td>\n      <td>114</td>\n      <td>NaN</td>\n      <td>политологи назвали губернаторов которым грозит...</td>\n      <td>#UNKN</td>\n      <td>[0, 0, 0, 0, 0, 0, 0, 0, 0, 0, 0, 0, 0, 0, 0, ...</td>\n      <td>31.0</td>\n      <td>77.0</td>\n      <td>4.0</td>\n    </tr>\n    <tr>\n      <th>19924</th>\n      <td>17976766</td>\n      <td>/politics/20170929/1505809314.html</td>\n      <td>2017-09-29 03:20:41</td>\n      <td>Захарова рассказала, какую книгу подписывал Ла...</td>\n      <td>140</td>\n      <td>50</td>\n      <td>NaN</td>\n      <td>захарова рассказала какую книгу подписывал лав...</td>\n      <td>#UNKN</td>\n      <td>[0, 0, 0, 0, 0, 0, 0, 0, 0, 0, 0, 0, 0, 0, 0, ...</td>\n      <td>11.0</td>\n      <td>29.0</td>\n      <td>8.0</td>\n    </tr>\n    <tr>\n      <th>19925</th>\n      <td>17976601</td>\n      <td>/science/20170928/1505787196.html</td>\n      <td>2017-09-29 02:55:49</td>\n      <td>Современные люди появились более 300 тысяч лет...</td>\n      <td>202</td>\n      <td>69</td>\n      <td>NaN</td>\n      <td>современные люди появились более 300 тысяч лет...</td>\n      <td>#UNKN</td>\n      <td>[0, 0, 0, 0, 0, 0, 0, 0, 0, 0, 0, 0, 0, 0, 0, ...</td>\n      <td>11.0</td>\n      <td>56.0</td>\n      <td>0.0</td>\n    </tr>\n    <tr>\n      <th>19926</th>\n      <td>17976198</td>\n      <td>/world/20170929/1505810992.html</td>\n      <td>2017-09-29 02:00:09</td>\n      <td>В США ребенок устроил стрельбу</td>\n      <td>138</td>\n      <td>51</td>\n      <td>NaN</td>\n      <td>в сша ребенок устроил стрельбу</td>\n      <td>#UNKN</td>\n      <td>[0, 0, 0, 0, 0, 0, 0, 0, 0, 0, 0, 0, 0, 0, 0, ...</td>\n      <td>10.0</td>\n      <td>40.0</td>\n      <td>1.0</td>\n    </tr>\n    <tr>\n      <th>19927</th>\n      <td>17976037</td>\n      <td>/defense_safety/20170929/1505808562.html</td>\n      <td>2017-09-29 01:28:55</td>\n      <td>В России впервые сократили число призывников н...</td>\n      <td>329</td>\n      <td>241</td>\n      <td>NaN</td>\n      <td>в россии впервые сократили число призывников н...</td>\n      <td>#UNKN</td>\n      <td>[0, 0, 0, 0, 0, 0, 0, 0, 0, 0, 0, 0, 0, 0, 0, ...</td>\n      <td>57.0</td>\n      <td>169.0</td>\n      <td>12.0</td>\n    </tr>\n  </tbody>\n</table>\n<p>19928 rows × 13 columns</p>\n</div>"
     },
     "execution_count": 25,
     "metadata": {},
     "output_type": "execute_result"
    }
   ],
   "source": [
    "df_vk_predicted"
   ]
  },
  {
   "cell_type": "code",
   "outputs": [],
   "source": [
    "def formula(pos, neu, neg):\n",
    "    a = 1 + pos\n",
    "    b = 1 + neu + neg\n",
    "    left = a / (a + b)\n",
    "    right = 1.65 * np.sqrt(a*b/((a+b)**2 * (a+b+1)))\n",
    "    return left - right"
   ],
   "metadata": {
    "collapsed": false,
    "ExecuteTime": {
     "end_time": "2024-12-14T20:50:51.094090Z",
     "start_time": "2024-12-14T20:50:51.089889Z"
    }
   },
   "execution_count": 26
  },
  {
   "cell_type": "code",
   "outputs": [],
   "source": [
    "df_vk_predicted[\"sentiment\"] = formula(df_vk_predicted[\"positive\"],df_vk_predicted[\"neutral\"], df_vk_predicted[\"negative\"] )"
   ],
   "metadata": {
    "collapsed": false,
    "ExecuteTime": {
     "end_time": "2024-12-14T20:50:51.103728Z",
     "start_time": "2024-12-14T20:50:51.095089Z"
    }
   },
   "execution_count": 27
  },
  {
   "cell_type": "code",
   "outputs": [
    {
     "data": {
      "text/plain": "             id                                               href  \\\n6651   22320852  https://rsport.ria.ru/rhythm_gym/20180913/1141...   \n14020  20027260  https://rsport.ria.ru/winter2018_paralympics/2...   \n13735  20128079  https://rsport.ria.ru/artist_gym/20180323/1134...   \n6620   22326485  https://rsport.ria.ru/shooting/20180914/114181...   \n12529  20591225  https://rsport.ria.ru/hockey/20180422/11358902...   \n...         ...                                                ...   \n14637  19791202                    /world/20180228/1515415770.html   \n14536  19834400                https://vk.com/app5748831_-15755094   \n14766  19753601                  /culture/20180225/1515235807.html   \n14836  19728851                  /society/20180223/1515177230.html   \n1874   23542467          https://vk.com/ria?w=app5748831_-15755094   \n\n                  datetime                                              title  \\\n6651   2018-09-13 16:40:33  Сборная России выиграла командный турнир на че...   \n14020  2018-03-16 03:54:32  Миленина выиграла биатлонную гонку на 12,5 км,...   \n13735  2018-03-23 07:19:58  Россиянка Мельникова победила в многоборье на ...   \n6620   2018-09-14 07:55:44  Россиянки заняли третье место в ските среди юн...   \n12529  2018-04-22 16:30:18  \"Ак Барс\" стал трехкратным обладателем Кубка Г...   \n...                    ...                                                ...   \n14637  2018-02-28 03:11:26  Российские фотографы вошли в шорт-лист конкурс...   \n14536  2018-03-02 13:58:35                                           Рассылка   \n14766  2018-02-24 22:40:40  Кому достались медведи: на Берлинале объявили ...   \n14836  2018-02-22 23:48:54  Дипломат и ученый: коллеги Фалина вспоминают е...   \n1874   2018-12-25 11:53:26  Новости, видео, конкурсы. Рассылка от РИА Новости   \n\n       likes  comments                                            snippet  \\\n6651    1387        53                                                NaN   \n14020   1106        28  Россиянка Анна Миленина завоевала седьмое золо...   \n13735    670        17                                                NaN   \n6620     359        14                                                NaN   \n12529   1292        78                                                NaN   \n...      ...       ...                                                ...   \n14637    144         4                                                NaN   \n14536     40         4  Дорогие друзья, подписывайтесь на наши рассылк...   \n14766     92         3                                                NaN   \n14836     83         2                                                NaN   \n1874      15         0  Друзья, подписывайтесь на наши рассылки: \\n- у...   \n\n                                             title_clean  \\\n6651   сборная россии выиграла командный турнир на че...   \n14020  миленина выиграла биатлонную гонку на 125 км с...   \n13735  россиянка мельникова победила в многоборье на ...   \n6620   россиянки заняли третье место в ските среди юн...   \n12529  ак барс стал трехкратным обладателем кубка гаг...   \n...                                                  ...   \n14637  российские фотографы вошли в шортлист конкурса...   \n14536                                           рассылка   \n14766  кому достались медведи на берлинале объявили п...   \n14836  дипломат и ученый коллеги фалина вспоминают ег...   \n1874      новости видео конкурсы рассылка от риа новости   \n\n                                           snippet_clean  \\\n6651                                               #UNKN   \n14020  россиянка анна миленина завоевала седьмое золо...   \n13735                                              #UNKN   \n6620                                               #UNKN   \n12529                                              #UNKN   \n...                                                  ...   \n14637                                              #UNKN   \n14536  дорогие друзья подписывайтесь на наши рассылки...   \n14766                                              #UNKN   \n14836                                              #UNKN   \n1874   друзья подписывайтесь на наши рассылки  утренн...   \n\n                                             target_tags  negative  neutral  \\\n6651   [0, 0, 0, 0, 0, 0, 0, 0, 0, 0, 0, 0, 0, 0, 0, ...       0.0     16.0   \n14020  [0, 0, 0, 0, 0, 0, 0, 0, 0, 0, 0, 0, 0, 0, 0, ...       0.0      8.0   \n13735  [0, 0, 0, 0, 0, 0, 0, 0, 0, 0, 0, 0, 0, 0, 0, ...       0.0      4.0   \n6620   [0, 0, 0, 0, 0, 0, 0, 0, 0, 0, 0, 0, 0, 0, 0, ...       0.0      4.0   \n12529  [0, 0, 0, 0, 0, 0, 0, 0, 0, 0, 0, 0, 0, 0, 0, ...       3.0     26.0   \n...                                                  ...       ...      ...   \n14637  [0, 0, 0, 0, 0, 0, 0, 0, 0, 0, 0, 0, 0, 0, 0, ...       0.0      4.0   \n14536  [0, 0, 0, 0, 0, 0, 0, 0, 0, 0, 0, 0, 0, 0, 0, ...       2.0      2.0   \n14766  [0, 0, 0, 0, 0, 0, 0, 0, 0, 0, 0, 0, 0, 0, 0, ...       1.0      2.0   \n14836  [0, 0, 0, 0, 0, 0, 0, 0, 0, 0, 0, 0, 0, 0, 0, ...       0.0      2.0   \n1874   [0, 0, 0, 0, 0, 0, 0, 0, 0, 0, 0, 0, 0, 0, 0, ...       NaN      NaN   \n\n       positive  sentiment  \n6651       34.0   0.566760  \n14020      16.0   0.502777  \n13735      10.0   0.502010  \n6620       10.0   0.502010  \n12529      42.0   0.494670  \n...         ...        ...  \n14637       0.0  -0.065751  \n14536       0.0  -0.065751  \n14766       0.0  -0.069444  \n14836       0.0  -0.069521  \n1874        NaN        NaN  \n\n[19928 rows x 14 columns]",
      "text/html": "<div>\n<style scoped>\n    .dataframe tbody tr th:only-of-type {\n        vertical-align: middle;\n    }\n\n    .dataframe tbody tr th {\n        vertical-align: top;\n    }\n\n    .dataframe thead th {\n        text-align: right;\n    }\n</style>\n<table border=\"1\" class=\"dataframe\">\n  <thead>\n    <tr style=\"text-align: right;\">\n      <th></th>\n      <th>id</th>\n      <th>href</th>\n      <th>datetime</th>\n      <th>title</th>\n      <th>likes</th>\n      <th>comments</th>\n      <th>snippet</th>\n      <th>title_clean</th>\n      <th>snippet_clean</th>\n      <th>target_tags</th>\n      <th>negative</th>\n      <th>neutral</th>\n      <th>positive</th>\n      <th>sentiment</th>\n    </tr>\n  </thead>\n  <tbody>\n    <tr>\n      <th>6651</th>\n      <td>22320852</td>\n      <td>https://rsport.ria.ru/rhythm_gym/20180913/1141...</td>\n      <td>2018-09-13 16:40:33</td>\n      <td>Сборная России выиграла командный турнир на че...</td>\n      <td>1387</td>\n      <td>53</td>\n      <td>NaN</td>\n      <td>сборная россии выиграла командный турнир на че...</td>\n      <td>#UNKN</td>\n      <td>[0, 0, 0, 0, 0, 0, 0, 0, 0, 0, 0, 0, 0, 0, 0, ...</td>\n      <td>0.0</td>\n      <td>16.0</td>\n      <td>34.0</td>\n      <td>0.566760</td>\n    </tr>\n    <tr>\n      <th>14020</th>\n      <td>20027260</td>\n      <td>https://rsport.ria.ru/winter2018_paralympics/2...</td>\n      <td>2018-03-16 03:54:32</td>\n      <td>Миленина выиграла биатлонную гонку на 12,5 км,...</td>\n      <td>1106</td>\n      <td>28</td>\n      <td>Россиянка Анна Миленина завоевала седьмое золо...</td>\n      <td>миленина выиграла биатлонную гонку на 125 км с...</td>\n      <td>россиянка анна миленина завоевала седьмое золо...</td>\n      <td>[0, 0, 0, 0, 0, 0, 0, 0, 0, 0, 0, 0, 0, 0, 0, ...</td>\n      <td>0.0</td>\n      <td>8.0</td>\n      <td>16.0</td>\n      <td>0.502777</td>\n    </tr>\n    <tr>\n      <th>13735</th>\n      <td>20128079</td>\n      <td>https://rsport.ria.ru/artist_gym/20180323/1134...</td>\n      <td>2018-03-23 07:19:58</td>\n      <td>Россиянка Мельникова победила в многоборье на ...</td>\n      <td>670</td>\n      <td>17</td>\n      <td>NaN</td>\n      <td>россиянка мельникова победила в многоборье на ...</td>\n      <td>#UNKN</td>\n      <td>[0, 0, 0, 0, 0, 0, 0, 0, 0, 0, 0, 0, 0, 0, 0, ...</td>\n      <td>0.0</td>\n      <td>4.0</td>\n      <td>10.0</td>\n      <td>0.502010</td>\n    </tr>\n    <tr>\n      <th>6620</th>\n      <td>22326485</td>\n      <td>https://rsport.ria.ru/shooting/20180914/114181...</td>\n      <td>2018-09-14 07:55:44</td>\n      <td>Россиянки заняли третье место в ските среди юн...</td>\n      <td>359</td>\n      <td>14</td>\n      <td>NaN</td>\n      <td>россиянки заняли третье место в ските среди юн...</td>\n      <td>#UNKN</td>\n      <td>[0, 0, 0, 0, 0, 0, 0, 0, 0, 0, 0, 0, 0, 0, 0, ...</td>\n      <td>0.0</td>\n      <td>4.0</td>\n      <td>10.0</td>\n      <td>0.502010</td>\n    </tr>\n    <tr>\n      <th>12529</th>\n      <td>20591225</td>\n      <td>https://rsport.ria.ru/hockey/20180422/11358902...</td>\n      <td>2018-04-22 16:30:18</td>\n      <td>\"Ак Барс\" стал трехкратным обладателем Кубка Г...</td>\n      <td>1292</td>\n      <td>78</td>\n      <td>NaN</td>\n      <td>ак барс стал трехкратным обладателем кубка гаг...</td>\n      <td>#UNKN</td>\n      <td>[0, 0, 0, 0, 0, 0, 0, 0, 0, 0, 0, 0, 0, 0, 0, ...</td>\n      <td>3.0</td>\n      <td>26.0</td>\n      <td>42.0</td>\n      <td>0.494670</td>\n    </tr>\n    <tr>\n      <th>...</th>\n      <td>...</td>\n      <td>...</td>\n      <td>...</td>\n      <td>...</td>\n      <td>...</td>\n      <td>...</td>\n      <td>...</td>\n      <td>...</td>\n      <td>...</td>\n      <td>...</td>\n      <td>...</td>\n      <td>...</td>\n      <td>...</td>\n      <td>...</td>\n    </tr>\n    <tr>\n      <th>14637</th>\n      <td>19791202</td>\n      <td>/world/20180228/1515415770.html</td>\n      <td>2018-02-28 03:11:26</td>\n      <td>Российские фотографы вошли в шорт-лист конкурс...</td>\n      <td>144</td>\n      <td>4</td>\n      <td>NaN</td>\n      <td>российские фотографы вошли в шортлист конкурса...</td>\n      <td>#UNKN</td>\n      <td>[0, 0, 0, 0, 0, 0, 0, 0, 0, 0, 0, 0, 0, 0, 0, ...</td>\n      <td>0.0</td>\n      <td>4.0</td>\n      <td>0.0</td>\n      <td>-0.065751</td>\n    </tr>\n    <tr>\n      <th>14536</th>\n      <td>19834400</td>\n      <td>https://vk.com/app5748831_-15755094</td>\n      <td>2018-03-02 13:58:35</td>\n      <td>Рассылка</td>\n      <td>40</td>\n      <td>4</td>\n      <td>Дорогие друзья, подписывайтесь на наши рассылк...</td>\n      <td>рассылка</td>\n      <td>дорогие друзья подписывайтесь на наши рассылки...</td>\n      <td>[0, 0, 0, 0, 0, 0, 0, 0, 0, 0, 0, 0, 0, 0, 0, ...</td>\n      <td>2.0</td>\n      <td>2.0</td>\n      <td>0.0</td>\n      <td>-0.065751</td>\n    </tr>\n    <tr>\n      <th>14766</th>\n      <td>19753601</td>\n      <td>/culture/20180225/1515235807.html</td>\n      <td>2018-02-24 22:40:40</td>\n      <td>Кому достались медведи: на Берлинале объявили ...</td>\n      <td>92</td>\n      <td>3</td>\n      <td>NaN</td>\n      <td>кому достались медведи на берлинале объявили п...</td>\n      <td>#UNKN</td>\n      <td>[0, 0, 0, 0, 0, 0, 0, 0, 0, 0, 0, 0, 0, 0, 0, ...</td>\n      <td>1.0</td>\n      <td>2.0</td>\n      <td>0.0</td>\n      <td>-0.069444</td>\n    </tr>\n    <tr>\n      <th>14836</th>\n      <td>19728851</td>\n      <td>/society/20180223/1515177230.html</td>\n      <td>2018-02-22 23:48:54</td>\n      <td>Дипломат и ученый: коллеги Фалина вспоминают е...</td>\n      <td>83</td>\n      <td>2</td>\n      <td>NaN</td>\n      <td>дипломат и ученый коллеги фалина вспоминают ег...</td>\n      <td>#UNKN</td>\n      <td>[0, 0, 0, 0, 0, 0, 0, 0, 0, 0, 0, 0, 0, 0, 0, ...</td>\n      <td>0.0</td>\n      <td>2.0</td>\n      <td>0.0</td>\n      <td>-0.069521</td>\n    </tr>\n    <tr>\n      <th>1874</th>\n      <td>23542467</td>\n      <td>https://vk.com/ria?w=app5748831_-15755094</td>\n      <td>2018-12-25 11:53:26</td>\n      <td>Новости, видео, конкурсы. Рассылка от РИА Новости</td>\n      <td>15</td>\n      <td>0</td>\n      <td>Друзья, подписывайтесь на наши рассылки: \\n- у...</td>\n      <td>новости видео конкурсы рассылка от риа новости</td>\n      <td>друзья подписывайтесь на наши рассылки  утренн...</td>\n      <td>[0, 0, 0, 0, 0, 0, 0, 0, 0, 0, 0, 0, 0, 0, 0, ...</td>\n      <td>NaN</td>\n      <td>NaN</td>\n      <td>NaN</td>\n      <td>NaN</td>\n    </tr>\n  </tbody>\n</table>\n<p>19928 rows × 14 columns</p>\n</div>"
     },
     "execution_count": 28,
     "metadata": {},
     "output_type": "execute_result"
    }
   ],
   "source": [
    "df_vk_predicted.sort_values(by=[\"sentiment\"], ascending=False) # Топ позитивных новостей"
   ],
   "metadata": {
    "collapsed": false,
    "ExecuteTime": {
     "end_time": "2024-12-14T20:50:51.124200Z",
     "start_time": "2024-12-14T20:50:51.104727Z"
    }
   },
   "execution_count": 28
  },
  {
   "cell_type": "code",
   "outputs": [
    {
     "name": "stdout",
     "output_type": "stream",
     "text": [
      "сборная россии выиграла командный турнир на чемпионате мира по художественной гимнастике\n",
      "миленина выиграла биатлонную гонку на 125 км став 7кратной чемпионкой паралимпиад\n",
      "россиянки заняли третье место в ските среди юниорок на чемпионате мира по стрельбе\n",
      "россиянка мельникова победила в многоборье на этапе км по спортивной гимнастике\n",
      "ак барс стал трехкратным обладателем кубка гагарина\n",
      "россиянин иван бессонов победил в конкурсе классического евровидения\n",
      "сборная россии вернулась в москву после победы на юношеских олимпийских играх\n",
      "ваши поздравления на елке россия сегодня в гуме\n",
      "сербия обыграла костарику на чм2018\n",
      "вопреки всему россияне стали вторыми на паралимпиаде\n"
     ]
    }
   ],
   "source": [
    "# 10 самых топовых\n",
    "pos_10 = df_vk_predicted.nlargest(10, \"sentiment\")[\"title_clean\"]\n",
    "\n",
    "for p in pos_10:\n",
    "    print(p)\n",
    "# ГООООЛ"
   ],
   "metadata": {
    "collapsed": false,
    "ExecuteTime": {
     "end_time": "2024-12-14T20:50:51.135524Z",
     "start_time": "2024-12-14T20:50:51.125280Z"
    }
   },
   "execution_count": 29
  },
  {
   "cell_type": "markdown",
   "metadata": {
    "id": "8CuDk6kbM_zn"
   },
   "source": [
    "Построили? Срочно пришлите свою любимую позитивную  новость в общий чат!!!\n",
    "\n",
    "Топ негативных новостей строить не будем. Вокруг итак слишком много негатива 😻😻😻"
   ]
  },
  {
   "cell_type": "markdown",
   "source": [
    "__[0.6 балла] Задание 14:__ Какие категории новостей оказались самыми позитивными? Придумайте способ найти такие категории и опишите его тут."
   ],
   "metadata": {
    "collapsed": false
   }
  },
  {
   "cell_type": "code",
   "outputs": [
    {
     "data": {
      "text/plain": "{0: '2007',\n 1: 'олег кононов',\n 2: 'сиэтл',\n 3: 'саммит по сирии в тегеране',\n 4: 'саранск',\n 5: 'realty-гид - крупным планом',\n 6: 'антарктида',\n 7: 'александр горшков',\n 8: 'ростов-на-дону',\n 9: 'новости - религия и мировоззрение',\n 10: 'ватикан',\n 11: 'григорий карасин',\n 12: 'хельсинки',\n 13: 'николай караченцов',\n 14: 'новости подмосковья',\n 15: 'сергей карасев',\n 16: 'димитрис итудис',\n 17: 'крушение катамарана в волгограде',\n 18: 'брайан орсер',\n 19: 'ситуация в каталонии после референдума о независимости',\n 20: '\"общественные мнения\"',\n 21: 'прибалтика',\n 22: 'си цзиньпин',\n 23: 'смоленская область',\n 24: 'шнур (сергей шнуров)',\n 25: 'мини-футбол',\n 26: 'наука - риа новости. итоги дня',\n 27: 'хакасия',\n 28: 'юлия тимошенко',\n 29: 'ямало-ненецкий автономный округ',\n 30: 'саммит кндр и южной кореи',\n 31: 'юрий трутнев',\n 32: 'проблемы - туризм',\n 33: 'департамент строительства г. москвы',\n 34: 'карачаево-черкесская республика',\n 35: 'взрослые и дети в медиа кампусе миа \"россия сегодня\" в \"артеке\"',\n 36: 'союзное государство',\n 37: 'лондон',\n 38: 'чита',\n 39: 'метро',\n 40: 'донбасс',\n 41: 'здоровье - общество',\n 42: 'рязань',\n 43: 'пкр',\n 44: 'лдпр',\n 45: 'александр жаров',\n 46: 'совет по правам человека при президенте рф',\n 47: 'социальный навигатор',\n 48: 'росатом',\n 49: 'умер джордж буш — старший',\n 50: 'екатеринбург',\n 51: 'единый день голосования в россии',\n 52: '27-й тур чемпионата россии-2017/18 по футболу',\n 53: '6-7 апреля',\n 54: 'ростех',\n 55: 'вкс рф',\n 56: 'финансовая отчетность',\n 57: 'ямало-ненецкий ао',\n 58: 'кипр',\n 59: 'культура',\n 60: 'хорхе сампаоли',\n 61: 'липецк',\n 62: 'интерпол',\n 63: 'фбр',\n 64: 'археология',\n 65: 'канны',\n 66: 'навигатор абитуриента',\n 67: 'сергей прядкин',\n 68: 'кемерово',\n 69: 'алексей кравцов',\n 70: 'министерство труда и социальной защиты рф',\n 71: 'павел грудинин',\n 72: 'новости - чемпионат мира по футболу 2018',\n 73: 'денис мантуров',\n 74: '13-15 апреля',\n 75: 'иордания',\n 76: 'демократическая республика конго',\n 77: 'москва',\n 78: 'тяжелая атлетика',\n 79: 'чили',\n 80: 'wbo',\n 81: 'глеб никитин',\n 82: 'истории - sport stories',\n 83: 'wba',\n 84: 'роскачество',\n 85: 'паралимпизм',\n 86: 'обострение палестино-израильского конфликта в 2018 году',\n 87: 'новый год',\n 88: 'возможная блокировка telegram',\n 89: 'великобритания',\n 90: 'министерство промышленности и торговли рф',\n 91: 'махачкала',\n 92: 'ураган в центральной россии 21 апреля 2018 года',\n 93: 'мурманск',\n 94: 'саломе зурабишвили',\n 95: 'забайкалье',\n 96: 'омская область',\n 97: 'андрей парубий',\n 98: 'молдавия',\n 99: 'ереван',\n 100: 'вадим евсеев',\n 101: 'художественная гимнастика',\n 102: 'кувейт',\n 103: 'татьяна голикова',\n 104: 'университетская наука',\n 105: 'юлия скрипаль',\n 106: 'мир',\n 107: 'надежда савченко',\n 108: 'министерство здравоохранения рф',\n 109: 'польша',\n 110: 'сергей железняк',\n 111: 'андрей ищенко',\n 112: 'маттео сальвини',\n 113: 'виталий мутко',\n 114: 'рустам минниханов',\n 115: 'выборы губернатора приморья',\n 116: 'министерство финансов рф',\n 117: 'rt',\n 118: 'свердловская область',\n 119: 'латвия',\n 120: 'томская область',\n 121: 'вячеслав володин',\n 122: 'элла памфилова',\n 123: 'проектирование',\n 124: 'парламентская ассамблея совета европы',\n 125: 'кабардино-балкария',\n 126: 'павел мамаев',\n 127: 'ростовская область',\n 128: 'мирный процесс - война в сирии',\n 129: 'стихийное бедствие в японии',\n 130: 'обрушение',\n 131: 'застройщики',\n 132: 'алтайский край',\n 133: 'юнеско',\n 134: 'приморский край',\n 135: 'верховная рада украины',\n 136: 'евгений петросян',\n 137: 'российская энергетическая неделя - 2018',\n 138: 'вфла',\n 139: 'вфв',\n 140: 'f.a.q. - полезное',\n 141: 'новое оружие россии',\n 142: 'монголия',\n 143: 'биньямин нетаньяху',\n 144: 'ирак',\n 145: 'международный комитет красного креста',\n 146: 'волоколамск',\n 147: 'выборы президента грузии',\n 148: 'еврейская автономная область',\n 149: 'германия',\n 150: 'жизнь без преград',\n 151: 'айсен николаев',\n 152: '25-й тур чемпионата россии-2017/18 по футболу',\n 153: 'нагорно-карабахская республика',\n 154: 'гватемала (республика)',\n 155: 'дальний восток',\n 156: 'гуп \"московский метрополитен\"',\n 157: 'тунис (страна)',\n 158: 'майк помпео',\n 159: '28-й тур чемпионата россии-2017/18 по футболу',\n 160: 'павел дуров',\n 161: 'кдк рфс',\n 162: 'москомстройинвест',\n 163: 'происшествия',\n 164: 'водоснабжение',\n 165: 'назначения',\n 166: 'сектор газа',\n 167: 'единая россия',\n 168: 'юар',\n 169: 'женская сборная россии по гандболу',\n 170: 'росавиация',\n 171: 'мадрид (город)',\n 172: 'от первого лица',\n 173: 'республика мордовия',\n 174: 'регби',\n 175: 'международная космическая станция',\n 176: 'луганск',\n 177: 'итоги единого дня голосования в 2018 году',\n 178: 'волгоградская область',\n 179: 'жилье - новости',\n 180: 'александр алаев',\n 181: 'виктор майгуров',\n 182: 'египет',\n 183: 'георгиос барцокас',\n 184: 'миодраг божович',\n 185: 'орел',\n 186: 'республика крым',\n 187: 'комментарии',\n 188: 'дикие кошки россии',\n 189: 'массимо каррера',\n 190: 'гандбол',\n 191: 'швеция',\n 192: 'russia today (телекомпания)',\n 193: '2004',\n 194: 'суды',\n 195: 'повторные выборы губернатора в приморье',\n 196: 'мария захарова',\n 197: 'хк ак барс',\n 198: 'кировская область',\n 199: 'видеоблоги - радио sputnik',\n 200: 'варфоломей i (патриарх константинопольский)',\n 201: 'союз',\n 202: 'дмитрий хохлов',\n 203: 'sport stories',\n 204: 'koktebel jazz party',\n 205: 'сергей шойгу',\n 206: 'оренбургская область',\n 207: 'мвд',\n 208: 'инвестиции',\n 209: 'шахматы',\n 210: 'алексей жамнов',\n 211: 'расследование причин утечки воздуха на мкс',\n 212: 'травмы',\n 213: 'дальневосточный фо',\n 214: '28-30 апреля',\n 215: 'франция',\n 216: 'амстердам',\n 217: 'варшава',\n 218: 'илья воробьев',\n 219: 'сергей смагин',\n 220: 'кхл',\n 221: 'telegram (приложение)',\n 222: 'иерусалим',\n 223: 'сергей аксенов',\n 224: 'стрельба в синагоге в питтсбурге',\n 225: 'следственный комитет рф',\n 226: 'спортивные объекты',\n 227: 'восточная гута',\n 228: 'дональд туск',\n 229: 'алексей лихачев',\n 230: 'саудовская аравия',\n 231: 'рим',\n 232: 'пляжный футбол',\n 233: 'авария на заводе \"крымский титан\"',\n 234: 'серж саргсян',\n 235: 'происшествия - риа новости. итоги дня',\n 236: 'александр захарченко',\n 237: 'восточный экономический форум',\n 238: 'хроника событий - война в сирии',\n 239: 'южный военный округ',\n 240: 'сергей фургал',\n 241: 'скандал вокруг доступа к новостям белты',\n 242: 'юрий семин',\n 243: 'федеральная служба исполнения наказаний рф',\n 244: 'крым',\n 245: 'тува',\n 246: 'самарская область',\n 247: 'ближний восток',\n 248: 'чемпионат мира по хоккею 2018',\n 249: 'договор о рсмд',\n 250: 'роскосмос',\n 251: 'g7',\n 252: 'ситуация вокруг telegram',\n 253: 'ibu',\n 254: 'пресс-релизы',\n 255: 'владислав третьяк',\n 256: 'космос',\n 257: 'медиавойны',\n 258: 'сергей собянин',\n 259: 'шос',\n 260: 'mh17. расследование',\n 261: 'образование - общество',\n 262: 'алексей навальный',\n 263: 'йемен',\n 264: 'общество - риа новости. итоги дня',\n 265: 'наса',\n 266: 'центробанк рф',\n 267: 'вокруг спорта',\n 268: 'греция',\n 269: 'долгострой',\n 270: 'worldskills',\n 271: 'дело полковника захарченко',\n 272: 'ханты-мансийский ао',\n 273: 'уфа',\n 274: 'теория заблуждений',\n 275: 'взрыв на заводе пиротехники под петербургом',\n 276: 'дмитрий квартальнов',\n 277: 'регионы',\n 278: 'никол пашинян',\n 279: 'роберто мартинес',\n 280: 'нижний тагил',\n 281: 'су-57',\n 282: 'мвд рф',\n 283: 'нападение на керченский политехнический колледж',\n 284: 'андрей белоусов',\n 285: 'эстония',\n 286: 'ситуация в днр и лнр',\n 287: 'отказ кндр от ядерных и ракетных испытаний',\n 288: 'джамаль хашукджи',\n 289: 'ирландия',\n 290: 'яндекс',\n 291: 'аренда',\n 292: 'крушение самолета ил-20 вкс в сирии',\n 293: '26-й тур чемпионата россии-2017/18 по футболу',\n 294: 'вооруженный конфликт на востоке украины (2018) (war in donbass 2018)',\n 295: 'джеймс мэттис',\n 296: 'министерство обороны россии',\n 297: 'марокко',\n 298: 'южно-сахалинск',\n 299: 'сн_образование',\n 300: 'сборная россии - чемпионат мира по футболу 2018',\n 301: 'борис дубровский',\n 302: 'израиль',\n 303: 'ассоциация туроператоров россии',\n 304: 'авторы',\n 305: 'южная корея',\n 306: 'торги',\n 307: 'липецкая область',\n 308: 'умерла правозащитница людмила алексеева',\n 309: 'ричард макларен',\n 310: 'евгений куйвашев',\n 311: 'владимир омелян',\n 312: 'департамент культурного наследия г. москвы',\n 313: 'министерство образования и науки рф',\n 314: 'геннадий зюганов',\n 315: 'саратов',\n 316: 'тите',\n 317: 'курбан бердыев',\n 318: 'обсе',\n 319: 'капремонт',\n 320: 'день вмф в 2018 году',\n 321: 'константин ярошенко',\n 322: 'колумбия',\n 323: 'дамаск (город)',\n 324: 'кирилл серебренников',\n 325: '27 марта 2018 года',\n 326: 'анкара',\n 327: 'ск рф',\n 328: 'русал',\n 329: 'взрыв на военном складе под черниговом',\n 330: 'здоровье',\n 331: 'арсен аваков',\n 332: 'юрий чайка',\n 333: 'нхл',\n 334: 'грузия',\n 335: 'якутия',\n 336: 'авто',\n 337: 'интервью \"подозреваемых\" по делу скрипалей маргарите симоньян',\n 338: 'людмила алексеева',\n 339: 'турция',\n 340: 'дмитрий парфенов',\n 341: 'черниговская область',\n 342: 'саммит по сирии в стамбуле',\n 343: 'умер станислав говорухин',\n 344: 'аварийные дома',\n 345: 'тюмень',\n 346: 'нападение боевиков на церковь в грозном',\n 347: 'россия',\n 348: 'карин кнайсль',\n 349: 'серебряное волонтерство - школа волонтера',\n 350: 'нарушения',\n 351: 'ркк \"энергия\"',\n 352: 'соликамск',\n 353: 'кубинка',\n 354: 'австрия',\n 355: 'московская городская дума',\n 356: 'константинопольская православная церковь',\n 357: 'новый год—2019',\n 358: 'минкультуры россии',\n 359: 'тамбовская область',\n 360: 'черногория',\n 361: 'реконструкция',\n 362: 'обсуждение мирного договора россии и японии',\n 363: 'освобождение мирных жителей в восточной гуте',\n 364: 'виктор садовничий',\n 365: 'калининградская область',\n 366: 'спасение детей в таиланде',\n 367: 'астрахань',\n 368: 'фото - чемпионат мира по футболу 2018',\n 369: 'владимирская область',\n 370: 'александр лаврентьев',\n 371: 'каир (город)',\n 372: 'ханты-мансийск',\n 373: 'сбербанк россии',\n 374: '\"прямая линия\" с путиным - 2018',\n 375: 'кения',\n 376: 'празднование первомая в 2018 году',\n 377: 'александр егоров',\n 378: 'московский метрополитен',\n 379: 'тихоокеанский флот вмф россии',\n 380: 'магадан',\n 381: 'московский городской суд',\n 382: 'иркутск',\n 383: 'социальное волонтерство - школа волонтера',\n 384: 'новости - туризм',\n 385: 'tesla motors',\n 386: 'россельхознадзор',\n 387: 'товарищеский матч сборной россии по футболу против команды бразилии',\n 388: 'украина',\n 389: 'сборная россии - пхенчхан 2018',\n 390: 'игорь шувалов',\n 391: 'общество',\n 392: 'марк цукерберг',\n 393: 'костромская область',\n 394: 'индонезия',\n 395: 'украинская православная церковь киевского патриархата',\n 396: 'лыжные виды спорта',\n 397: 'вена',\n 398: 'задержание украинскими пограничниками российского судна \"норд\"',\n 399: 'тольятти',\n 400: 'итоги выборов мэра москвы',\n 401: 'аман тулеев',\n 402: 'александр кокорин',\n 403: 'андрей бабиш',\n 404: 'свалки',\n 405: 'артур григорьянц',\n 406: 'выборы в днр и лнр',\n 407: 'аляска',\n 408: 'mma',\n 409: 'португалия',\n 410: 'проблемы девелоперской компании urban group',\n 411: 'комплекс городского хозяйства москвы',\n 412: 'георгий полтавченко',\n 413: 'александр жуков',\n 414: 'военно-морские силы сша',\n 415: 'фонд перспективных исследований',\n 416: 'ufc',\n 417: 'реновация',\n 418: 'мок',\n 419: 'министерство просвещения рф',\n 420: 'холдинг швабе',\n 421: 'илон маск',\n 422: 'боливия',\n 423: 'торговая недвижимость',\n 424: 'росстат',\n 425: 'хасан роухани',\n 426: 'мошенничество',\n 427: 'вадим рабинович',\n 428: 'карачаево-черкесия',\n 429: 'оскар табарес',\n 430: 'urban group',\n 431: 'визит американских конгрессменов в россию',\n 432: 'хайо зеппельт',\n 433: 'мьянма',\n 434: 'анна кузнецова',\n 435: 'отопительный сезон 2018-2019 в россии',\n 436: 'сингапур (страна)',\n 437: 'парки',\n 438: 'курская область',\n 439: 'мвф',\n 440: 'александр лукашевич',\n 441: 'ставки',\n 442: 'афганистан',\n 443: 'сахалин',\n 444: 'торговый центр',\n 445: 'сборная россии по биатлону',\n 446: 'дмитрий медведев',\n 447: 'фкр',\n 448: 'алжир',\n 449: 'генуя',\n 450: 'илья авербух',\n 451: 'республика татарстан',\n 452: 'стадионы',\n 453: 'день победы',\n 454: 'мид рф',\n 455: 'отставки и назначения - новости',\n 456: 'англия',\n 457: 'стамбул',\n 458: 'саммит \"каспийской пятерки\"',\n 459: 'кишинев',\n 460: 'александр турчинов',\n 461: 'севастополь',\n 462: 'стерлитамак',\n 463: 'людмила денисова',\n 464: 'дело виктора януковича',\n 465: 'алексей кудрин',\n 466: 'чувашия',\n 467: 'вашингтон',\n 468: 'бахрейн',\n 469: 'волейбол',\n 470: 'ираэро',\n 471: 'челябинск',\n 472: 'арбитражный суд санкт-петербурга и ленинградской области',\n 473: 'совет федерации рф',\n 474: 'гарет саутгейт',\n 475: 'динамика курса валют. декабрь 2018',\n 476: 'дальневосточный федеральный университет',\n 477: 'олег кожемяко',\n 478: 'дело кирилла серебренникова',\n 479: 'в россии',\n 480: 'максим акимов',\n 481: 'большая двадцатка',\n 482: 'сборная россии по хоккею',\n 483: 'формирование нового состава правительства',\n 484: 'строительство метро в москве',\n 485: 'пермь',\n 486: 'вьетнам',\n 487: 'технологии',\n 488: 'николай ii',\n 489: 'элитное жилье',\n 490: 'тереза мэй',\n 491: 'туркмения',\n 492: 'наука в университете',\n 493: 'кпрф',\n 494: 'вмф рф',\n 495: 'выход сша из договора о рсмд',\n 496: 'экономика - риа новости. итоги дня',\n 497: 'франц клинцевич',\n 498: 'блоги',\n 499: 'подготовка к проведению чемпионата мира-2018 по футболу в россии',\n 500: 'московский физико-технический институт',\n 501: 'министерство строительства и жкх рф',\n 502: 'йоханнесбург',\n 503: 'белоруссия',\n 504: 'эльвира набиуллина',\n 505: 'азербайджан',\n 506: 'чемпионат мира по футболу 2018',\n 507: 'акценты - радио sputnik',\n 508: 'елизавета туктамышева',\n 509: 'ураган \"флоренс\" в сша',\n 510: 'николай патрушев',\n 511: 'арбитраж',\n 512: 'ялта',\n 513: 'евросоюз',\n 514: 'проект',\n 515: 'чехия',\n 516: 'fina',\n 517: 'архитектура',\n 518: 'ipc',\n 519: 'иркутская область',\n 520: 'филиппины',\n 521: 'папуа-новая гвинея',\n 522: 'сергей кириенко',\n 523: 'признание сша иерусалима столицей израиля',\n 524: 'карикатуры',\n 525: 'вячеслав фетисов',\n 526: 'туризм',\n 527: 'рязанская область',\n 528: 'министерство транспорта рф',\n 529: 'джулиан ассанж',\n 530: 'андрей костин (банкир)',\n 531: 'чукотка',\n 532: 'чемпионат мира по фигурному катанию 2018 года. милан',\n 533: 'этери тутберидзе',\n 534: 'хулен лопетеги',\n 535: 'крупным планом',\n 536: 'александр лукашенко',\n 537: 'уимблдонский теннисный турнир в лондоне',\n 538: 'ibf',\n 539: 'курганская область',\n 540: '2005',\n 541: 'роберт мюллер',\n 542: 'второй тур региональных выборов в россии',\n 543: 'юрий луценко',\n 544: 'инфраструктура - новости',\n 545: 'министерство обороны сша',\n 546: 'чм-2018 по футболу',\n 547: 'ангела меркель',\n 548: 'аудио',\n 549: '23 марта 2018 года',\n 550: 'туристы',\n 551: 'детские вопросы',\n 552: 'внешэкономбанк',\n 553: 'долгопрудный',\n 554: 'борис титов',\n 555: 'саммит шос в китае',\n 556: 'валерий герасимов',\n 557: 'жаир болсонару',\n 558: 'девочка',\n 559: 'отзыв лицензии у ряда российских банков',\n 560: 'ситуация вокруг американской лаборатории в грузии',\n 561: 'леонид слуцкий',\n 562: 'европейский суд по правам человека',\n 563: 'андрей тихонов',\n 564: 'новая москва',\n 565: 'администрация президента сша',\n 566: 'франциск (хорхе марио бергольо)',\n 567: 'златко далич',\n 568: 'мордовия',\n 569: 'мурманская область',\n 570: 'санный спорт',\n 571: 'генеральная прокуратура рф',\n 572: 'землетрясение на урале',\n 573: 'федерика могерини',\n 574: 'ядерные технологии',\n 575: 'стивен сигал',\n 576: 'взрывы боеприпасов в удмуртии',\n 577: 'заседание клуба \"валдай\"',\n 578: 'медицинское волонтерство - школа волонтера',\n 579: 'курган',\n 580: 'сергей скрипаль',\n 581: 'владимир мединский',\n 582: 'исламское государство',\n 583: 'паводок в забайкалье',\n 584: 'фк зенит',\n 585: 'сирия',\n 586: 'дело совладельцев группы \"сумма\"',\n 587: '73-я сессия генассамблеи оон',\n 588: 'московский финансовый форум-2018',\n 589: 'владимир колокольцев',\n 590: 'андрес мануэль лопес обрадор',\n 591: 'юлия самойлова',\n 592: 'никита стасишин',\n 593: 'александр сергеев',\n 594: 'интервью дмитрия медведева российским телеканалам - 2018',\n 595: 'российская академия наук',\n 596: 'ситуация с беженцами в европе',\n 597: 'ржд',\n 598: 'оаэ',\n 599: 'единый государственный экзамен (егэ)',\n 600: 'смоленск',\n 601: 'дело алексея улюкаева',\n 602: 'испания',\n 603: 'приднестровская молдавская республика',\n 604: 'актау',\n 605: 'рфс',\n 606: 'сделки',\n 607: 'игорь моргулов',\n 608: 'львовская область',\n 609: 'ван и (политик)',\n 610: 'гонконг',\n 611: 'гостиницы',\n 612: 'петербургский международный экономический форум',\n 613: 'благовещенск',\n 614: 'мосгоризбирком',\n 615: '23-й тур чемпионата россии-2017/18 по футболу',\n 616: 'опек',\n 617: 'эфир',\n 618: 'михаил федотов',\n 619: 'химическая промышленность',\n 620: 'гран-при по фигурному катанию',\n 621: 'ситуация с \"натали турс\"',\n 622: 'переговоры о мире на украине в 2018 году',\n 623: 'дания',\n 624: 'роберто манчини',\n 625: 'хоккей с мячом',\n 626: 'тбилиси',\n 627: 'игорь артемьев',\n 628: 'теплоснабжение',\n 629: 'албания',\n 630: 'омск',\n 631: 'задержание марии бутиной в сша',\n 632: 'сомали',\n 633: 'подготовка к чм-2018',\n 634: 'балтийское море',\n 635: 'денис пушилин',\n 636: 'водные виды',\n 637: 'алексей миллер',\n 638: 'гондурас',\n 639: 'конькобежный спорт',\n 640: 'убийство российских журналистов в цар',\n 641: 'якутск',\n 642: 'убийство фигуриста дениса тена',\n 643: 'диего марадона',\n 644: 'культура - риа новости. итоги дня',\n 645: 'новости агентства',\n 646: 'алексис ципрас',\n 647: 'союзмультфильм',\n 648: 'хоккей',\n 649: 'правительство г. москвы',\n 650: 'госзакупки',\n 651: 'спорт',\n 652: 'полуфинальные матчи кубка россии-2017/2018 по футболу',\n 653: 'антон шипулин',\n 654: 'таллин',\n 655: 'лср',\n 656: 'сергей рябков',\n 657: 'верховный суд рф',\n 658: 'рособоронэкспорт',\n 659: 'александр бортников',\n 660: 'spacex',\n 661: 'вооруженные силы украины',\n 662: 'нато',\n 663: 'павел колобков',\n 664: 'волгоград',\n 665: 'ирина яровая',\n 666: 'земельные участки',\n 667: 'inc.',\n 668: 'вологодская область',\n 669: 'узбекистан',\n 670: 'мевлют чавушоглу',\n 671: 'фк краснодар',\n 672: 'словакия',\n 673: 'хк ска',\n 674: 'легкая промышленность',\n 675: 'транспорт',\n 676: 'telegram',\n 677: 'обманутые дольщики в россии',\n 678: 'саммит атэс в папуа-новой гвинее',\n 679: 'переговоры лидеров кндр и южной кореи',\n 680: 'архитектура - новости',\n 681: 'инаугурация владимира путина',\n 682: 'впечатления - туризм',\n 683: 'министерство финансов сша',\n 684: 'санкт-петербург',\n 685: 'сергей вершинин',\n 686: 'протесты в газе из-за переноса посольства сша в иерусалим',\n 687: 'wta',\n 688: 'биатлон',\n 689: 'введение военного положения на украине',\n 690: 'склады',\n 691: 'башар асад',\n 692: 'бангладеш',\n 693: 'ответные меры россии на новые санкции сша',\n 694: 'михаил горбачев',\n 695: 'минск',\n 696: 'кредиты',\n 697: 'день победы - 2018',\n 698: 'нидерланды',\n 699: 'александр медведев',\n 700: 'министерство связи и массовых коммуникаций рф',\n 701: 'рамзан кадыров',\n 702: 'кристин лагард',\n 703: 'италия',\n 704: 'владимир крикунов',\n 705: 'россия сегодня',\n 706: 'северная осетия',\n 707: 'четвертьфинальная серия плей-офф баскетбольной евролиги между цска и \"химками\"',\n 708: 'абдель фаттах ас-сиси',\n 709: 'ильхам алиев',\n 710: 'wbss',\n 711: 'фк реал мадрид',\n 712: 'aiba',\n 713: 'фото',\n 714: 'дело об убийстве тремя сестрами отца в москве',\n 715: 'риа новости. итоги дня',\n 716: 'общество - видео',\n 717: 'цик',\n 718: 'календарь праздников - религия и мировоззрение',\n 719: 'медучреждения',\n 720: 'михаил мень',\n 721: 'блог редакции спортивного агентства \\\\\"р-спорт\\\\\" - блоги',\n 722: 'борис джонсон',\n 723: 'ольга голодец',\n 724: 'совет безопасности оон',\n 725: 'выход сша из спч оон',\n 726: 'улан-удэ',\n 727: 'роснефть',\n 728: 'пекин',\n 729: 'хиллари клинтон',\n 730: 'нижегородская область',\n 731: 'фк локомотив',\n 732: 'шпионский скандал в австрии',\n 733: 'пол манафорт',\n 734: 'константин косачев',\n 735: 'дмитрий козак',\n 736: 'расширение санкций сша против россии',\n 737: 'архитекторы',\n 738: 'хосеп гвардиола',\n 739: 'босния и герцеговина',\n 740: 'андрей дементьев',\n 741: 'маршруты - туризм',\n 742: 'эдуард кравцов',\n 743: 'весь мир',\n 744: 'генассамблея оон',\n 745: 'форум \"открытые инновации\" 2018',\n 746: 'мнение - авторы',\n 747: 'офисы',\n 748: 'китай',\n 749: 'мчс рф',\n 750: 'космос - риа наука',\n 751: 'дмитрий свищев',\n 752: 'игорь никитин',\n 753: 'хорватия',\n 754: 'ипотека',\n 755: 'болгария',\n 756: 'дмитрий чернышенко',\n 757: 'инфографика',\n 758: 'владивосток',\n 759: 'реджеп тайип эрдоган',\n 760: 'красноярск',\n 761: 'обрушение моста в приамурье',\n 762: 'виктор ганчаренко',\n 763: 'донецк (донецкая область)',\n 764: 'мун чжэ ин',\n 765: 'соглашение о границе ингушетии и чечни',\n 766: 'карелия',\n 767: 'безопасность - риа новости. итоги дня',\n 768: 'алексей малобродский',\n 769: 'сочи',\n 770: 'максим орешкин',\n 771: 'экологическое волонтерство - школа волонтера',\n 772: 'экология',\n 773: 'практические советы - полезное',\n 774: 'красноярский край',\n 775: 'шарль азнавур',\n 776: 'восточный военный округ',\n 777: 'сколково',\n 778: 'дмитрий киселев',\n 779: 'конкурсы',\n 780: 'легкая атлетика',\n 781: 'арест кирилла вышинского',\n 782: 'милош земан',\n 783: 'военно-морские силы украины',\n 784: 'харьков',\n 785: 'одкб',\n 786: 'олег сенцов',\n 787: 'фото - мультимедиа',\n 788: 'iihf',\n 789: 'коммерческая недвижимость',\n 790: 'дмитрий захарченко',\n 791: 'антонио конте',\n 792: 'национальный исследовательский ядерный университет \"мифи\"',\n 793: 'ульяновская область',\n 794: 'михаил саакашвили',\n 795: 'литва',\n 796: 'благоустройство',\n 797: 'лига европы уефа',\n 798: 'кирилл вышинский',\n 799: 'республика саха (якутия)',\n 800: 'томас бах',\n 801: 'пхенчхан 2018',\n 802: 'товарищеский матч сборной россии по футболу против команды франции',\n 803: 'андрей марочко',\n 804: '\"бессмертный полк\" - 2018',\n 805: 'переговоры путина и меркель в берлине',\n 806: 'умер шарль азнавур',\n 807: 'дизайн',\n 808: 'дмитрий аленичев',\n 809: 'отчет правительства перед государственной думой',\n 810: 'аналитика - крупным планом',\n 811: 'пермский край',\n 812: 'петр бирюков',\n 813: 'панама',\n 814: 'псковская область',\n 815: 'жозе моуринью',\n 816: 'xviii съезд партии \"единая россия\"',\n 817: 'празднование столетия окончания первой мировой войны',\n 818: 'отставка губернатора кемеровской области',\n 819: 'валерий карпин',\n 820: 'урал',\n 821: 'подкасты – радио sputnik',\n 822: 'высылка американских дипломатов из россии',\n 823: '31 марта - 1 апреля',\n 824: 'убийство главы днр александра захарченко',\n 825: 'марат хуснуллин',\n 826: 'дело о пытках в ярославской колонии',\n 827: 'выход британии из евросоюза',\n 828: 'спор греции и македонии о названии бывшей югославской республики',\n 829: 'празднование пасхи в 2018 году',\n 830: 'пенза',\n 831: 'умер николай караченцов',\n 832: 'санкции в отношении россии',\n 833: 'хабаровск',\n 834: 'динамика курсов валют',\n 835: 'чечня',\n 836: 'татьяна тарасова',\n 837: 'банки',\n 838: 'матч кубка дэвиса между сборными россии и австрии',\n 839: 'ливан',\n 840: 'четвертый этап евротура - шведские игры',\n 841: 'жкх',\n 842: 'ирина винер-усманова',\n 843: 'джон болтон',\n 844: 'всемирное антидопинговое агентство (wada)',\n 845: 'новости - экология',\n 846: 'воздушно-десантные войска россии',\n 847: 'евровидение-2018',\n 848: 'путешествие по футбольным городам россии',\n 849: 'московский государственный психолого-педагогический университет (мгппу)',\n 850: 'самара',\n 851: 'этап кубка мира по биатлону-2017/18 в тюмени',\n 852: 'абхазия',\n 853: 'александр новак',\n 854: 'технологии будущего',\n 855: 'роберт кочарян',\n 856: 'сергей миронов',\n 857: 'новости - фестиваль \"спасская башня\"',\n 858: 'посольство рф в сша',\n 859: 'министерство сельского хозяйства рф',\n 860: 'тверская область',\n 861: 'василий небензя',\n 862: 'кубань',\n 863: 'дидье дешам',\n 864: 'учения \"восток-2018\"',\n 865: 'восточноазиатский саммит в сингапуре',\n 866: '24-й тур чемпионата россии-2017/18 по футболу',\n 867: 'fide',\n 868: 'владикавказ',\n 869: 'землетрясение в японии',\n 870: 'социальная инфраструктура',\n 871: 'вологда',\n 872: 'пожар в торговом центре в кемерово',\n 873: 'роскомнадзор',\n 874: 'победа (авиакомпания)',\n 875: 'квартира',\n 876: 'владимир пучков',\n 877: 'министерство природных ресурсов и экологии рф',\n 878: 'сингапур (город)',\n 879: 'министерство энергетики рф',\n 880: 'новостройки',\n 881: 'теннис',\n 882: 'московский зоопарк',\n 883: 'высылка иностранных дипломатов из россии',\n 884: 'казахстан',\n 885: 'дмитрий песков',\n 886: 'евразийский экономический союз',\n 887: 'фигурное катание',\n 888: 'илья геркус',\n 889: 'безопасность',\n 890: 'петр порошенко',\n 891: 'наводнение на кубани',\n 892: 'удмуртия',\n 893: 'вячеслав цеповяз',\n 894: 'промсвязьбанк',\n 895: 'сергей лавров',\n 896: 'саммит g20 в аргентине',\n 897: 'цар',\n 898: 'грозный',\n 899: 'долги',\n 900: 'европейское космическое агентство',\n 901: 'армен саркисян',\n 902: '22-25 марта',\n 903: 'инсценировка убийства аркадия бабченко',\n 904: 'реакция на события на украине',\n 905: 'внутренний лонгрид',\n 906: 'форин-офис',\n 907: 'антон силуанов',\n 908: 'организация по запрещению химического оружия',\n 909: 'оон',\n 910: 'юрген клопп',\n 911: 'игорь додон',\n 912: 'совет национальной безопасности и обороны украины',\n 913: 'управляющие компании',\n 914: 'подготовка к прямой линии с владимиром путиным',\n 915: 'авария ракеты-носителя \"союз\"',\n 916: 'обсуждение изменения пенсионного возраста в россии',\n 917: 'школа волонтера',\n 918: 'саммит g7 в канаде',\n 919: 'александр плутник',\n 920: 'игорь сечин',\n 921: 'оренбург',\n 922: 'магнитогорск',\n 923: 'станислав поздняков',\n 924: 'тверь',\n 925: 'австралия',\n 926: 'найди меня',\n 927: 'центр по примирению в сирии',\n 928: 'аижк',\n 929: 'выборы президента россии в 2018 году',\n 930: 'долевое строительство',\n 931: 'цены на нефть',\n 932: 'криминал',\n 933: 'владимир гройсман',\n 934: 'вывод американских войск из сирии',\n 935: '30 мая и 5 июня 2017 года',\n 936: 'барнаул',\n 937: 'новости - чемпионат мира по хоккею 2018',\n 938: 'марий эл',\n 939: 'федеральное бюро расследований сша',\n 940: 'аркадий бабченко',\n 941: 'ханты-мансийский автономный округ',\n 942: 'забайкальский край',\n 943: 'краснодар',\n 944: 'аналитика и интервью - чемпионат мира по хоккею 2018',\n 945: 'шамиль тарпищев',\n 946: 'куба',\n 947: 'риа наука',\n 948: 'алеппо',\n 949: 'участники - фестиваль \"спасская башня\"',\n 950: 'эфиопия',\n 951: '29-й тур чемпионата россии-2017/18 по футболу',\n 952: 'солсбери',\n 953: 'вениамин кондратьев',\n 954: 'покушение на президента венесуэлы',\n 955: 'архангельск',\n 956: 'черноморский флот вмф россии',\n 957: 'игорь ледяхов',\n 958: 'банкротство',\n 959: 'location_russia',\n 960: 'мама',\n 961: 'скандал вокруг integrity initiative',\n 962: 'валентина матвиенко',\n 963: 'юрий ганус',\n 964: 'цб рф',\n 965: 'станислав черчесов',\n 966: 'отопление',\n 967: 'строим просто: сокращение админбарьеров в строительстве',\n 968: 'дональд трамп',\n 969: 'миа \"россия сегодня\"',\n 970: 'анонсы',\n 971: '\"дом.рф\"',\n 972: 'леонид федун',\n 973: 'брянск',\n 974: '5-7 мая',\n 975: 'полезное',\n 976: 'саммит путина и трампа в хельсинки',\n 977: 'азовское море',\n 978: 'sputnik',\n 979: 'мосты',\n 980: 'евгения медведева',\n 981: 'шамиль газизов',\n 982: 'ми-8',\n 983: 'захват заложников во франции',\n 984: 'главное - риа новости. итоги дня',\n 985: 'всемирная торговая организация',\n 986: 'джереми хант',\n 987: '2003',\n 988: 'калужская область',\n 989: 'юнус-бек евкуров',\n 990: 'спасская башня',\n 991: 'орловская область',\n 992: 'велоспорт',\n 993: 'открытия - риа наука',\n 994: 'новосибирская область',\n 995: 'программа реновации в москве',\n 996: 'крэйг риди',\n 997: 'татарстан',\n 998: 'ралли-рейд \"шелковый путь\"-2018',\n 999: 'волонтеры',\n ...}"
     },
     "execution_count": 30,
     "metadata": {},
     "output_type": "execute_result"
    }
   ],
   "source": [
    "idx2tag"
   ],
   "metadata": {
    "collapsed": false,
    "ExecuteTime": {
     "end_time": "2024-12-14T20:51:22.453686Z",
     "start_time": "2024-12-14T20:51:22.435791Z"
    }
   },
   "execution_count": 30
  },
  {
   "cell_type": "code",
   "outputs": [],
   "source": [
    "import ast\n",
    "# df_vk_predicted[\"target_tags\"] = df_vk_predicted[\"target_tags\"].apply(ast.literal_eval)"
   ],
   "metadata": {
    "collapsed": false
   }
  },
  {
   "cell_type": "code",
   "outputs": [],
   "source": [
    "import ast\n",
    "def find_index_of_one(row):\n",
    "    try:\n",
    "        if isinstance(row, list):\n",
    "            return row.index(1) if 1 in row else None\n",
    "        else:\n",
    "            row = ast.literal_eval(row)\n",
    "            return row.index(1) if 1 in row else None\n",
    "    except:\n",
    "        return None\n",
    "    return None"
   ],
   "metadata": {
    "collapsed": false,
    "ExecuteTime": {
     "end_time": "2024-12-14T20:52:47.921333Z",
     "start_time": "2024-12-14T20:52:47.916916Z"
    }
   },
   "execution_count": 36
  },
  {
   "cell_type": "code",
   "outputs": [
    {
     "data": {
      "text/plain": "0        642\n1        373\n2         59\n3         59\n4        181\n        ... \n19923    163\n19924    163\n19925    288\n19926     59\n19927     59\nName: target_tags, Length: 19928, dtype: int64"
     },
     "execution_count": 38,
     "metadata": {},
     "output_type": "execute_result"
    }
   ],
   "source": [
    "df_vk_predicted[\"target_tags\"].apply(find_index_of_one)"
   ],
   "metadata": {
    "collapsed": false,
    "ExecuteTime": {
     "end_time": "2024-12-14T20:53:49.500857Z",
     "start_time": "2024-12-14T20:52:51.308304Z"
    }
   },
   "execution_count": 38
  },
  {
   "cell_type": "code",
   "outputs": [],
   "source": [
    "df_vk_predicted[\"tag\"] = df_vk_predicted[\"target_tags\"].apply(find_index_of_one).apply(lambda x: idx2tag[x])"
   ],
   "metadata": {
    "collapsed": false,
    "ExecuteTime": {
     "end_time": "2024-12-14T20:55:13.335493Z",
     "start_time": "2024-12-14T20:54:12.797248Z"
    }
   },
   "execution_count": 39
  },
  {
   "cell_type": "code",
   "outputs": [
    {
     "data": {
      "text/plain": "                                          sentiment\ntag                                                \nдмитрий песков                             0.360550\nдень победы                                0.293894\nвторой тур региональных выборов в россии   0.293839\nдональд туск                               0.273990\nэлла памфилова                             0.236696\n...                                             ...\nиордания                                  -0.013525\nсаммит атэс в папуа-новой гвинее          -0.019615\nорел                                      -0.025207\nподготовка к чм-2018                      -0.026210\nпроисшествия - риа новости. итоги дня     -0.034369\n\n[461 rows x 1 columns]",
      "text/html": "<div>\n<style scoped>\n    .dataframe tbody tr th:only-of-type {\n        vertical-align: middle;\n    }\n\n    .dataframe tbody tr th {\n        vertical-align: top;\n    }\n\n    .dataframe thead th {\n        text-align: right;\n    }\n</style>\n<table border=\"1\" class=\"dataframe\">\n  <thead>\n    <tr style=\"text-align: right;\">\n      <th></th>\n      <th>sentiment</th>\n    </tr>\n    <tr>\n      <th>tag</th>\n      <th></th>\n    </tr>\n  </thead>\n  <tbody>\n    <tr>\n      <th>дмитрий песков</th>\n      <td>0.360550</td>\n    </tr>\n    <tr>\n      <th>день победы</th>\n      <td>0.293894</td>\n    </tr>\n    <tr>\n      <th>второй тур региональных выборов в россии</th>\n      <td>0.293839</td>\n    </tr>\n    <tr>\n      <th>дональд туск</th>\n      <td>0.273990</td>\n    </tr>\n    <tr>\n      <th>элла памфилова</th>\n      <td>0.236696</td>\n    </tr>\n    <tr>\n      <th>...</th>\n      <td>...</td>\n    </tr>\n    <tr>\n      <th>иордания</th>\n      <td>-0.013525</td>\n    </tr>\n    <tr>\n      <th>саммит атэс в папуа-новой гвинее</th>\n      <td>-0.019615</td>\n    </tr>\n    <tr>\n      <th>орел</th>\n      <td>-0.025207</td>\n    </tr>\n    <tr>\n      <th>подготовка к чм-2018</th>\n      <td>-0.026210</td>\n    </tr>\n    <tr>\n      <th>происшествия - риа новости. итоги дня</th>\n      <td>-0.034369</td>\n    </tr>\n  </tbody>\n</table>\n<p>461 rows × 1 columns</p>\n</div>"
     },
     "execution_count": 51,
     "metadata": {},
     "output_type": "execute_result"
    }
   ],
   "source": [
    "pd.DataFrame(df_vk_predicted[[\"tag\", \"sentiment\"]].groupby(\"tag\")[\"sentiment\"].mean()).sort_values(by=[\"sentiment\"], ascending=False)"
   ],
   "metadata": {
    "collapsed": false,
    "ExecuteTime": {
     "end_time": "2024-12-14T20:56:21.648617Z",
     "start_time": "2024-12-14T20:56:21.636643Z"
    }
   },
   "execution_count": 51
  },
  {
   "cell_type": "markdown",
   "metadata": {
    "id": "gDFw6uQeM_zn"
   },
   "source": [
    "__[0.2 балла] Бонусное задание 3:__ Проанализируйте, как температура комментария (вероятность того, что он негативный) зависит от длины трэда (число комментариев под новостью)? Значима ли эта взаимосвязь? Если вам для проверки этого хочется построить линейную регрессию, не сдерживайтесь."
   ]
  },
  {
   "cell_type": "code",
   "execution_count": null,
   "metadata": {
    "id": "usdYfPV0M_zn"
   },
   "outputs": [],
   "source": [
    "# your code here\n",
    "# ヾ(๑╹◡╹)ﾉ"
   ]
  }
 ],
 "metadata": {
  "accelerator": "GPU",
  "colab": {
   "gpuType": "T4",
   "provenance": []
  },
  "kernelspec": {
   "display_name": "DataSphere Kernel",
   "language": "python",
   "name": "python3"
  },
  "language_info": {
   "codemirror_mode": {
    "name": "ipython",
    "version": 3
   },
   "file_extension": ".py",
   "mimetype": "text/x-python",
   "name": "python",
   "nbconvert_exporter": "python",
   "pygments_lexer": "ipython3",
   "version": "3.10.12"
  },
  "widgets": {
   "application/vnd.jupyter.widget-state+json": {
    "0029cbbc48c64effb57bffff5d199e34": {
     "model_module": "@jupyter-widgets/controls",
     "model_module_version": "1.5.0",
     "model_name": "HTMLModel",
     "state": {
      "_dom_classes": [],
      "_model_module": "@jupyter-widgets/controls",
      "_model_module_version": "1.5.0",
      "_model_name": "HTMLModel",
      "_view_count": null,
      "_view_module": "@jupyter-widgets/controls",
      "_view_module_version": "1.5.0",
      "_view_name": "HTMLView",
      "description": "",
      "description_tooltip": null,
      "layout": "IPY_MODEL_0140e6c8951147b6a7e079682e938e7f",
      "placeholder": "​",
      "style": "IPY_MODEL_534e121744814f4d8880072004513e37",
      "value": " 11/11 [00:00&lt;00:00, 19.45it/s]"
     }
    },
    "0140e6c8951147b6a7e079682e938e7f": {
     "model_module": "@jupyter-widgets/base",
     "model_module_version": "1.2.0",
     "model_name": "LayoutModel",
     "state": {
      "_model_module": "@jupyter-widgets/base",
      "_model_module_version": "1.2.0",
      "_model_name": "LayoutModel",
      "_view_count": null,
      "_view_module": "@jupyter-widgets/base",
      "_view_module_version": "1.2.0",
      "_view_name": "LayoutView",
      "align_content": null,
      "align_items": null,
      "align_self": null,
      "border": null,
      "bottom": null,
      "display": null,
      "flex": null,
      "flex_flow": null,
      "grid_area": null,
      "grid_auto_columns": null,
      "grid_auto_flow": null,
      "grid_auto_rows": null,
      "grid_column": null,
      "grid_gap": null,
      "grid_row": null,
      "grid_template_areas": null,
      "grid_template_columns": null,
      "grid_template_rows": null,
      "height": null,
      "justify_content": null,
      "justify_items": null,
      "left": null,
      "margin": null,
      "max_height": null,
      "max_width": null,
      "min_height": null,
      "min_width": null,
      "object_fit": null,
      "object_position": null,
      "order": null,
      "overflow": null,
      "overflow_x": null,
      "overflow_y": null,
      "padding": null,
      "right": null,
      "top": null,
      "visibility": null,
      "width": null
     }
    },
    "09093bb710bd4903abf2e10db6efc0a0": {
     "model_module": "@jupyter-widgets/controls",
     "model_module_version": "1.5.0",
     "model_name": "HTMLModel",
     "state": {
      "_dom_classes": [],
      "_model_module": "@jupyter-widgets/controls",
      "_model_module_version": "1.5.0",
      "_model_name": "HTMLModel",
      "_view_count": null,
      "_view_module": "@jupyter-widgets/controls",
      "_view_module_version": "1.5.0",
      "_view_name": "HTMLView",
      "description": "",
      "description_tooltip": null,
      "layout": "IPY_MODEL_8fc5cc9d0df74d5081fa3f8c89595daf",
      "placeholder": "​",
      "style": "IPY_MODEL_0cbe638b1d354bea83ccba54ee3d1f5c",
      "value": " 11/11 [00:00&lt;00:00, 32.16it/s]"
     }
    },
    "0a54156fabcd4ef3b73b038b71485a6a": {
     "model_module": "@jupyter-widgets/controls",
     "model_module_version": "1.5.0",
     "model_name": "DescriptionStyleModel",
     "state": {
      "_model_module": "@jupyter-widgets/controls",
      "_model_module_version": "1.5.0",
      "_model_name": "DescriptionStyleModel",
      "_view_count": null,
      "_view_module": "@jupyter-widgets/base",
      "_view_module_version": "1.2.0",
      "_view_name": "StyleView",
      "description_width": ""
     }
    },
    "0cbe638b1d354bea83ccba54ee3d1f5c": {
     "model_module": "@jupyter-widgets/controls",
     "model_module_version": "1.5.0",
     "model_name": "DescriptionStyleModel",
     "state": {
      "_model_module": "@jupyter-widgets/controls",
      "_model_module_version": "1.5.0",
      "_model_name": "DescriptionStyleModel",
      "_view_count": null,
      "_view_module": "@jupyter-widgets/base",
      "_view_module_version": "1.2.0",
      "_view_name": "StyleView",
      "description_width": ""
     }
    },
    "100219bd594645c5b60c3da4a44344fe": {
     "model_module": "@jupyter-widgets/controls",
     "model_module_version": "1.5.0",
     "model_name": "DescriptionStyleModel",
     "state": {
      "_model_module": "@jupyter-widgets/controls",
      "_model_module_version": "1.5.0",
      "_model_name": "DescriptionStyleModel",
      "_view_count": null,
      "_view_module": "@jupyter-widgets/base",
      "_view_module_version": "1.2.0",
      "_view_name": "StyleView",
      "description_width": ""
     }
    },
    "13a1fd50c8f24f12a0f28485b6168606": {
     "model_module": "@jupyter-widgets/controls",
     "model_module_version": "1.5.0",
     "model_name": "DescriptionStyleModel",
     "state": {
      "_model_module": "@jupyter-widgets/controls",
      "_model_module_version": "1.5.0",
      "_model_name": "DescriptionStyleModel",
      "_view_count": null,
      "_view_module": "@jupyter-widgets/base",
      "_view_module_version": "1.2.0",
      "_view_name": "StyleView",
      "description_width": ""
     }
    },
    "17d8af2b171440cba00f8b2df1a08073": {
     "model_module": "@jupyter-widgets/controls",
     "model_module_version": "1.5.0",
     "model_name": "HTMLModel",
     "state": {
      "_dom_classes": [],
      "_model_module": "@jupyter-widgets/controls",
      "_model_module_version": "1.5.0",
      "_model_name": "HTMLModel",
      "_view_count": null,
      "_view_module": "@jupyter-widgets/controls",
      "_view_module_version": "1.5.0",
      "_view_name": "HTMLView",
      "description": "",
      "description_tooltip": null,
      "layout": "IPY_MODEL_201a41be363549eaa0fdc903fb41f83e",
      "placeholder": "​",
      "style": "IPY_MODEL_60c4aa6c4c8145949cd16ec0670227a1",
      "value": "Validation DataLoader 0: 100%"
     }
    },
    "17e62da8657f44d9a998f4acbbd29671": {
     "model_module": "@jupyter-widgets/base",
     "model_module_version": "1.2.0",
     "model_name": "LayoutModel",
     "state": {
      "_model_module": "@jupyter-widgets/base",
      "_model_module_version": "1.2.0",
      "_model_name": "LayoutModel",
      "_view_count": null,
      "_view_module": "@jupyter-widgets/base",
      "_view_module_version": "1.2.0",
      "_view_name": "LayoutView",
      "align_content": null,
      "align_items": null,
      "align_self": null,
      "border": null,
      "bottom": null,
      "display": null,
      "flex": null,
      "flex_flow": null,
      "grid_area": null,
      "grid_auto_columns": null,
      "grid_auto_flow": null,
      "grid_auto_rows": null,
      "grid_column": null,
      "grid_gap": null,
      "grid_row": null,
      "grid_template_areas": null,
      "grid_template_columns": null,
      "grid_template_rows": null,
      "height": null,
      "justify_content": null,
      "justify_items": null,
      "left": null,
      "margin": null,
      "max_height": null,
      "max_width": null,
      "min_height": null,
      "min_width": null,
      "object_fit": null,
      "object_position": null,
      "order": null,
      "overflow": null,
      "overflow_x": null,
      "overflow_y": null,
      "padding": null,
      "right": null,
      "top": null,
      "visibility": null,
      "width": null
     }
    },
    "1ae57433e573436b8bbdf6c22630930d": {
     "model_module": "@jupyter-widgets/controls",
     "model_module_version": "1.5.0",
     "model_name": "HTMLModel",
     "state": {
      "_dom_classes": [],
      "_model_module": "@jupyter-widgets/controls",
      "_model_module_version": "1.5.0",
      "_model_name": "HTMLModel",
      "_view_count": null,
      "_view_module": "@jupyter-widgets/controls",
      "_view_module_version": "1.5.0",
      "_view_name": "HTMLView",
      "description": "",
      "description_tooltip": null,
      "layout": "IPY_MODEL_5d422f8cbd47402bb8f28b258e5abed0",
      "placeholder": "​",
      "style": "IPY_MODEL_80d177b53a5f4fe0a733d3b7d36e9b30",
      "value": "Validation DataLoader 0: 100%"
     }
    },
    "1ae6951f8b984b318210df9d009479d8": {
     "model_module": "@jupyter-widgets/controls",
     "model_module_version": "1.5.0",
     "model_name": "HBoxModel",
     "state": {
      "_dom_classes": [],
      "_model_module": "@jupyter-widgets/controls",
      "_model_module_version": "1.5.0",
      "_model_name": "HBoxModel",
      "_view_count": null,
      "_view_module": "@jupyter-widgets/controls",
      "_view_module_version": "1.5.0",
      "_view_name": "HBoxView",
      "box_style": "",
      "children": [
       "IPY_MODEL_d9456651273140f9bd6e587ab852eeec",
       "IPY_MODEL_b174cb3407a04b2989e6049555265446",
       "IPY_MODEL_7bd174d7cd2346be9db9d5a0a170f8cb"
      ],
      "layout": "IPY_MODEL_3ada921ee7644de997b57ffd2c57044d"
     }
    },
    "1c10405770654b90a3635ba4acabb6ef": {
     "model_module": "@jupyter-widgets/controls",
     "model_module_version": "1.5.0",
     "model_name": "ProgressStyleModel",
     "state": {
      "_model_module": "@jupyter-widgets/controls",
      "_model_module_version": "1.5.0",
      "_model_name": "ProgressStyleModel",
      "_view_count": null,
      "_view_module": "@jupyter-widgets/base",
      "_view_module_version": "1.2.0",
      "_view_name": "StyleView",
      "bar_color": null,
      "description_width": ""
     }
    },
    "201a41be363549eaa0fdc903fb41f83e": {
     "model_module": "@jupyter-widgets/base",
     "model_module_version": "1.2.0",
     "model_name": "LayoutModel",
     "state": {
      "_model_module": "@jupyter-widgets/base",
      "_model_module_version": "1.2.0",
      "_model_name": "LayoutModel",
      "_view_count": null,
      "_view_module": "@jupyter-widgets/base",
      "_view_module_version": "1.2.0",
      "_view_name": "LayoutView",
      "align_content": null,
      "align_items": null,
      "align_self": null,
      "border": null,
      "bottom": null,
      "display": null,
      "flex": null,
      "flex_flow": null,
      "grid_area": null,
      "grid_auto_columns": null,
      "grid_auto_flow": null,
      "grid_auto_rows": null,
      "grid_column": null,
      "grid_gap": null,
      "grid_row": null,
      "grid_template_areas": null,
      "grid_template_columns": null,
      "grid_template_rows": null,
      "height": null,
      "justify_content": null,
      "justify_items": null,
      "left": null,
      "margin": null,
      "max_height": null,
      "max_width": null,
      "min_height": null,
      "min_width": null,
      "object_fit": null,
      "object_position": null,
      "order": null,
      "overflow": null,
      "overflow_x": null,
      "overflow_y": null,
      "padding": null,
      "right": null,
      "top": null,
      "visibility": null,
      "width": null
     }
    },
    "286fbf1303dc4f0b9c1bb3cfb34f920e": {
     "model_module": "@jupyter-widgets/controls",
     "model_module_version": "1.5.0",
     "model_name": "ProgressStyleModel",
     "state": {
      "_model_module": "@jupyter-widgets/controls",
      "_model_module_version": "1.5.0",
      "_model_name": "ProgressStyleModel",
      "_view_count": null,
      "_view_module": "@jupyter-widgets/base",
      "_view_module_version": "1.2.0",
      "_view_name": "StyleView",
      "bar_color": null,
      "description_width": ""
     }
    },
    "2a38ec8f52d74e018a4c1876d3a2f874": {
     "model_module": "@jupyter-widgets/controls",
     "model_module_version": "1.5.0",
     "model_name": "HBoxModel",
     "state": {
      "_dom_classes": [],
      "_model_module": "@jupyter-widgets/controls",
      "_model_module_version": "1.5.0",
      "_model_name": "HBoxModel",
      "_view_count": null,
      "_view_module": "@jupyter-widgets/controls",
      "_view_module_version": "1.5.0",
      "_view_name": "HBoxView",
      "box_style": "",
      "children": [
       "IPY_MODEL_fd22c38d837a404ab892ddaddf4a8988",
       "IPY_MODEL_a474d8d377674579b3c9f5327fbb1862",
       "IPY_MODEL_0029cbbc48c64effb57bffff5d199e34"
      ],
      "layout": "IPY_MODEL_e9d2f22400db472283508e8c01f08fbb"
     }
    },
    "2aa0bc933aae46729672d55e60c17616": {
     "model_module": "@jupyter-widgets/controls",
     "model_module_version": "1.5.0",
     "model_name": "FloatProgressModel",
     "state": {
      "_dom_classes": [],
      "_model_module": "@jupyter-widgets/controls",
      "_model_module_version": "1.5.0",
      "_model_name": "FloatProgressModel",
      "_view_count": null,
      "_view_module": "@jupyter-widgets/controls",
      "_view_module_version": "1.5.0",
      "_view_name": "ProgressView",
      "bar_style": "",
      "description": "",
      "description_tooltip": null,
      "layout": "IPY_MODEL_546d1deb5c934916b722fb9ab0ce5e67",
      "max": 11,
      "min": 0,
      "orientation": "horizontal",
      "style": "IPY_MODEL_86ed101f86384b9b92eb3faccae5bca2",
      "value": 11
     }
    },
    "2cb3f56ff669424da4e9bace352831b8": {
     "model_module": "@jupyter-widgets/base",
     "model_module_version": "1.2.0",
     "model_name": "LayoutModel",
     "state": {
      "_model_module": "@jupyter-widgets/base",
      "_model_module_version": "1.2.0",
      "_model_name": "LayoutModel",
      "_view_count": null,
      "_view_module": "@jupyter-widgets/base",
      "_view_module_version": "1.2.0",
      "_view_name": "LayoutView",
      "align_content": null,
      "align_items": null,
      "align_self": null,
      "border": null,
      "bottom": null,
      "display": "inline-flex",
      "flex": null,
      "flex_flow": "row wrap",
      "grid_area": null,
      "grid_auto_columns": null,
      "grid_auto_flow": null,
      "grid_auto_rows": null,
      "grid_column": null,
      "grid_gap": null,
      "grid_row": null,
      "grid_template_areas": null,
      "grid_template_columns": null,
      "grid_template_rows": null,
      "height": null,
      "justify_content": null,
      "justify_items": null,
      "left": null,
      "margin": null,
      "max_height": null,
      "max_width": null,
      "min_height": null,
      "min_width": null,
      "object_fit": null,
      "object_position": null,
      "order": null,
      "overflow": null,
      "overflow_x": null,
      "overflow_y": null,
      "padding": null,
      "right": null,
      "top": null,
      "visibility": "hidden",
      "width": "100%"
     }
    },
    "2d71626a24cb45f39095e7e3fd621707": {
     "model_module": "@jupyter-widgets/controls",
     "model_module_version": "1.5.0",
     "model_name": "HTMLModel",
     "state": {
      "_dom_classes": [],
      "_model_module": "@jupyter-widgets/controls",
      "_model_module_version": "1.5.0",
      "_model_name": "HTMLModel",
      "_view_count": null,
      "_view_module": "@jupyter-widgets/controls",
      "_view_module_version": "1.5.0",
      "_view_name": "HTMLView",
      "description": "",
      "description_tooltip": null,
      "layout": "IPY_MODEL_6fa8591a1a834d8785b1ebe8eff2b10d",
      "placeholder": "​",
      "style": "IPY_MODEL_acfec13aec454320b585c0b8331e9448",
      "value": " 2/2 [00:00&lt;00:00, 14.02it/s]"
     }
    },
    "2d98065fccb34cb1b44740aa4510f0e7": {
     "model_module": "@jupyter-widgets/controls",
     "model_module_version": "1.5.0",
     "model_name": "HTMLModel",
     "state": {
      "_dom_classes": [],
      "_model_module": "@jupyter-widgets/controls",
      "_model_module_version": "1.5.0",
      "_model_name": "HTMLModel",
      "_view_count": null,
      "_view_module": "@jupyter-widgets/controls",
      "_view_module_version": "1.5.0",
      "_view_name": "HTMLView",
      "description": "",
      "description_tooltip": null,
      "layout": "IPY_MODEL_6072601881c341fb8e5329fab05ee52d",
      "placeholder": "​",
      "style": "IPY_MODEL_13a1fd50c8f24f12a0f28485b6168606",
      "value": "Validation DataLoader 0: 100%"
     }
    },
    "2da5b84f9384445a8d9db58ef3dafa5e": {
     "model_module": "@jupyter-widgets/base",
     "model_module_version": "1.2.0",
     "model_name": "LayoutModel",
     "state": {
      "_model_module": "@jupyter-widgets/base",
      "_model_module_version": "1.2.0",
      "_model_name": "LayoutModel",
      "_view_count": null,
      "_view_module": "@jupyter-widgets/base",
      "_view_module_version": "1.2.0",
      "_view_name": "LayoutView",
      "align_content": null,
      "align_items": null,
      "align_self": null,
      "border": null,
      "bottom": null,
      "display": null,
      "flex": null,
      "flex_flow": null,
      "grid_area": null,
      "grid_auto_columns": null,
      "grid_auto_flow": null,
      "grid_auto_rows": null,
      "grid_column": null,
      "grid_gap": null,
      "grid_row": null,
      "grid_template_areas": null,
      "grid_template_columns": null,
      "grid_template_rows": null,
      "height": null,
      "justify_content": null,
      "justify_items": null,
      "left": null,
      "margin": null,
      "max_height": null,
      "max_width": null,
      "min_height": null,
      "min_width": null,
      "object_fit": null,
      "object_position": null,
      "order": null,
      "overflow": null,
      "overflow_x": null,
      "overflow_y": null,
      "padding": null,
      "right": null,
      "top": null,
      "visibility": null,
      "width": null
     }
    },
    "2e02be5bf0be40bf87f1364b1fd587ec": {
     "model_module": "@jupyter-widgets/base",
     "model_module_version": "1.2.0",
     "model_name": "LayoutModel",
     "state": {
      "_model_module": "@jupyter-widgets/base",
      "_model_module_version": "1.2.0",
      "_model_name": "LayoutModel",
      "_view_count": null,
      "_view_module": "@jupyter-widgets/base",
      "_view_module_version": "1.2.0",
      "_view_name": "LayoutView",
      "align_content": null,
      "align_items": null,
      "align_self": null,
      "border": null,
      "bottom": null,
      "display": null,
      "flex": "2",
      "flex_flow": null,
      "grid_area": null,
      "grid_auto_columns": null,
      "grid_auto_flow": null,
      "grid_auto_rows": null,
      "grid_column": null,
      "grid_gap": null,
      "grid_row": null,
      "grid_template_areas": null,
      "grid_template_columns": null,
      "grid_template_rows": null,
      "height": null,
      "justify_content": null,
      "justify_items": null,
      "left": null,
      "margin": null,
      "max_height": null,
      "max_width": null,
      "min_height": null,
      "min_width": null,
      "object_fit": null,
      "object_position": null,
      "order": null,
      "overflow": null,
      "overflow_x": null,
      "overflow_y": null,
      "padding": null,
      "right": null,
      "top": null,
      "visibility": null,
      "width": null
     }
    },
    "2f4dcf310c634bdba125e8bf46d3db26": {
     "model_module": "@jupyter-widgets/base",
     "model_module_version": "1.2.0",
     "model_name": "LayoutModel",
     "state": {
      "_model_module": "@jupyter-widgets/base",
      "_model_module_version": "1.2.0",
      "_model_name": "LayoutModel",
      "_view_count": null,
      "_view_module": "@jupyter-widgets/base",
      "_view_module_version": "1.2.0",
      "_view_name": "LayoutView",
      "align_content": null,
      "align_items": null,
      "align_self": null,
      "border": null,
      "bottom": null,
      "display": "inline-flex",
      "flex": null,
      "flex_flow": "row wrap",
      "grid_area": null,
      "grid_auto_columns": null,
      "grid_auto_flow": null,
      "grid_auto_rows": null,
      "grid_column": null,
      "grid_gap": null,
      "grid_row": null,
      "grid_template_areas": null,
      "grid_template_columns": null,
      "grid_template_rows": null,
      "height": null,
      "justify_content": null,
      "justify_items": null,
      "left": null,
      "margin": null,
      "max_height": null,
      "max_width": null,
      "min_height": null,
      "min_width": null,
      "object_fit": null,
      "object_position": null,
      "order": null,
      "overflow": null,
      "overflow_x": null,
      "overflow_y": null,
      "padding": null,
      "right": null,
      "top": null,
      "visibility": "hidden",
      "width": "100%"
     }
    },
    "3ada921ee7644de997b57ffd2c57044d": {
     "model_module": "@jupyter-widgets/base",
     "model_module_version": "1.2.0",
     "model_name": "LayoutModel",
     "state": {
      "_model_module": "@jupyter-widgets/base",
      "_model_module_version": "1.2.0",
      "_model_name": "LayoutModel",
      "_view_count": null,
      "_view_module": "@jupyter-widgets/base",
      "_view_module_version": "1.2.0",
      "_view_name": "LayoutView",
      "align_content": null,
      "align_items": null,
      "align_self": null,
      "border": null,
      "bottom": null,
      "display": "inline-flex",
      "flex": null,
      "flex_flow": "row wrap",
      "grid_area": null,
      "grid_auto_columns": null,
      "grid_auto_flow": null,
      "grid_auto_rows": null,
      "grid_column": null,
      "grid_gap": null,
      "grid_row": null,
      "grid_template_areas": null,
      "grid_template_columns": null,
      "grid_template_rows": null,
      "height": null,
      "justify_content": null,
      "justify_items": null,
      "left": null,
      "margin": null,
      "max_height": null,
      "max_width": null,
      "min_height": null,
      "min_width": null,
      "object_fit": null,
      "object_position": null,
      "order": null,
      "overflow": null,
      "overflow_x": null,
      "overflow_y": null,
      "padding": null,
      "right": null,
      "top": null,
      "visibility": null,
      "width": "100%"
     }
    },
    "3dc20b49832e46c6ad70dc754f43555f": {
     "model_module": "@jupyter-widgets/base",
     "model_module_version": "1.2.0",
     "model_name": "LayoutModel",
     "state": {
      "_model_module": "@jupyter-widgets/base",
      "_model_module_version": "1.2.0",
      "_model_name": "LayoutModel",
      "_view_count": null,
      "_view_module": "@jupyter-widgets/base",
      "_view_module_version": "1.2.0",
      "_view_name": "LayoutView",
      "align_content": null,
      "align_items": null,
      "align_self": null,
      "border": null,
      "bottom": null,
      "display": null,
      "flex": null,
      "flex_flow": null,
      "grid_area": null,
      "grid_auto_columns": null,
      "grid_auto_flow": null,
      "grid_auto_rows": null,
      "grid_column": null,
      "grid_gap": null,
      "grid_row": null,
      "grid_template_areas": null,
      "grid_template_columns": null,
      "grid_template_rows": null,
      "height": null,
      "justify_content": null,
      "justify_items": null,
      "left": null,
      "margin": null,
      "max_height": null,
      "max_width": null,
      "min_height": null,
      "min_width": null,
      "object_fit": null,
      "object_position": null,
      "order": null,
      "overflow": null,
      "overflow_x": null,
      "overflow_y": null,
      "padding": null,
      "right": null,
      "top": null,
      "visibility": null,
      "width": null
     }
    },
    "3ef009aeabae43b48bc913a592d1a019": {
     "model_module": "@jupyter-widgets/controls",
     "model_module_version": "1.5.0",
     "model_name": "HBoxModel",
     "state": {
      "_dom_classes": [],
      "_model_module": "@jupyter-widgets/controls",
      "_model_module_version": "1.5.0",
      "_model_name": "HBoxModel",
      "_view_count": null,
      "_view_module": "@jupyter-widgets/controls",
      "_view_module_version": "1.5.0",
      "_view_name": "HBoxView",
      "box_style": "",
      "children": [
       "IPY_MODEL_75b99a050a37493389ff96724a9a3b72",
       "IPY_MODEL_78fe9e3a3d614de9a6f3efacde67d247",
       "IPY_MODEL_2d71626a24cb45f39095e7e3fd621707"
      ],
      "layout": "IPY_MODEL_4f75594be29e49cc99fe61a6787e7564"
     }
    },
    "46204f92abf1414da360d79b4ca7a924": {
     "model_module": "@jupyter-widgets/base",
     "model_module_version": "1.2.0",
     "model_name": "LayoutModel",
     "state": {
      "_model_module": "@jupyter-widgets/base",
      "_model_module_version": "1.2.0",
      "_model_name": "LayoutModel",
      "_view_count": null,
      "_view_module": "@jupyter-widgets/base",
      "_view_module_version": "1.2.0",
      "_view_name": "LayoutView",
      "align_content": null,
      "align_items": null,
      "align_self": null,
      "border": null,
      "bottom": null,
      "display": null,
      "flex": null,
      "flex_flow": null,
      "grid_area": null,
      "grid_auto_columns": null,
      "grid_auto_flow": null,
      "grid_auto_rows": null,
      "grid_column": null,
      "grid_gap": null,
      "grid_row": null,
      "grid_template_areas": null,
      "grid_template_columns": null,
      "grid_template_rows": null,
      "height": null,
      "justify_content": null,
      "justify_items": null,
      "left": null,
      "margin": null,
      "max_height": null,
      "max_width": null,
      "min_height": null,
      "min_width": null,
      "object_fit": null,
      "object_position": null,
      "order": null,
      "overflow": null,
      "overflow_x": null,
      "overflow_y": null,
      "padding": null,
      "right": null,
      "top": null,
      "visibility": null,
      "width": null
     }
    },
    "4f75594be29e49cc99fe61a6787e7564": {
     "model_module": "@jupyter-widgets/base",
     "model_module_version": "1.2.0",
     "model_name": "LayoutModel",
     "state": {
      "_model_module": "@jupyter-widgets/base",
      "_model_module_version": "1.2.0",
      "_model_name": "LayoutModel",
      "_view_count": null,
      "_view_module": "@jupyter-widgets/base",
      "_view_module_version": "1.2.0",
      "_view_name": "LayoutView",
      "align_content": null,
      "align_items": null,
      "align_self": null,
      "border": null,
      "bottom": null,
      "display": "inline-flex",
      "flex": null,
      "flex_flow": "row wrap",
      "grid_area": null,
      "grid_auto_columns": null,
      "grid_auto_flow": null,
      "grid_auto_rows": null,
      "grid_column": null,
      "grid_gap": null,
      "grid_row": null,
      "grid_template_areas": null,
      "grid_template_columns": null,
      "grid_template_rows": null,
      "height": null,
      "justify_content": null,
      "justify_items": null,
      "left": null,
      "margin": null,
      "max_height": null,
      "max_width": null,
      "min_height": null,
      "min_width": null,
      "object_fit": null,
      "object_position": null,
      "order": null,
      "overflow": null,
      "overflow_x": null,
      "overflow_y": null,
      "padding": null,
      "right": null,
      "top": null,
      "visibility": "hidden",
      "width": "100%"
     }
    },
    "515318593400421487560182023801f1": {
     "model_module": "@jupyter-widgets/controls",
     "model_module_version": "1.5.0",
     "model_name": "DescriptionStyleModel",
     "state": {
      "_model_module": "@jupyter-widgets/controls",
      "_model_module_version": "1.5.0",
      "_model_name": "DescriptionStyleModel",
      "_view_count": null,
      "_view_module": "@jupyter-widgets/base",
      "_view_module_version": "1.2.0",
      "_view_name": "StyleView",
      "description_width": ""
     }
    },
    "534e121744814f4d8880072004513e37": {
     "model_module": "@jupyter-widgets/controls",
     "model_module_version": "1.5.0",
     "model_name": "DescriptionStyleModel",
     "state": {
      "_model_module": "@jupyter-widgets/controls",
      "_model_module_version": "1.5.0",
      "_model_name": "DescriptionStyleModel",
      "_view_count": null,
      "_view_module": "@jupyter-widgets/base",
      "_view_module_version": "1.2.0",
      "_view_name": "StyleView",
      "description_width": ""
     }
    },
    "546d1deb5c934916b722fb9ab0ce5e67": {
     "model_module": "@jupyter-widgets/base",
     "model_module_version": "1.2.0",
     "model_name": "LayoutModel",
     "state": {
      "_model_module": "@jupyter-widgets/base",
      "_model_module_version": "1.2.0",
      "_model_name": "LayoutModel",
      "_view_count": null,
      "_view_module": "@jupyter-widgets/base",
      "_view_module_version": "1.2.0",
      "_view_name": "LayoutView",
      "align_content": null,
      "align_items": null,
      "align_self": null,
      "border": null,
      "bottom": null,
      "display": null,
      "flex": "2",
      "flex_flow": null,
      "grid_area": null,
      "grid_auto_columns": null,
      "grid_auto_flow": null,
      "grid_auto_rows": null,
      "grid_column": null,
      "grid_gap": null,
      "grid_row": null,
      "grid_template_areas": null,
      "grid_template_columns": null,
      "grid_template_rows": null,
      "height": null,
      "justify_content": null,
      "justify_items": null,
      "left": null,
      "margin": null,
      "max_height": null,
      "max_width": null,
      "min_height": null,
      "min_width": null,
      "object_fit": null,
      "object_position": null,
      "order": null,
      "overflow": null,
      "overflow_x": null,
      "overflow_y": null,
      "padding": null,
      "right": null,
      "top": null,
      "visibility": null,
      "width": null
     }
    },
    "560450b99c8f4636b3a700db3fc21253": {
     "model_module": "@jupyter-widgets/controls",
     "model_module_version": "1.5.0",
     "model_name": "ProgressStyleModel",
     "state": {
      "_model_module": "@jupyter-widgets/controls",
      "_model_module_version": "1.5.0",
      "_model_name": "ProgressStyleModel",
      "_view_count": null,
      "_view_module": "@jupyter-widgets/base",
      "_view_module_version": "1.2.0",
      "_view_name": "StyleView",
      "bar_color": null,
      "description_width": ""
     }
    },
    "58fbdeafd7ee40cd9392cd4a62c49b81": {
     "model_module": "@jupyter-widgets/base",
     "model_module_version": "1.2.0",
     "model_name": "LayoutModel",
     "state": {
      "_model_module": "@jupyter-widgets/base",
      "_model_module_version": "1.2.0",
      "_model_name": "LayoutModel",
      "_view_count": null,
      "_view_module": "@jupyter-widgets/base",
      "_view_module_version": "1.2.0",
      "_view_name": "LayoutView",
      "align_content": null,
      "align_items": null,
      "align_self": null,
      "border": null,
      "bottom": null,
      "display": null,
      "flex": "2",
      "flex_flow": null,
      "grid_area": null,
      "grid_auto_columns": null,
      "grid_auto_flow": null,
      "grid_auto_rows": null,
      "grid_column": null,
      "grid_gap": null,
      "grid_row": null,
      "grid_template_areas": null,
      "grid_template_columns": null,
      "grid_template_rows": null,
      "height": null,
      "justify_content": null,
      "justify_items": null,
      "left": null,
      "margin": null,
      "max_height": null,
      "max_width": null,
      "min_height": null,
      "min_width": null,
      "object_fit": null,
      "object_position": null,
      "order": null,
      "overflow": null,
      "overflow_x": null,
      "overflow_y": null,
      "padding": null,
      "right": null,
      "top": null,
      "visibility": null,
      "width": null
     }
    },
    "5d422f8cbd47402bb8f28b258e5abed0": {
     "model_module": "@jupyter-widgets/base",
     "model_module_version": "1.2.0",
     "model_name": "LayoutModel",
     "state": {
      "_model_module": "@jupyter-widgets/base",
      "_model_module_version": "1.2.0",
      "_model_name": "LayoutModel",
      "_view_count": null,
      "_view_module": "@jupyter-widgets/base",
      "_view_module_version": "1.2.0",
      "_view_name": "LayoutView",
      "align_content": null,
      "align_items": null,
      "align_self": null,
      "border": null,
      "bottom": null,
      "display": null,
      "flex": null,
      "flex_flow": null,
      "grid_area": null,
      "grid_auto_columns": null,
      "grid_auto_flow": null,
      "grid_auto_rows": null,
      "grid_column": null,
      "grid_gap": null,
      "grid_row": null,
      "grid_template_areas": null,
      "grid_template_columns": null,
      "grid_template_rows": null,
      "height": null,
      "justify_content": null,
      "justify_items": null,
      "left": null,
      "margin": null,
      "max_height": null,
      "max_width": null,
      "min_height": null,
      "min_width": null,
      "object_fit": null,
      "object_position": null,
      "order": null,
      "overflow": null,
      "overflow_x": null,
      "overflow_y": null,
      "padding": null,
      "right": null,
      "top": null,
      "visibility": null,
      "width": null
     }
    },
    "5db675de6b8348e9a9823384541bdfff": {
     "model_module": "@jupyter-widgets/controls",
     "model_module_version": "1.5.0",
     "model_name": "ProgressStyleModel",
     "state": {
      "_model_module": "@jupyter-widgets/controls",
      "_model_module_version": "1.5.0",
      "_model_name": "ProgressStyleModel",
      "_view_count": null,
      "_view_module": "@jupyter-widgets/base",
      "_view_module_version": "1.2.0",
      "_view_name": "StyleView",
      "bar_color": null,
      "description_width": ""
     }
    },
    "6072601881c341fb8e5329fab05ee52d": {
     "model_module": "@jupyter-widgets/base",
     "model_module_version": "1.2.0",
     "model_name": "LayoutModel",
     "state": {
      "_model_module": "@jupyter-widgets/base",
      "_model_module_version": "1.2.0",
      "_model_name": "LayoutModel",
      "_view_count": null,
      "_view_module": "@jupyter-widgets/base",
      "_view_module_version": "1.2.0",
      "_view_name": "LayoutView",
      "align_content": null,
      "align_items": null,
      "align_self": null,
      "border": null,
      "bottom": null,
      "display": null,
      "flex": null,
      "flex_flow": null,
      "grid_area": null,
      "grid_auto_columns": null,
      "grid_auto_flow": null,
      "grid_auto_rows": null,
      "grid_column": null,
      "grid_gap": null,
      "grid_row": null,
      "grid_template_areas": null,
      "grid_template_columns": null,
      "grid_template_rows": null,
      "height": null,
      "justify_content": null,
      "justify_items": null,
      "left": null,
      "margin": null,
      "max_height": null,
      "max_width": null,
      "min_height": null,
      "min_width": null,
      "object_fit": null,
      "object_position": null,
      "order": null,
      "overflow": null,
      "overflow_x": null,
      "overflow_y": null,
      "padding": null,
      "right": null,
      "top": null,
      "visibility": null,
      "width": null
     }
    },
    "60c4aa6c4c8145949cd16ec0670227a1": {
     "model_module": "@jupyter-widgets/controls",
     "model_module_version": "1.5.0",
     "model_name": "DescriptionStyleModel",
     "state": {
      "_model_module": "@jupyter-widgets/controls",
      "_model_module_version": "1.5.0",
      "_model_name": "DescriptionStyleModel",
      "_view_count": null,
      "_view_module": "@jupyter-widgets/base",
      "_view_module_version": "1.2.0",
      "_view_name": "StyleView",
      "description_width": ""
     }
    },
    "6351ca36d8d648afa472093df7e73e45": {
     "model_module": "@jupyter-widgets/controls",
     "model_module_version": "1.5.0",
     "model_name": "FloatProgressModel",
     "state": {
      "_dom_classes": [],
      "_model_module": "@jupyter-widgets/controls",
      "_model_module_version": "1.5.0",
      "_model_name": "FloatProgressModel",
      "_view_count": null,
      "_view_module": "@jupyter-widgets/controls",
      "_view_module_version": "1.5.0",
      "_view_name": "ProgressView",
      "bar_style": "",
      "description": "",
      "description_tooltip": null,
      "layout": "IPY_MODEL_7a6a637bb7664b4495b2b56b45d88ee4",
      "max": 11,
      "min": 0,
      "orientation": "horizontal",
      "style": "IPY_MODEL_74bf3b2a873e40ffa139f1afe652ffe8",
      "value": 11
     }
    },
    "640ac5a06820498585c48a1b69355d0d": {
     "model_module": "@jupyter-widgets/base",
     "model_module_version": "1.2.0",
     "model_name": "LayoutModel",
     "state": {
      "_model_module": "@jupyter-widgets/base",
      "_model_module_version": "1.2.0",
      "_model_name": "LayoutModel",
      "_view_count": null,
      "_view_module": "@jupyter-widgets/base",
      "_view_module_version": "1.2.0",
      "_view_name": "LayoutView",
      "align_content": null,
      "align_items": null,
      "align_self": null,
      "border": null,
      "bottom": null,
      "display": null,
      "flex": null,
      "flex_flow": null,
      "grid_area": null,
      "grid_auto_columns": null,
      "grid_auto_flow": null,
      "grid_auto_rows": null,
      "grid_column": null,
      "grid_gap": null,
      "grid_row": null,
      "grid_template_areas": null,
      "grid_template_columns": null,
      "grid_template_rows": null,
      "height": null,
      "justify_content": null,
      "justify_items": null,
      "left": null,
      "margin": null,
      "max_height": null,
      "max_width": null,
      "min_height": null,
      "min_width": null,
      "object_fit": null,
      "object_position": null,
      "order": null,
      "overflow": null,
      "overflow_x": null,
      "overflow_y": null,
      "padding": null,
      "right": null,
      "top": null,
      "visibility": null,
      "width": null
     }
    },
    "6769dc278aae487db30d78caa97c6dd8": {
     "model_module": "@jupyter-widgets/controls",
     "model_module_version": "1.5.0",
     "model_name": "FloatProgressModel",
     "state": {
      "_dom_classes": [],
      "_model_module": "@jupyter-widgets/controls",
      "_model_module_version": "1.5.0",
      "_model_name": "FloatProgressModel",
      "_view_count": null,
      "_view_module": "@jupyter-widgets/controls",
      "_view_module_version": "1.5.0",
      "_view_name": "ProgressView",
      "bar_style": "",
      "description": "",
      "description_tooltip": null,
      "layout": "IPY_MODEL_71c435b7fa6f4a0fb44a4c8a8b5a73f6",
      "max": 11,
      "min": 0,
      "orientation": "horizontal",
      "style": "IPY_MODEL_c05c8b6064f94652a1f2ed5c3bb7c2b0",
      "value": 11
     }
    },
    "6fa8591a1a834d8785b1ebe8eff2b10d": {
     "model_module": "@jupyter-widgets/base",
     "model_module_version": "1.2.0",
     "model_name": "LayoutModel",
     "state": {
      "_model_module": "@jupyter-widgets/base",
      "_model_module_version": "1.2.0",
      "_model_name": "LayoutModel",
      "_view_count": null,
      "_view_module": "@jupyter-widgets/base",
      "_view_module_version": "1.2.0",
      "_view_name": "LayoutView",
      "align_content": null,
      "align_items": null,
      "align_self": null,
      "border": null,
      "bottom": null,
      "display": null,
      "flex": null,
      "flex_flow": null,
      "grid_area": null,
      "grid_auto_columns": null,
      "grid_auto_flow": null,
      "grid_auto_rows": null,
      "grid_column": null,
      "grid_gap": null,
      "grid_row": null,
      "grid_template_areas": null,
      "grid_template_columns": null,
      "grid_template_rows": null,
      "height": null,
      "justify_content": null,
      "justify_items": null,
      "left": null,
      "margin": null,
      "max_height": null,
      "max_width": null,
      "min_height": null,
      "min_width": null,
      "object_fit": null,
      "object_position": null,
      "order": null,
      "overflow": null,
      "overflow_x": null,
      "overflow_y": null,
      "padding": null,
      "right": null,
      "top": null,
      "visibility": null,
      "width": null
     }
    },
    "71c435b7fa6f4a0fb44a4c8a8b5a73f6": {
     "model_module": "@jupyter-widgets/base",
     "model_module_version": "1.2.0",
     "model_name": "LayoutModel",
     "state": {
      "_model_module": "@jupyter-widgets/base",
      "_model_module_version": "1.2.0",
      "_model_name": "LayoutModel",
      "_view_count": null,
      "_view_module": "@jupyter-widgets/base",
      "_view_module_version": "1.2.0",
      "_view_name": "LayoutView",
      "align_content": null,
      "align_items": null,
      "align_self": null,
      "border": null,
      "bottom": null,
      "display": null,
      "flex": "2",
      "flex_flow": null,
      "grid_area": null,
      "grid_auto_columns": null,
      "grid_auto_flow": null,
      "grid_auto_rows": null,
      "grid_column": null,
      "grid_gap": null,
      "grid_row": null,
      "grid_template_areas": null,
      "grid_template_columns": null,
      "grid_template_rows": null,
      "height": null,
      "justify_content": null,
      "justify_items": null,
      "left": null,
      "margin": null,
      "max_height": null,
      "max_width": null,
      "min_height": null,
      "min_width": null,
      "object_fit": null,
      "object_position": null,
      "order": null,
      "overflow": null,
      "overflow_x": null,
      "overflow_y": null,
      "padding": null,
      "right": null,
      "top": null,
      "visibility": null,
      "width": null
     }
    },
    "74bf3b2a873e40ffa139f1afe652ffe8": {
     "model_module": "@jupyter-widgets/controls",
     "model_module_version": "1.5.0",
     "model_name": "ProgressStyleModel",
     "state": {
      "_model_module": "@jupyter-widgets/controls",
      "_model_module_version": "1.5.0",
      "_model_name": "ProgressStyleModel",
      "_view_count": null,
      "_view_module": "@jupyter-widgets/base",
      "_view_module_version": "1.2.0",
      "_view_name": "StyleView",
      "bar_color": null,
      "description_width": ""
     }
    },
    "75b99a050a37493389ff96724a9a3b72": {
     "model_module": "@jupyter-widgets/controls",
     "model_module_version": "1.5.0",
     "model_name": "HTMLModel",
     "state": {
      "_dom_classes": [],
      "_model_module": "@jupyter-widgets/controls",
      "_model_module_version": "1.5.0",
      "_model_name": "HTMLModel",
      "_view_count": null,
      "_view_module": "@jupyter-widgets/controls",
      "_view_module_version": "1.5.0",
      "_view_name": "HTMLView",
      "description": "",
      "description_tooltip": null,
      "layout": "IPY_MODEL_9ab912602cc24346a011fdf58feafbde",
      "placeholder": "​",
      "style": "IPY_MODEL_af211f3be2ce4fb1b6733fa552ed041b",
      "value": "Sanity Checking DataLoader 0: 100%"
     }
    },
    "78fe9e3a3d614de9a6f3efacde67d247": {
     "model_module": "@jupyter-widgets/controls",
     "model_module_version": "1.5.0",
     "model_name": "FloatProgressModel",
     "state": {
      "_dom_classes": [],
      "_model_module": "@jupyter-widgets/controls",
      "_model_module_version": "1.5.0",
      "_model_name": "FloatProgressModel",
      "_view_count": null,
      "_view_module": "@jupyter-widgets/controls",
      "_view_module_version": "1.5.0",
      "_view_name": "ProgressView",
      "bar_style": "",
      "description": "",
      "description_tooltip": null,
      "layout": "IPY_MODEL_84f32a71a7cd4de6b55a9558717d00ef",
      "max": 2,
      "min": 0,
      "orientation": "horizontal",
      "style": "IPY_MODEL_5db675de6b8348e9a9823384541bdfff",
      "value": 2
     }
    },
    "7a6a637bb7664b4495b2b56b45d88ee4": {
     "model_module": "@jupyter-widgets/base",
     "model_module_version": "1.2.0",
     "model_name": "LayoutModel",
     "state": {
      "_model_module": "@jupyter-widgets/base",
      "_model_module_version": "1.2.0",
      "_model_name": "LayoutModel",
      "_view_count": null,
      "_view_module": "@jupyter-widgets/base",
      "_view_module_version": "1.2.0",
      "_view_name": "LayoutView",
      "align_content": null,
      "align_items": null,
      "align_self": null,
      "border": null,
      "bottom": null,
      "display": null,
      "flex": "2",
      "flex_flow": null,
      "grid_area": null,
      "grid_auto_columns": null,
      "grid_auto_flow": null,
      "grid_auto_rows": null,
      "grid_column": null,
      "grid_gap": null,
      "grid_row": null,
      "grid_template_areas": null,
      "grid_template_columns": null,
      "grid_template_rows": null,
      "height": null,
      "justify_content": null,
      "justify_items": null,
      "left": null,
      "margin": null,
      "max_height": null,
      "max_width": null,
      "min_height": null,
      "min_width": null,
      "object_fit": null,
      "object_position": null,
      "order": null,
      "overflow": null,
      "overflow_x": null,
      "overflow_y": null,
      "padding": null,
      "right": null,
      "top": null,
      "visibility": null,
      "width": null
     }
    },
    "7bb5cc7b77654cc0b27a22552941a1ce": {
     "model_module": "@jupyter-widgets/controls",
     "model_module_version": "1.5.0",
     "model_name": "DescriptionStyleModel",
     "state": {
      "_model_module": "@jupyter-widgets/controls",
      "_model_module_version": "1.5.0",
      "_model_name": "DescriptionStyleModel",
      "_view_count": null,
      "_view_module": "@jupyter-widgets/base",
      "_view_module_version": "1.2.0",
      "_view_name": "StyleView",
      "description_width": ""
     }
    },
    "7bd174d7cd2346be9db9d5a0a170f8cb": {
     "model_module": "@jupyter-widgets/controls",
     "model_module_version": "1.5.0",
     "model_name": "HTMLModel",
     "state": {
      "_dom_classes": [],
      "_model_module": "@jupyter-widgets/controls",
      "_model_module_version": "1.5.0",
      "_model_name": "HTMLModel",
      "_view_count": null,
      "_view_module": "@jupyter-widgets/controls",
      "_view_module_version": "1.5.0",
      "_view_name": "HTMLView",
      "description": "",
      "description_tooltip": null,
      "layout": "IPY_MODEL_2da5b84f9384445a8d9db58ef3dafa5e",
      "placeholder": "​",
      "style": "IPY_MODEL_abcb57f0947f413d9cb83c62c6529562",
      "value": " 2139/2139 [00:17&lt;00:00, 122.83it/s, v_num=1, train_loss=7.280, val_loss=10.70]"
     }
    },
    "7dc052c589534aa986569d863596a2a3": {
     "model_module": "@jupyter-widgets/base",
     "model_module_version": "1.2.0",
     "model_name": "LayoutModel",
     "state": {
      "_model_module": "@jupyter-widgets/base",
      "_model_module_version": "1.2.0",
      "_model_name": "LayoutModel",
      "_view_count": null,
      "_view_module": "@jupyter-widgets/base",
      "_view_module_version": "1.2.0",
      "_view_name": "LayoutView",
      "align_content": null,
      "align_items": null,
      "align_self": null,
      "border": null,
      "bottom": null,
      "display": "inline-flex",
      "flex": null,
      "flex_flow": "row wrap",
      "grid_area": null,
      "grid_auto_columns": null,
      "grid_auto_flow": null,
      "grid_auto_rows": null,
      "grid_column": null,
      "grid_gap": null,
      "grid_row": null,
      "grid_template_areas": null,
      "grid_template_columns": null,
      "grid_template_rows": null,
      "height": null,
      "justify_content": null,
      "justify_items": null,
      "left": null,
      "margin": null,
      "max_height": null,
      "max_width": null,
      "min_height": null,
      "min_width": null,
      "object_fit": null,
      "object_position": null,
      "order": null,
      "overflow": null,
      "overflow_x": null,
      "overflow_y": null,
      "padding": null,
      "right": null,
      "top": null,
      "visibility": "hidden",
      "width": "100%"
     }
    },
    "80d177b53a5f4fe0a733d3b7d36e9b30": {
     "model_module": "@jupyter-widgets/controls",
     "model_module_version": "1.5.0",
     "model_name": "DescriptionStyleModel",
     "state": {
      "_model_module": "@jupyter-widgets/controls",
      "_model_module_version": "1.5.0",
      "_model_name": "DescriptionStyleModel",
      "_view_count": null,
      "_view_module": "@jupyter-widgets/base",
      "_view_module_version": "1.2.0",
      "_view_name": "StyleView",
      "description_width": ""
     }
    },
    "84f32a71a7cd4de6b55a9558717d00ef": {
     "model_module": "@jupyter-widgets/base",
     "model_module_version": "1.2.0",
     "model_name": "LayoutModel",
     "state": {
      "_model_module": "@jupyter-widgets/base",
      "_model_module_version": "1.2.0",
      "_model_name": "LayoutModel",
      "_view_count": null,
      "_view_module": "@jupyter-widgets/base",
      "_view_module_version": "1.2.0",
      "_view_name": "LayoutView",
      "align_content": null,
      "align_items": null,
      "align_self": null,
      "border": null,
      "bottom": null,
      "display": null,
      "flex": "2",
      "flex_flow": null,
      "grid_area": null,
      "grid_auto_columns": null,
      "grid_auto_flow": null,
      "grid_auto_rows": null,
      "grid_column": null,
      "grid_gap": null,
      "grid_row": null,
      "grid_template_areas": null,
      "grid_template_columns": null,
      "grid_template_rows": null,
      "height": null,
      "justify_content": null,
      "justify_items": null,
      "left": null,
      "margin": null,
      "max_height": null,
      "max_width": null,
      "min_height": null,
      "min_width": null,
      "object_fit": null,
      "object_position": null,
      "order": null,
      "overflow": null,
      "overflow_x": null,
      "overflow_y": null,
      "padding": null,
      "right": null,
      "top": null,
      "visibility": null,
      "width": null
     }
    },
    "86ed101f86384b9b92eb3faccae5bca2": {
     "model_module": "@jupyter-widgets/controls",
     "model_module_version": "1.5.0",
     "model_name": "ProgressStyleModel",
     "state": {
      "_model_module": "@jupyter-widgets/controls",
      "_model_module_version": "1.5.0",
      "_model_name": "ProgressStyleModel",
      "_view_count": null,
      "_view_module": "@jupyter-widgets/base",
      "_view_module_version": "1.2.0",
      "_view_name": "StyleView",
      "bar_color": null,
      "description_width": ""
     }
    },
    "8fc5cc9d0df74d5081fa3f8c89595daf": {
     "model_module": "@jupyter-widgets/base",
     "model_module_version": "1.2.0",
     "model_name": "LayoutModel",
     "state": {
      "_model_module": "@jupyter-widgets/base",
      "_model_module_version": "1.2.0",
      "_model_name": "LayoutModel",
      "_view_count": null,
      "_view_module": "@jupyter-widgets/base",
      "_view_module_version": "1.2.0",
      "_view_name": "LayoutView",
      "align_content": null,
      "align_items": null,
      "align_self": null,
      "border": null,
      "bottom": null,
      "display": null,
      "flex": null,
      "flex_flow": null,
      "grid_area": null,
      "grid_auto_columns": null,
      "grid_auto_flow": null,
      "grid_auto_rows": null,
      "grid_column": null,
      "grid_gap": null,
      "grid_row": null,
      "grid_template_areas": null,
      "grid_template_columns": null,
      "grid_template_rows": null,
      "height": null,
      "justify_content": null,
      "justify_items": null,
      "left": null,
      "margin": null,
      "max_height": null,
      "max_width": null,
      "min_height": null,
      "min_width": null,
      "object_fit": null,
      "object_position": null,
      "order": null,
      "overflow": null,
      "overflow_x": null,
      "overflow_y": null,
      "padding": null,
      "right": null,
      "top": null,
      "visibility": null,
      "width": null
     }
    },
    "938d3da0eef54ee997fc0ce7ccf1807b": {
     "model_module": "@jupyter-widgets/base",
     "model_module_version": "1.2.0",
     "model_name": "LayoutModel",
     "state": {
      "_model_module": "@jupyter-widgets/base",
      "_model_module_version": "1.2.0",
      "_model_name": "LayoutModel",
      "_view_count": null,
      "_view_module": "@jupyter-widgets/base",
      "_view_module_version": "1.2.0",
      "_view_name": "LayoutView",
      "align_content": null,
      "align_items": null,
      "align_self": null,
      "border": null,
      "bottom": null,
      "display": null,
      "flex": "2",
      "flex_flow": null,
      "grid_area": null,
      "grid_auto_columns": null,
      "grid_auto_flow": null,
      "grid_auto_rows": null,
      "grid_column": null,
      "grid_gap": null,
      "grid_row": null,
      "grid_template_areas": null,
      "grid_template_columns": null,
      "grid_template_rows": null,
      "height": null,
      "justify_content": null,
      "justify_items": null,
      "left": null,
      "margin": null,
      "max_height": null,
      "max_width": null,
      "min_height": null,
      "min_width": null,
      "object_fit": null,
      "object_position": null,
      "order": null,
      "overflow": null,
      "overflow_x": null,
      "overflow_y": null,
      "padding": null,
      "right": null,
      "top": null,
      "visibility": null,
      "width": null
     }
    },
    "950950a569914ad1a263f3f295e57852": {
     "model_module": "@jupyter-widgets/controls",
     "model_module_version": "1.5.0",
     "model_name": "HTMLModel",
     "state": {
      "_dom_classes": [],
      "_model_module": "@jupyter-widgets/controls",
      "_model_module_version": "1.5.0",
      "_model_name": "HTMLModel",
      "_view_count": null,
      "_view_module": "@jupyter-widgets/controls",
      "_view_module_version": "1.5.0",
      "_view_name": "HTMLView",
      "description": "",
      "description_tooltip": null,
      "layout": "IPY_MODEL_cba28fcac7c349e8ac9794d507768744",
      "placeholder": "​",
      "style": "IPY_MODEL_7bb5cc7b77654cc0b27a22552941a1ce",
      "value": " 11/11 [00:00&lt;00:00, 23.50it/s]"
     }
    },
    "9ab912602cc24346a011fdf58feafbde": {
     "model_module": "@jupyter-widgets/base",
     "model_module_version": "1.2.0",
     "model_name": "LayoutModel",
     "state": {
      "_model_module": "@jupyter-widgets/base",
      "_model_module_version": "1.2.0",
      "_model_name": "LayoutModel",
      "_view_count": null,
      "_view_module": "@jupyter-widgets/base",
      "_view_module_version": "1.2.0",
      "_view_name": "LayoutView",
      "align_content": null,
      "align_items": null,
      "align_self": null,
      "border": null,
      "bottom": null,
      "display": null,
      "flex": null,
      "flex_flow": null,
      "grid_area": null,
      "grid_auto_columns": null,
      "grid_auto_flow": null,
      "grid_auto_rows": null,
      "grid_column": null,
      "grid_gap": null,
      "grid_row": null,
      "grid_template_areas": null,
      "grid_template_columns": null,
      "grid_template_rows": null,
      "height": null,
      "justify_content": null,
      "justify_items": null,
      "left": null,
      "margin": null,
      "max_height": null,
      "max_width": null,
      "min_height": null,
      "min_width": null,
      "object_fit": null,
      "object_position": null,
      "order": null,
      "overflow": null,
      "overflow_x": null,
      "overflow_y": null,
      "padding": null,
      "right": null,
      "top": null,
      "visibility": null,
      "width": null
     }
    },
    "9ec11067fc81414d97457b47e93b78a1": {
     "model_module": "@jupyter-widgets/controls",
     "model_module_version": "1.5.0",
     "model_name": "HTMLModel",
     "state": {
      "_dom_classes": [],
      "_model_module": "@jupyter-widgets/controls",
      "_model_module_version": "1.5.0",
      "_model_name": "HTMLModel",
      "_view_count": null,
      "_view_module": "@jupyter-widgets/controls",
      "_view_module_version": "1.5.0",
      "_view_name": "HTMLView",
      "description": "",
      "description_tooltip": null,
      "layout": "IPY_MODEL_3dc20b49832e46c6ad70dc754f43555f",
      "placeholder": "​",
      "style": "IPY_MODEL_100219bd594645c5b60c3da4a44344fe",
      "value": "Validation DataLoader 0: 100%"
     }
    },
    "a2903f89f4584f16b9f5b412d2730672": {
     "model_module": "@jupyter-widgets/controls",
     "model_module_version": "1.5.0",
     "model_name": "DescriptionStyleModel",
     "state": {
      "_model_module": "@jupyter-widgets/controls",
      "_model_module_version": "1.5.0",
      "_model_name": "DescriptionStyleModel",
      "_view_count": null,
      "_view_module": "@jupyter-widgets/base",
      "_view_module_version": "1.2.0",
      "_view_name": "StyleView",
      "description_width": ""
     }
    },
    "a474d8d377674579b3c9f5327fbb1862": {
     "model_module": "@jupyter-widgets/controls",
     "model_module_version": "1.5.0",
     "model_name": "FloatProgressModel",
     "state": {
      "_dom_classes": [],
      "_model_module": "@jupyter-widgets/controls",
      "_model_module_version": "1.5.0",
      "_model_name": "FloatProgressModel",
      "_view_count": null,
      "_view_module": "@jupyter-widgets/controls",
      "_view_module_version": "1.5.0",
      "_view_name": "ProgressView",
      "bar_style": "",
      "description": "",
      "description_tooltip": null,
      "layout": "IPY_MODEL_2e02be5bf0be40bf87f1364b1fd587ec",
      "max": 11,
      "min": 0,
      "orientation": "horizontal",
      "style": "IPY_MODEL_560450b99c8f4636b3a700db3fc21253",
      "value": 11
     }
    },
    "abcb57f0947f413d9cb83c62c6529562": {
     "model_module": "@jupyter-widgets/controls",
     "model_module_version": "1.5.0",
     "model_name": "DescriptionStyleModel",
     "state": {
      "_model_module": "@jupyter-widgets/controls",
      "_model_module_version": "1.5.0",
      "_model_name": "DescriptionStyleModel",
      "_view_count": null,
      "_view_module": "@jupyter-widgets/base",
      "_view_module_version": "1.2.0",
      "_view_name": "StyleView",
      "description_width": ""
     }
    },
    "acfec13aec454320b585c0b8331e9448": {
     "model_module": "@jupyter-widgets/controls",
     "model_module_version": "1.5.0",
     "model_name": "DescriptionStyleModel",
     "state": {
      "_model_module": "@jupyter-widgets/controls",
      "_model_module_version": "1.5.0",
      "_model_name": "DescriptionStyleModel",
      "_view_count": null,
      "_view_module": "@jupyter-widgets/base",
      "_view_module_version": "1.2.0",
      "_view_name": "StyleView",
      "description_width": ""
     }
    },
    "af211f3be2ce4fb1b6733fa552ed041b": {
     "model_module": "@jupyter-widgets/controls",
     "model_module_version": "1.5.0",
     "model_name": "DescriptionStyleModel",
     "state": {
      "_model_module": "@jupyter-widgets/controls",
      "_model_module_version": "1.5.0",
      "_model_name": "DescriptionStyleModel",
      "_view_count": null,
      "_view_module": "@jupyter-widgets/base",
      "_view_module_version": "1.2.0",
      "_view_name": "StyleView",
      "description_width": ""
     }
    },
    "b174cb3407a04b2989e6049555265446": {
     "model_module": "@jupyter-widgets/controls",
     "model_module_version": "1.5.0",
     "model_name": "FloatProgressModel",
     "state": {
      "_dom_classes": [],
      "_model_module": "@jupyter-widgets/controls",
      "_model_module_version": "1.5.0",
      "_model_name": "FloatProgressModel",
      "_view_count": null,
      "_view_module": "@jupyter-widgets/controls",
      "_view_module_version": "1.5.0",
      "_view_name": "ProgressView",
      "bar_style": "success",
      "description": "",
      "description_tooltip": null,
      "layout": "IPY_MODEL_938d3da0eef54ee997fc0ce7ccf1807b",
      "max": 2139,
      "min": 0,
      "orientation": "horizontal",
      "style": "IPY_MODEL_1c10405770654b90a3635ba4acabb6ef",
      "value": 2139
     }
    },
    "b23fac677f5e4e8884f84fe60585330d": {
     "model_module": "@jupyter-widgets/controls",
     "model_module_version": "1.5.0",
     "model_name": "HBoxModel",
     "state": {
      "_dom_classes": [],
      "_model_module": "@jupyter-widgets/controls",
      "_model_module_version": "1.5.0",
      "_model_name": "HBoxModel",
      "_view_count": null,
      "_view_module": "@jupyter-widgets/controls",
      "_view_module_version": "1.5.0",
      "_view_name": "HBoxView",
      "box_style": "",
      "children": [
       "IPY_MODEL_1ae57433e573436b8bbdf6c22630930d",
       "IPY_MODEL_6769dc278aae487db30d78caa97c6dd8",
       "IPY_MODEL_b5b6d56829af44d99b904176b9552101"
      ],
      "layout": "IPY_MODEL_7dc052c589534aa986569d863596a2a3"
     }
    },
    "b5b6d56829af44d99b904176b9552101": {
     "model_module": "@jupyter-widgets/controls",
     "model_module_version": "1.5.0",
     "model_name": "HTMLModel",
     "state": {
      "_dom_classes": [],
      "_model_module": "@jupyter-widgets/controls",
      "_model_module_version": "1.5.0",
      "_model_name": "HTMLModel",
      "_view_count": null,
      "_view_module": "@jupyter-widgets/controls",
      "_view_module_version": "1.5.0",
      "_view_name": "HTMLView",
      "description": "",
      "description_tooltip": null,
      "layout": "IPY_MODEL_c44756a0ec83400f9f6daf8d1179ad91",
      "placeholder": "​",
      "style": "IPY_MODEL_a2903f89f4584f16b9f5b412d2730672",
      "value": " 11/11 [00:00&lt;00:00, 27.27it/s]"
     }
    },
    "b6179f72e8f94772a4e1e2a503bc1d47": {
     "model_module": "@jupyter-widgets/controls",
     "model_module_version": "1.5.0",
     "model_name": "HBoxModel",
     "state": {
      "_dom_classes": [],
      "_model_module": "@jupyter-widgets/controls",
      "_model_module_version": "1.5.0",
      "_model_name": "HBoxModel",
      "_view_count": null,
      "_view_module": "@jupyter-widgets/controls",
      "_view_module_version": "1.5.0",
      "_view_name": "HBoxView",
      "box_style": "",
      "children": [
       "IPY_MODEL_9ec11067fc81414d97457b47e93b78a1",
       "IPY_MODEL_6351ca36d8d648afa472093df7e73e45",
       "IPY_MODEL_d1efd4fe9adc4243a81d401784b77530"
      ],
      "layout": "IPY_MODEL_2cb3f56ff669424da4e9bace352831b8"
     }
    },
    "be93fd003ef54d7e85bb1fcaa894e467": {
     "model_module": "@jupyter-widgets/controls",
     "model_module_version": "1.5.0",
     "model_name": "DescriptionStyleModel",
     "state": {
      "_model_module": "@jupyter-widgets/controls",
      "_model_module_version": "1.5.0",
      "_model_name": "DescriptionStyleModel",
      "_view_count": null,
      "_view_module": "@jupyter-widgets/base",
      "_view_module_version": "1.2.0",
      "_view_name": "StyleView",
      "description_width": ""
     }
    },
    "c05c8b6064f94652a1f2ed5c3bb7c2b0": {
     "model_module": "@jupyter-widgets/controls",
     "model_module_version": "1.5.0",
     "model_name": "ProgressStyleModel",
     "state": {
      "_model_module": "@jupyter-widgets/controls",
      "_model_module_version": "1.5.0",
      "_model_name": "ProgressStyleModel",
      "_view_count": null,
      "_view_module": "@jupyter-widgets/base",
      "_view_module_version": "1.2.0",
      "_view_name": "StyleView",
      "bar_color": null,
      "description_width": ""
     }
    },
    "c44756a0ec83400f9f6daf8d1179ad91": {
     "model_module": "@jupyter-widgets/base",
     "model_module_version": "1.2.0",
     "model_name": "LayoutModel",
     "state": {
      "_model_module": "@jupyter-widgets/base",
      "_model_module_version": "1.2.0",
      "_model_name": "LayoutModel",
      "_view_count": null,
      "_view_module": "@jupyter-widgets/base",
      "_view_module_version": "1.2.0",
      "_view_name": "LayoutView",
      "align_content": null,
      "align_items": null,
      "align_self": null,
      "border": null,
      "bottom": null,
      "display": null,
      "flex": null,
      "flex_flow": null,
      "grid_area": null,
      "grid_auto_columns": null,
      "grid_auto_flow": null,
      "grid_auto_rows": null,
      "grid_column": null,
      "grid_gap": null,
      "grid_row": null,
      "grid_template_areas": null,
      "grid_template_columns": null,
      "grid_template_rows": null,
      "height": null,
      "justify_content": null,
      "justify_items": null,
      "left": null,
      "margin": null,
      "max_height": null,
      "max_width": null,
      "min_height": null,
      "min_width": null,
      "object_fit": null,
      "object_position": null,
      "order": null,
      "overflow": null,
      "overflow_x": null,
      "overflow_y": null,
      "padding": null,
      "right": null,
      "top": null,
      "visibility": null,
      "width": null
     }
    },
    "cba28fcac7c349e8ac9794d507768744": {
     "model_module": "@jupyter-widgets/base",
     "model_module_version": "1.2.0",
     "model_name": "LayoutModel",
     "state": {
      "_model_module": "@jupyter-widgets/base",
      "_model_module_version": "1.2.0",
      "_model_name": "LayoutModel",
      "_view_count": null,
      "_view_module": "@jupyter-widgets/base",
      "_view_module_version": "1.2.0",
      "_view_name": "LayoutView",
      "align_content": null,
      "align_items": null,
      "align_self": null,
      "border": null,
      "bottom": null,
      "display": null,
      "flex": null,
      "flex_flow": null,
      "grid_area": null,
      "grid_auto_columns": null,
      "grid_auto_flow": null,
      "grid_auto_rows": null,
      "grid_column": null,
      "grid_gap": null,
      "grid_row": null,
      "grid_template_areas": null,
      "grid_template_columns": null,
      "grid_template_rows": null,
      "height": null,
      "justify_content": null,
      "justify_items": null,
      "left": null,
      "margin": null,
      "max_height": null,
      "max_width": null,
      "min_height": null,
      "min_width": null,
      "object_fit": null,
      "object_position": null,
      "order": null,
      "overflow": null,
      "overflow_x": null,
      "overflow_y": null,
      "padding": null,
      "right": null,
      "top": null,
      "visibility": null,
      "width": null
     }
    },
    "d1efd4fe9adc4243a81d401784b77530": {
     "model_module": "@jupyter-widgets/controls",
     "model_module_version": "1.5.0",
     "model_name": "HTMLModel",
     "state": {
      "_dom_classes": [],
      "_model_module": "@jupyter-widgets/controls",
      "_model_module_version": "1.5.0",
      "_model_name": "HTMLModel",
      "_view_count": null,
      "_view_module": "@jupyter-widgets/controls",
      "_view_module_version": "1.5.0",
      "_view_name": "HTMLView",
      "description": "",
      "description_tooltip": null,
      "layout": "IPY_MODEL_640ac5a06820498585c48a1b69355d0d",
      "placeholder": "​",
      "style": "IPY_MODEL_515318593400421487560182023801f1",
      "value": " 11/11 [00:00&lt;00:00, 15.17it/s]"
     }
    },
    "d8cd82c7af8747148b5b4750e8f1372a": {
     "model_module": "@jupyter-widgets/controls",
     "model_module_version": "1.5.0",
     "model_name": "HBoxModel",
     "state": {
      "_dom_classes": [],
      "_model_module": "@jupyter-widgets/controls",
      "_model_module_version": "1.5.0",
      "_model_name": "HBoxModel",
      "_view_count": null,
      "_view_module": "@jupyter-widgets/controls",
      "_view_module_version": "1.5.0",
      "_view_name": "HBoxView",
      "box_style": "",
      "children": [
       "IPY_MODEL_17d8af2b171440cba00f8b2df1a08073",
       "IPY_MODEL_fde8213392c546b58ad8a81aacf4fcb3",
       "IPY_MODEL_09093bb710bd4903abf2e10db6efc0a0"
      ],
      "layout": "IPY_MODEL_d92ec28e7e6c47c4b2e3669b502b8b9e"
     }
    },
    "d92ec28e7e6c47c4b2e3669b502b8b9e": {
     "model_module": "@jupyter-widgets/base",
     "model_module_version": "1.2.0",
     "model_name": "LayoutModel",
     "state": {
      "_model_module": "@jupyter-widgets/base",
      "_model_module_version": "1.2.0",
      "_model_name": "LayoutModel",
      "_view_count": null,
      "_view_module": "@jupyter-widgets/base",
      "_view_module_version": "1.2.0",
      "_view_name": "LayoutView",
      "align_content": null,
      "align_items": null,
      "align_self": null,
      "border": null,
      "bottom": null,
      "display": "inline-flex",
      "flex": null,
      "flex_flow": "row wrap",
      "grid_area": null,
      "grid_auto_columns": null,
      "grid_auto_flow": null,
      "grid_auto_rows": null,
      "grid_column": null,
      "grid_gap": null,
      "grid_row": null,
      "grid_template_areas": null,
      "grid_template_columns": null,
      "grid_template_rows": null,
      "height": null,
      "justify_content": null,
      "justify_items": null,
      "left": null,
      "margin": null,
      "max_height": null,
      "max_width": null,
      "min_height": null,
      "min_width": null,
      "object_fit": null,
      "object_position": null,
      "order": null,
      "overflow": null,
      "overflow_x": null,
      "overflow_y": null,
      "padding": null,
      "right": null,
      "top": null,
      "visibility": "hidden",
      "width": "100%"
     }
    },
    "d9456651273140f9bd6e587ab852eeec": {
     "model_module": "@jupyter-widgets/controls",
     "model_module_version": "1.5.0",
     "model_name": "HTMLModel",
     "state": {
      "_dom_classes": [],
      "_model_module": "@jupyter-widgets/controls",
      "_model_module_version": "1.5.0",
      "_model_name": "HTMLModel",
      "_view_count": null,
      "_view_module": "@jupyter-widgets/controls",
      "_view_module_version": "1.5.0",
      "_view_name": "HTMLView",
      "description": "",
      "description_tooltip": null,
      "layout": "IPY_MODEL_17e62da8657f44d9a998f4acbbd29671",
      "placeholder": "​",
      "style": "IPY_MODEL_be93fd003ef54d7e85bb1fcaa894e467",
      "value": "Epoch 4: 100%"
     }
    },
    "e9d2f22400db472283508e8c01f08fbb": {
     "model_module": "@jupyter-widgets/base",
     "model_module_version": "1.2.0",
     "model_name": "LayoutModel",
     "state": {
      "_model_module": "@jupyter-widgets/base",
      "_model_module_version": "1.2.0",
      "_model_name": "LayoutModel",
      "_view_count": null,
      "_view_module": "@jupyter-widgets/base",
      "_view_module_version": "1.2.0",
      "_view_name": "LayoutView",
      "align_content": null,
      "align_items": null,
      "align_self": null,
      "border": null,
      "bottom": null,
      "display": "inline-flex",
      "flex": null,
      "flex_flow": "row wrap",
      "grid_area": null,
      "grid_auto_columns": null,
      "grid_auto_flow": null,
      "grid_auto_rows": null,
      "grid_column": null,
      "grid_gap": null,
      "grid_row": null,
      "grid_template_areas": null,
      "grid_template_columns": null,
      "grid_template_rows": null,
      "height": null,
      "justify_content": null,
      "justify_items": null,
      "left": null,
      "margin": null,
      "max_height": null,
      "max_width": null,
      "min_height": null,
      "min_width": null,
      "object_fit": null,
      "object_position": null,
      "order": null,
      "overflow": null,
      "overflow_x": null,
      "overflow_y": null,
      "padding": null,
      "right": null,
      "top": null,
      "visibility": "hidden",
      "width": "100%"
     }
    },
    "f2b6c28c36e64f66b54834f543cec282": {
     "model_module": "@jupyter-widgets/controls",
     "model_module_version": "1.5.0",
     "model_name": "HBoxModel",
     "state": {
      "_dom_classes": [],
      "_model_module": "@jupyter-widgets/controls",
      "_model_module_version": "1.5.0",
      "_model_name": "HBoxModel",
      "_view_count": null,
      "_view_module": "@jupyter-widgets/controls",
      "_view_module_version": "1.5.0",
      "_view_name": "HBoxView",
      "box_style": "",
      "children": [
       "IPY_MODEL_2d98065fccb34cb1b44740aa4510f0e7",
       "IPY_MODEL_2aa0bc933aae46729672d55e60c17616",
       "IPY_MODEL_950950a569914ad1a263f3f295e57852"
      ],
      "layout": "IPY_MODEL_2f4dcf310c634bdba125e8bf46d3db26"
     }
    },
    "fd22c38d837a404ab892ddaddf4a8988": {
     "model_module": "@jupyter-widgets/controls",
     "model_module_version": "1.5.0",
     "model_name": "HTMLModel",
     "state": {
      "_dom_classes": [],
      "_model_module": "@jupyter-widgets/controls",
      "_model_module_version": "1.5.0",
      "_model_name": "HTMLModel",
      "_view_count": null,
      "_view_module": "@jupyter-widgets/controls",
      "_view_module_version": "1.5.0",
      "_view_name": "HTMLView",
      "description": "",
      "description_tooltip": null,
      "layout": "IPY_MODEL_46204f92abf1414da360d79b4ca7a924",
      "placeholder": "​",
      "style": "IPY_MODEL_0a54156fabcd4ef3b73b038b71485a6a",
      "value": "Validation DataLoader 0: 100%"
     }
    },
    "fde8213392c546b58ad8a81aacf4fcb3": {
     "model_module": "@jupyter-widgets/controls",
     "model_module_version": "1.5.0",
     "model_name": "FloatProgressModel",
     "state": {
      "_dom_classes": [],
      "_model_module": "@jupyter-widgets/controls",
      "_model_module_version": "1.5.0",
      "_model_name": "FloatProgressModel",
      "_view_count": null,
      "_view_module": "@jupyter-widgets/controls",
      "_view_module_version": "1.5.0",
      "_view_name": "ProgressView",
      "bar_style": "",
      "description": "",
      "description_tooltip": null,
      "layout": "IPY_MODEL_58fbdeafd7ee40cd9392cd4a62c49b81",
      "max": 11,
      "min": 0,
      "orientation": "horizontal",
      "style": "IPY_MODEL_286fbf1303dc4f0b9c1bb3cfb34f920e",
      "value": 11
     }
    }
   }
  }
 },
 "nbformat": 4,
 "nbformat_minor": 4
}
