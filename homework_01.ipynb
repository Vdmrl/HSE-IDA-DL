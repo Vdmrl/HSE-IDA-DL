{
 "cells": [
  {
   "attachments": {},
   "cell_type": "markdown",
   "metadata": {
    "id": "Q_upCOEI3Upu"
   },
   "source": [
    "# Основы глубинного обучения, майнор ИАД\n",
    "\n",
    "## Домашнее задание 1. Введение в PyTorch. Полносвязные нейронные сети.\n",
    "\n",
    "### Общая информация\n",
    "\n",
    "Дата выдачи: 01.10.2023\n",
    "\n",
    "Мягкий дедлайн: 23:59MSK 15.10.2023\n",
    "\n",
    "Жесткий дедлайн: 23:59MSK 20.10.2023\n",
    "\n",
    "### Оценивание и штрафы\n",
    "Максимально допустимая оценка за работу — 10 баллов. За каждый день просрочки снимается 1 балл. Сдавать задание после жёсткого дедлайна сдачи нельзя.\n",
    "\n",
    "Задание выполняется самостоятельно. «Похожие» решения считаются плагиатом и все задействованные студенты (в том числе те, у кого списали) не могут получить за него больше 0 баллов. Если вы нашли решение какого-то из заданий (или его часть) в открытом источнике, необходимо указать ссылку на этот источник в отдельном блоке в конце вашей работы (скорее всего вы будете не единственным, кто это нашел, поэтому чтобы исключить подозрение в плагиате, необходима ссылка на источник).\n",
    "\n",
    "Неэффективная реализация кода может негативно отразиться на оценке.\n",
    "Также оценка может быть снижена за плохо читаемый код и плохо оформленные графики. Все ответы должны сопровождаться кодом или комментариями о том, как они были получены.\n",
    "\n",
    "Итогова оценка считается как\n",
    "$$\n",
    "min(task_1, task_2)*0.8 + max(task_1, task_2)*0.2\n",
    "$$\n",
    "\n",
    "где task_1 и task_2 - оценки за первое и второе заданиее соответсвенно.\n",
    "Также, за домашнее задание выставляется 0, если не сделано нулевое или третье задание.\n",
    "### О задании\n",
    "\n",
    "В этом задании вам предстоит предсказывать год выпуска песни (**задача регрессии**) по некоторым звуковым признакам: [данные](https://archive.ics.uci.edu/ml/datasets/yearpredictionmsd). В ячейках ниже находится код для загрузки данных. Обратите внимание, что обучающая и тестовая выборки располагаются в одном файле, поэтому НЕ меняйте ячейку, в которой производится деление данных."
   ]
  },
  {
   "cell_type": "code",
   "execution_count": 25,
   "metadata": {
    "id": "RI_eoe063VaP",
    "ExecuteTime": {
     "end_time": "2024-07-30T15:55:21.523633Z",
     "start_time": "2024-07-30T15:55:21.517132Z"
    }
   },
   "outputs": [],
   "source": [
    "import math\n",
    "\n",
    "import torch\n",
    "from torch import nn, optim\n",
    "from torch.utils.data import DataLoader, TensorDataset\n",
    "import pandas as pd\n",
    "import numpy as np\n",
    "import random\n",
    "from tqdm.auto import tqdm\n",
    "from collections import namedtuple\n",
    "import math\n",
    "import os\n",
    "\n",
    "device = \"cuda\" if torch.cuda.is_available() else \"cpu\"\n",
    "from tqdm.notebook import tqdm\n",
    "from IPython.display import clear_output\n",
    "import matplotlib.pyplot as plt"
   ]
  },
  {
   "cell_type": "code",
   "outputs": [
    {
     "data": {
      "text/plain": "'cuda'"
     },
     "execution_count": 26,
     "metadata": {},
     "output_type": "execute_result"
    }
   ],
   "source": [
    "device"
   ],
   "metadata": {
    "collapsed": false,
    "ExecuteTime": {
     "end_time": "2024-07-30T15:55:21.803741Z",
     "start_time": "2024-07-30T15:55:21.797698Z"
    }
   },
   "execution_count": 26
  },
  {
   "cell_type": "code",
   "execution_count": null,
   "metadata": {
    "colab": {
     "base_uri": "https://localhost:8080/"
    },
    "id": "7NgSZeU-7vgj",
    "outputId": "bf328cf3-2c32-4f57-fcca-b3801412e2d6",
    "is_executing": true,
    "ExecuteTime": {
     "start_time": "2024-07-30T15:43:18.250235Z"
    }
   },
   "outputs": [],
   "source": [
    "!wget -O data1.txt.zip https://archive.ics.uci.edu/ml/machine-learning-databases/00203/YearPredictionMSD.txt.zip"
   ]
  },
  {
   "cell_type": "code",
   "execution_count": 28,
   "metadata": {
    "id": "DSVJZzkJ7zZE",
    "outputId": "488c6de3-e897-463b-945e-a6752c113f63",
    "scrolled": false,
    "ExecuteTime": {
     "end_time": "2024-07-30T15:55:40.599929Z",
     "start_time": "2024-07-30T15:55:34.447698Z"
    }
   },
   "outputs": [
    {
     "data": {
      "text/plain": "     0         1         2         3         4         5         6         7   \\\n0  2001  49.94357  21.47114  73.07750   8.74861 -17.40628 -13.09905 -25.01202   \n1  2001  48.73215  18.42930  70.32679  12.94636 -10.32437 -24.83777   8.76630   \n2  2001  50.95714  31.85602  55.81851  13.41693  -6.57898 -18.54940  -3.27872   \n3  2001  48.24750  -1.89837  36.29772   2.58776   0.97170 -26.21683   5.05097   \n4  2001  50.97020  42.20998  67.09964   8.46791 -15.85279 -16.81409 -12.48207   \n5  2001  50.54767   0.31568  92.35066  22.38696 -25.51870 -19.04928  20.67345   \n\n         8         9   ...        81         82        83        84        85  \\\n0 -12.23257   7.83089  ...  13.01620  -54.40548  58.99367  15.37344   1.11144   \n1  -0.92019  18.76548  ...   5.66812  -19.68073  33.04964  42.87836  -9.90378   \n2  -2.35035  16.07017  ...   3.03800   26.05866 -50.92779  10.93792  -0.07568   \n3 -10.34124   3.55005  ...  34.57337 -171.70734 -16.96705 -46.67617 -12.51516   \n4  -9.37636  12.63699  ...   9.92661  -55.95724  64.92712 -17.72522  -1.49237   \n5  -5.19943   3.63566  ...   6.59753  -50.69577  26.02574  18.94430  -0.33730   \n\n         86         87        88         89        90  \n0 -23.08793   68.40795  -1.82223  -27.46348   2.26327  \n1 -32.22788   70.49388  12.04941   58.43453  26.92061  \n2  43.20130 -115.00698  -0.05859   39.67068  -0.66345  \n3  82.58061  -72.08993   9.90558  199.62971  18.85382  \n4  -7.50035   51.76631   7.88713   55.66926  28.74903  \n5   6.09352   35.18381   5.00283  -11.02257   0.02263  \n\n[6 rows x 91 columns]",
      "text/html": "<div>\n<style scoped>\n    .dataframe tbody tr th:only-of-type {\n        vertical-align: middle;\n    }\n\n    .dataframe tbody tr th {\n        vertical-align: top;\n    }\n\n    .dataframe thead th {\n        text-align: right;\n    }\n</style>\n<table border=\"1\" class=\"dataframe\">\n  <thead>\n    <tr style=\"text-align: right;\">\n      <th></th>\n      <th>0</th>\n      <th>1</th>\n      <th>2</th>\n      <th>3</th>\n      <th>4</th>\n      <th>5</th>\n      <th>6</th>\n      <th>7</th>\n      <th>8</th>\n      <th>9</th>\n      <th>...</th>\n      <th>81</th>\n      <th>82</th>\n      <th>83</th>\n      <th>84</th>\n      <th>85</th>\n      <th>86</th>\n      <th>87</th>\n      <th>88</th>\n      <th>89</th>\n      <th>90</th>\n    </tr>\n  </thead>\n  <tbody>\n    <tr>\n      <th>0</th>\n      <td>2001</td>\n      <td>49.94357</td>\n      <td>21.47114</td>\n      <td>73.07750</td>\n      <td>8.74861</td>\n      <td>-17.40628</td>\n      <td>-13.09905</td>\n      <td>-25.01202</td>\n      <td>-12.23257</td>\n      <td>7.83089</td>\n      <td>...</td>\n      <td>13.01620</td>\n      <td>-54.40548</td>\n      <td>58.99367</td>\n      <td>15.37344</td>\n      <td>1.11144</td>\n      <td>-23.08793</td>\n      <td>68.40795</td>\n      <td>-1.82223</td>\n      <td>-27.46348</td>\n      <td>2.26327</td>\n    </tr>\n    <tr>\n      <th>1</th>\n      <td>2001</td>\n      <td>48.73215</td>\n      <td>18.42930</td>\n      <td>70.32679</td>\n      <td>12.94636</td>\n      <td>-10.32437</td>\n      <td>-24.83777</td>\n      <td>8.76630</td>\n      <td>-0.92019</td>\n      <td>18.76548</td>\n      <td>...</td>\n      <td>5.66812</td>\n      <td>-19.68073</td>\n      <td>33.04964</td>\n      <td>42.87836</td>\n      <td>-9.90378</td>\n      <td>-32.22788</td>\n      <td>70.49388</td>\n      <td>12.04941</td>\n      <td>58.43453</td>\n      <td>26.92061</td>\n    </tr>\n    <tr>\n      <th>2</th>\n      <td>2001</td>\n      <td>50.95714</td>\n      <td>31.85602</td>\n      <td>55.81851</td>\n      <td>13.41693</td>\n      <td>-6.57898</td>\n      <td>-18.54940</td>\n      <td>-3.27872</td>\n      <td>-2.35035</td>\n      <td>16.07017</td>\n      <td>...</td>\n      <td>3.03800</td>\n      <td>26.05866</td>\n      <td>-50.92779</td>\n      <td>10.93792</td>\n      <td>-0.07568</td>\n      <td>43.20130</td>\n      <td>-115.00698</td>\n      <td>-0.05859</td>\n      <td>39.67068</td>\n      <td>-0.66345</td>\n    </tr>\n    <tr>\n      <th>3</th>\n      <td>2001</td>\n      <td>48.24750</td>\n      <td>-1.89837</td>\n      <td>36.29772</td>\n      <td>2.58776</td>\n      <td>0.97170</td>\n      <td>-26.21683</td>\n      <td>5.05097</td>\n      <td>-10.34124</td>\n      <td>3.55005</td>\n      <td>...</td>\n      <td>34.57337</td>\n      <td>-171.70734</td>\n      <td>-16.96705</td>\n      <td>-46.67617</td>\n      <td>-12.51516</td>\n      <td>82.58061</td>\n      <td>-72.08993</td>\n      <td>9.90558</td>\n      <td>199.62971</td>\n      <td>18.85382</td>\n    </tr>\n    <tr>\n      <th>4</th>\n      <td>2001</td>\n      <td>50.97020</td>\n      <td>42.20998</td>\n      <td>67.09964</td>\n      <td>8.46791</td>\n      <td>-15.85279</td>\n      <td>-16.81409</td>\n      <td>-12.48207</td>\n      <td>-9.37636</td>\n      <td>12.63699</td>\n      <td>...</td>\n      <td>9.92661</td>\n      <td>-55.95724</td>\n      <td>64.92712</td>\n      <td>-17.72522</td>\n      <td>-1.49237</td>\n      <td>-7.50035</td>\n      <td>51.76631</td>\n      <td>7.88713</td>\n      <td>55.66926</td>\n      <td>28.74903</td>\n    </tr>\n    <tr>\n      <th>5</th>\n      <td>2001</td>\n      <td>50.54767</td>\n      <td>0.31568</td>\n      <td>92.35066</td>\n      <td>22.38696</td>\n      <td>-25.51870</td>\n      <td>-19.04928</td>\n      <td>20.67345</td>\n      <td>-5.19943</td>\n      <td>3.63566</td>\n      <td>...</td>\n      <td>6.59753</td>\n      <td>-50.69577</td>\n      <td>26.02574</td>\n      <td>18.94430</td>\n      <td>-0.33730</td>\n      <td>6.09352</td>\n      <td>35.18381</td>\n      <td>5.00283</td>\n      <td>-11.02257</td>\n      <td>0.02263</td>\n    </tr>\n  </tbody>\n</table>\n<p>6 rows × 91 columns</p>\n</div>"
     },
     "execution_count": 28,
     "metadata": {},
     "output_type": "execute_result"
    }
   ],
   "source": [
    "df = pd.read_csv('data.txt.zip', header=None)\n",
    "df.head(6)"
   ]
  },
  {
   "attachments": {},
   "cell_type": "markdown",
   "metadata": {
    "id": "N9a-eJUG35C3"
   },
   "source": [
    "Мы вывели кусок данных, чтобы понять, насколько они пригодны для работы без изменений. Здесь ясно, что сомнительно дальше с такими данными работать, потому что как минимум есть отрицательные значения, которые не отмасштабированы, кроме того еще сразу бросается в глаза совсем разная размерность, где-то видим реально большие числа, а где-то 0.075. Ясно, что будем скейлить."
   ]
  },
  {
   "cell_type": "code",
   "execution_count": 29,
   "metadata": {
    "id": "n4wnRJT1778j",
    "ExecuteTime": {
     "end_time": "2024-07-30T15:55:47.058709Z",
     "start_time": "2024-07-30T15:55:46.967916Z"
    }
   },
   "outputs": [],
   "source": [
    "X = df.iloc[:, 1:].values\n",
    "y = df.iloc[:, 0].values\n",
    "\n",
    "train_size = 463715\n",
    "X_train = X[:train_size, :]\n",
    "y_train = y[:train_size]\n",
    "X_test = X[train_size:, :]\n",
    "y_test = y[train_size:]"
   ]
  },
  {
   "attachments": {},
   "cell_type": "markdown",
   "metadata": {
    "id": "_386JE_o5gOd"
   },
   "source": [
    "## Задание 0. (0 баллов, но при невыполнении максимум за все задание &mdash; 0 баллов)\n",
    "\n",
    "Мы будем использовать RMSE как метрику качества. Для самого первого бейзлайна обучите `Ridge` регрессию из `sklearn`. Кроме того, посчитайте качество при наилучшем константном прогнозе.\n",
    "\n",
    "Для выполнения данного задания (и всех последующих) предобработайте данные.\n",
    "\n",
    "1. Зафиксируйте random_seed везде где только возможно. Вам предоставлена функция для этого, однако вы можете дополнить ее своими дополнениями\n",
    "2. Обучите StandertScaler и предобработайте ваши данные. В следующих заданиях можете использовать другой scaler или вообще отказаться от него\n"
   ]
  },
  {
   "cell_type": "code",
   "execution_count": 31,
   "metadata": {
    "id": "1kV-kCVs8Aju",
    "ExecuteTime": {
     "end_time": "2024-07-30T15:55:50.298282Z",
     "start_time": "2024-07-30T15:55:49.773589Z"
    }
   },
   "outputs": [],
   "source": [
    "from sklearn.preprocessing import StandardScaler\n",
    "\n",
    "# Скалирование\n",
    "scaler = StandardScaler()\n",
    "X_train_scaled = scaler.fit_transform(X_train)\n",
    "X_test_scaled = scaler.transform(X_test)"
   ]
  },
  {
   "cell_type": "code",
   "execution_count": 32,
   "metadata": {
    "id": "lkfkXylb8U-O",
    "ExecuteTime": {
     "end_time": "2024-07-30T15:55:50.303224Z",
     "start_time": "2024-07-30T15:55:50.299282Z"
    }
   },
   "outputs": [],
   "source": [
    "def set_random_seed(seed):\n",
    "    os.environ[\"PYTHONHASHSEED\"] = str(seed)\n",
    "    torch.backends.cudnn.deterministic = True\n",
    "    torch.manual_seed(seed)\n",
    "    torch.cuda.manual_seed(seed)\n",
    "    np.random.seed(seed)\n",
    "    random.seed(seed)"
   ]
  },
  {
   "cell_type": "code",
   "execution_count": 33,
   "metadata": {
    "id": "GKVVatBw8cH7",
    "ExecuteTime": {
     "end_time": "2024-07-30T15:55:51.034210Z",
     "start_time": "2024-07-30T15:55:51.025810Z"
    }
   },
   "outputs": [],
   "source": [
    "set_random_seed(42)"
   ]
  },
  {
   "cell_type": "code",
   "execution_count": 34,
   "metadata": {
    "id": "uv7qthu935C4",
    "ExecuteTime": {
     "end_time": "2024-07-30T15:55:52.025893Z",
     "start_time": "2024-07-30T15:55:51.656045Z"
    }
   },
   "outputs": [
    {
     "name": "stdout",
     "output_type": "stream",
     "text": [
      "train_score=9.552822967970322\n",
      "test_score=9.510160820470436\n"
     ]
    }
   ],
   "source": [
    "from sklearn.linear_model import Ridge\n",
    "from sklearn.metrics import root_mean_squared_error\n",
    "\n",
    "# Ridge model\n",
    "# Не стану подбирать гиперпараметр alpha\n",
    "\n",
    "model = Ridge()\n",
    "rmse_for_model = root_mean_squared_error\n",
    "\n",
    "model.fit(X_train_scaled, y_train)\n",
    "train_score = rmse_for_model(y_train, model.predict(X_train_scaled))\n",
    "test_score = rmse_for_model(y_test, model.predict(X_test_scaled))\n",
    "print(f\"{train_score=}\")\n",
    "print(f\"{test_score=}\")"
   ]
  },
  {
   "attachments": {},
   "cell_type": "markdown",
   "metadata": {
    "id": "HJKGuhFi35C4"
   },
   "source": [
    "Лучшая константа для RMSE это среднее, посчитаем значение метрики при нем"
   ]
  },
  {
   "cell_type": "code",
   "execution_count": 35,
   "metadata": {
    "id": "kOcFuy1P35C4",
    "ExecuteTime": {
     "end_time": "2024-07-30T15:55:53.196858Z",
     "start_time": "2024-07-30T15:55:53.187700Z"
    }
   },
   "outputs": [
    {
     "name": "stdout",
     "output_type": "stream",
     "text": [
      "best_rmse_metric_train=10.946566221164124\n",
      "best_rmse_metric_test=10.863228020678134\n"
     ]
    }
   ],
   "source": [
    "# Average constant model test\n",
    "\n",
    "average = np.mean(y_train)\n",
    "\n",
    "best_rmse_metric_train = rmse_for_model(y_train, np.full_like(y_train, average))\n",
    "best_rmse_metric_test = rmse_for_model(y_test, np.full_like(y_test, average))\n",
    "print(f\"{best_rmse_metric_train=}\")\n",
    "print(f\"{best_rmse_metric_test=}\")"
   ]
  },
  {
   "attachments": {},
   "cell_type": "markdown",
   "metadata": {
    "id": "BDHAnIkS8vNY"
   },
   "source": [
    "## Задание 1. (максимум 10 баллов)\n",
    "\n",
    "Закрепите свои знания о том, как pytorch работает с обратным распространением ошибки, проделав следующие шаги:\n",
    "\n",
    "1. Создайте модель линейной регрессии, которая будет состоять только из одного Linear слоя.\n",
    "2. Напишите цикл обучения вашей линейной регрессии. В нем реализуйте подсчет функции потерь, сделайте шаг градиентного спуска. Запрещено использовать готовые оптимизаторы и loss-функции из библиотеки pytorch. Для подсчета градиента воспользуйтесь методом backward.\n",
    "3. Запустите обучение на 10 эпохах, после каждой проверяйте значение целевой метрики на тестовой выборке.\n",
    "4. Выведите на экран графики метрики и значения функции потерь на тестовой и обучающей выборке.\n",
    "\n",
    "В данном задании нет цели побить какой-то порог по метрике. Ваша задача - убедиться в том, что ваш рукописный цикл обучения работает. Для ускорения вычислений и обучения модели можете брать только срез данных, а не весь датасет."
   ]
  },
  {
   "cell_type": "code",
   "execution_count": 51,
   "metadata": {
    "id": "LxnT6G1J-apf",
    "ExecuteTime": {
     "end_time": "2024-07-30T16:23:53.892138Z",
     "start_time": "2024-07-30T16:23:52.074139Z"
    }
   },
   "outputs": [
    {
     "data": {
      "text/plain": "  0%|          | 0/100 [00:00<?, ?it/s]",
      "application/vnd.jupyter.widget-view+json": {
       "version_major": 2,
       "version_minor": 0,
       "model_id": "33932439cacd4e0590358debd8423403"
      }
     },
     "metadata": {},
     "output_type": "display_data"
    },
    {
     "name": "stdout",
     "output_type": "stream",
     "text": [
      "epoch 1, train 1998.34765625, test 1998.3289794921875\n",
      "epoch 2, train 1798.5096435546875, test 1798.6234130859375\n",
      "epoch 3, train 1618.663818359375, test 1618.754638671875\n",
      "epoch 4, train 1456.803466796875, test 1456.883544921875\n",
      "epoch 5, train 1311.1298828125, test 1311.2022705078125\n",
      "epoch 6, train 1180.024658203125, test 1180.0911865234375\n",
      "epoch 7, train 1062.0308837890625, test 1062.0928955078125\n",
      "epoch 8, train 955.83740234375, test 955.8956909179688\n",
      "epoch 9, train 860.2644653320312, test 860.3197631835938\n",
      "epoch 10, train 774.2498779296875, test 774.3026123046875\n",
      "epoch 11, train 696.838134765625, test 696.8886108398438\n",
      "epoch 12, train 627.1688842773438, test 627.2174682617188\n",
      "epoch 13, train 564.4682006835938, test 564.5150756835938\n",
      "epoch 14, train 508.03936767578125, test 508.0845642089844\n",
      "epoch 15, train 457.2553405761719, test 457.29913330078125\n",
      "epoch 16, train 411.5519104003906, test 411.5943603515625\n",
      "epoch 17, train 370.4211730957031, test 370.4623107910156\n",
      "epoch 18, train 333.40618896484375, test 333.4461364746094\n",
      "epoch 19, train 300.0956726074219, test 300.13446044921875\n",
      "epoch 20, train 270.1195068359375, test 270.1571960449219\n",
      "epoch 21, train 243.14453125, test 243.18115234375\n",
      "epoch 22, train 218.87112426757812, test 218.9066925048828\n",
      "epoch 23, train 197.0294952392578, test 197.0640411376953\n",
      "epoch 24, train 177.3769989013672, test 177.41050720214844\n",
      "epoch 25, train 159.69528198242188, test 159.727783203125\n",
      "epoch 26, train 143.78787231445312, test 143.8193817138672\n",
      "epoch 27, train 129.47787475585938, test 129.50840759277344\n",
      "epoch 28, train 116.60649871826172, test 116.63601684570312\n",
      "epoch 29, train 105.03048706054688, test 105.0589828491211\n",
      "epoch 30, train 94.62139129638672, test 94.64884948730469\n",
      "epoch 31, train 85.26338195800781, test 85.28977966308594\n",
      "epoch 32, train 76.85240173339844, test 76.87772369384766\n",
      "epoch 33, train 69.2950668334961, test 69.31926727294922\n",
      "epoch 34, train 62.5071907043457, test 62.530235290527344\n",
      "epoch 35, train 56.41331100463867, test 56.435150146484375\n",
      "epoch 36, train 50.94558334350586, test 50.96615219116211\n",
      "epoch 37, train 46.04304504394531, test 46.062278747558594\n",
      "epoch 38, train 41.6509895324707, test 41.668819427490234\n",
      "epoch 39, train 37.72023391723633, test 37.73657989501953\n",
      "epoch 40, train 34.20661926269531, test 34.22138977050781\n",
      "epoch 41, train 31.070478439331055, test 31.083576202392578\n",
      "epoch 42, train 28.2762393951416, test 28.28756332397461\n",
      "epoch 43, train 25.791683197021484, test 25.801122665405273\n",
      "epoch 44, train 23.58796501159668, test 23.595413208007812\n",
      "epoch 45, train 21.63886260986328, test 21.64421272277832\n",
      "epoch 46, train 19.920578002929688, test 19.92373275756836\n",
      "epoch 47, train 18.41131591796875, test 18.412179946899414\n",
      "epoch 48, train 17.09119415283203, test 17.089696884155273\n",
      "epoch 49, train 15.94174575805664, test 15.937834739685059\n",
      "epoch 50, train 14.945772171020508, test 14.939419746398926\n",
      "epoch 51, train 14.08731460571289, test 14.078522682189941\n",
      "epoch 52, train 13.351295471191406, test 13.34009838104248\n",
      "epoch 53, train 12.723739624023438, test 12.710201263427734\n",
      "epoch 54, train 12.191507339477539, test 12.175719261169434\n",
      "epoch 55, train 11.74254322052002, test 11.724617958068848\n",
      "epoch 56, train 11.3656587600708, test 11.345730781555176\n",
      "epoch 57, train 11.050705909729004, test 11.028921127319336\n",
      "epoch 58, train 10.788628578186035, test 10.765135765075684\n",
      "epoch 59, train 10.571402549743652, test 10.546354293823242\n",
      "epoch 60, train 10.391889572143555, test 10.365434646606445\n",
      "epoch 61, train 10.24396800994873, test 10.216246604919434\n",
      "epoch 62, train 10.122377395629883, test 10.093522071838379\n",
      "epoch 63, train 10.022612571716309, test 9.992746353149414\n",
      "epoch 64, train 9.94089412689209, test 9.910126686096191\n",
      "epoch 65, train 9.874052047729492, test 9.842483520507812\n",
      "epoch 66, train 9.819393157958984, test 9.787113189697266\n",
      "epoch 67, train 9.774731636047363, test 9.741819381713867\n",
      "epoch 68, train 9.738253593444824, test 9.704776763916016\n",
      "epoch 69, train 9.708447456359863, test 9.674468994140625\n",
      "epoch 70, train 9.68409538269043, test 9.64966869354248\n",
      "epoch 71, train 9.664173126220703, test 9.629345893859863\n",
      "epoch 72, train 9.647870063781738, test 9.612683296203613\n",
      "epoch 73, train 9.63451862335205, test 9.599008560180664\n",
      "epoch 74, train 9.623560905456543, test 9.58775806427002\n",
      "epoch 75, train 9.61455249786377, test 9.578485488891602\n",
      "epoch 76, train 9.607133865356445, test 9.57082748413086\n",
      "epoch 77, train 9.601005554199219, test 9.56447982788086\n",
      "epoch 78, train 9.595932960510254, test 9.559206008911133\n",
      "epoch 79, train 9.59171199798584, test 9.554802894592285\n",
      "epoch 80, train 9.588196754455566, test 9.551117897033691\n",
      "epoch 81, train 9.585248947143555, test 9.548013687133789\n",
      "epoch 82, train 9.582762718200684, test 9.545382499694824\n",
      "epoch 83, train 9.580657958984375, test 9.543142318725586\n",
      "epoch 84, train 9.578862190246582, test 9.541221618652344\n",
      "epoch 85, train 9.577322959899902, test 9.539563179016113\n",
      "epoch 86, train 9.575992584228516, test 9.538122177124023\n",
      "epoch 87, train 9.574836730957031, test 9.53686237335205\n",
      "epoch 88, train 9.573822975158691, test 9.535747528076172\n",
      "epoch 89, train 9.572927474975586, test 9.534758567810059\n",
      "epoch 90, train 9.572128295898438, test 9.533869743347168\n",
      "epoch 91, train 9.571413040161133, test 9.533068656921387\n",
      "epoch 92, train 9.57076358795166, test 9.53233814239502\n",
      "epoch 93, train 9.570173263549805, test 9.531667709350586\n",
      "epoch 94, train 9.56963062286377, test 9.531050682067871\n",
      "epoch 95, train 9.56912899017334, test 9.530476570129395\n",
      "epoch 96, train 9.5686616897583, test 9.529939651489258\n",
      "epoch 97, train 9.56822681427002, test 9.529436111450195\n",
      "epoch 98, train 9.567817687988281, test 9.528962135314941\n",
      "epoch 99, train 9.567431449890137, test 9.528512001037598\n",
      "epoch 100, train 9.56706428527832, test 9.528083801269531\n"
     ]
    }
   ],
   "source": [
    "learning_rate = 0.05\n",
    "epoch = 100  # возьму 100, а не 10, чтобы качественно обучить и сравнить с прошлыми заданиями\n",
    "\n",
    "# init\n",
    "w = torch.rand(X_train.shape[1], requires_grad=True)  # weight\n",
    "b = torch.rand(1, requires_grad=True)  # bias\n",
    "\n",
    "X_train_tensor = torch.tensor(X_train_scaled, dtype=torch.float32)  # data\n",
    "y_train_tensor = torch.tensor(y_train, dtype=torch.float32)  # target\n",
    "\n",
    "X_test_tensor = torch.tensor(X_test_scaled, dtype=torch.float32)  # data\n",
    "y_test_tensor = torch.tensor(y_test, dtype=torch.float32)  # target\n",
    "\n",
    "losses_train, losses_test = [], []\n",
    "\n",
    "for e in tqdm(range(epoch)):\n",
    "    # pred\n",
    "    y_pred = torch.matmul(X_train_tensor, w) + b\n",
    "    loss = torch.mean((y_pred - y_train_tensor) ** 2)\n",
    "    loss.backward()\n",
    "\n",
    "    # Validation\n",
    "    with torch.no_grad():\n",
    "        losses_train.append(torch.sqrt(loss).item())  # RMSE\n",
    "        y_pred_test = torch.matmul(X_test_tensor, w) + b\n",
    "        losses_test.append(torch.sqrt(torch.mean((y_pred_test - y_test_tensor) ** 2)).item())  # RMSE\n",
    "\n",
    "        # step\n",
    "        w.data -= learning_rate * w.grad\n",
    "        b.data -= learning_rate * b.grad\n",
    "\n",
    "    # zero grad\n",
    "    w.grad.data.zero_()\n",
    "    b.grad.data.zero_()\n",
    "    \n",
    "    print(f\"epoch {e+1}, train {losses_train[-1]}, test {losses_test[-1]}\")\n",
    "# Результаты почти как в sklearn, не хватило только немного регуляризации"
   ]
  },
  {
   "cell_type": "code",
   "outputs": [
    {
     "data": {
      "text/plain": "<Figure size 640x480 with 1 Axes>",
      "image/png": "[encoded data removed]"
     },
     "metadata": {},
     "output_type": "display_data"
    }
   ],
   "source": [
    "# visualization\n",
    "plt.plot(range(1, len(losses_train) + 1), losses_train, label='Training Loss', marker='o', linestyle='-')\n",
    "plt.plot(range(1, len(losses_test) + 1), losses_test, label='Test Loss', color='red', marker='x', linestyle='--')\n",
    "\n",
    "# labels and title\n",
    "plt.xlabel('Epoch')\n",
    "plt.ylabel('Loss')\n",
    "plt.title('Loss to Epoch')\n",
    "\n",
    "plt.legend()\n",
    "plt.ylim(0, 200)\n",
    "\n",
    "# Displaying the plot\n",
    "plt.show()\n",
    "\n",
    "# Модель хорошо обучилась. \n",
    "# Тестовая валидация видимо накладывается на лосс тренировочной выборки из за похожести данных между собой и большого количества данных"
   ],
   "metadata": {
    "collapsed": false,
    "ExecuteTime": {
     "end_time": "2024-07-30T16:23:55.075216Z",
     "start_time": "2024-07-30T16:23:54.920139Z"
    }
   },
   "execution_count": 52
  },
  {
   "attachments": {},
   "cell_type": "markdown",
   "metadata": {
    "id": "_6ilBKYt6OdD"
   },
   "source": [
    "## Задание 2. (максимум 10 баллов)\n",
    "\n",
    "Реализуйте обучение и тестирование нейронной сети для предоставленного вам набора данных. Соотношение между полученным значением метрики на тестовой выборке и баллами за задание следующее:\n",
    "\n",
    "- $\\text{RMSE} \\le 9.00 $ &mdash; 4 балла\n",
    "- $\\text{RMSE} \\le 8.90 $ &mdash; 6 баллов\n",
    "- $\\text{RMSE} \\le 8.80 $ &mdash; 8 баллов\n",
    "- $\\text{RMSE} \\le 8.75 $ &mdash; 10 баллов\n",
    "\n",
    "Есть несколько правил, которых вам нужно придерживаться:\n",
    "\n",
    "- Весь пайплайн обучения должен быть написан на PyTorch. При этом вы можете пользоваться другими библиотеками (`numpy`, `sklearn` и пр.), но только для обработки данных. То есть как угодно трансформировать данные и считать метрики с помощью этих библиотек можно, а импортировать модели из `sklearn` и выбивать с их помощью требуемое качество &mdash; нельзя. Также нельзя пользоваться библиотеками, для которых сам PyTorch является зависимостью.\n",
    "\n",
    "- Мы никак не ограничиваем ваш выбор архитектуры модели, но скорее всего вам будет достаточно полносвязной нейронной сети.\n",
    "\n",
    "- Для обучения запрещается использовать какие-либо иные данные, кроме обучающей выборки.\n",
    "\n",
    "- Ансамблирование моделей запрещено.\n",
    "\n",
    "### Полезные советы:\n",
    "\n",
    "- Очень вряд ли, что у вас с первого раза получится выбить качество на 10 баллов, поэтому пробуйте разные архитектуры, оптимизаторы и значения гиперпараметров. В идеале при запуске каждого нового эксперимента вы должны менять что-то одно, чтобы точно знать, как этот фактор влияет на качество.\n",
    "\n",
    "- Не забудьте, что для улучшения качества модели вам поможет **нормировка таргета**.\n",
    "\n",
    "- Тот факт, что мы занимаемся глубинным обучением, не означает, что стоит забывать про приемы, использующиеся в классическом машинном обучении. Так что обязательно проводите исследовательский анализ данных, отрисовывайте нужные графики и не забывайте про масштабирование и подбор гиперпараметров.\n",
    "\n",
    "- Вы наверняка столкнетесь с тем, что ваша нейронная сеть будет сильно переобучаться. Для нейросетей существуют специальные методы регуляризации, например, dropout ([статья](https://jmlr.org/papers/volume15/srivastava14a/srivastava14a.pdf)) и weight decay ([блогпост](https://towardsdatascience.com/weight-decay-l2-regularization-90a9e17713cd)). Они, разумеется, реализованы в PyTorch. Попробуйте поэкспериментировать с ними.\n",
    "\n",
    "- Если вы чего-то не знаете, не гнушайтесь гуглить. В интернете очень много полезной информации, туториалов и советов по глубинному обучению в целом и по PyTorch в частности. Но не забывайте, что за скатанный код без ссылки на источник придется ответить по всей строгости!\n",
    "\n",
    "- Если вы сразу реализуете обучение на GPU, то у вас будет больше времени на эксперименты, так как любые вычисления будут работать быстрее. Google Colab предоставляет несколько GPU-часов (обычно около 8-10) в сутки бесплатно.\n",
    "\n",
    "- Чтобы отладить код, можете обучаться на небольшой части данных или даже на одном батче. Если лосс на обучающей выборке не падает, то что-то точно идет не так!\n",
    "\n",
    "- Пользуйтесь утилитами, которые вам предоставляет PyTorch (например, Dataset и Dataloader). Их специально разработали для упрощения разработки пайплайна обучения.\n",
    "\n",
    "- Скорее всего вы захотите отслеживать прогресс обучения. Для создания прогресс-баров есть удобная библиотека `tqdm`.\n",
    "\n",
    "- Быть может, вы захотите, чтобы графики рисовались прямо во время обучения. Можете воспользоваться функцией [clear_output](http://ipython.org/ipython-doc/dev/api/generated/IPython.display.html#IPython.display.clear_output), чтобы удалять старый график и рисовать новый на его месте.\n",
    "\n",
    "**ОБЯЗАТЕЛЬНО** рисуйте графики зависимости лосса/метрики на обучающей и тестовой выборках в зависимости от времени обучения. Если обучение занимает относительно небольшое число эпох, то лучше рисовать зависимость от номера шага обучения, если же эпох больше, то рисуйте зависимость по эпохам. Если проверяющий не увидит такого графика для вашей лучшей модели, то он в праве снизить баллы за задание.\n",
    "\n",
    "**ВАЖНО!** Ваше решение должно быть воспроизводимым. Если это не так, то проверяющий имеет право снизить баллы за задание. Чтобы зафиксировать random seed, воспользуйтесь функцией из предыдущего задания.\n",
    "\n"
   ]
  },
  {
   "attachments": {},
   "cell_type": "markdown",
   "metadata": {
    "id": "TZW0gMe3vT8u"
   },
   "source": [
    "Вы можете придерживаться любой адекватной струкуры кода, но мы советуем воспользоваться сигнатурами функций, которые приведены ниже. Лучше всего, если вы проверите ваши предсказания ассертом: так вы убережете себя от разных косяков, например, что вектор предсказаний состоит из всего одного числа. В любом случае, внимательно следите за тем, для каких тензоров вы считаете метрику RMSE. При случайном или намеренном введении в заблуждение проверяющие очень сильно разозлятся."
   ]
  },
  {
   "cell_type": "code",
   "outputs": [],
   "source": [
    "from sklearn.preprocessing import MinMaxScaler\n",
    "\n",
    "# Скалирование\n",
    "scaler = MinMaxScaler()  # для ReLU лучше использовать MinMaxScaler, чтобы не было нулей\n",
    "X_train_scaled = scaler.fit_transform(X_train)\n",
    "X_test_scaled = scaler.transform(X_test)"
   ],
   "metadata": {
    "collapsed": false,
    "ExecuteTime": {
     "end_time": "2024-07-30T16:27:05.299210Z",
     "start_time": "2024-07-30T16:27:05.064809Z"
    }
   },
   "execution_count": 61
  },
  {
   "cell_type": "code",
   "execution_count": 63,
   "metadata": {
    "ExecuteTime": {
     "end_time": "2024-07-30T16:27:55.441063Z",
     "start_time": "2024-07-30T16:27:55.407378Z"
    }
   },
   "outputs": [],
   "source": [
    "# Create datasets\n",
    "train_dataset = TensorDataset(\n",
    "    torch.tensor(X_train_scaled, dtype=torch.float32),\n",
    "    torch.tensor(y_train, dtype=torch.float32)\n",
    ")\n",
    "\n",
    "test_dataset = TensorDataset(\n",
    "    torch.tensor(X_test_scaled, dtype=torch.float32),\n",
    "    torch.tensor(y_test)\n",
    ")\n",
    "\n",
    "# Create dataloaders\n",
    "train_dataloader = DataLoader(train_dataset, batch_size=256, num_workers=4, persistent_workers=True)\n",
    "test_dataloader = DataLoader(test_dataset, batch_size=256, num_workers=4, persistent_workers=True)"
   ]
  },
  {
   "cell_type": "code",
   "outputs": [],
   "source": [
    "class DefaultNet(torch.nn.Module):\n",
    "    def __init__(self):\n",
    "        super().__init__()\n",
    "        self.loss_func = torch.nn.MSELoss()\n",
    "        self.targets = torch.Tensor()\n",
    "        self.preds = torch.Tensor()\n",
    "        self.rmse = torch.Tensor()\n",
    "\n",
    "    def _forward(self, x: torch.tensor) -> torch.tensor:\n",
    "        pass\n",
    "\n",
    "    def forward(self, x: torch.tensor, target=None) -> torch.tensor:\n",
    "        output = self._forward(x)\n",
    "\n",
    "        # get accuracy score and save it to self.accuracy\n",
    "        if target is not None:\n",
    "            loss = self.loss_func(output, target)\n",
    "\n",
    "            if target.dim() == 1:\n",
    "                target = target.unsqueeze(1)\n",
    "\n",
    "            self.targets = torch.cat((self.targets, target.cpu()), 0)\n",
    "            self.preds = torch.cat((self.preds, output.cpu()), 0)\n",
    "            self.rmse = torch.sqrt(self.loss_func(self.preds, self.targets))\n",
    "\n",
    "        return loss if target is not None else output\n",
    "\n",
    "    def get_accuracy(self, reset=False):\n",
    "        # return accuracy by all values till now\n",
    "        if reset:\n",
    "            self.targets = torch.Tensor()\n",
    "            self.preds = torch.Tensor()\n",
    "        return self.get_accuracy"
   ],
   "metadata": {
    "collapsed": false,
    "ExecuteTime": {
     "end_time": "2024-07-30T16:31:22.164474Z",
     "start_time": "2024-07-30T16:31:22.157709Z"
    }
   },
   "execution_count": 66
  },
  {
   "cell_type": "code",
   "outputs": [],
   "source": [
    "def get_parameters_amount(model: torch.nn.Module):\n",
    "    return sum(p.numel() for p in model.parameters())"
   ],
   "metadata": {
    "collapsed": false,
    "ExecuteTime": {
     "end_time": "2024-07-30T16:31:22.417197Z",
     "start_time": "2024-07-30T16:31:22.413385Z"
    }
   },
   "execution_count": 67
  },
  {
   "cell_type": "markdown",
   "source": [
    "Создам функции для обучения модели\n",
    "Не уверен что можно использовать PyTorch Lightning, поэтому напишу первый вариант на стандартном pytorch \n",
    "а следующие эксперименты буду уже проводить с PyTorch Lightning для удобства и практики.\n",
    "Возьму за пример обучение на стандартном pytorch без lightning'а из тритьего семинара"
   ],
   "metadata": {
    "collapsed": false
   }
  },
  {
   "cell_type": "code",
   "outputs": [],
   "source": [
    "def plot_history(train_history, val_history, title=\"loss\"):\n",
    "    plt.figure(figsize=(10, 5))\n",
    "\n",
    "    steps = np.linspace(0, len(train_history) - 1, len(val_history)).astype(int)\n",
    "\n",
    "    plt.plot(train_history, label='Train')\n",
    "    plt.scatter(steps, val_history, marker=\"+\", s=180, c=\"orange\", label=\"Val\", zorder=2)\n",
    "    plt.xlabel(\"Training steps\")\n",
    "    plt.ylabel(title)\n",
    "    plt.legend(loc=\"best\")\n",
    "    plt.title(f\"Training and Validation {title}\")\n",
    "    plt.show()"
   ],
   "metadata": {
    "collapsed": false,
    "ExecuteTime": {
     "end_time": "2024-07-30T16:31:23.185007Z",
     "start_time": "2024-07-30T16:31:23.180208Z"
    }
   },
   "execution_count": 68
  },
  {
   "cell_type": "code",
   "outputs": [],
   "source": [
    "\n",
    "def train(model, n_epochs, optimizer, criterion, train_loader, test_loader, device=device):\n",
    "    \"\"\"\n",
    "    fit\n",
    "    params:\n",
    "        model - torch.nn.Module to be fitted\n",
    "        optimizer - model optimizer\n",
    "        criterion - loss function from torch.nn\n",
    "        train_loader - torch.utils.data.Dataloader with train set\n",
    "        test_loader - torch.utils.data.Dataloader with test set\n",
    "                      (if you wish to validate during training)\n",
    "    \"\"\"\n",
    "    train_loss_log, val_loss_log = [], []\n",
    "\n",
    "    for epoch in range(n_epochs):\n",
    "        # тренировка\n",
    "        train_epoch_loss = 0.0\n",
    "        num_batches = 0\n",
    "        model.train()\n",
    "        for x, target in tqdm(\n",
    "                train_loader, desc=f\"Training, epoch {epoch}\", leave=False\n",
    "        ):\n",
    "            x, target = x.to(device), target.to(device)\n",
    "\n",
    "            \n",
    "\n",
    "            y_pred = model(x).squeeze()\n",
    "            loss = criterion(y_pred, target)\n",
    "            loss.backward()\n",
    "            optimizer.step()\n",
    "            optimizer.zero_grad()\n",
    "\n",
    "            train_epoch_loss += loss.item()\n",
    "            num_batches += 1\n",
    "        train_epoch_loss /= num_batches\n",
    "        # Адекватные значения по\n",
    "        train_epoch_loss = math.sqrt(math.sqrt(train_epoch_loss))\n",
    "        train_loss_log.append(train_epoch_loss)\n",
    "\n",
    "        # валидация\n",
    "\n",
    "        model.eval()\n",
    "        with torch.no_grad():\n",
    "            val_epoch_loss = 0\n",
    "            num_batches = 0\n",
    "            for x, target in tqdm(\n",
    "                    test_loader, desc=f\"Validating, epoch {epoch}\", leave=False\n",
    "            ):\n",
    "                x, target = x.to(device), target.to(device)\n",
    "\n",
    "                y_pred = model(x).squeeze()\n",
    "                loss = criterion(y_pred, target)\n",
    "                val_epoch_loss += loss.item()\n",
    "                num_batches += 1\n",
    "\n",
    "            val_epoch_loss /= num_batches\n",
    "            val_epoch_loss = math.sqrt(math.sqrt(val_epoch_loss))\n",
    "            val_loss_log.append(val_epoch_loss)\n",
    "\n",
    "        clear_output(wait=True)\n",
    "        plot_history(train_loss_log, val_loss_log, \"loss\")\n",
    "\n",
    "        print(\"Train loss:\", train_epoch_loss)\n",
    "        print(\"Val loss:\", val_epoch_loss)\n",
    "\n",
    "\n",
    "def test(model, criterion, test_loader) -> torch.Tensor:\n",
    "    \"\"\"\n",
    "    inference\n",
    "    params:\n",
    "        model - torch.nn.Module to be evaluated on test set\n",
    "        criterion - loss function from torch.nn\n",
    "        test_loader - torch.utils.data.Dataloader with test set\n",
    "    ----------\n",
    "    returns:\n",
    "        predicts - torch.tensor with shape (len(test_loader.dataset), ),\n",
    "                   which contains predictions for test objects\n",
    "    \"\"\"\n",
    "    model.eval()\n",
    "    predicts = []\n",
    "\n",
    "    with torch.no_grad():\n",
    "        for inputs, _ in test_loader:\n",
    "            outputs = model(inputs)\n",
    "            predicts.append(outputs)\n",
    "\n",
    "    predicts = torch.cat(predicts, dim=0)\n",
    "\n",
    "    return predicts\n"
   ],
   "metadata": {
    "collapsed": false,
    "ExecuteTime": {
     "end_time": "2024-07-30T16:31:23.391571Z",
     "start_time": "2024-07-30T16:31:23.381059Z"
    }
   },
   "execution_count": 69
  },
  {
   "cell_type": "markdown",
   "source": [
    "Тестирование первой модели с двумя скрытыми слоями 128 и 64\n",
    "Также в моделе используется relu для нелинейности, Dropout для регуляризации и batch norm для более плавного обучения"
   ],
   "metadata": {
    "collapsed": false
   }
  },
  {
   "cell_type": "code",
   "outputs": [],
   "source": [
    "class Net1(DefaultNet):\n",
    "    def __init__(self):\n",
    "        super().__init__()\n",
    "        self.relu = torch.nn.ReLU()\n",
    "        self.dropout = torch.nn.Dropout(p=0.5)\n",
    "\n",
    "        self.linear1 = torch.nn.Linear(in_features=90, out_features=128)\n",
    "        self.batch_norm1 = torch.nn.BatchNorm1d(128)\n",
    "        self.linear2 = torch.nn.Linear(in_features=128, out_features=64)\n",
    "        self.batch_norm2 = torch.nn.BatchNorm1d(64)\n",
    "        self.output = torch.nn.Linear(in_features=64, out_features=1)\n",
    "\n",
    "    def _forward(self, x):\n",
    "        x = self.linear1(x)\n",
    "        x = self.batch_norm1(x)\n",
    "        x = self.relu(x)\n",
    "        x = self.dropout(x)\n",
    "        x = self.linear2(x)\n",
    "        x = self.batch_norm2(x)\n",
    "        x = self.relu(x)\n",
    "        x = self.dropout(x)\n",
    "        return self.output(x)"
   ],
   "metadata": {
    "collapsed": false,
    "ExecuteTime": {
     "end_time": "2024-07-30T16:31:23.747593Z",
     "start_time": "2024-07-30T16:31:23.740487Z"
    }
   },
   "execution_count": 70
  },
  {
   "cell_type": "code",
   "outputs": [],
   "source": [
    "model1 = Net1().to(device)"
   ],
   "metadata": {
    "collapsed": false,
    "ExecuteTime": {
     "end_time": "2024-07-30T16:31:24.349210Z",
     "start_time": "2024-07-30T16:31:24.036546Z"
    }
   },
   "execution_count": 71
  },
  {
   "cell_type": "code",
   "outputs": [],
   "source": [
    "EPOCHS = 10\n",
    "LR = 0.001"
   ],
   "metadata": {
    "collapsed": false,
    "ExecuteTime": {
     "end_time": "2024-07-30T16:31:24.442603Z",
     "start_time": "2024-07-30T16:31:24.438588Z"
    }
   },
   "execution_count": 72
  },
  {
   "cell_type": "code",
   "outputs": [
    {
     "data": {
      "text/plain": "20353"
     },
     "execution_count": 73,
     "metadata": {},
     "output_type": "execute_result"
    }
   ],
   "source": [
    "# Количество параметров первой модели\n",
    "get_parameters_amount(model1)  # малюсенькая модель на 20к парметров"
   ],
   "metadata": {
    "collapsed": false,
    "ExecuteTime": {
     "end_time": "2024-07-30T16:31:24.705588Z",
     "start_time": "2024-07-30T16:31:24.701021Z"
    }
   },
   "execution_count": 73
  },
  {
   "cell_type": "code",
   "outputs": [],
   "source": [
    "optimizer = torch.optim.Adam(model1.parameters(), lr=LR)  # Adam добавляет инерцию и масштабирование градиента\n",
    "criterion = torch.nn.MSELoss()  # RMSE, чтобы можно было сравнить с предыдущими заданиями (а, ну и по заданию rmse)"
   ],
   "metadata": {
    "collapsed": false,
    "ExecuteTime": {
     "end_time": "2024-07-30T16:31:26.318939Z",
     "start_time": "2024-07-30T16:31:24.981395Z"
    }
   },
   "execution_count": 74
  },
  {
   "cell_type": "code",
   "outputs": [
    {
     "data": {
      "text/plain": "<Figure size 1000x500 with 1 Axes>",
      "image/png": "[encoded data removed]"
     },
     "metadata": {},
     "output_type": "display_data"
    },
    {
     "name": "stdout",
     "output_type": "stream",
     "text": [
      "Train loss: 16.117847926423174\n",
      "Val loss: 10.640571794762785\n"
     ]
    }
   ],
   "source": [
    "# на трейне значения выше из-за dropout. На тесте от отключается\n",
    "train(model1, EPOCHS, optimizer, criterion, train_dataloader, test_dataloader)"
   ],
   "metadata": {
    "collapsed": false
   },
   "execution_count": 75
  },
  {
   "cell_type": "code",
   "outputs": [
    {
     "ename": "RuntimeError",
     "evalue": "Expected all tensors to be on the same device, but found at least two devices, cuda:0 and cpu! (when checking argument for argument mat1 in method wrapper_CUDA_addmm)",
     "output_type": "error",
     "traceback": [
      "\u001B[1;31m---------------------------------------------------------------------------\u001B[0m",
      "\u001B[1;31mRuntimeError\u001B[0m                              Traceback (most recent call last)",
      "Cell \u001B[1;32mIn[37], line 1\u001B[0m\n\u001B[1;32m----> 1\u001B[0m \u001B[38;5;28;01massert\u001B[39;00m test(model1, criterion, test_dataloader)[\u001B[38;5;241m0\u001B[39m]\u001B[38;5;241m.\u001B[39mshape[\u001B[38;5;241m0\u001B[39m] \u001B[38;5;241m==\u001B[39m y_test\u001B[38;5;241m.\u001B[39mshape[\u001B[38;5;241m0\u001B[39m]\n",
      "Cell \u001B[1;32mIn[36], line 82\u001B[0m, in \u001B[0;36mtest\u001B[1;34m(model, criterion, test_loader)\u001B[0m\n\u001B[0;32m     80\u001B[0m \u001B[38;5;28;01mwith\u001B[39;00m torch\u001B[38;5;241m.\u001B[39mno_grad():\n\u001B[0;32m     81\u001B[0m     \u001B[38;5;28;01mfor\u001B[39;00m inputs, _ \u001B[38;5;129;01min\u001B[39;00m test_loader:\n\u001B[1;32m---> 82\u001B[0m         outputs \u001B[38;5;241m=\u001B[39m model(inputs)\n\u001B[0;32m     83\u001B[0m         predicts\u001B[38;5;241m.\u001B[39mappend(outputs)\n\u001B[0;32m     85\u001B[0m predicts \u001B[38;5;241m=\u001B[39m torch\u001B[38;5;241m.\u001B[39mcat(predicts, dim\u001B[38;5;241m=\u001B[39m\u001B[38;5;241m0\u001B[39m)\n",
      "File \u001B[1;32mC:\\Programs\\anaconda\\envs\\dl\\Lib\\site-packages\\torch\\nn\\modules\\module.py:1553\u001B[0m, in \u001B[0;36mModule._wrapped_call_impl\u001B[1;34m(self, *args, **kwargs)\u001B[0m\n\u001B[0;32m   1551\u001B[0m     \u001B[38;5;28;01mreturn\u001B[39;00m \u001B[38;5;28mself\u001B[39m\u001B[38;5;241m.\u001B[39m_compiled_call_impl(\u001B[38;5;241m*\u001B[39margs, \u001B[38;5;241m*\u001B[39m\u001B[38;5;241m*\u001B[39mkwargs)  \u001B[38;5;66;03m# type: ignore[misc]\u001B[39;00m\n\u001B[0;32m   1552\u001B[0m \u001B[38;5;28;01melse\u001B[39;00m:\n\u001B[1;32m-> 1553\u001B[0m     \u001B[38;5;28;01mreturn\u001B[39;00m \u001B[38;5;28mself\u001B[39m\u001B[38;5;241m.\u001B[39m_call_impl(\u001B[38;5;241m*\u001B[39margs, \u001B[38;5;241m*\u001B[39m\u001B[38;5;241m*\u001B[39mkwargs)\n",
      "File \u001B[1;32mC:\\Programs\\anaconda\\envs\\dl\\Lib\\site-packages\\torch\\nn\\modules\\module.py:1562\u001B[0m, in \u001B[0;36mModule._call_impl\u001B[1;34m(self, *args, **kwargs)\u001B[0m\n\u001B[0;32m   1557\u001B[0m \u001B[38;5;66;03m# If we don't have any hooks, we want to skip the rest of the logic in\u001B[39;00m\n\u001B[0;32m   1558\u001B[0m \u001B[38;5;66;03m# this function, and just call forward.\u001B[39;00m\n\u001B[0;32m   1559\u001B[0m \u001B[38;5;28;01mif\u001B[39;00m \u001B[38;5;129;01mnot\u001B[39;00m (\u001B[38;5;28mself\u001B[39m\u001B[38;5;241m.\u001B[39m_backward_hooks \u001B[38;5;129;01mor\u001B[39;00m \u001B[38;5;28mself\u001B[39m\u001B[38;5;241m.\u001B[39m_backward_pre_hooks \u001B[38;5;129;01mor\u001B[39;00m \u001B[38;5;28mself\u001B[39m\u001B[38;5;241m.\u001B[39m_forward_hooks \u001B[38;5;129;01mor\u001B[39;00m \u001B[38;5;28mself\u001B[39m\u001B[38;5;241m.\u001B[39m_forward_pre_hooks\n\u001B[0;32m   1560\u001B[0m         \u001B[38;5;129;01mor\u001B[39;00m _global_backward_pre_hooks \u001B[38;5;129;01mor\u001B[39;00m _global_backward_hooks\n\u001B[0;32m   1561\u001B[0m         \u001B[38;5;129;01mor\u001B[39;00m _global_forward_hooks \u001B[38;5;129;01mor\u001B[39;00m _global_forward_pre_hooks):\n\u001B[1;32m-> 1562\u001B[0m     \u001B[38;5;28;01mreturn\u001B[39;00m forward_call(\u001B[38;5;241m*\u001B[39margs, \u001B[38;5;241m*\u001B[39m\u001B[38;5;241m*\u001B[39mkwargs)\n\u001B[0;32m   1564\u001B[0m \u001B[38;5;28;01mtry\u001B[39;00m:\n\u001B[0;32m   1565\u001B[0m     result \u001B[38;5;241m=\u001B[39m \u001B[38;5;28;01mNone\u001B[39;00m\n",
      "Cell \u001B[1;32mIn[14], line 13\u001B[0m, in \u001B[0;36mDefaultNet.forward\u001B[1;34m(self, x, target)\u001B[0m\n\u001B[0;32m     12\u001B[0m \u001B[38;5;28;01mdef\u001B[39;00m \u001B[38;5;21mforward\u001B[39m(\u001B[38;5;28mself\u001B[39m, x: torch\u001B[38;5;241m.\u001B[39mtensor, target\u001B[38;5;241m=\u001B[39m\u001B[38;5;28;01mNone\u001B[39;00m) \u001B[38;5;241m-\u001B[39m\u001B[38;5;241m>\u001B[39m torch\u001B[38;5;241m.\u001B[39mtensor:\n\u001B[1;32m---> 13\u001B[0m     output \u001B[38;5;241m=\u001B[39m \u001B[38;5;28mself\u001B[39m\u001B[38;5;241m.\u001B[39m_forward(x)\n\u001B[0;32m     15\u001B[0m     \u001B[38;5;66;03m# get accuracy score and save it to self.accuracy\u001B[39;00m\n\u001B[0;32m     16\u001B[0m     \u001B[38;5;28;01mif\u001B[39;00m target \u001B[38;5;129;01mis\u001B[39;00m \u001B[38;5;129;01mnot\u001B[39;00m \u001B[38;5;28;01mNone\u001B[39;00m:\n",
      "Cell \u001B[1;32mIn[26], line 14\u001B[0m, in \u001B[0;36mNet1._forward\u001B[1;34m(self, x)\u001B[0m\n\u001B[0;32m     13\u001B[0m \u001B[38;5;28;01mdef\u001B[39;00m \u001B[38;5;21m_forward\u001B[39m(\u001B[38;5;28mself\u001B[39m, x):\n\u001B[1;32m---> 14\u001B[0m     x \u001B[38;5;241m=\u001B[39m \u001B[38;5;28mself\u001B[39m\u001B[38;5;241m.\u001B[39mlinear1(x)\n\u001B[0;32m     15\u001B[0m     x \u001B[38;5;241m=\u001B[39m \u001B[38;5;28mself\u001B[39m\u001B[38;5;241m.\u001B[39mbatch_norm1(x)\n\u001B[0;32m     16\u001B[0m     x \u001B[38;5;241m=\u001B[39m \u001B[38;5;28mself\u001B[39m\u001B[38;5;241m.\u001B[39mrelu(x)\n",
      "File \u001B[1;32mC:\\Programs\\anaconda\\envs\\dl\\Lib\\site-packages\\torch\\nn\\modules\\module.py:1553\u001B[0m, in \u001B[0;36mModule._wrapped_call_impl\u001B[1;34m(self, *args, **kwargs)\u001B[0m\n\u001B[0;32m   1551\u001B[0m     \u001B[38;5;28;01mreturn\u001B[39;00m \u001B[38;5;28mself\u001B[39m\u001B[38;5;241m.\u001B[39m_compiled_call_impl(\u001B[38;5;241m*\u001B[39margs, \u001B[38;5;241m*\u001B[39m\u001B[38;5;241m*\u001B[39mkwargs)  \u001B[38;5;66;03m# type: ignore[misc]\u001B[39;00m\n\u001B[0;32m   1552\u001B[0m \u001B[38;5;28;01melse\u001B[39;00m:\n\u001B[1;32m-> 1553\u001B[0m     \u001B[38;5;28;01mreturn\u001B[39;00m \u001B[38;5;28mself\u001B[39m\u001B[38;5;241m.\u001B[39m_call_impl(\u001B[38;5;241m*\u001B[39margs, \u001B[38;5;241m*\u001B[39m\u001B[38;5;241m*\u001B[39mkwargs)\n",
      "File \u001B[1;32mC:\\Programs\\anaconda\\envs\\dl\\Lib\\site-packages\\torch\\nn\\modules\\module.py:1562\u001B[0m, in \u001B[0;36mModule._call_impl\u001B[1;34m(self, *args, **kwargs)\u001B[0m\n\u001B[0;32m   1557\u001B[0m \u001B[38;5;66;03m# If we don't have any hooks, we want to skip the rest of the logic in\u001B[39;00m\n\u001B[0;32m   1558\u001B[0m \u001B[38;5;66;03m# this function, and just call forward.\u001B[39;00m\n\u001B[0;32m   1559\u001B[0m \u001B[38;5;28;01mif\u001B[39;00m \u001B[38;5;129;01mnot\u001B[39;00m (\u001B[38;5;28mself\u001B[39m\u001B[38;5;241m.\u001B[39m_backward_hooks \u001B[38;5;129;01mor\u001B[39;00m \u001B[38;5;28mself\u001B[39m\u001B[38;5;241m.\u001B[39m_backward_pre_hooks \u001B[38;5;129;01mor\u001B[39;00m \u001B[38;5;28mself\u001B[39m\u001B[38;5;241m.\u001B[39m_forward_hooks \u001B[38;5;129;01mor\u001B[39;00m \u001B[38;5;28mself\u001B[39m\u001B[38;5;241m.\u001B[39m_forward_pre_hooks\n\u001B[0;32m   1560\u001B[0m         \u001B[38;5;129;01mor\u001B[39;00m _global_backward_pre_hooks \u001B[38;5;129;01mor\u001B[39;00m _global_backward_hooks\n\u001B[0;32m   1561\u001B[0m         \u001B[38;5;129;01mor\u001B[39;00m _global_forward_hooks \u001B[38;5;129;01mor\u001B[39;00m _global_forward_pre_hooks):\n\u001B[1;32m-> 1562\u001B[0m     \u001B[38;5;28;01mreturn\u001B[39;00m forward_call(\u001B[38;5;241m*\u001B[39margs, \u001B[38;5;241m*\u001B[39m\u001B[38;5;241m*\u001B[39mkwargs)\n\u001B[0;32m   1564\u001B[0m \u001B[38;5;28;01mtry\u001B[39;00m:\n\u001B[0;32m   1565\u001B[0m     result \u001B[38;5;241m=\u001B[39m \u001B[38;5;28;01mNone\u001B[39;00m\n",
      "File \u001B[1;32mC:\\Programs\\anaconda\\envs\\dl\\Lib\\site-packages\\torch\\nn\\modules\\linear.py:117\u001B[0m, in \u001B[0;36mLinear.forward\u001B[1;34m(self, input)\u001B[0m\n\u001B[0;32m    116\u001B[0m \u001B[38;5;28;01mdef\u001B[39;00m \u001B[38;5;21mforward\u001B[39m(\u001B[38;5;28mself\u001B[39m, \u001B[38;5;28minput\u001B[39m: Tensor) \u001B[38;5;241m-\u001B[39m\u001B[38;5;241m>\u001B[39m Tensor:\n\u001B[1;32m--> 117\u001B[0m     \u001B[38;5;28;01mreturn\u001B[39;00m F\u001B[38;5;241m.\u001B[39mlinear(\u001B[38;5;28minput\u001B[39m, \u001B[38;5;28mself\u001B[39m\u001B[38;5;241m.\u001B[39mweight, \u001B[38;5;28mself\u001B[39m\u001B[38;5;241m.\u001B[39mbias)\n",
      "\u001B[1;31mRuntimeError\u001B[0m: Expected all tensors to be on the same device, but found at least two devices, cuda:0 and cpu! (when checking argument for argument mat1 in method wrapper_CUDA_addmm)"
     ]
    }
   ],
   "source": [
    "assert test(model1, criterion, test_dataloader)[0].shape[0] == y_test.shape[0]"
   ],
   "metadata": {
    "collapsed": false,
    "ExecuteTime": {
     "end_time": "2024-07-30T10:41:54.221730Z",
     "start_time": "2024-07-30T10:41:53.737705Z"
    }
   },
   "execution_count": 37
  },
  {
   "cell_type": "code",
   "outputs": [
    {
     "ename": "RuntimeError",
     "evalue": "Expected all tensors to be on the same device, but found at least two devices, cuda:0 and cpu! (when checking argument for argument mat1 in method wrapper_CUDA_addmm)",
     "output_type": "error",
     "traceback": [
      "\u001B[1;31m---------------------------------------------------------------------------\u001B[0m",
      "\u001B[1;31mRuntimeError\u001B[0m                              Traceback (most recent call last)",
      "Cell \u001B[1;32mIn[39], line 1\u001B[0m\n\u001B[1;32m----> 1\u001B[0m pred \u001B[38;5;241m=\u001B[39m test(model1, criterion, test_dataloader)\n\u001B[0;32m      2\u001B[0m \u001B[38;5;28mprint\u001B[39m(\u001B[38;5;124mf\u001B[39m\u001B[38;5;124m\"\u001B[39m\u001B[38;5;132;01m{\u001B[39;00mpred\u001B[38;5;132;01m=}\u001B[39;00m\u001B[38;5;124m\"\u001B[39m)\n",
      "Cell \u001B[1;32mIn[36], line 82\u001B[0m, in \u001B[0;36mtest\u001B[1;34m(model, criterion, test_loader)\u001B[0m\n\u001B[0;32m     80\u001B[0m \u001B[38;5;28;01mwith\u001B[39;00m torch\u001B[38;5;241m.\u001B[39mno_grad():\n\u001B[0;32m     81\u001B[0m     \u001B[38;5;28;01mfor\u001B[39;00m inputs, _ \u001B[38;5;129;01min\u001B[39;00m test_loader:\n\u001B[1;32m---> 82\u001B[0m         outputs \u001B[38;5;241m=\u001B[39m model(inputs)\n\u001B[0;32m     83\u001B[0m         predicts\u001B[38;5;241m.\u001B[39mappend(outputs)\n\u001B[0;32m     85\u001B[0m predicts \u001B[38;5;241m=\u001B[39m torch\u001B[38;5;241m.\u001B[39mcat(predicts, dim\u001B[38;5;241m=\u001B[39m\u001B[38;5;241m0\u001B[39m)\n",
      "File \u001B[1;32mC:\\Programs\\anaconda\\envs\\dl\\Lib\\site-packages\\torch\\nn\\modules\\module.py:1553\u001B[0m, in \u001B[0;36mModule._wrapped_call_impl\u001B[1;34m(self, *args, **kwargs)\u001B[0m\n\u001B[0;32m   1551\u001B[0m     \u001B[38;5;28;01mreturn\u001B[39;00m \u001B[38;5;28mself\u001B[39m\u001B[38;5;241m.\u001B[39m_compiled_call_impl(\u001B[38;5;241m*\u001B[39margs, \u001B[38;5;241m*\u001B[39m\u001B[38;5;241m*\u001B[39mkwargs)  \u001B[38;5;66;03m# type: ignore[misc]\u001B[39;00m\n\u001B[0;32m   1552\u001B[0m \u001B[38;5;28;01melse\u001B[39;00m:\n\u001B[1;32m-> 1553\u001B[0m     \u001B[38;5;28;01mreturn\u001B[39;00m \u001B[38;5;28mself\u001B[39m\u001B[38;5;241m.\u001B[39m_call_impl(\u001B[38;5;241m*\u001B[39margs, \u001B[38;5;241m*\u001B[39m\u001B[38;5;241m*\u001B[39mkwargs)\n",
      "File \u001B[1;32mC:\\Programs\\anaconda\\envs\\dl\\Lib\\site-packages\\torch\\nn\\modules\\module.py:1562\u001B[0m, in \u001B[0;36mModule._call_impl\u001B[1;34m(self, *args, **kwargs)\u001B[0m\n\u001B[0;32m   1557\u001B[0m \u001B[38;5;66;03m# If we don't have any hooks, we want to skip the rest of the logic in\u001B[39;00m\n\u001B[0;32m   1558\u001B[0m \u001B[38;5;66;03m# this function, and just call forward.\u001B[39;00m\n\u001B[0;32m   1559\u001B[0m \u001B[38;5;28;01mif\u001B[39;00m \u001B[38;5;129;01mnot\u001B[39;00m (\u001B[38;5;28mself\u001B[39m\u001B[38;5;241m.\u001B[39m_backward_hooks \u001B[38;5;129;01mor\u001B[39;00m \u001B[38;5;28mself\u001B[39m\u001B[38;5;241m.\u001B[39m_backward_pre_hooks \u001B[38;5;129;01mor\u001B[39;00m \u001B[38;5;28mself\u001B[39m\u001B[38;5;241m.\u001B[39m_forward_hooks \u001B[38;5;129;01mor\u001B[39;00m \u001B[38;5;28mself\u001B[39m\u001B[38;5;241m.\u001B[39m_forward_pre_hooks\n\u001B[0;32m   1560\u001B[0m         \u001B[38;5;129;01mor\u001B[39;00m _global_backward_pre_hooks \u001B[38;5;129;01mor\u001B[39;00m _global_backward_hooks\n\u001B[0;32m   1561\u001B[0m         \u001B[38;5;129;01mor\u001B[39;00m _global_forward_hooks \u001B[38;5;129;01mor\u001B[39;00m _global_forward_pre_hooks):\n\u001B[1;32m-> 1562\u001B[0m     \u001B[38;5;28;01mreturn\u001B[39;00m forward_call(\u001B[38;5;241m*\u001B[39margs, \u001B[38;5;241m*\u001B[39m\u001B[38;5;241m*\u001B[39mkwargs)\n\u001B[0;32m   1564\u001B[0m \u001B[38;5;28;01mtry\u001B[39;00m:\n\u001B[0;32m   1565\u001B[0m     result \u001B[38;5;241m=\u001B[39m \u001B[38;5;28;01mNone\u001B[39;00m\n",
      "Cell \u001B[1;32mIn[14], line 13\u001B[0m, in \u001B[0;36mDefaultNet.forward\u001B[1;34m(self, x, target)\u001B[0m\n\u001B[0;32m     12\u001B[0m \u001B[38;5;28;01mdef\u001B[39;00m \u001B[38;5;21mforward\u001B[39m(\u001B[38;5;28mself\u001B[39m, x: torch\u001B[38;5;241m.\u001B[39mtensor, target\u001B[38;5;241m=\u001B[39m\u001B[38;5;28;01mNone\u001B[39;00m) \u001B[38;5;241m-\u001B[39m\u001B[38;5;241m>\u001B[39m torch\u001B[38;5;241m.\u001B[39mtensor:\n\u001B[1;32m---> 13\u001B[0m     output \u001B[38;5;241m=\u001B[39m \u001B[38;5;28mself\u001B[39m\u001B[38;5;241m.\u001B[39m_forward(x)\n\u001B[0;32m     15\u001B[0m     \u001B[38;5;66;03m# get accuracy score and save it to self.accuracy\u001B[39;00m\n\u001B[0;32m     16\u001B[0m     \u001B[38;5;28;01mif\u001B[39;00m target \u001B[38;5;129;01mis\u001B[39;00m \u001B[38;5;129;01mnot\u001B[39;00m \u001B[38;5;28;01mNone\u001B[39;00m:\n",
      "Cell \u001B[1;32mIn[26], line 14\u001B[0m, in \u001B[0;36mNet1._forward\u001B[1;34m(self, x)\u001B[0m\n\u001B[0;32m     13\u001B[0m \u001B[38;5;28;01mdef\u001B[39;00m \u001B[38;5;21m_forward\u001B[39m(\u001B[38;5;28mself\u001B[39m, x):\n\u001B[1;32m---> 14\u001B[0m     x \u001B[38;5;241m=\u001B[39m \u001B[38;5;28mself\u001B[39m\u001B[38;5;241m.\u001B[39mlinear1(x)\n\u001B[0;32m     15\u001B[0m     x \u001B[38;5;241m=\u001B[39m \u001B[38;5;28mself\u001B[39m\u001B[38;5;241m.\u001B[39mbatch_norm1(x)\n\u001B[0;32m     16\u001B[0m     x \u001B[38;5;241m=\u001B[39m \u001B[38;5;28mself\u001B[39m\u001B[38;5;241m.\u001B[39mrelu(x)\n",
      "File \u001B[1;32mC:\\Programs\\anaconda\\envs\\dl\\Lib\\site-packages\\torch\\nn\\modules\\module.py:1553\u001B[0m, in \u001B[0;36mModule._wrapped_call_impl\u001B[1;34m(self, *args, **kwargs)\u001B[0m\n\u001B[0;32m   1551\u001B[0m     \u001B[38;5;28;01mreturn\u001B[39;00m \u001B[38;5;28mself\u001B[39m\u001B[38;5;241m.\u001B[39m_compiled_call_impl(\u001B[38;5;241m*\u001B[39margs, \u001B[38;5;241m*\u001B[39m\u001B[38;5;241m*\u001B[39mkwargs)  \u001B[38;5;66;03m# type: ignore[misc]\u001B[39;00m\n\u001B[0;32m   1552\u001B[0m \u001B[38;5;28;01melse\u001B[39;00m:\n\u001B[1;32m-> 1553\u001B[0m     \u001B[38;5;28;01mreturn\u001B[39;00m \u001B[38;5;28mself\u001B[39m\u001B[38;5;241m.\u001B[39m_call_impl(\u001B[38;5;241m*\u001B[39margs, \u001B[38;5;241m*\u001B[39m\u001B[38;5;241m*\u001B[39mkwargs)\n",
      "File \u001B[1;32mC:\\Programs\\anaconda\\envs\\dl\\Lib\\site-packages\\torch\\nn\\modules\\module.py:1562\u001B[0m, in \u001B[0;36mModule._call_impl\u001B[1;34m(self, *args, **kwargs)\u001B[0m\n\u001B[0;32m   1557\u001B[0m \u001B[38;5;66;03m# If we don't have any hooks, we want to skip the rest of the logic in\u001B[39;00m\n\u001B[0;32m   1558\u001B[0m \u001B[38;5;66;03m# this function, and just call forward.\u001B[39;00m\n\u001B[0;32m   1559\u001B[0m \u001B[38;5;28;01mif\u001B[39;00m \u001B[38;5;129;01mnot\u001B[39;00m (\u001B[38;5;28mself\u001B[39m\u001B[38;5;241m.\u001B[39m_backward_hooks \u001B[38;5;129;01mor\u001B[39;00m \u001B[38;5;28mself\u001B[39m\u001B[38;5;241m.\u001B[39m_backward_pre_hooks \u001B[38;5;129;01mor\u001B[39;00m \u001B[38;5;28mself\u001B[39m\u001B[38;5;241m.\u001B[39m_forward_hooks \u001B[38;5;129;01mor\u001B[39;00m \u001B[38;5;28mself\u001B[39m\u001B[38;5;241m.\u001B[39m_forward_pre_hooks\n\u001B[0;32m   1560\u001B[0m         \u001B[38;5;129;01mor\u001B[39;00m _global_backward_pre_hooks \u001B[38;5;129;01mor\u001B[39;00m _global_backward_hooks\n\u001B[0;32m   1561\u001B[0m         \u001B[38;5;129;01mor\u001B[39;00m _global_forward_hooks \u001B[38;5;129;01mor\u001B[39;00m _global_forward_pre_hooks):\n\u001B[1;32m-> 1562\u001B[0m     \u001B[38;5;28;01mreturn\u001B[39;00m forward_call(\u001B[38;5;241m*\u001B[39margs, \u001B[38;5;241m*\u001B[39m\u001B[38;5;241m*\u001B[39mkwargs)\n\u001B[0;32m   1564\u001B[0m \u001B[38;5;28;01mtry\u001B[39;00m:\n\u001B[0;32m   1565\u001B[0m     result \u001B[38;5;241m=\u001B[39m \u001B[38;5;28;01mNone\u001B[39;00m\n",
      "File \u001B[1;32mC:\\Programs\\anaconda\\envs\\dl\\Lib\\site-packages\\torch\\nn\\modules\\linear.py:117\u001B[0m, in \u001B[0;36mLinear.forward\u001B[1;34m(self, input)\u001B[0m\n\u001B[0;32m    116\u001B[0m \u001B[38;5;28;01mdef\u001B[39;00m \u001B[38;5;21mforward\u001B[39m(\u001B[38;5;28mself\u001B[39m, \u001B[38;5;28minput\u001B[39m: Tensor) \u001B[38;5;241m-\u001B[39m\u001B[38;5;241m>\u001B[39m Tensor:\n\u001B[1;32m--> 117\u001B[0m     \u001B[38;5;28;01mreturn\u001B[39;00m F\u001B[38;5;241m.\u001B[39mlinear(\u001B[38;5;28minput\u001B[39m, \u001B[38;5;28mself\u001B[39m\u001B[38;5;241m.\u001B[39mweight, \u001B[38;5;28mself\u001B[39m\u001B[38;5;241m.\u001B[39mbias)\n",
      "\u001B[1;31mRuntimeError\u001B[0m: Expected all tensors to be on the same device, but found at least two devices, cuda:0 and cpu! (when checking argument for argument mat1 in method wrapper_CUDA_addmm)"
     ]
    }
   ],
   "source": [
    "pred = test(model1, criterion, test_dataloader)\n",
    "print(f\"{pred=}\")"
   ],
   "metadata": {
    "collapsed": false,
    "ExecuteTime": {
     "end_time": "2024-07-30T10:42:01.357981Z",
     "start_time": "2024-07-30T10:42:01.260365Z"
    }
   },
   "execution_count": 39
  },
  {
   "cell_type": "code",
   "outputs": [
    {
     "data": {
      "text/plain": "[tensor([[0.7255, 0.4248, 0.5334,  ..., 0.3319, 0.5046, 0.3541],\n         [0.8457, 0.4634, 0.5529,  ..., 0.3317, 0.4975, 0.3406],\n         [0.7305, 0.4841, 0.5002,  ..., 0.3218, 0.5040, 0.3400],\n         ...,\n         [0.7688, 0.4780, 0.5470,  ..., 0.3453, 0.5046, 0.3472],\n         [0.6577, 0.5545, 0.4621,  ..., 0.3508, 0.5063, 0.3483],\n         [0.7392, 0.5241, 0.4777,  ..., 0.3396, 0.5059, 0.3424]]),\n tensor([2007., 2003., 2005., 2003., 2005., 2007., 2003., 2003., 2003., 2005.,\n         2005., 2007., 2007., 2003., 2005., 2003., 2005., 2005., 2005., 2005.,\n         2005., 2005., 2005., 2005., 2005., 2005., 2005., 2005., 2010., 2010.,\n         2010., 2010., 2010., 2010., 2010., 2010., 2010., 2007., 2002., 2001.,\n         2007., 2007., 2009., 2010., 2009., 2009., 2007., 2007., 2009., 2009.,\n         2010., 2009., 2010., 2009., 2009., 2009., 2009., 2009., 2009., 2009.,\n         2009., 2009., 2009., 2009., 2007., 2007., 2007., 2009., 2009., 2007.,\n         1940., 1990., 1940., 1940., 2004., 2005., 2005., 2005., 2005., 2005.,\n         2005., 2005., 2005., 2005., 2005., 2005., 2003., 1989., 1989., 1989.,\n         1989., 1989., 1989., 1989., 1989., 1989., 1989., 1989., 1989., 1993.,\n         1993., 1992., 2004., 1990., 1995., 1990., 1989., 1997., 1992., 1992.,\n         1992., 1992., 1992., 1992., 1992., 1992., 1992., 1992., 1992., 1992.,\n         1987., 1987., 1987., 1987., 1987., 1987., 1987., 1987., 1987., 2007.,\n         2007., 2007., 2007., 2007., 2007., 2007., 2007., 2007., 2007., 2007.,\n         2007., 2000., 2000., 2000., 2000., 2000., 2000., 2000., 2000., 2000.,\n         2000., 2000., 2009., 2009., 2009., 2009., 2009., 2009., 2009., 2009.,\n         2009., 2009., 2009., 1992., 2001., 2001., 2001., 2001., 2001., 2001.,\n         2001., 2001., 2001., 2001., 2001., 2005., 2005., 2005., 2005., 2005.,\n         2005., 2005., 2005., 2005., 2005., 2003., 2003., 2003., 2003., 2003.,\n         2003., 2001., 2001., 2001., 2001., 2001., 2001., 1994., 1976., 1976.,\n         2007., 2007., 2007., 2007., 2007., 2007., 2007., 2007., 2007., 2007.,\n         2007., 2008., 2008., 2008., 2008., 2008., 2008., 2008., 2008., 2010.,\n         2010., 2010., 2010., 2010., 2010., 2010., 2010., 2010., 2010., 2006.,\n         2005., 2005., 2005., 2005., 2007., 2005., 2005., 2005., 2005., 2005.,\n         2005., 2005., 2006., 2006., 2006., 2006., 2006., 2006., 2006., 2009.,\n         2009., 2009., 2009., 2007., 2010., 2010.])]"
     },
     "execution_count": 35,
     "metadata": {},
     "output_type": "execute_result"
    }
   ],
   "source": [
    "next( iter(test_dataloader))"
   ],
   "metadata": {
    "collapsed": false,
    "ExecuteTime": {
     "end_time": "2024-07-30T10:10:40.253780Z",
     "start_time": "2024-07-30T10:10:40.236997Z"
    }
   },
   "execution_count": 35
  },
  {
   "cell_type": "markdown",
   "source": [
    "Попробую также использовать Pytorch lighting для сравнения. Вроде его всё таки можно использовать"
   ],
   "metadata": {
    "collapsed": false
   }
  },
  {
   "cell_type": "code",
   "outputs": [],
   "source": [
    "import pytorch_lightning as pl\n",
    "\n",
    "\n",
    "class SimpleModule(pl.LightningModule):\n",
    "    def __init__(self, model, learning_rate):\n",
    "        super().__init__()\n",
    "        self.model = model\n",
    "        self.learning_rate = learning_rate\n",
    "\n",
    "    def forward(self, x):\n",
    "        result = self.model(x).squeeze()\n",
    "        return result\n",
    "\n",
    "    def configure_optimizers(self):\n",
    "        optimizer = torch.optim.Adam(self.parameters(), lr=self.learning_rate)\n",
    "        return optimizer\n",
    "\n",
    "    def training_step(self, train_batch, batch_idx):\n",
    "        x, target = train_batch\n",
    "        predictions = self(x)\n",
    "        loss = torch.nn.functional.mse_loss(predictions, target)\n",
    "        rmse = torch.sqrt(loss)\n",
    "        self.log(\"train_loss\", rmse, prog_bar=True, logger=True)  # rmse\n",
    "\n",
    "        #if batch_idx % 2 == 1:\n",
    "        #    self.logger.exp\n",
    "\n",
    "        return loss\n",
    "\n",
    "    def validation_step(self, val_batch, batch_idx):\n",
    "        x, target = val_batch\n",
    "        predictions = self(x)\n",
    "        loss = torch.nn.functional.mse_loss(predictions, target)\n",
    "        rmse = torch.sqrt(loss)\n",
    "        self.log(\"val_loss\", rmse, prog_bar=True, logger=True)\n",
    "        return loss"
   ],
   "metadata": {
    "collapsed": false,
    "ExecuteTime": {
     "end_time": "2024-07-30T11:55:51.874684Z",
     "start_time": "2024-07-30T11:55:51.175237Z"
    }
   },
   "execution_count": 85
  },
  {
   "cell_type": "code",
   "outputs": [],
   "source": [
    "module1 = SimpleModule(model1, learning_rate=LR)"
   ],
   "metadata": {
    "collapsed": false,
    "ExecuteTime": {
     "end_time": "2024-07-30T11:55:51.880008Z",
     "start_time": "2024-07-30T11:55:51.876708Z"
    }
   },
   "execution_count": 86
  },
  {
   "cell_type": "code",
   "outputs": [
    {
     "name": "stderr",
     "output_type": "stream",
     "text": [
      "GPU available: True (cuda), used: True\n",
      "TPU available: False, using: 0 TPU cores\n",
      "HPU available: False, using: 0 HPUs\n",
      "Missing logger folder: D:\\HSE\\Minor IDA\\deep-learning\\lightning_logs\n",
      "LOCAL_RANK: 0 - CUDA_VISIBLE_DEVICES: [0]\n",
      "\n",
      "  | Name  | Type | Params | Mode\n",
      "--------------------------------------\n",
      "0 | model | Net1 | 20.4 K | eval\n",
      "--------------------------------------\n",
      "20.4 K    Trainable params\n",
      "0         Non-trainable params\n",
      "20.4 K    Total params\n",
      "0.081     Total estimated model params size (MB)\n"
     ]
    },
    {
     "data": {
      "text/plain": "Sanity Checking: |          | 0/? [00:00<?, ?it/s]",
      "application/vnd.jupyter.widget-view+json": {
       "version_major": 2,
       "version_minor": 0,
       "model_id": "9a097439837e44bd98ea4d5c71bf67c1"
      }
     },
     "metadata": {},
     "output_type": "display_data"
    },
    {
     "data": {
      "text/plain": "Training: |          | 0/? [00:00<?, ?it/s]",
      "application/vnd.jupyter.widget-view+json": {
       "version_major": 2,
       "version_minor": 0,
       "model_id": "daa7e685e0534fd1990c1649ac152dd2"
      }
     },
     "metadata": {},
     "output_type": "display_data"
    },
    {
     "data": {
      "text/plain": "Validation: |          | 0/? [00:00<?, ?it/s]",
      "application/vnd.jupyter.widget-view+json": {
       "version_major": 2,
       "version_minor": 0,
       "model_id": "546288872f20418a9618dc71c4f2df5a"
      }
     },
     "metadata": {},
     "output_type": "display_data"
    },
    {
     "data": {
      "text/plain": "Validation: |          | 0/? [00:00<?, ?it/s]",
      "application/vnd.jupyter.widget-view+json": {
       "version_major": 2,
       "version_minor": 0,
       "model_id": "cef9c623d3874865a8ed87270ea3744f"
      }
     },
     "metadata": {},
     "output_type": "display_data"
    },
    {
     "data": {
      "text/plain": "Validation: |          | 0/? [00:00<?, ?it/s]",
      "application/vnd.jupyter.widget-view+json": {
       "version_major": 2,
       "version_minor": 0,
       "model_id": "461c98fb61804b3d9e67cca9c1831f2a"
      }
     },
     "metadata": {},
     "output_type": "display_data"
    },
    {
     "data": {
      "text/plain": "Validation: |          | 0/? [00:00<?, ?it/s]",
      "application/vnd.jupyter.widget-view+json": {
       "version_major": 2,
       "version_minor": 0,
       "model_id": "78300f4fc0b34a2991fdd8408c5f36fb"
      }
     },
     "metadata": {},
     "output_type": "display_data"
    },
    {
     "data": {
      "text/plain": "Validation: |          | 0/? [00:00<?, ?it/s]",
      "application/vnd.jupyter.widget-view+json": {
       "version_major": 2,
       "version_minor": 0,
       "model_id": "6217e38cf6ac4067a1b2606e4819d98e"
      }
     },
     "metadata": {},
     "output_type": "display_data"
    },
    {
     "data": {
      "text/plain": "Validation: |          | 0/? [00:00<?, ?it/s]",
      "application/vnd.jupyter.widget-view+json": {
       "version_major": 2,
       "version_minor": 0,
       "model_id": "e754605a32bd43fc8e0b40d2696623e7"
      }
     },
     "metadata": {},
     "output_type": "display_data"
    },
    {
     "data": {
      "text/plain": "Validation: |          | 0/? [00:00<?, ?it/s]",
      "application/vnd.jupyter.widget-view+json": {
       "version_major": 2,
       "version_minor": 0,
       "model_id": "6439e300b5bf463485741c373a890793"
      }
     },
     "metadata": {},
     "output_type": "display_data"
    },
    {
     "data": {
      "text/plain": "Validation: |          | 0/? [00:00<?, ?it/s]",
      "application/vnd.jupyter.widget-view+json": {
       "version_major": 2,
       "version_minor": 0,
       "model_id": "1805ffd9f1b14eeb9adb75e22f4410d7"
      }
     },
     "metadata": {},
     "output_type": "display_data"
    },
    {
     "data": {
      "text/plain": "Validation: |          | 0/? [00:00<?, ?it/s]",
      "application/vnd.jupyter.widget-view+json": {
       "version_major": 2,
       "version_minor": 0,
       "model_id": "7cdf4a866d1846b6849fa64244f096d3"
      }
     },
     "metadata": {},
     "output_type": "display_data"
    },
    {
     "data": {
      "text/plain": "Validation: |          | 0/? [00:00<?, ?it/s]",
      "application/vnd.jupyter.widget-view+json": {
       "version_major": 2,
       "version_minor": 0,
       "model_id": "2c6bbd5ae84b4a11b57d1ea93128deeb"
      }
     },
     "metadata": {},
     "output_type": "display_data"
    },
    {
     "name": "stderr",
     "output_type": "stream",
     "text": [
      "`Trainer.fit` stopped: `max_epochs=10` reached.\n"
     ]
    }
   ],
   "source": [
    "# Для запуска \n",
    "#logger = TensorBoardLogger(\"tb_logs\", name=\"my_model\")\n",
    "trainer = pl.Trainer(max_epochs=10)  # на 100 значениях было 9.7 - забыл сохранить, но качество всё равно плохое\n",
    "trainer.fit(module1, train_dataloader, test_dataloader)"
   ],
   "metadata": {
    "collapsed": false,
    "ExecuteTime": {
     "end_time": "2024-07-30T11:57:43.193143Z",
     "start_time": "2024-07-30T11:55:51.881023Z"
    }
   },
   "execution_count": 87
  },
  {
   "cell_type": "code",
   "outputs": [
    {
     "name": "stderr",
     "output_type": "stream",
     "text": [
      "LOCAL_RANK: 0 - CUDA_VISIBLE_DEVICES: [0]\n"
     ]
    },
    {
     "data": {
      "text/plain": "Validation: |          | 0/? [00:00<?, ?it/s]",
      "application/vnd.jupyter.widget-view+json": {
       "version_major": 2,
       "version_minor": 0,
       "model_id": "57ea0b2722184f2cbe44872e11b3d7c5"
      }
     },
     "metadata": {},
     "output_type": "display_data"
    },
    {
     "name": "stdout",
     "output_type": "stream",
     "text": [
      "────────────────────────────────────────────────────────────────────────────────────────────────────────────────────────\r\n",
      "     Validate metric           DataLoader 0\r\n",
      "────────────────────────────────────────────────────────────────────────────────────────────────────────────────────────\r\n",
      "        val_loss             12.17926025390625\r\n",
      "────────────────────────────────────────────────────────────────────────────────────────────────────────────────────────\n"
     ]
    },
    {
     "data": {
      "text/plain": "[{'val_loss': 12.17926025390625}]"
     },
     "execution_count": 88,
     "metadata": {},
     "output_type": "execute_result"
    }
   ],
   "source": [
    "trainer.validate(module1, dataloaders=test_dataloader)"
   ],
   "metadata": {
    "collapsed": false,
    "ExecuteTime": {
     "end_time": "2024-07-30T11:57:48.888347Z",
     "start_time": "2024-07-30T11:57:43.194147Z"
    }
   },
   "execution_count": 88
  },
  {
   "cell_type": "markdown",
   "source": [
    "Теперь обучу модель побольше"
   ],
   "metadata": {
    "collapsed": false
   }
  },
  {
   "cell_type": "code",
   "outputs": [],
   "source": [
    "class Net2(DefaultNet):\n",
    "    def __init__(self):\n",
    "        super().__init__()\n",
    "        self.relu = torch.nn.ReLU()\n",
    "        self.dropout = torch.nn.Dropout(p=0.5)\n",
    "        \n",
    "        self.batch_norm0 = torch.nn.BatchNorm1d(90)\n",
    "        self.linear1 = torch.nn.Linear(in_features=90, out_features=1024)\n",
    "        self.batch_norm1 = torch.nn.BatchNorm1d(1024)\n",
    "        self.linear2 = torch.nn.Linear(in_features=1024, out_features=512)\n",
    "        self.batch_norm2 = torch.nn.BatchNorm1d(512)\n",
    "        self.linear3 = torch.nn.Linear(in_features=512, out_features=256)\n",
    "        self.batch_norm3 = torch.nn.BatchNorm1d(256)\n",
    "        self.linear4 = torch.nn.Linear(in_features=256, out_features=128)\n",
    "        self.batch_norm4 = torch.nn.BatchNorm1d(128)\n",
    "        self.linear5 = torch.nn.Linear(in_features=128, out_features=64)\n",
    "        self.batch_norm5 = torch.nn.BatchNorm1d(64)\n",
    "        self.linear6 = torch.nn.Linear(in_features=64, out_features=32)\n",
    "        self.batch_norm6 = torch.nn.BatchNorm1d(32)\n",
    "        self.linear7 = torch.nn.Linear(in_features=32, out_features=16)\n",
    "        self.batch_norm7 = torch.nn.BatchNorm1d(16)\n",
    "        self.output = torch.nn.Linear(in_features=16, out_features=1)\n",
    "\n",
    "    def _forward(self, x):\n",
    "        x = self.batch_norm0(x)\n",
    "        x = self.linear1(x)\n",
    "        x = self.batch_norm1(x)\n",
    "        x = self.relu(x)\n",
    "        x = self.dropout(x)\n",
    "        x = self.linear2(x)\n",
    "        x = self.batch_norm2(x)\n",
    "        x = self.relu(x)\n",
    "        x = self.dropout(x)\n",
    "        \n",
    "        x = self.linear3(x)\n",
    "        x = self.batch_norm3(x)\n",
    "        x = self.relu(x)\n",
    "        x = self.dropout(x)\n",
    "        \n",
    "        x = self.linear4(x)\n",
    "        x = self.batch_norm4(x)\n",
    "        x = self.relu(x)\n",
    "        x = self.dropout(x)\n",
    "        \n",
    "        x = self.linear5(x)\n",
    "        x = self.batch_norm5(x)\n",
    "        x = self.relu(x)\n",
    "        x = self.dropout(x)\n",
    "        \n",
    "        x = self.linear6(x)\n",
    "        x = self.batch_norm6(x)\n",
    "        x = self.relu(x)\n",
    "        x = self.dropout(x)\n",
    "        \n",
    "        x = self.linear7(x)\n",
    "        x = self.batch_norm7(x)\n",
    "        x = self.relu(x)\n",
    "        x = self.dropout(x)\n",
    "        \n",
    "        return self.output(x)"
   ],
   "metadata": {
    "collapsed": false,
    "ExecuteTime": {
     "end_time": "2024-07-30T12:04:11.370807Z",
     "start_time": "2024-07-30T12:04:11.360076Z"
    }
   },
   "execution_count": 96
  },
  {
   "cell_type": "code",
   "outputs": [],
   "source": [
    "LR = 0.01\n",
    "model2 = Net2().to(device)\n",
    "module2 = SimpleModule(model2, learning_rate=LR)"
   ],
   "metadata": {
    "collapsed": false,
    "ExecuteTime": {
     "end_time": "2024-07-30T15:29:02.977758Z",
     "start_time": "2024-07-30T15:29:02.962684Z"
    }
   },
   "execution_count": 101
  },
  {
   "cell_type": "code",
   "outputs": [
    {
     "name": "stderr",
     "output_type": "stream",
     "text": [
      "GPU available: True (cuda), used: True\n",
      "TPU available: False, using: 0 TPU cores\n",
      "HPU available: False, using: 0 HPUs\n",
      "LOCAL_RANK: 0 - CUDA_VISIBLE_DEVICES: [0]\n",
      "\n",
      "  | Name  | Type | Params | Mode \n",
      "---------------------------------------\n",
      "0 | model | Net2 | 797 K  | train\n",
      "---------------------------------------\n",
      "797 K     Trainable params\n",
      "0         Non-trainable params\n",
      "797 K     Total params\n",
      "3.189     Total estimated model params size (MB)\n"
     ]
    },
    {
     "data": {
      "text/plain": "Sanity Checking: |          | 0/? [00:00<?, ?it/s]",
      "application/vnd.jupyter.widget-view+json": {
       "version_major": 2,
       "version_minor": 0,
       "model_id": "902331c33ae8439b9b7794a983d20bc4"
      }
     },
     "metadata": {},
     "output_type": "display_data"
    },
    {
     "data": {
      "text/plain": "Training: |          | 0/? [00:00<?, ?it/s]",
      "application/vnd.jupyter.widget-view+json": {
       "version_major": 2,
       "version_minor": 0,
       "model_id": "6279e9cc5def4b54b7c5d3386f2339c4"
      }
     },
     "metadata": {},
     "output_type": "display_data"
    },
    {
     "data": {
      "text/plain": "Validation: |          | 0/? [00:00<?, ?it/s]",
      "application/vnd.jupyter.widget-view+json": {
       "version_major": 2,
       "version_minor": 0,
       "model_id": "ddf13f089a8140c4a7b50433db748622"
      }
     },
     "metadata": {},
     "output_type": "display_data"
    },
    {
     "data": {
      "text/plain": "Validation: |          | 0/? [00:00<?, ?it/s]",
      "application/vnd.jupyter.widget-view+json": {
       "version_major": 2,
       "version_minor": 0,
       "model_id": "0ed2e90cc71f465599bee12a0281fc5f"
      }
     },
     "metadata": {},
     "output_type": "display_data"
    },
    {
     "data": {
      "text/plain": "Validation: |          | 0/? [00:00<?, ?it/s]",
      "application/vnd.jupyter.widget-view+json": {
       "version_major": 2,
       "version_minor": 0,
       "model_id": "7cad365115314f9a98945b851639f736"
      }
     },
     "metadata": {},
     "output_type": "display_data"
    },
    {
     "data": {
      "text/plain": "Validation: |          | 0/? [00:00<?, ?it/s]",
      "application/vnd.jupyter.widget-view+json": {
       "version_major": 2,
       "version_minor": 0,
       "model_id": "8c5854c8c3314f5ba7dd0f3e2abe1ed8"
      }
     },
     "metadata": {},
     "output_type": "display_data"
    },
    {
     "data": {
      "text/plain": "Validation: |          | 0/? [00:00<?, ?it/s]",
      "application/vnd.jupyter.widget-view+json": {
       "version_major": 2,
       "version_minor": 0,
       "model_id": "fbc4fb2bd38146ef8f0438a59611449c"
      }
     },
     "metadata": {},
     "output_type": "display_data"
    },
    {
     "data": {
      "text/plain": "Validation: |          | 0/? [00:00<?, ?it/s]",
      "application/vnd.jupyter.widget-view+json": {
       "version_major": 2,
       "version_minor": 0,
       "model_id": "6332ee6a0f85464486e0edb385574159"
      }
     },
     "metadata": {},
     "output_type": "display_data"
    },
    {
     "data": {
      "text/plain": "Validation: |          | 0/? [00:00<?, ?it/s]",
      "application/vnd.jupyter.widget-view+json": {
       "version_major": 2,
       "version_minor": 0,
       "model_id": "19f178ac777e49658bcd516189c6090a"
      }
     },
     "metadata": {},
     "output_type": "display_data"
    },
    {
     "data": {
      "text/plain": "Validation: |          | 0/? [00:00<?, ?it/s]",
      "application/vnd.jupyter.widget-view+json": {
       "version_major": 2,
       "version_minor": 0,
       "model_id": "91730815f8794c1488c4959c08fb402f"
      }
     },
     "metadata": {},
     "output_type": "display_data"
    },
    {
     "data": {
      "text/plain": "Validation: |          | 0/? [00:00<?, ?it/s]",
      "application/vnd.jupyter.widget-view+json": {
       "version_major": 2,
       "version_minor": 0,
       "model_id": "49b0727b7a574a36b9e6e310d3362a9c"
      }
     },
     "metadata": {},
     "output_type": "display_data"
    },
    {
     "data": {
      "text/plain": "Validation: |          | 0/? [00:00<?, ?it/s]",
      "application/vnd.jupyter.widget-view+json": {
       "version_major": 2,
       "version_minor": 0,
       "model_id": "d4df4a13fb444701bcdb10d34fdae456"
      }
     },
     "metadata": {},
     "output_type": "display_data"
    },
    {
     "data": {
      "text/plain": "Validation: |          | 0/? [00:00<?, ?it/s]",
      "application/vnd.jupyter.widget-view+json": {
       "version_major": 2,
       "version_minor": 0,
       "model_id": "e2f5742a49824c50a713c37ec9ac5aa8"
      }
     },
     "metadata": {},
     "output_type": "display_data"
    },
    {
     "data": {
      "text/plain": "Validation: |          | 0/? [00:00<?, ?it/s]",
      "application/vnd.jupyter.widget-view+json": {
       "version_major": 2,
       "version_minor": 0,
       "model_id": "5a4758e4ce954a0f977f9ea57bcb46e2"
      }
     },
     "metadata": {},
     "output_type": "display_data"
    },
    {
     "data": {
      "text/plain": "Validation: |          | 0/? [00:00<?, ?it/s]",
      "application/vnd.jupyter.widget-view+json": {
       "version_major": 2,
       "version_minor": 0,
       "model_id": "74cfc7bc9ce144af84e87f9b741255f7"
      }
     },
     "metadata": {},
     "output_type": "display_data"
    },
    {
     "data": {
      "text/plain": "Validation: |          | 0/? [00:00<?, ?it/s]",
      "application/vnd.jupyter.widget-view+json": {
       "version_major": 2,
       "version_minor": 0,
       "model_id": "d519b64b83434f72a692e83e9cbdb222"
      }
     },
     "metadata": {},
     "output_type": "display_data"
    },
    {
     "data": {
      "text/plain": "Validation: |          | 0/? [00:00<?, ?it/s]",
      "application/vnd.jupyter.widget-view+json": {
       "version_major": 2,
       "version_minor": 0,
       "model_id": "865657b01a5a480b80e50a82d8ad5234"
      }
     },
     "metadata": {},
     "output_type": "display_data"
    },
    {
     "data": {
      "text/plain": "Validation: |          | 0/? [00:00<?, ?it/s]",
      "application/vnd.jupyter.widget-view+json": {
       "version_major": 2,
       "version_minor": 0,
       "model_id": "9bea97f5af5448439deac06c1a347514"
      }
     },
     "metadata": {},
     "output_type": "display_data"
    },
    {
     "data": {
      "text/plain": "Validation: |          | 0/? [00:00<?, ?it/s]",
      "application/vnd.jupyter.widget-view+json": {
       "version_major": 2,
       "version_minor": 0,
       "model_id": "98b3f12950584d05a69a79cfcbeaa610"
      }
     },
     "metadata": {},
     "output_type": "display_data"
    },
    {
     "data": {
      "text/plain": "Validation: |          | 0/? [00:00<?, ?it/s]",
      "application/vnd.jupyter.widget-view+json": {
       "version_major": 2,
       "version_minor": 0,
       "model_id": "7902900893d44bcf9e1d5401812a45f9"
      }
     },
     "metadata": {},
     "output_type": "display_data"
    },
    {
     "data": {
      "text/plain": "Validation: |          | 0/? [00:00<?, ?it/s]",
      "application/vnd.jupyter.widget-view+json": {
       "version_major": 2,
       "version_minor": 0,
       "model_id": "7cf1fc7b3ecf46188fdbefa9843229da"
      }
     },
     "metadata": {},
     "output_type": "display_data"
    },
    {
     "data": {
      "text/plain": "Validation: |          | 0/? [00:00<?, ?it/s]",
      "application/vnd.jupyter.widget-view+json": {
       "version_major": 2,
       "version_minor": 0,
       "model_id": "a452d817ce9746e39819c069ac2ce6d7"
      }
     },
     "metadata": {},
     "output_type": "display_data"
    },
    {
     "data": {
      "text/plain": "Validation: |          | 0/? [00:00<?, ?it/s]",
      "application/vnd.jupyter.widget-view+json": {
       "version_major": 2,
       "version_minor": 0,
       "model_id": "18695371282b4f2cbd147d77ac40af38"
      }
     },
     "metadata": {},
     "output_type": "display_data"
    },
    {
     "data": {
      "text/plain": "Validation: |          | 0/? [00:00<?, ?it/s]",
      "application/vnd.jupyter.widget-view+json": {
       "version_major": 2,
       "version_minor": 0,
       "model_id": "c9150361ef0142edb79c60a54deebd4a"
      }
     },
     "metadata": {},
     "output_type": "display_data"
    },
    {
     "data": {
      "text/plain": "Validation: |          | 0/? [00:00<?, ?it/s]",
      "application/vnd.jupyter.widget-view+json": {
       "version_major": 2,
       "version_minor": 0,
       "model_id": "7b69f6c2827044ac95ba7df8c4e0f550"
      }
     },
     "metadata": {},
     "output_type": "display_data"
    },
    {
     "data": {
      "text/plain": "Validation: |          | 0/? [00:00<?, ?it/s]",
      "application/vnd.jupyter.widget-view+json": {
       "version_major": 2,
       "version_minor": 0,
       "model_id": "4114cb7ded454e0795a072eb0e4f3676"
      }
     },
     "metadata": {},
     "output_type": "display_data"
    },
    {
     "data": {
      "text/plain": "Validation: |          | 0/? [00:00<?, ?it/s]",
      "application/vnd.jupyter.widget-view+json": {
       "version_major": 2,
       "version_minor": 0,
       "model_id": "9c08fc2ad485426098e72929bd6c0c62"
      }
     },
     "metadata": {},
     "output_type": "display_data"
    },
    {
     "data": {
      "text/plain": "Validation: |          | 0/? [00:00<?, ?it/s]",
      "application/vnd.jupyter.widget-view+json": {
       "version_major": 2,
       "version_minor": 0,
       "model_id": "da6ebee210c34e558f80dd042e48d535"
      }
     },
     "metadata": {},
     "output_type": "display_data"
    },
    {
     "data": {
      "text/plain": "Validation: |          | 0/? [00:00<?, ?it/s]",
      "application/vnd.jupyter.widget-view+json": {
       "version_major": 2,
       "version_minor": 0,
       "model_id": "1a7df816c4634d1ebc433e2008432a04"
      }
     },
     "metadata": {},
     "output_type": "display_data"
    },
    {
     "data": {
      "text/plain": "Validation: |          | 0/? [00:00<?, ?it/s]",
      "application/vnd.jupyter.widget-view+json": {
       "version_major": 2,
       "version_minor": 0,
       "model_id": "a864ea609e784f9180c01788c8d6fc06"
      }
     },
     "metadata": {},
     "output_type": "display_data"
    },
    {
     "data": {
      "text/plain": "Validation: |          | 0/? [00:00<?, ?it/s]",
      "application/vnd.jupyter.widget-view+json": {
       "version_major": 2,
       "version_minor": 0,
       "model_id": "b21823c9efc94592a9b6b056562d986d"
      }
     },
     "metadata": {},
     "output_type": "display_data"
    },
    {
     "data": {
      "text/plain": "Validation: |          | 0/? [00:00<?, ?it/s]",
      "application/vnd.jupyter.widget-view+json": {
       "version_major": 2,
       "version_minor": 0,
       "model_id": "8270692b87ad4b5d9ccabe171c9fc77f"
      }
     },
     "metadata": {},
     "output_type": "display_data"
    },
    {
     "data": {
      "text/plain": "Validation: |          | 0/? [00:00<?, ?it/s]",
      "application/vnd.jupyter.widget-view+json": {
       "version_major": 2,
       "version_minor": 0,
       "model_id": "465416b521e94c0e94e9a5bff643742a"
      }
     },
     "metadata": {},
     "output_type": "display_data"
    },
    {
     "data": {
      "text/plain": "Validation: |          | 0/? [00:00<?, ?it/s]",
      "application/vnd.jupyter.widget-view+json": {
       "version_major": 2,
       "version_minor": 0,
       "model_id": "06f1666576634cb6bd72bc1b4226f9d3"
      }
     },
     "metadata": {},
     "output_type": "display_data"
    },
    {
     "data": {
      "text/plain": "Validation: |          | 0/? [00:00<?, ?it/s]",
      "application/vnd.jupyter.widget-view+json": {
       "version_major": 2,
       "version_minor": 0,
       "model_id": "d17b003f334f408faf9fa477ecde3a0e"
      }
     },
     "metadata": {},
     "output_type": "display_data"
    },
    {
     "data": {
      "text/plain": "Validation: |          | 0/? [00:00<?, ?it/s]",
      "application/vnd.jupyter.widget-view+json": {
       "version_major": 2,
       "version_minor": 0,
       "model_id": "cdc9f6be965d4c848a1e7a4370ddf4f2"
      }
     },
     "metadata": {},
     "output_type": "display_data"
    },
    {
     "data": {
      "text/plain": "Validation: |          | 0/? [00:00<?, ?it/s]",
      "application/vnd.jupyter.widget-view+json": {
       "version_major": 2,
       "version_minor": 0,
       "model_id": "2e232392aad548e1b0b180d83df9e797"
      }
     },
     "metadata": {},
     "output_type": "display_data"
    },
    {
     "data": {
      "text/plain": "Validation: |          | 0/? [00:00<?, ?it/s]",
      "application/vnd.jupyter.widget-view+json": {
       "version_major": 2,
       "version_minor": 0,
       "model_id": "f1d632e9ff1f4d2ca1bdec8f41b9e5d1"
      }
     },
     "metadata": {},
     "output_type": "display_data"
    },
    {
     "data": {
      "text/plain": "Validation: |          | 0/? [00:00<?, ?it/s]",
      "application/vnd.jupyter.widget-view+json": {
       "version_major": 2,
       "version_minor": 0,
       "model_id": "197446bf63544e27ad58da50751c699b"
      }
     },
     "metadata": {},
     "output_type": "display_data"
    },
    {
     "data": {
      "text/plain": "Validation: |          | 0/? [00:00<?, ?it/s]",
      "application/vnd.jupyter.widget-view+json": {
       "version_major": 2,
       "version_minor": 0,
       "model_id": "a4692f7b8e77475fa7e59ce46b51464b"
      }
     },
     "metadata": {},
     "output_type": "display_data"
    },
    {
     "data": {
      "text/plain": "Validation: |          | 0/? [00:00<?, ?it/s]",
      "application/vnd.jupyter.widget-view+json": {
       "version_major": 2,
       "version_minor": 0,
       "model_id": "c4d54af524ac49f89ec20d32bcce93d1"
      }
     },
     "metadata": {},
     "output_type": "display_data"
    },
    {
     "data": {
      "text/plain": "Validation: |          | 0/? [00:00<?, ?it/s]",
      "application/vnd.jupyter.widget-view+json": {
       "version_major": 2,
       "version_minor": 0,
       "model_id": "20f2076528734a50b4102ef1201d877f"
      }
     },
     "metadata": {},
     "output_type": "display_data"
    },
    {
     "data": {
      "text/plain": "Validation: |          | 0/? [00:00<?, ?it/s]",
      "application/vnd.jupyter.widget-view+json": {
       "version_major": 2,
       "version_minor": 0,
       "model_id": "cef8bed22416447e832d07444368e4aa"
      }
     },
     "metadata": {},
     "output_type": "display_data"
    },
    {
     "data": {
      "text/plain": "Validation: |          | 0/? [00:00<?, ?it/s]",
      "application/vnd.jupyter.widget-view+json": {
       "version_major": 2,
       "version_minor": 0,
       "model_id": "50c6555a3e534121afde0ba675aad6cc"
      }
     },
     "metadata": {},
     "output_type": "display_data"
    },
    {
     "data": {
      "text/plain": "Validation: |          | 0/? [00:00<?, ?it/s]",
      "application/vnd.jupyter.widget-view+json": {
       "version_major": 2,
       "version_minor": 0,
       "model_id": "d1abe654491b4ef8820e764d5f5f258a"
      }
     },
     "metadata": {},
     "output_type": "display_data"
    },
    {
     "data": {
      "text/plain": "Validation: |          | 0/? [00:00<?, ?it/s]",
      "application/vnd.jupyter.widget-view+json": {
       "version_major": 2,
       "version_minor": 0,
       "model_id": "6fe6cd445bd44d6099cb43a37bbf87ae"
      }
     },
     "metadata": {},
     "output_type": "display_data"
    },
    {
     "data": {
      "text/plain": "Validation: |          | 0/? [00:00<?, ?it/s]",
      "application/vnd.jupyter.widget-view+json": {
       "version_major": 2,
       "version_minor": 0,
       "model_id": "65b1d50fa49e4e8b9e91937950007fd6"
      }
     },
     "metadata": {},
     "output_type": "display_data"
    },
    {
     "data": {
      "text/plain": "Validation: |          | 0/? [00:00<?, ?it/s]",
      "application/vnd.jupyter.widget-view+json": {
       "version_major": 2,
       "version_minor": 0,
       "model_id": "2d4c3680f827467e939608fbbd4796fd"
      }
     },
     "metadata": {},
     "output_type": "display_data"
    },
    {
     "data": {
      "text/plain": "Validation: |          | 0/? [00:00<?, ?it/s]",
      "application/vnd.jupyter.widget-view+json": {
       "version_major": 2,
       "version_minor": 0,
       "model_id": "463489b0de574b72981da2cbc207f777"
      }
     },
     "metadata": {},
     "output_type": "display_data"
    },
    {
     "data": {
      "text/plain": "Validation: |          | 0/? [00:00<?, ?it/s]",
      "application/vnd.jupyter.widget-view+json": {
       "version_major": 2,
       "version_minor": 0,
       "model_id": "ee71560abb834e09a57a1d0746493277"
      }
     },
     "metadata": {},
     "output_type": "display_data"
    },
    {
     "data": {
      "text/plain": "Validation: |          | 0/? [00:00<?, ?it/s]",
      "application/vnd.jupyter.widget-view+json": {
       "version_major": 2,
       "version_minor": 0,
       "model_id": "bea59f57fb284b5a8d9e147331e68229"
      }
     },
     "metadata": {},
     "output_type": "display_data"
    },
    {
     "data": {
      "text/plain": "Validation: |          | 0/? [00:00<?, ?it/s]",
      "application/vnd.jupyter.widget-view+json": {
       "version_major": 2,
       "version_minor": 0,
       "model_id": "4876c97287d647d2bac094c649075f79"
      }
     },
     "metadata": {},
     "output_type": "display_data"
    },
    {
     "name": "stderr",
     "output_type": "stream",
     "text": [
      "`Trainer.fit` stopped: `max_epochs=50` reached.\n"
     ]
    }
   ],
   "source": [
    "# Для запуска \n",
    "#logger = TensorBoardLogger(\"tb_logs\", name=\"my_model\")\n",
    "trainer = pl.Trainer(max_epochs=50)\n",
    "trainer.fit(module2, train_dataloader, test_dataloader)"
   ],
   "metadata": {
    "collapsed": false,
    "ExecuteTime": {
     "end_time": "2024-07-30T15:41:23.872899Z",
     "start_time": "2024-07-30T15:29:04.160424Z"
    }
   },
   "execution_count": 102
  },
  {
   "attachments": {},
   "cell_type": "markdown",
   "metadata": {
    "id": "bine9EES6TIn"
   },
   "source": [
    "## Задание 3. (0 баллов, но при невыполнении максимум за все задание &mdash; 0 баллов)\n",
    "\n",
    "Напишите небольшой отчет о том, как вы добились полученного качества: какие средства использовали и какие эксперименты проводили. Подробно расскажите об архитектурах и значениях гиперпараметров, а также какие метрики на тесте они показывали. Чтобы отчет был зачтен, необходимо привести хотя бы 3 эксперимента."
   ]
  }
 ],
 "metadata": {
  "colab": {
   "provenance": []
  },
  "kernelspec": {
   "display_name": "Python 3 (ipykernel)",
   "language": "python",
   "name": "python3"
  },
  "language_info": {
   "codemirror_mode": {
    "name": "ipython",
    "version": 3
   },
   "file_extension": ".py",
   "mimetype": "text/x-python",
   "name": "python",
   "nbconvert_exporter": "python",
   "pygments_lexer": "ipython3",
   "version": "3.9.7"
  }
 },
 "nbformat": 4,
 "nbformat_minor": 0
}
